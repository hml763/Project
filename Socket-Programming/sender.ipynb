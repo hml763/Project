{
 "cells": [
  {
   "cell_type": "code",
   "execution_count": null,
   "metadata": {},
   "outputs": [
    {
     "name": "stdout",
     "output_type": "stream",
     "text": [
      "접속 완료\n",
      "상대방 : Hello\n",
      ">>>what???\n",
      "상대방 : jesus christ\n",
      ">>>I know\n"
     ]
    }
   ],
   "source": [
    "from socket import *\n",
    "\n",
    "\n",
    "port = 8080\n",
    "\n",
    "clientSock = socket(AF_INET, SOCK_STREAM)\n",
    "clientSock.connect(('127.0.0.1', port))\n",
    "\n",
    "print('접속 완료')\n",
    "\n",
    "while True:\n",
    "    recvData = clientSock.recv(1024)\n",
    "    print('상대방 :', recvData.decode('utf-8'))\n",
    "\n",
    "    sendData = input('>>>')\n",
    "    clientSock.send(sendData.encode('utf-8'))"
   ]
  },
  {
   "cell_type": "code",
   "execution_count": null,
   "metadata": {},
   "outputs": [],
   "source": []
  },
  {
   "cell_type": "code",
   "execution_count": null,
   "metadata": {},
   "outputs": [],
   "source": []
  },
  {
   "cell_type": "code",
   "execution_count": null,
   "metadata": {},
   "outputs": [],
   "source": []
  },
  {
   "cell_type": "code",
   "execution_count": null,
   "metadata": {},
   "outputs": [],
   "source": [
    "from socket import *\n",
    "\n",
    "\n",
    "def send(sock):\n",
    "    sendData = input('>>>')\n",
    "    sock.send(sendData.encode('utf-8'))\n",
    "\n",
    "\n",
    "def receive(sock):\n",
    "    recvData = sock.recv(1024)\n",
    "    print('상대방 :', recvData.decode('utf-8'))\n",
    "\n",
    "\n",
    "port = 8080\n",
    "\n",
    "clientSock = socket(AF_INET, SOCK_STREAM)\n",
    "clientSock.connect(('127.0.0.1', port))\n",
    "\n",
    "print('접속 완료')\n",
    "\n",
    "while True:\n",
    "    receive(clientSock)\n",
    "\n",
    "    send(clientSock)"
   ]
  },
  {
   "cell_type": "code",
   "execution_count": null,
   "metadata": {},
   "outputs": [],
   "source": []
  },
  {
   "cell_type": "markdown",
   "metadata": {},
   "source": [
    "# Test1"
   ]
  },
  {
   "cell_type": "code",
   "execution_count": 1,
   "metadata": {},
   "outputs": [
    {
     "name": "stdout",
     "output_type": "stream",
     "text": [
      "server is connected\n",
      "Message sended\n",
      "Message received\n",
      "b'Hi I am your message : Hello, this is client'\n"
     ]
    }
   ],
   "source": [
    "import socket\n",
    "\n",
    "ip = '172.20.10.7'\n",
    "port = 8080\n",
    "\n",
    "client = socket.socket()\n",
    "\n",
    "\n",
    "client.connect((ip,port))\n",
    "print(\"server is connected\")\n",
    "\n",
    "#메시지 송신\n",
    "client.send(b\"Hello, this is client\")\n",
    "print(\"Message sended\")\n",
    "\n",
    "#메시지 송신\n",
    "msg = client.recv(1024)\n",
    "print(\"Message received\")\n",
    "print(msg)\n",
    "\n",
    "client.close()"
   ]
  },
  {
   "cell_type": "markdown",
   "metadata": {},
   "source": [
    "# Test2"
   ]
  },
  {
   "cell_type": "code",
   "execution_count": 1,
   "metadata": {},
   "outputs": [
    {
     "name": "stdout",
     "output_type": "stream",
     "text": [
      "C:\\ProgramData\\Anaconda3\\lib\\site-packages\\ipykernel_launcher.py <Bind IP> <Server IP> <Message>\n"
     ]
    },
    {
     "ename": "SystemExit",
     "evalue": "",
     "output_type": "error",
     "traceback": [
      "An exception has occurred, use %tb to see the full traceback.\n",
      "\u001b[1;31mSystemExit\u001b[0m\n"
     ]
    },
    {
     "name": "stderr",
     "output_type": "stream",
     "text": [
      "C:\\ProgramData\\Anaconda3\\lib\\site-packages\\IPython\\core\\interactiveshell.py:3351: UserWarning: To exit: use 'exit', 'quit', or Ctrl-D.\n",
      "  warn(\"To exit: use 'exit', 'quit', or Ctrl-D.\", stacklevel=1)\n"
     ]
    }
   ],
   "source": [
    "import socket\n",
    "import sys\n",
    "\n",
    "\n",
    "if __name__ == '__main__':\n",
    "    if len(sys.argv) < 4:\n",
    "        print('{0} <Bind IP> <Server IP> <Message>'.format(sys.argv[0]))\n",
    "        sys.exit()\n",
    "        \n",
    "    bindIP = sys.argv[1]\n",
    "    serverIP = sys.argv[2]\n",
    "    meesage = sys.argv[3]\n",
    "    \n",
    "    sock = socket.socket(socket.AF_INET,socket.SOCK_STREAM) #Top socket = SOCK_STREAM\n",
    "    sock.bind((bindIP,0))\n",
    "    \n",
    "    \n",
    "    try:\n",
    "        sock.connect((serverIP, 5425)) # server에 연결요청\n",
    "         \n",
    "            \n",
    "        #서버로 송신\n",
    "        sbuff = bytes(message, encoding='utf-8')\n",
    "        sock.send(sbuff)\n",
    "        print('송신 {0}'.format(message))\n",
    "        \n",
    "        #서버로부터 수신\n",
    "        rbuff = sock.recv(1024)\n",
    "        received = str(rbuff, encoding='utf-8')\n",
    "        print('수신 : {0}'.format(received))\n",
    "        \n",
    "    finally:\n",
    "        socket.close()\n",
    "        \n",
    "    \n",
    "    "
   ]
  },
  {
   "cell_type": "code",
   "execution_count": 7,
   "metadata": {},
   "outputs": [
    {
     "name": "stdout",
     "output_type": "stream",
     "text": [
      "Received '0123456789101112131415161718192021222324252627282930313233343536373839404142434445464748495051525354555657585960616263646566676869707172737475767778798081828384858687888990919293949596979899'\n"
     ]
    }
   ],
   "source": [
    "import socket\n",
    "\n",
    "\n",
    "# 서버의 주소입니다. hostname 또는 ip address를 사용할 수 있습니다.\n",
    "HOST = '127.0.0.1'  \n",
    "# 서버에서 지정해 놓은 포트 번호입니다. \n",
    "PORT = 9999       \n",
    "\n",
    "\n",
    "# 소켓 객체를 생성합니다. \n",
    "# 주소 체계(address family)로 IPv4, 소켓 타입으로 TCP 사용합니다.  \n",
    "client_socket = socket.socket(socket.AF_INET, socket.SOCK_STREAM)\n",
    "\n",
    "\n",
    "# 지정한 HOST와 PORT를 사용하여 서버에 접속합니다. \n",
    "client_socket.connect((HOST, PORT))\n",
    "\n",
    "# 메시지를 전송합니다. \n",
    "for i in range(100):\n",
    "    client_socket.sendall(repr(i).encode())\n",
    "# 메시지를 수신합니다. \n",
    "data = client_socket.recv(1024)\n",
    "print('Received', repr(data.decode()))\n",
    "\n",
    "# 소켓을 닫습니다.\n",
    "client_socket.close()"
   ]
  },
  {
   "cell_type": "code",
   "execution_count": null,
   "metadata": {},
   "outputs": [],
   "source": []
  },
  {
   "cell_type": "markdown",
   "metadata": {},
   "source": [
    "# Test4"
   ]
  },
  {
   "cell_type": "code",
   "execution_count": 23,
   "metadata": {},
   "outputs": [
    {
     "name": "stdout",
     "output_type": "stream",
     "text": [
      "Received from the server : '1'\n",
      "Received from the server : '2'\n",
      "Received from the server : '3'\n",
      "Received from the server : '4'\n",
      "Received from the server : '5'\n",
      "Received from the server : '6'\n"
     ]
    }
   ],
   "source": [
    "import socket \n",
    "\n",
    "\n",
    "HOST = '127.0.0.1'\n",
    "PORT = 9998\n",
    "\n",
    "client_socket = socket.socket(socket.AF_INET,socket.SOCK_STREAM) \n",
    "\n",
    "client_socket.connect((HOST, PORT)) \n",
    "\n",
    "num = 0\n",
    "\n",
    "# 키보드로 입력한 문자열을 서버로 전송하고 \n",
    "\n",
    "# 서버에서 에코되어 돌아오는 메시지를 받으면 화면에 출력합니다. \n",
    "\n",
    "# quit를 입력할 때 까지 반복합니다. \n",
    "\n",
    "\n",
    "while True: \n",
    "    num = num + 1\n",
    "    message = num\n",
    "    if message == 7:  #message content : 1~150, 250, 450, 650, 850, 1000\n",
    "        break\n",
    "\n",
    "    client_socket.send( repr(message).encode()) \n",
    "    data = client_socket.recv(1024) \n",
    "\n",
    "    print('Received from the server :',repr(data.decode())) \n",
    "\n",
    "\n",
    "client_socket.close()"
   ]
  },
  {
   "cell_type": "code",
   "execution_count": null,
   "metadata": {},
   "outputs": [],
   "source": []
  }
 ],
 "metadata": {
  "kernelspec": {
   "display_name": "Python 3",
   "language": "python",
   "name": "python3"
  },
  "language_info": {
   "codemirror_mode": {
    "name": "ipython",
    "version": 3
   },
   "file_extension": ".py",
   "mimetype": "text/x-python",
   "name": "python",
   "nbconvert_exporter": "python",
   "pygments_lexer": "ipython3",
   "version": "3.8.3"
  }
 },
 "nbformat": 4,
 "nbformat_minor": 4
}
