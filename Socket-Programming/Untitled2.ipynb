{
 "cells": [
  {
   "cell_type": "code",
   "execution_count": 10,
   "metadata": {},
   "outputs": [
    {
     "name": "stdout",
     "output_type": "stream",
     "text": [
      " * Serving Flask app \"__main__\" (lazy loading)\n",
      " * Environment: production\n",
      "   WARNING: This is a development server. Do not use it in a production deployment.\n",
      "   Use a production WSGI server instead.\n",
      " * Debug mode: off\n"
     ]
    },
    {
     "name": "stderr",
     "output_type": "stream",
     "text": [
      " * Running on http://127.0.0.1:5000/ (Press CTRL+C to quit)\n",
      "127.0.0.1 - - [02/Sep/2020 17:09:31] \"\u001b[37mGET / HTTP/1.1\u001b[0m\" 200 -\n"
     ]
    }
   ],
   "source": [
    "from flask import Flask\n",
    "app = Flask(__name__)\n",
    "\n",
    "@app.route('/')\n",
    "def hello_world():\n",
    "   return 'Hello Tutorialspoint'\n",
    "\n",
    "if __name__ == '__main__':\n",
    "   app.run()"
   ]
  },
  {
   "cell_type": "code",
   "execution_count": 4,
   "metadata": {},
   "outputs": [
    {
     "name": "stdout",
     "output_type": "stream",
     "text": [
      "stop..\n"
     ]
    }
   ],
   "source": [
    "print(\"stop..\")"
   ]
  },
  {
   "cell_type": "code",
   "execution_count": 8,
   "metadata": {},
   "outputs": [],
   "source": [
    "from flask import Flask, url_for\n",
    "app = Flask(__name__)\n",
    "\n",
    "@app.route('/')\n",
    "def index(): pass\n",
    "\n",
    "@app.route('/login')\n",
    "def login(): pass\n",
    "\n",
    "@app.route('/user/')\n",
    "def profile(username): pass\n",
    "\n",
    "with app.test_request_context():\n",
    "    url_for('index')\n",
    "    url_for('index', _external=True)\n",
    "    url_for('login')\n",
    "    url_for('login', next='/')\n",
    "    url_for('profile', username='Tutorials Point')"
   ]
  },
  {
   "cell_type": "code",
   "execution_count": 9,
   "metadata": {},
   "outputs": [],
   "source": [
    "from flask import Flask, abort, redirect, url_for\n",
    "app = Flask(__name__)\n",
    "\n",
    "@app.route('/')\n",
    "def index():\n",
    "    return redirect(url_for('login'))\n",
    "\n",
    "@app.route('/login')\n",
    "def login():\n",
    "    abort(401)\n",
    "#    this_is_never_executed()"
   ]
  },
  {
   "cell_type": "code",
   "execution_count": null,
   "metadata": {},
   "outputs": [],
   "source": []
  },
  {
   "cell_type": "code",
   "execution_count": null,
   "metadata": {},
   "outputs": [],
   "source": []
  },
  {
   "cell_type": "code",
   "execution_count": null,
   "metadata": {},
   "outputs": [],
   "source": []
  },
  {
   "cell_type": "code",
   "execution_count": null,
   "metadata": {},
   "outputs": [],
   "source": []
  },
  {
   "cell_type": "code",
   "execution_count": null,
   "metadata": {},
   "outputs": [],
   "source": [
    "import socket\n",
    "\n",
    "sock = socket.socket()\n",
    "sock.bind(('', 8080))\n",
    "sock.listen(5)\n",
    "client, adress = sock.accept()\n",
    "\n",
    "print(\"Incoming:\", adress)\n",
    "print(client.recv(1024))\n",
    "#print\n",
    "\n",
    "client.send('HTTP/1.0 200 OK\\r\\n')\n",
    "client.send(\"Content-Type: text/html\\r\\n\\r\\n\")\n",
    "client.send('<html><body><h1>Hello World</body></html>')\n",
    "client.close()\n",
    "\n",
    "print(\"Answering ...\")\n",
    "print(\"Finished.\")\n",
    "\n",
    "sock.close()"
   ]
  },
  {
   "cell_type": "code",
   "execution_count": null,
   "metadata": {},
   "outputs": [],
   "source": [
    "print(\"g\")"
   ]
  },
  {
   "cell_type": "code",
   "execution_count": null,
   "metadata": {},
   "outputs": [],
   "source": []
  }
 ],
 "metadata": {
  "kernelspec": {
   "display_name": "Python 3",
   "language": "python",
   "name": "python3"
  },
  "language_info": {
   "codemirror_mode": {
    "name": "ipython",
    "version": 3
   },
   "file_extension": ".py",
   "mimetype": "text/x-python",
   "name": "python",
   "nbconvert_exporter": "python",
   "pygments_lexer": "ipython3",
   "version": "3.8.3"
  }
 },
 "nbformat": 4,
 "nbformat_minor": 4
}
