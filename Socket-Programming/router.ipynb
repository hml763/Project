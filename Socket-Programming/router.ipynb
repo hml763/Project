{
 "cells": [
  {
   "cell_type": "code",
   "execution_count": null,
   "metadata": {},
   "outputs": [],
   "source": [
    "import socket \n",
    "from _thread import *\n",
    "\n",
    "\n",
    "# 쓰레드에서 실행되는 코드입니다. \n",
    "\n",
    "# 접속한 클라이언트마다 새로운 쓰레드가 생성되어 통신을 하게 됩니다. \n",
    "def threaded(client_socket, addr): \n",
    "    print('Connected by :', addr[0], ':', addr[1]) \n",
    "\n",
    "    # 클라이언트가 접속을 끊을 때 까지 반복합니다. \n",
    "    while True: \n",
    "        try:\n",
    "            # 데이터가 수신되면 클라이언트에 다시 전송합니다.(에코)\n",
    "            data = client_socket.recv(1024)\n",
    "\n",
    "            if not data: \n",
    "                print('Disconnected by ' + addr[0],':',addr[1])\n",
    "                break\n",
    "\n",
    "            print('Received from ' + addr[0],':',addr[1] , data.decode())\n",
    "\n",
    "            client_socket.send(data) \n",
    "\n",
    "        except ConnectionResetError as e:\n",
    "\n",
    "            print('Disconnected by ' + addr[0],':',addr[1])\n",
    "            break\n",
    "             \n",
    "    client_socket.close() \n",
    "\n",
    "\n",
    "HOST = '127.0.0.1'\n",
    "PORT = 9998\n",
    "PORT2 = 9999\n",
    "\n",
    "server_socket = socket.socket(socket.AF_INET, socket.SOCK_STREAM) \n",
    "server_socket.setsockopt(socket.SOL_SOCKET, socket.SO_REUSEADDR, 1)\n",
    "server_socket.bind((HOST, PORT)) \n",
    "server_socket.listen() \n",
    "\n",
    "print('server start')\n",
    "\n",
    "\n",
    "# 클라이언트가 접속하면 accept 함수에서 새로운 소켓을 리턴합니다.\n",
    "\n",
    "# 새로운 쓰레드에서 해당 소켓을 사용하여 통신을 하게 됩니다. \n",
    "while True: \n",
    "\n",
    "    print('wait')\n",
    "\n",
    "    client_socket, addr = server_socket.accept() \n",
    "    start_new_thread(threaded, (client_socket, addr)) \n",
    "\n",
    "server_socket.close() \n",
    "\n",
    "\n"
   ]
  },
  {
   "cell_type": "code",
   "execution_count": null,
   "metadata": {},
   "outputs": [],
   "source": []
  },
  {
   "cell_type": "code",
   "execution_count": null,
   "metadata": {},
   "outputs": [],
   "source": []
  },
  {
   "cell_type": "code",
   "execution_count": null,
   "metadata": {},
   "outputs": [],
   "source": []
  },
  {
   "cell_type": "code",
   "execution_count": null,
   "metadata": {},
   "outputs": [],
   "source": []
  },
  {
   "cell_type": "code",
   "execution_count": null,
   "metadata": {},
   "outputs": [],
   "source": []
  },
  {
   "cell_type": "code",
   "execution_count": null,
   "metadata": {},
   "outputs": [],
   "source": []
  },
  {
   "cell_type": "code",
   "execution_count": null,
   "metadata": {},
   "outputs": [],
   "source": []
  },
  {
   "cell_type": "code",
   "execution_count": null,
   "metadata": {},
   "outputs": [],
   "source": []
  },
  {
   "cell_type": "code",
   "execution_count": null,
   "metadata": {},
   "outputs": [],
   "source": []
  },
  {
   "cell_type": "code",
   "execution_count": null,
   "metadata": {},
   "outputs": [],
   "source": []
  },
  {
   "cell_type": "code",
   "execution_count": null,
   "metadata": {},
   "outputs": [],
   "source": []
  },
  {
   "cell_type": "code",
   "execution_count": null,
   "metadata": {},
   "outputs": [],
   "source": []
  },
  {
   "cell_type": "code",
   "execution_count": 84,
   "metadata": {},
   "outputs": [
    {
     "name": "stdout",
     "output_type": "stream",
     "text": [
      "server start\n",
      "wait\n",
      "Connected by : 127.0.0.1 : 60206\n",
      "saving to router buffer : 1\n",
      "saving to router buffer : 2\n",
      "saving to router buffer : 3\n",
      "saving to router buffer : 4\n",
      "saving to router buffer : 5\n",
      "saving to router buffer : 6\n",
      "Disconnected by 127.0.0.1 : 60206\n",
      "router buffer :  ['1', '2', '3', '4', '5', '6']\n"
     ]
    }
   ],
   "source": [
    "import socket \n",
    "from _thread import *\n",
    "\n",
    "buffer = []\n",
    "\n",
    "# 쓰레드에서 실행되는 코드입니다. \n",
    "\n",
    "# 접속한 클라이언트마다 새로운 쓰레드가 생성되어 통신을 하게 됩니다. \n",
    "def threaded(client_socket, addr): \n",
    "    print('Connected by :', addr[0], ':', addr[1]) \n",
    "\n",
    "    # 클라이언트가 접속을 끊을 때 까지 반복합니다. \n",
    "    while True: \n",
    "        try:\n",
    "            # 데이터가 수신되면 클라이언트에 다시 전송합니다.(에코)\n",
    "            data = client_socket.recv(1024)\n",
    "\n",
    "            if not data: \n",
    "                print('Disconnected by ' + addr[0],':',addr[1])\n",
    "                print('router buffer : ', buffer) \n",
    "                break\n",
    "\n",
    "            print('data saving to router buffer :', data.decode())\n",
    "            buffer.append(data.decode())\n",
    "\n",
    "            client_socket.send(data) \n",
    "            \n",
    "\n",
    "        except ConnectionResetError as e:\n",
    "\n",
    "            print('Error_Disconnected by ' + addr[0],':',) #여기서 NACK?\n",
    "            \n",
    "            breakaddr[1]\n",
    "             \n",
    "    client_socket.close() \n",
    "    \n",
    "    \n",
    "def router(HOST,PORT2):\n",
    "    #HOST = '127.0.0.1'\n",
    "    number=0\n",
    "\n",
    "    client_socket = socket.socket(socket.AF_INET,socket.SOCK_STREAM) \n",
    "    client_socket.connect((HOST, PORT2)) \n",
    "    \n",
    "    while True: \n",
    "        number = number + 1\n",
    "        message = number\n",
    "        if message == 5:\n",
    "            break\n",
    "\n",
    "        client_socket.send(repr(message).encode()) \n",
    "\n",
    "\n",
    "\n",
    "\n",
    "HOST = '127.0.0.1'\n",
    "PORT = 9998\n",
    "PORT2 = 9999\n",
    "\n",
    "server_socket = socket.socket(socket.AF_INET, socket.SOCK_STREAM) \n",
    "server_socket.setsockopt(socket.SOL_SOCKET, socket.SO_REUSEADDR, 1)\n",
    "server_socket.bind((HOST, PORT)) ###이게9999 면 client랑 연결이 안됨.\n",
    "server_socket.listen() \n",
    "\n",
    "print('server start')\n",
    "\n",
    "\n",
    "# 클라이언트가 접속하면 accept 함수에서 새로운 소켓을 리턴합니다.\n",
    "\n",
    "# 새로운 쓰레드에서 해당 소켓을 사용하여 통신을 하게 됩니다. \n",
    "\n",
    "\n",
    "#while True: \n",
    "print('wait') \n",
    "client_socket, addr = server_socket.accept()  #addr : 소켓번호\n",
    "start_new_thread(threaded, (client_socket, addr)) \n",
    "server_socket.close()\n",
    "\n"
   ]
  },
  {
   "cell_type": "code",
   "execution_count": 80,
   "metadata": {},
   "outputs": [
    {
     "name": "stdout",
     "output_type": "stream",
     "text": [
      "Received from the server : '1'\n",
      "Received from the server : '2'\n",
      "Received from the server : '3'\n",
      "Received from the server : '4'\n",
      "Received from the server : '5'\n",
      "Received from the server : '6'\n",
      "Received from the server : '7'\n",
      "Received from the server : '8'\n",
      "Received from the server : '9'\n"
     ]
    }
   ],
   "source": [
    "import socket \n",
    "\n",
    "\n",
    "HOST = '127.0.0.1'\n",
    "PORT = 9999\n",
    "\n",
    "client_socket = socket.socket(socket.AF_INET,socket.SOCK_STREAM) \n",
    "client_socket.connect((HOST, PORT)) \n",
    "\n",
    "number = 0\n",
    "\n",
    "for i in range(len(buffer)): \n",
    "      #message content : 1~150, 250, 450, 650, 850, 1000   \n",
    "        \n",
    "    message = int(buffer[number])  \n",
    "    number = number+1\n",
    "    \n",
    "    client_socket.send( repr(message).encode()) \n",
    "    data = client_socket.recv(1024) \n",
    "\n",
    "    print('Received from the server :',repr(data.decode())) \n",
    "\n",
    "\n",
    "client_socket.close()"
   ]
  },
  {
   "cell_type": "code",
   "execution_count": null,
   "metadata": {},
   "outputs": [],
   "source": []
  },
  {
   "cell_type": "code",
   "execution_count": null,
   "metadata": {},
   "outputs": [],
   "source": []
  },
  {
   "cell_type": "code",
   "execution_count": null,
   "metadata": {},
   "outputs": [],
   "source": []
  },
  {
   "cell_type": "code",
   "execution_count": null,
   "metadata": {},
   "outputs": [],
   "source": []
  },
  {
   "cell_type": "code",
   "execution_count": null,
   "metadata": {},
   "outputs": [],
   "source": []
  },
  {
   "cell_type": "code",
   "execution_count": null,
   "metadata": {},
   "outputs": [],
   "source": []
  },
  {
   "cell_type": "code",
   "execution_count": null,
   "metadata": {},
   "outputs": [],
   "source": []
  },
  {
   "cell_type": "code",
   "execution_count": null,
   "metadata": {},
   "outputs": [],
   "source": []
  },
  {
   "cell_type": "code",
   "execution_count": null,
   "metadata": {},
   "outputs": [],
   "source": []
  },
  {
   "cell_type": "code",
   "execution_count": null,
   "metadata": {},
   "outputs": [],
   "source": []
  },
  {
   "cell_type": "code",
   "execution_count": null,
   "metadata": {},
   "outputs": [],
   "source": []
  },
  {
   "cell_type": "code",
   "execution_count": null,
   "metadata": {},
   "outputs": [],
   "source": []
  },
  {
   "cell_type": "code",
   "execution_count": null,
   "metadata": {},
   "outputs": [],
   "source": []
  },
  {
   "cell_type": "code",
   "execution_count": 27,
   "metadata": {},
   "outputs": [
    {
     "name": "stdout",
     "output_type": "stream",
     "text": [
      "Person(name='Dave', id='4011')\n",
      "<class '__main__.Person'>\n",
      "<class '__main__.Person'>\n"
     ]
    }
   ],
   "source": [
    "import collections\n",
    "\n",
    "\n",
    "Employee = collections.namedtuple('Person', ['name', 'id'])    # 리스트로 써도 되고!\n",
    "employee1 = Employee('Dave', '4011')\n",
    "print (employee1)\n",
    "print (type(employee1))\n",
    "print(Employee)\n"
   ]
  },
  {
   "cell_type": "code",
   "execution_count": 30,
   "metadata": {},
   "outputs": [
    {
     "name": "stdout",
     "output_type": "stream",
     "text": [
      "Person(name='Dave', id='4011')\n",
      "<class '__main__.Person'>\n",
      "<class '__main__.Person'>\n"
     ]
    }
   ],
   "source": [
    "Employee = collections.namedtuple('Person', 'name, id')        # 스트링처럼 써도 됨\n",
    "employee1 = Employee('Dave', '4011')\n",
    "print (employee1)\n",
    "print (type(employee1))\n",
    "print(Employee)\n"
   ]
  },
  {
   "cell_type": "code",
   "execution_count": 31,
   "metadata": {},
   "outputs": [
    {
     "name": "stdout",
     "output_type": "stream",
     "text": [
      "Employee(name='Dave', id='4011') Dave 4011\n",
      "Dave\n"
     ]
    }
   ],
   "source": [
    "Employee = collections.namedtuple('Employee', ['name', 'id'])\n",
    "\n",
    "employee1 = Employee('Dave', '4011')\n",
    "employee2 = Employee('David', '4012')\n",
    "\n",
    "# 일반적인 튜플 처럼 속성 접근 (권장하지는 않음, 추후 일반 클래스로 바꾼다면 관련 코드를 모두 변경해야함)\n",
    "print (employee1, employee1[0], employee1[1])\n",
    "print (employee1.name)"
   ]
  },
  {
   "cell_type": "code",
   "execution_count": 47,
   "metadata": {},
   "outputs": [],
   "source": [
    "from typing import NamedTuple\n",
    "# 1. 먼저 클래스를 선언하고\n",
    "class Packet (NamedTuple):\n",
    "    version: int\n",
    "    ip_header_length: int\n",
    "    TOS : int\n",
    "    total_length : int\n",
    "    identification : int\n",
    "    flag : int \n",
    "    fragment_offset : int\n",
    "    TTL : int\n",
    "    protocol : int \n",
    "    checksum : int\n",
    "    src_ip_address : str\n",
    "    dst_ip_address : str\n",
    "    data : str\n",
    "        \n",
    "# seq = 패킷 순서\n",
    "seq = 0\n",
    "TTL_s = 1 #1 sec\n",
    "check_sum = 10\n",
    "data_in = 1\n",
    "data = [1,2,3]"
   ]
  },
  {
   "cell_type": "code",
   "execution_count": 48,
   "metadata": {},
   "outputs": [
    {
     "name": "stdout",
     "output_type": "stream",
     "text": [
      "Packet(version=4, ip_header_length=4, TOS=7, total_length=3, identification=0, flag=1, fragment_offset=0, TTL=1, protocol=6, checksum=10, src_ip_address='127.0.0.1', dst_ip_address='127.0.0.1', data=1)\n"
     ]
    }
   ],
   "source": [
    "packet1 = Packet(4, 4, 7, len(data), seq, 1, 0, TTL_s, 6, check_sum, '127.0.0.1', \n",
    "                '127.0.0.1', data_in)\n",
    "print(packet1)\n"
   ]
  },
  {
   "cell_type": "code",
   "execution_count": 40,
   "metadata": {},
   "outputs": [
    {
     "name": "stdout",
     "output_type": "stream",
     "text": [
      "Employee(name='Guido', id=2, packet=[1, 2, 3, 4])\n",
      "Guido 2\n",
      "Guido 2\n"
     ]
    }
   ],
   "source": [
    "\n",
    "\n",
    "print(employee1.name, employee1.id)\n",
    "print(employee1[0], employee1[1])"
   ]
  },
  {
   "cell_type": "code",
   "execution_count": null,
   "metadata": {},
   "outputs": [],
   "source": [
    "# 따로 만들어보기 => 각각 다른 프로세스로, 섞지말고\n",
    "# client에서 보낸 데이터 출력 시키고 다음에 데이터 부르기"
   ]
  }
 ],
 "metadata": {
  "kernelspec": {
   "display_name": "Python 3",
   "language": "python",
   "name": "python3"
  },
  "language_info": {
   "codemirror_mode": {
    "name": "ipython",
    "version": 3
   },
   "file_extension": ".py",
   "mimetype": "text/x-python",
   "name": "python",
   "nbconvert_exporter": "python",
   "pygments_lexer": "ipython3",
   "version": "3.8.3"
  }
 },
 "nbformat": 4,
 "nbformat_minor": 4
}
