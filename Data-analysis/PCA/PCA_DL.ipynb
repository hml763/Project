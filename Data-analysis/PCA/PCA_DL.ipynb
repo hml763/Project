{
 "cells": [
  {
   "cell_type": "markdown",
   "metadata": {},
   "source": [
    "# Data -> PCA -> LSTM"
   ]
  },
  {
   "cell_type": "code",
   "execution_count": 58,
   "metadata": {},
   "outputs": [],
   "source": [
    "import numpy as np\n",
    "import pandas as pd\n",
    "import matplotlib.pyplot as plt\n",
    "import glob\n",
    "from sklearn.cluster import KMeans\n",
    "import seaborn as sns\n",
    "from pandas import DataFrame as df\n",
    "\n",
    "from sklearn import tree\n",
    "from sklearn import metrics\n",
    "from sklearn import datasets\n",
    "from pandas import DataFrame as df\n",
    "from sklearn.metrics import accuracy_score\n",
    "from sklearn.tree import DecisionTreeClassifier\n",
    "from sklearn.model_selection import cross_val_score    \n",
    "from sklearn.ensemble import ExtraTreesClassifier\n",
    "from sklearn.neighbors import KNeighborsClassifier\n",
    "from sklearn.model_selection import train_test_split\n",
    "from sklearn.ensemble import RandomForestClassifier\n",
    "from sklearn.metrics import r2_score, mean_squared_error\n",
    "from sklearn.ensemble import BaggingClassifier"
   ]
  },
  {
   "cell_type": "code",
   "execution_count": 96,
   "metadata": {},
   "outputs": [],
   "source": [
    "LR1 = glob.glob('C:/Users/hml76/OneDrive/바탕 화면/Capacitive_sensor_research/new_datas/datas/LR/*.csv')\n",
    "LR2 = glob.glob('C:/Users/hml76/OneDrive/바탕 화면/Capacitive_sensor_research/new_datas/datas/LR2/*.csv')\n",
    "\n",
    "RL1 = glob.glob('C:/Users/hml76/OneDrive/바탕 화면/Capacitive_sensor_research/new_datas/datas/RL/*.csv')\n",
    "RL2 = glob.glob('C:/Users/hml76/OneDrive/바탕 화면/Capacitive_sensor_research/new_datas/datas/RL2/*.csv')\n",
    "\n",
    "CW1 = glob.glob('C:/Users/hml76/OneDrive/바탕 화면/Capacitive_sensor_research/new_datas/datas/CW/*.csv')\n",
    "CW2 = glob.glob('C:/Users/hml76/OneDrive/바탕 화면/Capacitive_sensor_research/new_datas/datas/CW2/*.csv')\n",
    "\n",
    "CCW1 = glob.glob('C:/Users/hml76/OneDrive/바탕 화면/Capacitive_sensor_research/new_datas/datas/CCW/*.csv')\n",
    "CCW2 = glob.glob('C:/Users/hml76/OneDrive/바탕 화면/Capacitive_sensor_research/new_datas/datas/CCW2/*.csv')\n",
    "\n",
    "DOWN1 = glob.glob('C:/Users/hml76/OneDrive/바탕 화면/Capacitive_sensor_research/new_datas/datas/DOWN/*.csv')\n",
    "DOWN2 = glob.glob('C:/Users/hml76/OneDrive/바탕 화면/Capacitive_sensor_research/new_datas/datas/DOWN2/*.csv')\n",
    "\n",
    "UP1 = glob.glob('C:/Users/hml76/OneDrive/바탕 화면/Capacitive_sensor_research/new_datas/datas/UP/*.csv')\n",
    "UP2 = glob.glob('C:/Users/hml76/OneDrive/바탕 화면/Capacitive_sensor_research/new_datas/datas/UP2/*.csv')"
   ]
  },
  {
   "cell_type": "markdown",
   "metadata": {},
   "source": [
    "# Kmeans a ~ c-d, 제스쳐 1,0 같이 있는거\n",
    "### 1,0 같이 있는거는 맨 마지막 제스쳐 판별(1:제스쳐) 0은 없는 게 나은 걸지도 모름, 무조건 많으면 좋은게 아니라 더 헷갈릴 수 있음"
   ]
  },
  {
   "cell_type": "code",
   "execution_count": 104,
   "metadata": {},
   "outputs": [],
   "source": [
    "LR1_1 = pd.read_csv(LR1[0],names=['n3','n2','a','b','c','d','a-b','c-d','n','n1'])\n",
    "LR1_1.drop(['n3', 'n2', 'n1'], axis='columns', inplace=True)\n",
    "\n",
    "RL1_1 = pd.read_csv(RL1[0],names=['n3','n2','a','b','c','d','a-b','c-d','n','n1'])\n",
    "RL1_1.drop(['n3', 'n2', 'n1'], axis='columns', inplace=True)\n",
    "\n",
    "\n",
    "CW1_1 = pd.read_csv(LR1[0],names=['n3','n2','a','b','c','d','a-b','c-d','n','n1'])\n",
    "CW1_1.drop(['n3', 'n2', 'n1'], axis='columns', inplace=True)\n",
    "\n",
    "CCW1_1 = pd.read_csv(RL1[0],names=['n3','n2','a','b','c','d','a-b','c-d','n','n1'])\n",
    "CCW1_1.drop(['n3', 'n2', 'n1'], axis='columns', inplace=True)\n",
    "\n",
    "LR1_1[\"n\"] = 0\n",
    "RL1_1[\"n\"] = 1\n",
    "CW1_1[\"n\"] = 2\n",
    "CCW1_1[\"n\"] = 3\n",
    "\n",
    "total1_1 = pd.concat([LR1_1,RL1_1,CW1_1,CCW1_1])"
   ]
  },
  {
   "cell_type": "code",
   "execution_count": 105,
   "metadata": {},
   "outputs": [
    {
     "data": {
      "text/html": [
       "<div>\n",
       "<style scoped>\n",
       "    .dataframe tbody tr th:only-of-type {\n",
       "        vertical-align: middle;\n",
       "    }\n",
       "\n",
       "    .dataframe tbody tr th {\n",
       "        vertical-align: top;\n",
       "    }\n",
       "\n",
       "    .dataframe thead th {\n",
       "        text-align: right;\n",
       "    }\n",
       "</style>\n",
       "<table border=\"1\" class=\"dataframe\">\n",
       "  <thead>\n",
       "    <tr style=\"text-align: right;\">\n",
       "      <th></th>\n",
       "      <th>a</th>\n",
       "      <th>b</th>\n",
       "      <th>c</th>\n",
       "      <th>d</th>\n",
       "      <th>a-b</th>\n",
       "      <th>c-d</th>\n",
       "      <th>n</th>\n",
       "    </tr>\n",
       "  </thead>\n",
       "  <tbody>\n",
       "    <tr>\n",
       "      <th>0</th>\n",
       "      <td>-0.105279</td>\n",
       "      <td>0.045455</td>\n",
       "      <td>-0.034666</td>\n",
       "      <td>-0.027996</td>\n",
       "      <td>-0.150734</td>\n",
       "      <td>-0.006670</td>\n",
       "      <td>0</td>\n",
       "    </tr>\n",
       "    <tr>\n",
       "      <th>1</th>\n",
       "      <td>-0.108044</td>\n",
       "      <td>0.044301</td>\n",
       "      <td>-0.035562</td>\n",
       "      <td>-0.029861</td>\n",
       "      <td>-0.152344</td>\n",
       "      <td>-0.005702</td>\n",
       "      <td>0</td>\n",
       "    </tr>\n",
       "    <tr>\n",
       "      <th>2</th>\n",
       "      <td>-0.108884</td>\n",
       "      <td>0.044842</td>\n",
       "      <td>-0.034635</td>\n",
       "      <td>-0.029891</td>\n",
       "      <td>-0.153725</td>\n",
       "      <td>-0.004744</td>\n",
       "      <td>0</td>\n",
       "    </tr>\n",
       "    <tr>\n",
       "      <th>3</th>\n",
       "      <td>-0.107509</td>\n",
       "      <td>0.047354</td>\n",
       "      <td>-0.031749</td>\n",
       "      <td>-0.027956</td>\n",
       "      <td>-0.154863</td>\n",
       "      <td>-0.003793</td>\n",
       "      <td>0</td>\n",
       "    </tr>\n",
       "    <tr>\n",
       "      <th>4</th>\n",
       "      <td>-0.104009</td>\n",
       "      <td>0.051747</td>\n",
       "      <td>-0.027207</td>\n",
       "      <td>-0.024357</td>\n",
       "      <td>-0.155756</td>\n",
       "      <td>-0.002850</td>\n",
       "      <td>0</td>\n",
       "    </tr>\n",
       "    <tr>\n",
       "      <th>...</th>\n",
       "      <td>...</td>\n",
       "      <td>...</td>\n",
       "      <td>...</td>\n",
       "      <td>...</td>\n",
       "      <td>...</td>\n",
       "      <td>...</td>\n",
       "      <td>...</td>\n",
       "    </tr>\n",
       "    <tr>\n",
       "      <th>795</th>\n",
       "      <td>-0.306390</td>\n",
       "      <td>-0.529995</td>\n",
       "      <td>-0.445203</td>\n",
       "      <td>-0.324031</td>\n",
       "      <td>0.223605</td>\n",
       "      <td>-0.121173</td>\n",
       "      <td>3</td>\n",
       "    </tr>\n",
       "    <tr>\n",
       "      <th>796</th>\n",
       "      <td>-0.308298</td>\n",
       "      <td>-0.531856</td>\n",
       "      <td>-0.446457</td>\n",
       "      <td>-0.324883</td>\n",
       "      <td>0.223558</td>\n",
       "      <td>-0.121574</td>\n",
       "      <td>3</td>\n",
       "    </tr>\n",
       "    <tr>\n",
       "      <th>797</th>\n",
       "      <td>-0.311948</td>\n",
       "      <td>-0.535205</td>\n",
       "      <td>-0.449288</td>\n",
       "      <td>-0.327437</td>\n",
       "      <td>0.223257</td>\n",
       "      <td>-0.121851</td>\n",
       "      <td>3</td>\n",
       "    </tr>\n",
       "    <tr>\n",
       "      <th>798</th>\n",
       "      <td>-0.316720</td>\n",
       "      <td>-0.539319</td>\n",
       "      <td>-0.452949</td>\n",
       "      <td>-0.330962</td>\n",
       "      <td>0.222598</td>\n",
       "      <td>-0.121987</td>\n",
       "      <td>3</td>\n",
       "    </tr>\n",
       "    <tr>\n",
       "      <th>799</th>\n",
       "      <td>-0.321836</td>\n",
       "      <td>-0.543382</td>\n",
       "      <td>-0.456631</td>\n",
       "      <td>-0.334661</td>\n",
       "      <td>0.221547</td>\n",
       "      <td>-0.121969</td>\n",
       "      <td>3</td>\n",
       "    </tr>\n",
       "  </tbody>\n",
       "</table>\n",
       "<p>3600 rows × 7 columns</p>\n",
       "</div>"
      ],
      "text/plain": [
       "            a         b         c         d       a-b       c-d  n\n",
       "0   -0.105279  0.045455 -0.034666 -0.027996 -0.150734 -0.006670  0\n",
       "1   -0.108044  0.044301 -0.035562 -0.029861 -0.152344 -0.005702  0\n",
       "2   -0.108884  0.044842 -0.034635 -0.029891 -0.153725 -0.004744  0\n",
       "3   -0.107509  0.047354 -0.031749 -0.027956 -0.154863 -0.003793  0\n",
       "4   -0.104009  0.051747 -0.027207 -0.024357 -0.155756 -0.002850  0\n",
       "..        ...       ...       ...       ...       ...       ... ..\n",
       "795 -0.306390 -0.529995 -0.445203 -0.324031  0.223605 -0.121173  3\n",
       "796 -0.308298 -0.531856 -0.446457 -0.324883  0.223558 -0.121574  3\n",
       "797 -0.311948 -0.535205 -0.449288 -0.327437  0.223257 -0.121851  3\n",
       "798 -0.316720 -0.539319 -0.452949 -0.330962  0.222598 -0.121987  3\n",
       "799 -0.321836 -0.543382 -0.456631 -0.334661  0.221547 -0.121969  3\n",
       "\n",
       "[3600 rows x 7 columns]"
      ]
     },
     "execution_count": 105,
     "metadata": {},
     "output_type": "execute_result"
    }
   ],
   "source": [
    "total1_1"
   ]
  },
  {
   "cell_type": "code",
   "execution_count": 112,
   "metadata": {},
   "outputs": [
    {
     "data": {
      "text/plain": [
       "KMeans(algorithm='auto', copy_x=True, init='k-means++', max_iter=300,\n",
       "       n_clusters=4, n_init=10, n_jobs=None, precompute_distances='auto',\n",
       "       random_state=None, tol=0.0001, verbose=0)"
      ]
     },
     "execution_count": 112,
     "metadata": {},
     "output_type": "execute_result"
    }
   ],
   "source": [
    "Kmean = KMeans(n_clusters=4)\n",
    "Kmean.fit(total1_1)"
   ]
  },
  {
   "cell_type": "code",
   "execution_count": 113,
   "metadata": {},
   "outputs": [
    {
     "data": {
      "text/plain": [
       "<seaborn.axisgrid.FacetGrid at 0x16c944a0ac8>"
      ]
     },
     "execution_count": 113,
     "metadata": {},
     "output_type": "execute_result"
    },
    {
     "data": {
      "image/png": "[encoded data removed]",
      "text/plain": [
       "<Figure size 402.375x360 with 1 Axes>"
      ]
     },
     "metadata": {
      "needs_background": "light"
     },
     "output_type": "display_data"
    }
   ],
   "source": [
    "sns.lmplot('a-b','c-d',data=total1_1,fit_reg=False,scatter_kws={\"s\":10},hue=\"n\")"
   ]
  },
  {
   "cell_type": "code",
   "execution_count": 117,
   "metadata": {},
   "outputs": [
    {
     "ename": "TypeError",
     "evalue": "scatter() got multiple values for argument 's'",
     "output_type": "error",
     "traceback": [
      "\u001b[1;31m---------------------------------------------------------------------------\u001b[0m",
      "\u001b[1;31mTypeError\u001b[0m                                 Traceback (most recent call last)",
      "\u001b[1;32m<ipython-input-117-1c3e720de073>\u001b[0m in \u001b[0;36m<module>\u001b[1;34m\u001b[0m\n\u001b[0;32m     16\u001b[0m \u001b[0mplt\u001b[0m\u001b[1;33m.\u001b[0m\u001b[0mxlabel\u001b[0m\u001b[1;33m(\u001b[0m\u001b[1;34m'a-b'\u001b[0m\u001b[1;33m)\u001b[0m\u001b[1;33m\u001b[0m\u001b[1;33m\u001b[0m\u001b[0m\n\u001b[0;32m     17\u001b[0m \u001b[0mplt\u001b[0m\u001b[1;33m.\u001b[0m\u001b[0mxlabel\u001b[0m\u001b[1;33m(\u001b[0m\u001b[1;34m'c-d'\u001b[0m\u001b[1;33m)\u001b[0m\u001b[1;33m\u001b[0m\u001b[1;33m\u001b[0m\u001b[0m\n\u001b[1;32m---> 18\u001b[1;33m \u001b[0mplt\u001b[0m\u001b[1;33m.\u001b[0m\u001b[0mscatter\u001b[0m\u001b[1;33m(\u001b[0m\u001b[0mc_a\u001b[0m\u001b[1;33m,\u001b[0m\u001b[0mcenter_x\u001b[0m\u001b[1;33m,\u001b[0m\u001b[0mcenter_y\u001b[0m\u001b[1;33m,\u001b[0m\u001b[0ms\u001b[0m\u001b[1;33m=\u001b[0m\u001b[1;36m50\u001b[0m\u001b[1;33m,\u001b[0m\u001b[0mmarker\u001b[0m\u001b[1;33m=\u001b[0m\u001b[1;34m'D'\u001b[0m\u001b[1;33m,\u001b[0m\u001b[0mc\u001b[0m\u001b[1;33m=\u001b[0m\u001b[1;34m'r'\u001b[0m\u001b[1;33m)\u001b[0m\u001b[1;33m\u001b[0m\u001b[1;33m\u001b[0m\u001b[0m\n\u001b[0m\u001b[0;32m     19\u001b[0m \u001b[0mplt\u001b[0m\u001b[1;33m.\u001b[0m\u001b[0mshow\u001b[0m\u001b[1;33m(\u001b[0m\u001b[1;33m)\u001b[0m\u001b[1;33m\u001b[0m\u001b[1;33m\u001b[0m\u001b[0m\n",
      "\u001b[1;31mTypeError\u001b[0m: scatter() got multiple values for argument 's'"
     ]
    },
    {
     "data": {
      "image/png": "[encoded data removed]",
      "text/plain": [
       "<Figure size 432x288 with 1 Axes>"
      ]
     },
     "metadata": {
      "needs_background": "light"
     },
     "output_type": "display_data"
    }
   ],
   "source": [
    "model = KMeans(n_clusters=4,algorithm='auto')\n",
    "model.fit(total1_1)\n",
    "\n",
    "predict = pd.DataFrame(model.predict(total1_1))\n",
    "predict.columns=['predict']\n",
    "\n",
    "plt.scatter(total1_1['a-b'],total1_1['c-d'],c=total1_1['n'],alpha=0.5)\n",
    "\n",
    "centers = pd.DataFrame(model.cluster_centers_,columns=['a','b','c','d','a-b','c-d','n'])\n",
    "labels = ['0', '1', '2', '3']\n",
    "\n",
    "center_x = centers['a-b']\n",
    "center_y = centers['c-d']\n",
    "\n",
    "plt.xlabel('a-b')\n",
    "plt.xlabel('c-d')\n",
    "plt.scatter(center_x,center_y,s=50,marker='D',c='r')\n",
    "plt.show()"
   ]
  },
  {
   "cell_type": "code",
   "execution_count": null,
   "metadata": {},
   "outputs": [],
   "source": []
  },
  {
   "cell_type": "code",
   "execution_count": null,
   "metadata": {},
   "outputs": [],
   "source": []
  },
  {
   "cell_type": "code",
   "execution_count": null,
   "metadata": {},
   "outputs": [],
   "source": []
  },
  {
   "cell_type": "code",
   "execution_count": 110,
   "metadata": {},
   "outputs": [
    {
     "data": {
      "text/plain": [
       "(3600,)"
      ]
     },
     "execution_count": 110,
     "metadata": {},
     "output_type": "execute_result"
    }
   ],
   "source": [
    "data_points = total1_1\n",
    "kmeans = KMeans(n_clusters=4).fit(data_points)\n",
    "kmeans.labels_.shape"
   ]
  },
  {
   "cell_type": "code",
   "execution_count": 111,
   "metadata": {},
   "outputs": [
    {
     "data": {
      "text/plain": [
       "<seaborn.axisgrid.FacetGrid at 0x16c943df748>"
      ]
     },
     "execution_count": 111,
     "metadata": {},
     "output_type": "execute_result"
    },
    {
     "data": {
      "image/png": "[encoded data removed]",
      "text/plain": [
       "<Figure size 402.375x360 with 1 Axes>"
      ]
     },
     "metadata": {
      "needs_background": "light"
     },
     "output_type": "display_data"
    }
   ],
   "source": [
    "sns.lmplot('a-b','c-d',data=total1_1,fit_reg=False,scatter_kws={\"s\":10},hue=\"n\")"
   ]
  },
  {
   "cell_type": "code",
   "execution_count": null,
   "metadata": {},
   "outputs": [],
   "source": []
  },
  {
   "cell_type": "code",
   "execution_count": null,
   "metadata": {},
   "outputs": [],
   "source": []
  },
  {
   "cell_type": "code",
   "execution_count": null,
   "metadata": {},
   "outputs": [],
   "source": []
  },
  {
   "cell_type": "code",
   "execution_count": null,
   "metadata": {},
   "outputs": [],
   "source": []
  },
  {
   "cell_type": "code",
   "execution_count": null,
   "metadata": {},
   "outputs": [],
   "source": []
  },
  {
   "cell_type": "code",
   "execution_count": 56,
   "metadata": {},
   "outputs": [
    {
     "data": {
      "text/html": [
       "<div>\n",
       "<style scoped>\n",
       "    .dataframe tbody tr th:only-of-type {\n",
       "        vertical-align: middle;\n",
       "    }\n",
       "\n",
       "    .dataframe tbody tr th {\n",
       "        vertical-align: top;\n",
       "    }\n",
       "\n",
       "    .dataframe thead th {\n",
       "        text-align: right;\n",
       "    }\n",
       "</style>\n",
       "<table border=\"1\" class=\"dataframe\">\n",
       "  <thead>\n",
       "    <tr style=\"text-align: right;\">\n",
       "      <th></th>\n",
       "      <th>a</th>\n",
       "      <th>b</th>\n",
       "      <th>c</th>\n",
       "      <th>d</th>\n",
       "      <th>a-b</th>\n",
       "      <th>c-d</th>\n",
       "    </tr>\n",
       "  </thead>\n",
       "  <tbody>\n",
       "    <tr>\n",
       "      <th>0</th>\n",
       "      <td>-0.105279</td>\n",
       "      <td>0.045455</td>\n",
       "      <td>-0.034666</td>\n",
       "      <td>-0.027996</td>\n",
       "      <td>-0.150734</td>\n",
       "      <td>-0.006670</td>\n",
       "    </tr>\n",
       "    <tr>\n",
       "      <th>1</th>\n",
       "      <td>-0.108044</td>\n",
       "      <td>0.044301</td>\n",
       "      <td>-0.035562</td>\n",
       "      <td>-0.029861</td>\n",
       "      <td>-0.152344</td>\n",
       "      <td>-0.005702</td>\n",
       "    </tr>\n",
       "    <tr>\n",
       "      <th>2</th>\n",
       "      <td>-0.108884</td>\n",
       "      <td>0.044842</td>\n",
       "      <td>-0.034635</td>\n",
       "      <td>-0.029891</td>\n",
       "      <td>-0.153725</td>\n",
       "      <td>-0.004744</td>\n",
       "    </tr>\n",
       "    <tr>\n",
       "      <th>3</th>\n",
       "      <td>-0.107509</td>\n",
       "      <td>0.047354</td>\n",
       "      <td>-0.031749</td>\n",
       "      <td>-0.027956</td>\n",
       "      <td>-0.154863</td>\n",
       "      <td>-0.003793</td>\n",
       "    </tr>\n",
       "    <tr>\n",
       "      <th>4</th>\n",
       "      <td>-0.104009</td>\n",
       "      <td>0.051747</td>\n",
       "      <td>-0.027207</td>\n",
       "      <td>-0.024357</td>\n",
       "      <td>-0.155756</td>\n",
       "      <td>-0.002850</td>\n",
       "    </tr>\n",
       "    <tr>\n",
       "      <th>...</th>\n",
       "      <td>...</td>\n",
       "      <td>...</td>\n",
       "      <td>...</td>\n",
       "      <td>...</td>\n",
       "      <td>...</td>\n",
       "      <td>...</td>\n",
       "    </tr>\n",
       "    <tr>\n",
       "      <th>695</th>\n",
       "      <td>-0.238852</td>\n",
       "      <td>-0.982636</td>\n",
       "      <td>-0.648065</td>\n",
       "      <td>-0.759003</td>\n",
       "      <td>0.743784</td>\n",
       "      <td>0.110938</td>\n",
       "    </tr>\n",
       "    <tr>\n",
       "      <th>696</th>\n",
       "      <td>-0.246902</td>\n",
       "      <td>-0.984729</td>\n",
       "      <td>-0.653497</td>\n",
       "      <td>-0.762019</td>\n",
       "      <td>0.737827</td>\n",
       "      <td>0.108522</td>\n",
       "    </tr>\n",
       "    <tr>\n",
       "      <th>697</th>\n",
       "      <td>-0.255653</td>\n",
       "      <td>-0.987715</td>\n",
       "      <td>-0.659437</td>\n",
       "      <td>-0.765508</td>\n",
       "      <td>0.732063</td>\n",
       "      <td>0.106071</td>\n",
       "    </tr>\n",
       "    <tr>\n",
       "      <th>698</th>\n",
       "      <td>-0.264319</td>\n",
       "      <td>-0.990753</td>\n",
       "      <td>-0.665049</td>\n",
       "      <td>-0.768631</td>\n",
       "      <td>0.726434</td>\n",
       "      <td>0.103582</td>\n",
       "    </tr>\n",
       "    <tr>\n",
       "      <th>699</th>\n",
       "      <td>-0.272207</td>\n",
       "      <td>-0.993003</td>\n",
       "      <td>-0.669597</td>\n",
       "      <td>-0.770648</td>\n",
       "      <td>0.720795</td>\n",
       "      <td>0.101051</td>\n",
       "    </tr>\n",
       "  </tbody>\n",
       "</table>\n",
       "<p>700 rows × 6 columns</p>\n",
       "</div>"
      ],
      "text/plain": [
       "            a         b         c         d       a-b       c-d\n",
       "0   -0.105279  0.045455 -0.034666 -0.027996 -0.150734 -0.006670\n",
       "1   -0.108044  0.044301 -0.035562 -0.029861 -0.152344 -0.005702\n",
       "2   -0.108884  0.044842 -0.034635 -0.029891 -0.153725 -0.004744\n",
       "3   -0.107509  0.047354 -0.031749 -0.027956 -0.154863 -0.003793\n",
       "4   -0.104009  0.051747 -0.027207 -0.024357 -0.155756 -0.002850\n",
       "..        ...       ...       ...       ...       ...       ...\n",
       "695 -0.238852 -0.982636 -0.648065 -0.759003  0.743784  0.110938\n",
       "696 -0.246902 -0.984729 -0.653497 -0.762019  0.737827  0.108522\n",
       "697 -0.255653 -0.987715 -0.659437 -0.765508  0.732063  0.106071\n",
       "698 -0.264319 -0.990753 -0.665049 -0.768631  0.726434  0.103582\n",
       "699 -0.272207 -0.993003 -0.669597 -0.770648  0.720795  0.101051\n",
       "\n",
       "[700 rows x 6 columns]"
      ]
     },
     "execution_count": 56,
     "metadata": {},
     "output_type": "execute_result"
    }
   ],
   "source": [
    "LR1_1.drop(['n3', 'n2', 'n'], axis='columns', inplace=True)\n",
    "for i in range(len(LR1_1)):\n",
    "    if(LR1_1.n1[i] == 0):\n",
    "        LR1_1.drop([i],axis='rows',inplace=True)\n",
    "        \n",
    "LR1_1.drop(['n1'], axis='columns', inplace=True)\n",
    "LR1_1"
   ]
  },
  {
   "cell_type": "code",
   "execution_count": null,
   "metadata": {},
   "outputs": [],
   "source": []
  },
  {
   "cell_type": "code",
   "execution_count": null,
   "metadata": {},
   "outputs": [],
   "source": []
  },
  {
   "cell_type": "code",
   "execution_count": null,
   "metadata": {},
   "outputs": [],
   "source": []
  },
  {
   "cell_type": "code",
   "execution_count": null,
   "metadata": {},
   "outputs": [],
   "source": []
  },
  {
   "cell_type": "code",
   "execution_count": null,
   "metadata": {},
   "outputs": [],
   "source": []
  },
  {
   "cell_type": "code",
   "execution_count": null,
   "metadata": {},
   "outputs": [],
   "source": []
  },
  {
   "cell_type": "code",
   "execution_count": null,
   "metadata": {},
   "outputs": [],
   "source": []
  },
  {
   "cell_type": "code",
   "execution_count": null,
   "metadata": {},
   "outputs": [],
   "source": []
  },
  {
   "cell_type": "code",
   "execution_count": null,
   "metadata": {},
   "outputs": [],
   "source": []
  },
  {
   "cell_type": "code",
   "execution_count": null,
   "metadata": {},
   "outputs": [],
   "source": []
  },
  {
   "cell_type": "code",
   "execution_count": null,
   "metadata": {},
   "outputs": [],
   "source": []
  }
 ],
 "metadata": {
  "kernelspec": {
   "display_name": "Python 3",
   "language": "python",
   "name": "python3"
  },
  "language_info": {
   "codemirror_mode": {
    "name": "ipython",
    "version": 3
   },
   "file_extension": ".py",
   "mimetype": "text/x-python",
   "name": "python",
   "nbconvert_exporter": "python",
   "pygments_lexer": "ipython3",
   "version": "3.7.3"
  }
 },
 "nbformat": 4,
 "nbformat_minor": 4
}
