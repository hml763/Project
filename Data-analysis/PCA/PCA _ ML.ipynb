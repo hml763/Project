{
 "cells": [
  {
   "cell_type": "code",
   "execution_count": 1,
   "metadata": {},
   "outputs": [],
   "source": [
    "import numpy as np\n",
    "import pandas as pd\n",
    "import matplotlib.pyplot as plt\n",
    "\n",
    "from sklearn import tree\n",
    "from sklearn import metrics\n",
    "from sklearn import datasets\n",
    "from pandas import DataFrame as df\n",
    "from sklearn.metrics import accuracy_score\n",
    "from sklearn.tree import DecisionTreeClassifier\n",
    "from sklearn.model_selection import cross_val_score    \n",
    "from sklearn.ensemble import ExtraTreesClassifier\n",
    "from sklearn.neighbors import KNeighborsClassifier\n",
    "from sklearn.model_selection import train_test_split\n",
    "from sklearn.ensemble import RandomForestClassifier\n",
    "from sklearn.metrics import r2_score, mean_squared_error\n",
    "from sklearn.ensemble import BaggingClassifier"
   ]
  },
  {
   "cell_type": "code",
   "execution_count": 4,
   "metadata": {},
   "outputs": [],
   "source": [
    "Total_datas_8 = pd.read_csv('C:/Users/hml76/OneDrive/바탕 화면/Capacitive_sensor_research/실험데이터/Total_datas_merged_8features.csv')\n",
    "Total_labels_8 = pd.read_csv('C:/Users/hml76/OneDrive/바탕 화면/Capacitive_sensor_research/실험데이터/Total_labels_merged_8features.csv')"
   ]
  },
  {
   "cell_type": "code",
   "execution_count": 7,
   "metadata": {},
   "outputs": [
    {
     "data": {
      "text/plain": [
       "array([[ 9.28675991e-03, -2.42150818e-02, -1.09565578e-04],\n",
       "       [ 9.99635844e-03, -2.45632528e-02, -2.92291452e-04],\n",
       "       [ 1.08894719e-02, -2.47477088e-02, -4.10983926e-04],\n",
       "       ...,\n",
       "       [ 2.14563039e-01,  1.19908075e-01, -2.04649227e-04],\n",
       "       [ 2.13559758e-01,  1.21875208e-01, -1.42262107e-04],\n",
       "       [ 2.12938867e-01,  1.23414041e-01, -2.86195161e-04]])"
      ]
     },
     "execution_count": 7,
     "metadata": {},
     "output_type": "execute_result"
    }
   ],
   "source": [
    "from sklearn.decomposition import PCA\n",
    "import matplotlib.pyplot as plt\n",
    "\n",
    "model = PCA(n_components=3)\n",
    "pca_features = model.fit_transform(Total_datas_8)\n",
    "\n",
    "pca_features\n"
   ]
  },
  {
   "cell_type": "code",
   "execution_count": 9,
   "metadata": {},
   "outputs": [],
   "source": [
    "X_train1, X_test1, y_train1, y_test1 = train_test_split(Total_datas_8, Total_labels_8, test_size=0.3, random_state=42)"
   ]
  },
  {
   "cell_type": "code",
   "execution_count": 10,
   "metadata": {},
   "outputs": [],
   "source": [
    "X_train1_p, X_test1_p, y_train1_p, y_test1_p = train_test_split(pca_features, Total_labels_8, test_size=0.3, random_state=42)"
   ]
  },
  {
   "cell_type": "code",
   "execution_count": 17,
   "metadata": {},
   "outputs": [
    {
     "data": {
      "text/plain": [
       "((373391, 3), (373391, 8))"
      ]
     },
     "execution_count": 17,
     "metadata": {},
     "output_type": "execute_result"
    }
   ],
   "source": [
    "pca_features.shape, Total_datas_8.shape"
   ]
  },
  {
   "cell_type": "code",
   "execution_count": 11,
   "metadata": {},
   "outputs": [
    {
     "name": "stderr",
     "output_type": "stream",
     "text": [
      "C:\\Users\\hml76\\AppData\\Local\\Continuum\\anaconda3\\lib\\site-packages\\ipykernel_launcher.py:5: DataConversionWarning: A column-vector y was passed when a 1d array was expected. Please change the shape of y to (n_samples,), for example using ravel().\n",
      "  \"\"\"\n",
      "C:\\Users\\hml76\\AppData\\Local\\Continuum\\anaconda3\\lib\\site-packages\\ipykernel_launcher.py:8: DataConversionWarning: A column-vector y was passed when a 1d array was expected. Please change the shape of y to (n_samples, ), for example using ravel().\n",
      "  \n",
      "C:\\Users\\hml76\\AppData\\Local\\Continuum\\anaconda3\\lib\\site-packages\\ipykernel_launcher.py:11: DataConversionWarning: A column-vector y was passed when a 1d array was expected. Please change the shape of y to (n_samples,), for example using ravel().\n",
      "  # This is added back by InteractiveShellApp.init_path()\n",
      "C:\\Users\\hml76\\AppData\\Local\\Continuum\\anaconda3\\lib\\site-packages\\sklearn\\ensemble\\bagging.py:623: DataConversionWarning: A column-vector y was passed when a 1d array was expected. Please change the shape of y to (n_samples, ), for example using ravel().\n",
      "  y = column_or_1d(y, warn=True)\n"
     ]
    },
    {
     "data": {
      "text/plain": [
       "BaggingClassifier(base_estimator=None, bootstrap=True, bootstrap_features=False,\n",
       "                  max_features=1.0, max_samples=1.0, n_estimators=30,\n",
       "                  n_jobs=None, oob_score=False, random_state=None, verbose=0,\n",
       "                  warm_start=False)"
      ]
     },
     "execution_count": 11,
     "metadata": {},
     "output_type": "execute_result"
    }
   ],
   "source": [
    "tree1 = DecisionTreeClassifier(max_depth=12)\n",
    "tree1.fit(X_train1, y_train1)\n",
    "\n",
    "forest1 = RandomForestClassifier(n_estimators=35)\n",
    "forest1.fit(X_train1, y_train1)\n",
    "\n",
    "knn1 = KNeighborsClassifier(n_neighbors = 40)\n",
    "knn1.fit(X_train1, y_train1)\n",
    "\n",
    "xtree1 = ExtraTreesClassifier(n_estimators=35)\n",
    "xtree1.fit(X_train1, y_train1)\n",
    "\n",
    "BC1 = BaggingClassifier(n_estimators=30, bootstrap=True)\n",
    "BC1.fit(X_train1,y_train1)\n"
   ]
  },
  {
   "cell_type": "markdown",
   "metadata": {},
   "source": [
    "## Original Data classification"
   ]
  },
  {
   "cell_type": "code",
   "execution_count": 12,
   "metadata": {},
   "outputs": [
    {
     "data": {
      "text/plain": [
       "(0.8133871342105733,\n",
       " 0.8917852487993001,\n",
       " 0.7510132300166045,\n",
       " 0.9002749558106733,\n",
       " 0.8899819671838455)"
      ]
     },
     "execution_count": 12,
     "metadata": {},
     "output_type": "execute_result"
    }
   ],
   "source": [
    "r1_score_tree = tree1.score(X_test1, y_test1)\n",
    "r1_score_forest = forest1.score(X_test1, y_test1)\n",
    "r1_score_knn = knn1.score(X_test1, y_test1)\n",
    "r1_score_xtree = xtree1.score(X_test1, y_test1)\n",
    "r1_score_bc = BC1.score(X_test1, y_test1)\n",
    "\n",
    "r1_score_tree, r1_score_forest ,r1_score_knn ,r1_score_xtree,r1_score_bc"
   ]
  },
  {
   "cell_type": "code",
   "execution_count": null,
   "metadata": {},
   "outputs": [],
   "source": []
  },
  {
   "cell_type": "code",
   "execution_count": 13,
   "metadata": {
    "scrolled": true
   },
   "outputs": [
    {
     "name": "stderr",
     "output_type": "stream",
     "text": [
      "C:\\Users\\hml76\\AppData\\Local\\Continuum\\anaconda3\\lib\\site-packages\\ipykernel_launcher.py:5: DataConversionWarning: A column-vector y was passed when a 1d array was expected. Please change the shape of y to (n_samples,), for example using ravel().\n",
      "  \"\"\"\n",
      "C:\\Users\\hml76\\AppData\\Local\\Continuum\\anaconda3\\lib\\site-packages\\ipykernel_launcher.py:8: DataConversionWarning: A column-vector y was passed when a 1d array was expected. Please change the shape of y to (n_samples, ), for example using ravel().\n",
      "  \n",
      "C:\\Users\\hml76\\AppData\\Local\\Continuum\\anaconda3\\lib\\site-packages\\ipykernel_launcher.py:11: DataConversionWarning: A column-vector y was passed when a 1d array was expected. Please change the shape of y to (n_samples,), for example using ravel().\n",
      "  # This is added back by InteractiveShellApp.init_path()\n",
      "C:\\Users\\hml76\\AppData\\Local\\Continuum\\anaconda3\\lib\\site-packages\\sklearn\\ensemble\\bagging.py:623: DataConversionWarning: A column-vector y was passed when a 1d array was expected. Please change the shape of y to (n_samples, ), for example using ravel().\n",
      "  y = column_or_1d(y, warn=True)\n"
     ]
    },
    {
     "data": {
      "text/plain": [
       "BaggingClassifier(base_estimator=None, bootstrap=True, bootstrap_features=False,\n",
       "                  max_features=1.0, max_samples=1.0, n_estimators=30,\n",
       "                  n_jobs=None, oob_score=False, random_state=None, verbose=0,\n",
       "                  warm_start=False)"
      ]
     },
     "execution_count": 13,
     "metadata": {},
     "output_type": "execute_result"
    }
   ],
   "source": [
    "tree1 = DecisionTreeClassifier(max_depth=12)\n",
    "tree1.fit(X_train1_p, y_train1_p)\n",
    "\n",
    "forest1 = RandomForestClassifier(n_estimators=35)\n",
    "forest1.fit(X_train1_p, y_train1_p)\n",
    "\n",
    "knn1 = KNeighborsClassifier(n_neighbors = 40)\n",
    "knn1.fit(X_train1_p, y_train1_p)\n",
    "\n",
    "xtree1 = ExtraTreesClassifier(n_estimators=35)\n",
    "xtree1.fit(X_train1_p, y_train1_p)\n",
    "\n",
    "BC1 = BaggingClassifier(n_estimators=30, bootstrap=True)\n",
    "BC1.fit(X_train1_p,y_train1_p)\n"
   ]
  },
  {
   "cell_type": "code",
   "execution_count": 15,
   "metadata": {},
   "outputs": [
    {
     "data": {
      "text/plain": [
       "(0.7854987591279973,\n",
       " 0.8018889821278723,\n",
       " 0.7390508668249746,\n",
       " 0.7998535949579532,\n",
       " 0.801406916745523)"
      ]
     },
     "execution_count": 15,
     "metadata": {},
     "output_type": "execute_result"
    }
   ],
   "source": [
    "r1_score_tree_p = tree1.score(X_test1_p, y_test1_p)\n",
    "r1_score_forest_p = forest1.score(X_test1_p, y_test1_p)\n",
    "r1_score_knn_p = knn1.score(X_test1_p, y_test1_p)\n",
    "r1_score_xtree_p = xtree1.score(X_test1_p, y_test1_p)\n",
    "r1_score_bc_p = BC1.score(X_test1_p, y_test1_p)\n",
    "\n",
    "r1_score_tree_p, r1_score_forest_p ,r1_score_knn_p ,r1_score_xtree_p,r1_score_bc_p"
   ]
  },
  {
   "cell_type": "markdown",
   "metadata": {},
   "source": [
    "## PCA (n_components=4)"
   ]
  },
  {
   "cell_type": "code",
   "execution_count": 25,
   "metadata": {},
   "outputs": [
    {
     "name": "stderr",
     "output_type": "stream",
     "text": [
      "C:\\Users\\hml76\\AppData\\Local\\Continuum\\anaconda3\\lib\\site-packages\\ipykernel_launcher.py:10: DataConversionWarning: A column-vector y was passed when a 1d array was expected. Please change the shape of y to (n_samples,), for example using ravel().\n",
      "  # Remove the CWD from sys.path while we load stuff.\n",
      "C:\\Users\\hml76\\AppData\\Local\\Continuum\\anaconda3\\lib\\site-packages\\ipykernel_launcher.py:13: DataConversionWarning: A column-vector y was passed when a 1d array was expected. Please change the shape of y to (n_samples, ), for example using ravel().\n",
      "  del sys.path[0]\n",
      "C:\\Users\\hml76\\AppData\\Local\\Continuum\\anaconda3\\lib\\site-packages\\ipykernel_launcher.py:16: DataConversionWarning: A column-vector y was passed when a 1d array was expected. Please change the shape of y to (n_samples,), for example using ravel().\n",
      "  app.launch_new_instance()\n",
      "C:\\Users\\hml76\\AppData\\Local\\Continuum\\anaconda3\\lib\\site-packages\\sklearn\\ensemble\\bagging.py:623: DataConversionWarning: A column-vector y was passed when a 1d array was expected. Please change the shape of y to (n_samples, ), for example using ravel().\n",
      "  y = column_or_1d(y, warn=True)\n"
     ]
    },
    {
     "data": {
      "text/plain": [
       "(0.7867753396775519,\n",
       " 0.8174043457301505,\n",
       " 0.7415951007873735,\n",
       " 0.8186898534164152,\n",
       " 0.8154671570640433)"
      ]
     },
     "execution_count": 25,
     "metadata": {},
     "output_type": "execute_result"
    }
   ],
   "source": [
    "model = PCA(n_components=4)\n",
    "pca_features = model.fit_transform(Total_datas_8)\n",
    "\n",
    "X_train1_p, X_test1_p, y_train1_p, y_test1_p = train_test_split(pca_features, Total_labels_8, test_size=0.3, random_state=42)\n",
    "\n",
    "tree1 = DecisionTreeClassifier(max_depth=12)\n",
    "tree1.fit(X_train1_p, y_train1_p)\n",
    "\n",
    "forest1 = RandomForestClassifier(n_estimators=35)\n",
    "forest1.fit(X_train1_p, y_train1_p)\n",
    "\n",
    "knn1 = KNeighborsClassifier(n_neighbors = 40)\n",
    "knn1.fit(X_train1_p, y_train1_p)\n",
    "\n",
    "xtree1 = ExtraTreesClassifier(n_estimators=35)\n",
    "xtree1.fit(X_train1_p, y_train1_p)\n",
    "\n",
    "BC1 = BaggingClassifier(n_estimators=30, bootstrap=True)\n",
    "BC1.fit(X_train1_p,y_train1_p)\n",
    "\n",
    "r1_score_tree_p = tree1.score(X_test1_p, y_test1_p)\n",
    "r1_score_forest_p = forest1.score(X_test1_p, y_test1_p)\n",
    "r1_score_knn_p = knn1.score(X_test1_p, y_test1_p)\n",
    "r1_score_xtree_p = xtree1.score(X_test1_p, y_test1_p)\n",
    "r1_score_bc_p = BC1.score(X_test1_p, y_test1_p)\n",
    "\n",
    "\n",
    "r1_score_tree_p, r1_score_forest_p ,r1_score_knn_p ,r1_score_xtree_p,r1_score_bc_p"
   ]
  },
  {
   "cell_type": "markdown",
   "metadata": {},
   "source": [
    "## PCA(n_components=5)"
   ]
  },
  {
   "cell_type": "code",
   "execution_count": 26,
   "metadata": {},
   "outputs": [
    {
     "name": "stderr",
     "output_type": "stream",
     "text": [
      "C:\\Users\\hml76\\AppData\\Local\\Continuum\\anaconda3\\lib\\site-packages\\ipykernel_launcher.py:10: DataConversionWarning: A column-vector y was passed when a 1d array was expected. Please change the shape of y to (n_samples,), for example using ravel().\n",
      "  # Remove the CWD from sys.path while we load stuff.\n",
      "C:\\Users\\hml76\\AppData\\Local\\Continuum\\anaconda3\\lib\\site-packages\\ipykernel_launcher.py:13: DataConversionWarning: A column-vector y was passed when a 1d array was expected. Please change the shape of y to (n_samples, ), for example using ravel().\n",
      "  del sys.path[0]\n",
      "C:\\Users\\hml76\\AppData\\Local\\Continuum\\anaconda3\\lib\\site-packages\\ipykernel_launcher.py:16: DataConversionWarning: A column-vector y was passed when a 1d array was expected. Please change the shape of y to (n_samples,), for example using ravel().\n",
      "  app.launch_new_instance()\n",
      "C:\\Users\\hml76\\AppData\\Local\\Continuum\\anaconda3\\lib\\site-packages\\sklearn\\ensemble\\bagging.py:623: DataConversionWarning: A column-vector y was passed when a 1d array was expected. Please change the shape of y to (n_samples, ), for example using ravel().\n",
      "  y = column_or_1d(y, warn=True)\n"
     ]
    },
    {
     "data": {
      "text/plain": [
       "(0.8097894981163741,\n",
       " 0.8812333732078773,\n",
       " 0.7502544233962399,\n",
       " 0.8908925351282829,\n",
       " 0.8841079112285526)"
      ]
     },
     "execution_count": 26,
     "metadata": {},
     "output_type": "execute_result"
    }
   ],
   "source": [
    "model = PCA(n_components=5)\n",
    "pca_features = model.fit_transform(Total_datas_8)\n",
    "\n",
    "X_train1_p, X_test1_p, y_train1_p, y_test1_p = train_test_split(pca_features, Total_labels_8, test_size=0.3, random_state=42)\n",
    "\n",
    "tree1 = DecisionTreeClassifier(max_depth=12)\n",
    "tree1.fit(X_train1_p, y_train1_p)\n",
    "\n",
    "forest1 = RandomForestClassifier(n_estimators=35)\n",
    "forest1.fit(X_train1_p, y_train1_p)\n",
    "\n",
    "knn1 = KNeighborsClassifier(n_neighbors = 40)\n",
    "knn1.fit(X_train1_p, y_train1_p)\n",
    "\n",
    "xtree1 = ExtraTreesClassifier(n_estimators=35)\n",
    "xtree1.fit(X_train1_p, y_train1_p)\n",
    "\n",
    "BC1 = BaggingClassifier(n_estimators=30, bootstrap=True)\n",
    "BC1.fit(X_train1_p,y_train1_p)\n",
    "\n",
    "r1_score_tree_p = tree1.score(X_test1_p, y_test1_p)\n",
    "r1_score_forest_p = forest1.score(X_test1_p, y_test1_p)\n",
    "r1_score_knn_p = knn1.score(X_test1_p, y_test1_p)\n",
    "r1_score_xtree_p = xtree1.score(X_test1_p, y_test1_p)\n",
    "r1_score_bc_p = BC1.score(X_test1_p, y_test1_p)\n",
    "\n",
    "\n",
    "r1_score_tree_p, r1_score_forest_p ,r1_score_knn_p ,r1_score_xtree_p,r1_score_bc_p"
   ]
  },
  {
   "cell_type": "markdown",
   "metadata": {},
   "source": [
    "## PCA(n_components = 6)"
   ]
  },
  {
   "cell_type": "code",
   "execution_count": 27,
   "metadata": {},
   "outputs": [
    {
     "name": "stderr",
     "output_type": "stream",
     "text": [
      "C:\\Users\\hml76\\AppData\\Local\\Continuum\\anaconda3\\lib\\site-packages\\ipykernel_launcher.py:10: DataConversionWarning: A column-vector y was passed when a 1d array was expected. Please change the shape of y to (n_samples,), for example using ravel().\n",
      "  # Remove the CWD from sys.path while we load stuff.\n",
      "C:\\Users\\hml76\\AppData\\Local\\Continuum\\anaconda3\\lib\\site-packages\\ipykernel_launcher.py:13: DataConversionWarning: A column-vector y was passed when a 1d array was expected. Please change the shape of y to (n_samples, ), for example using ravel().\n",
      "  del sys.path[0]\n",
      "C:\\Users\\hml76\\AppData\\Local\\Continuum\\anaconda3\\lib\\site-packages\\ipykernel_launcher.py:16: DataConversionWarning: A column-vector y was passed when a 1d array was expected. Please change the shape of y to (n_samples,), for example using ravel().\n",
      "  app.launch_new_instance()\n",
      "C:\\Users\\hml76\\AppData\\Local\\Continuum\\anaconda3\\lib\\site-packages\\sklearn\\ensemble\\bagging.py:623: DataConversionWarning: A column-vector y was passed when a 1d array was expected. Please change the shape of y to (n_samples, ), for example using ravel().\n",
      "  y = column_or_1d(y, warn=True)\n"
     ]
    },
    {
     "data": {
      "text/plain": [
       "(0.8124944205395561,\n",
       " 0.9015426092235177,\n",
       " 0.7510132300166045,\n",
       " 0.9118891606706065,\n",
       " 0.9036137049402775)"
      ]
     },
     "execution_count": 27,
     "metadata": {},
     "output_type": "execute_result"
    }
   ],
   "source": [
    "model = PCA(n_components=6)\n",
    "pca_features = model.fit_transform(Total_datas_8)\n",
    "\n",
    "X_train1_p, X_test1_p, y_train1_p, y_test1_p = train_test_split(pca_features, Total_labels_8, test_size=0.3, random_state=42)\n",
    "\n",
    "tree1 = DecisionTreeClassifier(max_depth=12)\n",
    "tree1.fit(X_train1_p, y_train1_p)\n",
    "\n",
    "forest1 = RandomForestClassifier(n_estimators=35)\n",
    "forest1.fit(X_train1_p, y_train1_p)\n",
    "\n",
    "knn1 = KNeighborsClassifier(n_neighbors = 40)\n",
    "knn1.fit(X_train1_p, y_train1_p)\n",
    "\n",
    "xtree1 = ExtraTreesClassifier(n_estimators=35)\n",
    "xtree1.fit(X_train1_p, y_train1_p)\n",
    "\n",
    "BC1 = BaggingClassifier(n_estimators=30, bootstrap=True)\n",
    "BC1.fit(X_train1_p,y_train1_p)\n",
    "\n",
    "r1_score_tree_p = tree1.score(X_test1_p, y_test1_p)\n",
    "r1_score_forest_p = forest1.score(X_test1_p, y_test1_p)\n",
    "r1_score_knn_p = knn1.score(X_test1_p, y_test1_p)\n",
    "r1_score_xtree_p = xtree1.score(X_test1_p, y_test1_p)\n",
    "r1_score_bc_p = BC1.score(X_test1_p, y_test1_p)\n",
    "\n",
    "\n",
    "r1_score_tree_p, r1_score_forest_p ,r1_score_knn_p ,r1_score_xtree_p,r1_score_bc_p"
   ]
  },
  {
   "cell_type": "code",
   "execution_count": null,
   "metadata": {},
   "outputs": [],
   "source": []
  }
 ],
 "metadata": {
  "kernelspec": {
   "display_name": "Python 3",
   "language": "python",
   "name": "python3"
  },
  "language_info": {
   "codemirror_mode": {
    "name": "ipython",
    "version": 3
   },
   "file_extension": ".py",
   "mimetype": "text/x-python",
   "name": "python",
   "nbconvert_exporter": "python",
   "pygments_lexer": "ipython3",
   "version": "3.7.3"
  }
 },
 "nbformat": 4,
 "nbformat_minor": 4
}
