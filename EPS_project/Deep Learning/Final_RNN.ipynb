{
 "cells": [
  {
   "cell_type": "code",
   "execution_count": 1,
   "metadata": {},
   "outputs": [],
   "source": [
    "import glob\n",
    "import numpy as np\n",
    "import matplotlib.pyplot as plt\n",
    "import pandas as pd\n",
    "from pandas import DataFrame as df\n",
    "import seaborn as sns\n",
    "\n",
    "from keras.models import load_model\n",
    "from keras.layers import LSTM, Dense\n",
    "from keras.models import Sequential\n",
    "import keras.backend as K\n",
    "from keras.callbacks import ReduceLROnPlateau, ModelCheckpoint, EarlyStopping\n",
    "from keras.optimizers import Adam\n",
    "from keras.wrappers.scikit_learn import KerasClassifier\n",
    "from sklearn.model_selection import KFold, cross_val_score\n",
    "from keras.models import Sequential\n",
    "from keras.layers import SimpleRNN\n",
    "\n",
    "from sklearn.model_selection import train_test_split"
   ]
  },
  {
   "cell_type": "code",
   "execution_count": 2,
   "metadata": {},
   "outputs": [
    {
     "data": {
      "text/plain": [
       "(100, 100, 100, 100, 100, 100)"
      ]
     },
     "execution_count": 2,
     "metadata": {},
     "output_type": "execute_result"
    }
   ],
   "source": [
    "data_1 = glob.glob('C:/Users/hml76/OneDrive/바탕 화면/data/LR_100/*.csv')\n",
    "data_2 = glob.glob('C:/Users/hml76/OneDrive/바탕 화면/data/RL_100/*.csv')\n",
    "data_3 = glob.glob('C:/Users/hml76/OneDrive/바탕 화면/data/CW_100/*.csv')\n",
    "data_4 = glob.glob('C:/Users/hml76/OneDrive/바탕 화면/data/CCW_100/*.csv')\n",
    "data_5 = glob.glob('C:/Users/hml76/OneDrive/바탕 화면/data/DOWN_100/*.csv')\n",
    "data_6 = glob.glob('C:/Users/hml76/OneDrive/바탕 화면/data/UP_100/*.csv')\n",
    "\n",
    "len(data_1), len(data_2), len(data_3), len(data_4), len(data_5), len(data_6)"
   ]
  },
  {
   "cell_type": "code",
   "execution_count": 3,
   "metadata": {
    "scrolled": true
   },
   "outputs": [
    {
     "data": {
      "text/plain": [
       "array([[[0., 0., 0., 0., 0., 0.],\n",
       "        [0., 0., 0., 0., 0., 0.],\n",
       "        [0., 0., 0., 0., 0., 0.],\n",
       "        ...,\n",
       "        [0., 0., 0., 0., 0., 0.],\n",
       "        [0., 0., 0., 0., 0., 0.],\n",
       "        [0., 0., 0., 0., 0., 0.]],\n",
       "\n",
       "       [[0., 0., 0., 0., 0., 0.],\n",
       "        [0., 0., 0., 0., 0., 0.],\n",
       "        [0., 0., 0., 0., 0., 0.],\n",
       "        ...,\n",
       "        [0., 0., 0., 0., 0., 0.],\n",
       "        [0., 0., 0., 0., 0., 0.],\n",
       "        [0., 0., 0., 0., 0., 0.]],\n",
       "\n",
       "       [[0., 0., 0., 0., 0., 0.],\n",
       "        [0., 0., 0., 0., 0., 0.],\n",
       "        [0., 0., 0., 0., 0., 0.],\n",
       "        ...,\n",
       "        [0., 0., 0., 0., 0., 0.],\n",
       "        [0., 0., 0., 0., 0., 0.],\n",
       "        [0., 0., 0., 0., 0., 0.]],\n",
       "\n",
       "       ...,\n",
       "\n",
       "       [[0., 0., 0., 0., 0., 0.],\n",
       "        [0., 0., 0., 0., 0., 0.],\n",
       "        [0., 0., 0., 0., 0., 0.],\n",
       "        ...,\n",
       "        [0., 0., 0., 0., 0., 0.],\n",
       "        [0., 0., 0., 0., 0., 0.],\n",
       "        [0., 0., 0., 0., 0., 0.]],\n",
       "\n",
       "       [[0., 0., 0., 0., 0., 0.],\n",
       "        [0., 0., 0., 0., 0., 0.],\n",
       "        [0., 0., 0., 0., 0., 0.],\n",
       "        ...,\n",
       "        [0., 0., 0., 0., 0., 0.],\n",
       "        [0., 0., 0., 0., 0., 0.],\n",
       "        [0., 0., 0., 0., 0., 0.]],\n",
       "\n",
       "       [[0., 0., 0., 0., 0., 0.],\n",
       "        [0., 0., 0., 0., 0., 0.],\n",
       "        [0., 0., 0., 0., 0., 0.],\n",
       "        ...,\n",
       "        [0., 0., 0., 0., 0., 0.],\n",
       "        [0., 0., 0., 0., 0., 0.],\n",
       "        [0., 0., 0., 0., 0., 0.]]])"
      ]
     },
     "execution_count": 3,
     "metadata": {},
     "output_type": "execute_result"
    }
   ],
   "source": [
    "total_data = data_1 + data_2 + data_3 + data_4 + data_5 + data_6\n",
    "\n",
    "dataset = np.zeros((len(total_data), 100, 6))\n",
    "\n",
    "dataset"
   ]
  },
  {
   "cell_type": "code",
   "execution_count": 4,
   "metadata": {},
   "outputs": [],
   "source": [
    "for i, data in enumerate(total_data):\n",
    "    dataset[i] = pd.read_csv(data, names=['n','na','a','b','c','d','a-b','c-d']).sample(n=100).sort_index().iloc[:,:6]"
   ]
  },
  {
   "cell_type": "code",
   "execution_count": 5,
   "metadata": {},
   "outputs": [
    {
     "data": {
      "text/plain": [
       "((600, 100, 6), (600, 6))"
      ]
     },
     "execution_count": 5,
     "metadata": {},
     "output_type": "execute_result"
    }
   ],
   "source": [
    "label = np.array([[1, 0, 0 ,0, 0 ,0]] * len(data_1) + [[0, 1, 0, 0, 0 ,0]] * len(data_2) + [[0, 0, 1, 0, 0 ,0]] * len(data_3) + [[0, 0, 0, 1, 0 ,0]] * len(data_4) + [[0, 0, 0, 0, 1 ,0]] * len(data_5)+ [[0, 0, 0, 0, 0 ,1]] * len(data_6))\n",
    "dataset.shape, label.shape\n"
   ]
  },
  {
   "cell_type": "code",
   "execution_count": 6,
   "metadata": {},
   "outputs": [
    {
     "data": {
      "text/plain": [
       "(180, 100, 6)"
      ]
     },
     "execution_count": 6,
     "metadata": {},
     "output_type": "execute_result"
    }
   ],
   "source": [
    "X_train, X_test, y_train, y_test = train_test_split(dataset, label, random_state=0, test_size=0.3)\n",
    "\n",
    "X_test.shape"
   ]
  },
  {
   "cell_type": "code",
   "execution_count": 7,
   "metadata": {},
   "outputs": [],
   "source": [
    "callback = [\n",
    "    ReduceLROnPlateau(monitor='val_loss', factor=0.1, patience=3, min_lr=0.000001), \n",
    "    #ModelCheckpoint(filepath='./weights.h5', save_best_only=True),\n",
    "    EarlyStopping(monitor='val_acc', restore_best_weights=True, patience=5)\n",
    "]"
   ]
  },
  {
   "cell_type": "code",
   "execution_count": 8,
   "metadata": {},
   "outputs": [],
   "source": [
    "K.clear_session()"
   ]
  },
  {
   "cell_type": "code",
   "execution_count": 9,
   "metadata": {},
   "outputs": [
    {
     "name": "stdout",
     "output_type": "stream",
     "text": [
      "Model: \"sequential\"\n",
      "_________________________________________________________________\n",
      "Layer (type)                 Output Shape              Param #   \n",
      "=================================================================\n",
      "simple_rnn (SimpleRNN)       (None, 20)                540       \n",
      "_________________________________________________________________\n",
      "dense (Dense)                (None, 64)                1344      \n",
      "_________________________________________________________________\n",
      "dense_1 (Dense)              (None, 6)                 390       \n",
      "=================================================================\n",
      "Total params: 2,274\n",
      "Trainable params: 2,274\n",
      "Non-trainable params: 0\n",
      "_________________________________________________________________\n"
     ]
    }
   ],
   "source": [
    "model_once = Sequential()\n",
    "\n",
    "model_once.add(SimpleRNN(20, input_shape=(100,6)))\n",
    "model_once.add(Dense(64,activation='relu')) #relu, tanh\n",
    "model_once.add(Dense(6, activation='softmax'))\n",
    "model_once.compile(loss='categorical_crossentropy', optimizer=Adam(lr=0.005), metrics=['acc'])\n",
    "\n",
    "model_once.summary()"
   ]
  },
  {
   "cell_type": "code",
   "execution_count": 10,
   "metadata": {
    "scrolled": true
   },
   "outputs": [
    {
     "name": "stdout",
     "output_type": "stream",
     "text": [
      "Epoch 1/30\n",
      "14/14 [==============================] - 0s 15ms/step - loss: 1.7163 - acc: 0.2738\n",
      "Epoch 2/30\n",
      "14/14 [==============================] - 0s 12ms/step - loss: 1.4468 - acc: 0.3690\n",
      "Epoch 3/30\n",
      "14/14 [==============================] - 0s 13ms/step - loss: 1.2255 - acc: 0.5333\n",
      "Epoch 4/30\n",
      "14/14 [==============================] - 0s 12ms/step - loss: 1.2196 - acc: 0.5214\n",
      "Epoch 5/30\n",
      "14/14 [==============================] - 0s 13ms/step - loss: 1.1392 - acc: 0.5833\n",
      "Epoch 6/30\n",
      "14/14 [==============================] - 0s 13ms/step - loss: 1.1086 - acc: 0.5714\n",
      "Epoch 7/30\n",
      "14/14 [==============================] - 0s 12ms/step - loss: 0.9238 - acc: 0.6571\n",
      "Epoch 8/30\n",
      "14/14 [==============================] - 0s 12ms/step - loss: 0.8026 - acc: 0.7405\n",
      "Epoch 9/30\n",
      "14/14 [==============================] - 0s 12ms/step - loss: 0.7559 - acc: 0.7381\n",
      "Epoch 10/30\n",
      "14/14 [==============================] - 0s 12ms/step - loss: 0.6964 - acc: 0.7429\n",
      "Epoch 11/30\n",
      "14/14 [==============================] - 0s 12ms/step - loss: 0.8337 - acc: 0.6762\n",
      "Epoch 12/30\n",
      "14/14 [==============================] - 0s 12ms/step - loss: 0.6934 - acc: 0.7571\n",
      "Epoch 13/30\n",
      "14/14 [==============================] - 0s 14ms/step - loss: 0.6158 - acc: 0.7833\n",
      "Epoch 14/30\n",
      "14/14 [==============================] - 0s 16ms/step - loss: 0.7909 - acc: 0.6976\n",
      "Epoch 15/30\n",
      "14/14 [==============================] - 0s 16ms/step - loss: 0.7022 - acc: 0.7476\n",
      "Epoch 16/30\n",
      "14/14 [==============================] - 0s 13ms/step - loss: 0.6407 - acc: 0.7905\n",
      "Epoch 17/30\n",
      "14/14 [==============================] - 0s 13ms/step - loss: 0.5381 - acc: 0.8119\n",
      "Epoch 18/30\n",
      "14/14 [==============================] - 0s 13ms/step - loss: 0.4936 - acc: 0.8333\n",
      "Epoch 19/30\n",
      "14/14 [==============================] - 0s 13ms/step - loss: 0.4530 - acc: 0.8333\n",
      "Epoch 20/30\n",
      "14/14 [==============================] - 0s 14ms/step - loss: 0.4531 - acc: 0.8333\n",
      "Epoch 21/30\n",
      "14/14 [==============================] - 0s 14ms/step - loss: 0.4565 - acc: 0.8333\n",
      "Epoch 22/30\n",
      "14/14 [==============================] - 0s 13ms/step - loss: 0.4081 - acc: 0.8500\n",
      "Epoch 23/30\n",
      "14/14 [==============================] - 0s 14ms/step - loss: 0.3901 - acc: 0.8524\n",
      "Epoch 24/30\n",
      "14/14 [==============================] - 0s 17ms/step - loss: 0.3864 - acc: 0.8667\n",
      "Epoch 25/30\n",
      "14/14 [==============================] - 0s 17ms/step - loss: 0.3607 - acc: 0.8714\n",
      "Epoch 26/30\n",
      "14/14 [==============================] - 0s 14ms/step - loss: 0.3435 - acc: 0.8714\n",
      "Epoch 27/30\n",
      "14/14 [==============================] - 0s 13ms/step - loss: 0.3426 - acc: 0.8833\n",
      "Epoch 28/30\n",
      "14/14 [==============================] - 0s 14ms/step - loss: 0.2698 - acc: 0.9024\n",
      "Epoch 29/30\n",
      "14/14 [==============================] - 0s 13ms/step - loss: 0.2483 - acc: 0.9214\n",
      "Epoch 30/30\n",
      "14/14 [==============================] - 0s 14ms/step - loss: 0.2564 - acc: 0.9238\n"
     ]
    }
   ],
   "source": [
    "#result = model_once.fit(X_train, y_train, validation_split=0.33, epochs=30, batch_size=10, verbose=0)\n",
    "result = model_once.fit(X_train, y_train, epochs=30)"
   ]
  },
  {
   "cell_type": "code",
   "execution_count": 11,
   "metadata": {},
   "outputs": [
    {
     "name": "stdout",
     "output_type": "stream",
     "text": [
      "6/6 [==============================] - 0s 4ms/step - loss: 0.2507 - acc: 0.9222\n"
     ]
    },
    {
     "data": {
      "text/plain": [
       "[0.25071030855178833, 0.9222221970558167]"
      ]
     },
     "execution_count": 11,
     "metadata": {},
     "output_type": "execute_result"
    }
   ],
   "source": [
    "model_once.save('RNN model.h5')\n",
    "model_once.evaluate(X_test, y_test)"
   ]
  },
  {
   "cell_type": "code",
   "execution_count": 12,
   "metadata": {},
   "outputs": [
    {
     "name": "stdout",
     "output_type": "stream",
     "text": [
      "WARNING:tensorflow:From <ipython-input-12-02a9e5cd049e>:5: Sequential.predict_classes (from tensorflow.python.keras.engine.sequential) is deprecated and will be removed after 2021-01-01.\n",
      "Instructions for updating:\n",
      "Please use instead:* `np.argmax(model.predict(x), axis=-1)`,   if your model does multi-class classification   (e.g. if it uses a `softmax` last-layer activation).* `(model.predict(x) > 0.5).astype(\"int32\")`,   if your model does binary classification   (e.g. if it uses a `sigmoid` last-layer activation).\n"
     ]
    }
   ],
   "source": [
    "y_test_to_int = np.arange(len(y_test))\n",
    "x_test_to_int = np.arange(len(X_test)) \n",
    "\n",
    "for j in range(len(X_test)):\n",
    "    x_test_to_int[j] = int(model_once.predict_classes(X_test[j:j+1]))\n",
    "    for k in range(6):\n",
    "        if(y_test[j,k] == 1):\n",
    "            y_test_to_int[j] = k "
   ]
  },
  {
   "cell_type": "code",
   "execution_count": 13,
   "metadata": {},
   "outputs": [
    {
     "name": "stdout",
     "output_type": "stream",
     "text": [
      "Real value : Prediction\n",
      "---------------------------\n",
      "    4 \t   : \t 3\n",
      "    5 \t   : \t 2\n",
      "    1 \t   : \t 0\n",
      "    3 \t   : \t 0\n",
      "    2 \t   : \t 5\n",
      "    0 \t   : \t 1\n",
      "    3 \t   : \t 0\n",
      "    2 \t   : \t 1\n",
      "    3 \t   : \t 0\n",
      "    3 \t   : \t 4\n",
      "    2 \t   : \t 0\n",
      "    0 \t   : \t 1\n",
      "    1 \t   : \t 2\n",
      "    3 \t   : \t 4\n",
      "\n",
      "\n",
      "Number of miscalculation :  14 / 180 = 0.078\n",
      "\n",
      "Accuracy :  92.22 %\n",
      "0 : LR, 1 : RL, 2 : CW, 3 : CCW, 4 : DOWN, 5 : UP\n"
     ]
    }
   ],
   "source": [
    "count=0\n",
    "print(\"Real value : Prediction\\n---------------------------\")\n",
    "for i in range(len(X_test)):\n",
    "    if(y_test_to_int[i] != x_test_to_int[i]):\n",
    "        print(\"   \",y_test_to_int[i], \"\\t   : \\t\", x_test_to_int[i])\n",
    "        count = count + 1\n",
    "probab = count/len(X_test)\n",
    "print(\"\\n\\nNumber of miscalculation : \",count,\"/\",len(x_test_to_int),\"=\",round(probab,3))\n",
    "print(\"\\nAccuracy : \",((1-round(probab,4))*100),\"%\")\n",
    "print(\"0 : LR, 1 : RL, 2 : CW, 3 : CCW, 4 : DOWN, 5 : UP\")"
   ]
  },
  {
   "cell_type": "code",
   "execution_count": 116,
   "metadata": {},
   "outputs": [
    {
     "name": "stdout",
     "output_type": "stream",
     "text": [
      "dict_keys(['loss', 'acc'])\n"
     ]
    }
   ],
   "source": [
    "print(result.history.keys())"
   ]
  },
  {
   "cell_type": "code",
   "execution_count": 140,
   "metadata": {},
   "outputs": [
    {
     "data": {
      "image/png": "[encoded data removed]",
      "text/plain": [
       "<Figure size 432x288 with 1 Axes>"
      ]
     },
     "metadata": {
      "needs_background": "light"
     },
     "output_type": "display_data"
    }
   ],
   "source": [
    "val_loss = result.history['loss']\n",
    "val_acc = result.history['acc']\n",
    "\n",
    "plt.plot(val_acc, label='acc', color='darkred')\n",
    "plt.xlabel('epochs')\n",
    "plt.ylabel('accuracy')\n",
    "#ax_acc.grid(linestyle='--', color='lavender')\n",
    "\n",
    "plt.show()"
   ]
  },
  {
   "cell_type": "code",
   "execution_count": 142,
   "metadata": {},
   "outputs": [
    {
     "data": {
      "image/png": "[encoded data removed]",
      "text/plain": [
       "<Figure size 432x288 with 1 Axes>"
      ]
     },
     "metadata": {
      "needs_background": "light"
     },
     "output_type": "display_data"
    }
   ],
   "source": [
    "plt.plot(val_loss, label='loss', color='blue')\n",
    "plt.xlabel('epochs')\n",
    "plt.ylabel('loss')\n",
    "\n",
    "plt.show()"
   ]
  },
  {
   "cell_type": "code",
   "execution_count": null,
   "metadata": {},
   "outputs": [],
   "source": []
  },
  {
   "cell_type": "code",
   "execution_count": null,
   "metadata": {},
   "outputs": [],
   "source": []
  }
 ],
 "metadata": {
  "kernelspec": {
   "display_name": "Python 3",
   "language": "python",
   "name": "python3"
  },
  "language_info": {
   "codemirror_mode": {
    "name": "ipython",
    "version": 3
   },
   "file_extension": ".py",
   "mimetype": "text/x-python",
   "name": "python",
   "nbconvert_exporter": "python",
   "pygments_lexer": "ipython3",
   "version": "3.8.3"
  }
 },
 "nbformat": 4,
 "nbformat_minor": 4
}
