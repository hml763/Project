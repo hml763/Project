{
 "cells": [
  {
   "cell_type": "code",
   "execution_count": 18,
   "metadata": {},
   "outputs": [],
   "source": [
    "import time\n",
    "import numpy as np\n",
    "import pandas as pd\n",
    "import matplotlib.pyplot as plt\n",
    "\n",
    "from sklearn import tree\n",
    "from sklearn import metrics\n",
    "from sklearn import datasets\n",
    "from pandas import DataFrame as df\n",
    "from sklearn.metrics import accuracy_score\n",
    "from sklearn.tree import DecisionTreeClassifier\n",
    "from sklearn.model_selection import cross_val_score    \n",
    "from sklearn.ensemble import ExtraTreesClassifier\n",
    "from sklearn.neighbors import KNeighborsClassifier\n",
    "from sklearn.model_selection import train_test_split\n",
    "from sklearn.ensemble import RandomForestClassifier\n",
    "from sklearn.metrics import r2_score, mean_squared_error\n",
    "from sklearn.ensemble import BaggingClassifier"
   ]
  },
  {
   "cell_type": "code",
   "execution_count": 2,
   "metadata": {},
   "outputs": [],
   "source": [
    "Total_datas_8 = pd.read_csv('C:/Users/hml76/OneDrive/바탕 화면/data/testset/Total_datas.csv')\n",
    "Total_labels_8 = pd.read_csv('C:/Users/hml76/OneDrive/바탕 화면/data/testset/Total_labels.csv')"
   ]
  },
  {
   "cell_type": "code",
   "execution_count": 8,
   "metadata": {},
   "outputs": [
    {
     "data": {
      "text/plain": [
       "array([[ 0.00388736, -0.01047625],\n",
       "       [ 0.00403877, -0.01075384],\n",
       "       [ 0.0043159 , -0.01094385],\n",
       "       ...,\n",
       "       [ 0.0956955 ,  0.05414352],\n",
       "       [ 0.09528731,  0.0549391 ],\n",
       "       [ 0.09520645,  0.0554672 ]])"
      ]
     },
     "execution_count": 8,
     "metadata": {},
     "output_type": "execute_result"
    }
   ],
   "source": [
    "from sklearn.decomposition import PCA\n",
    "import matplotlib.pyplot as plt\n",
    "\n",
    "model = PCA(n_components=2)\n",
    "pca_features = model.fit_transform(Total_datas_8)\n",
    "\n",
    "pca_features\n"
   ]
  },
  {
   "cell_type": "code",
   "execution_count": 9,
   "metadata": {},
   "outputs": [],
   "source": [
    "X_train1, X_test1, y_train1, y_test1 = train_test_split(Total_datas_8, Total_labels_8, test_size=0.3, random_state=42)"
   ]
  },
  {
   "cell_type": "code",
   "execution_count": 11,
   "metadata": {},
   "outputs": [
    {
     "data": {
      "text/plain": [
       "((373399, 2), (373399, 2))"
      ]
     },
     "execution_count": 11,
     "metadata": {},
     "output_type": "execute_result"
    }
   ],
   "source": [
    "pca_features.shape, Total_datas_8.shape"
   ]
  },
  {
   "cell_type": "markdown",
   "metadata": {},
   "source": [
    "# Original Data classification(without PCA)"
   ]
  },
  {
   "cell_type": "code",
   "execution_count": 59,
   "metadata": {},
   "outputs": [
    {
     "name": "stderr",
     "output_type": "stream",
     "text": [
      "<ipython-input-59-fc19aa81adbf>:7: DataConversionWarning: A column-vector y was passed when a 1d array was expected. Please change the shape of y to (n_samples,), for example using ravel().\n",
      "  forest1.fit(X_train1, y_train1)\n",
      "<ipython-input-59-fc19aa81adbf>:10: DataConversionWarning: A column-vector y was passed when a 1d array was expected. Please change the shape of y to (n_samples, ), for example using ravel().\n",
      "  knn1.fit(X_train1, y_train1)\n",
      "<ipython-input-59-fc19aa81adbf>:13: DataConversionWarning: A column-vector y was passed when a 1d array was expected. Please change the shape of y to (n_samples,), for example using ravel().\n",
      "  xtree1.fit(X_train1, y_train1)\n",
      "C:\\ProgramData\\Anaconda3\\lib\\site-packages\\sklearn\\utils\\validation.py:73: DataConversionWarning: A column-vector y was passed when a 1d array was expected. Please change the shape of y to (n_samples, ), for example using ravel().\n",
      "  return f(**kwargs)\n"
     ]
    },
    {
     "name": "stdout",
     "output_type": "stream",
     "text": [
      "training time :  86.92914080619812  seconds\n"
     ]
    }
   ],
   "source": [
    "now = time.time()\n",
    "\n",
    "tree1 = DecisionTreeClassifier(max_depth=12)\n",
    "tree1.fit(X_train1, y_train1)\n",
    "\n",
    "forest1 = RandomForestClassifier(n_estimators=35)\n",
    "forest1.fit(X_train1, y_train1)\n",
    "\n",
    "knn1 = KNeighborsClassifier(n_neighbors = 40)\n",
    "knn1.fit(X_train1, y_train1)\n",
    "\n",
    "xtree1 = ExtraTreesClassifier(n_estimators=35)\n",
    "xtree1.fit(X_train1, y_train1)\n",
    "\n",
    "BC1 = BaggingClassifier(n_estimators=30, bootstrap=True)\n",
    "BC1.fit(X_train1,y_train1)\n",
    "print(\"training time : \", time.time()-now, \" seconds\")\n"
   ]
  },
  {
   "cell_type": "code",
   "execution_count": 13,
   "metadata": {},
   "outputs": [
    {
     "data": {
      "text/plain": [
       "(0.7169880378503839,\n",
       " 0.6906713086948759,\n",
       " 0.7213444027852169,\n",
       " 0.6856364934833066,\n",
       " 0.6817889662560257)"
      ]
     },
     "execution_count": 13,
     "metadata": {},
     "output_type": "execute_result"
    }
   ],
   "source": [
    "r1_score_tree = tree1.score(X_test1, y_test1)\n",
    "r1_score_forest = forest1.score(X_test1, y_test1)\n",
    "r1_score_knn = knn1.score(X_test1, y_test1)\n",
    "r1_score_xtree = xtree1.score(X_test1, y_test1)\n",
    "r1_score_bc = BC1.score(X_test1, y_test1)\n",
    "\n",
    "r1_score_tree, r1_score_forest ,r1_score_knn ,r1_score_xtree,r1_score_bc"
   ]
  },
  {
   "cell_type": "markdown",
   "metadata": {},
   "source": [
    "# PCA (n_components=1)"
   ]
  },
  {
   "cell_type": "code",
   "execution_count": 21,
   "metadata": {},
   "outputs": [
    {
     "name": "stderr",
     "output_type": "stream",
     "text": [
      "<ipython-input-21-7c4a5ab3eb42>:11: DataConversionWarning: A column-vector y was passed when a 1d array was expected. Please change the shape of y to (n_samples,), for example using ravel().\n",
      "  forest1.fit(X_train1_p, y_train1_p)\n",
      "<ipython-input-21-7c4a5ab3eb42>:14: DataConversionWarning: A column-vector y was passed when a 1d array was expected. Please change the shape of y to (n_samples, ), for example using ravel().\n",
      "  knn1.fit(X_train1_p, y_train1_p)\n",
      "<ipython-input-21-7c4a5ab3eb42>:17: DataConversionWarning: A column-vector y was passed when a 1d array was expected. Please change the shape of y to (n_samples,), for example using ravel().\n",
      "  xtree1.fit(X_train1_p, y_train1_p)\n",
      "C:\\ProgramData\\Anaconda3\\lib\\site-packages\\sklearn\\utils\\validation.py:73: DataConversionWarning: A column-vector y was passed when a 1d array was expected. Please change the shape of y to (n_samples, ), for example using ravel().\n",
      "  return f(**kwargs)\n"
     ]
    },
    {
     "name": "stdout",
     "output_type": "stream",
     "text": [
      "training time :  100.15306639671326  seconds\n"
     ]
    },
    {
     "data": {
      "text/plain": [
       "(0.5306998750223174,\n",
       " 0.4115158007498661,\n",
       " 0.521514015354401,\n",
       " 0.41061417603999284,\n",
       " 0.41132833422603104)"
      ]
     },
     "execution_count": 21,
     "metadata": {},
     "output_type": "execute_result"
    }
   ],
   "source": [
    "now = time.time()\n",
    "model = PCA(n_components=1)\n",
    "pca_features = model.fit_transform(Total_datas_8)\n",
    "\n",
    "X_train1_p, X_test1_p, y_train1_p, y_test1_p = train_test_split(pca_features, Total_labels_8, test_size=0.3, random_state=42)\n",
    "\n",
    "tree1 = DecisionTreeClassifier(max_depth=12)\n",
    "tree1.fit(X_train1_p, y_train1_p)\n",
    "\n",
    "forest1 = RandomForestClassifier(n_estimators=35)\n",
    "forest1.fit(X_train1_p, y_train1_p)\n",
    "\n",
    "knn1 = KNeighborsClassifier(n_neighbors = 40)\n",
    "knn1.fit(X_train1_p, y_train1_p)\n",
    "\n",
    "xtree1 = ExtraTreesClassifier(n_estimators=35)\n",
    "xtree1.fit(X_train1_p, y_train1_p)\n",
    "\n",
    "BC1 = BaggingClassifier(n_estimators=30, bootstrap=True)\n",
    "BC1.fit(X_train1_p,y_train1_p)\n",
    "print(\"training time : \", time.time()-now, \" seconds\")\n",
    "\n",
    "r1_score_tree_p = tree1.score(X_test1_p, y_test1_p)\n",
    "r1_score_forest_p = forest1.score(X_test1_p, y_test1_p)\n",
    "r1_score_knn_p = knn1.score(X_test1_p, y_test1_p)\n",
    "r1_score_xtree_p = xtree1.score(X_test1_p, y_test1_p)\n",
    "r1_score_bc_p = BC1.score(X_test1_p, y_test1_p)\n",
    "\n",
    "\n",
    "r1_score_tree_p, r1_score_forest_p ,r1_score_knn_p ,r1_score_xtree_p,r1_score_bc_p"
   ]
  },
  {
   "cell_type": "markdown",
   "metadata": {},
   "source": [
    "# PCA (n_components=2)"
   ]
  },
  {
   "cell_type": "code",
   "execution_count": 25,
   "metadata": {
    "scrolled": true
   },
   "outputs": [
    {
     "name": "stderr",
     "output_type": "stream",
     "text": [
      "<ipython-input-25-2ee851835a74>:11: DataConversionWarning: A column-vector y was passed when a 1d array was expected. Please change the shape of y to (n_samples,), for example using ravel().\n",
      "  forest2.fit(X_train2_p, y_train2_p)\n",
      "<ipython-input-25-2ee851835a74>:14: DataConversionWarning: A column-vector y was passed when a 1d array was expected. Please change the shape of y to (n_samples, ), for example using ravel().\n",
      "  knn2.fit(X_train2_p, y_train2_p)\n",
      "<ipython-input-25-2ee851835a74>:17: DataConversionWarning: A column-vector y was passed when a 1d array was expected. Please change the shape of y to (n_samples,), for example using ravel().\n",
      "  xtree2.fit(X_train2_p, y_train2_p)\n",
      "C:\\ProgramData\\Anaconda3\\lib\\site-packages\\sklearn\\utils\\validation.py:73: DataConversionWarning: A column-vector y was passed when a 1d array was expected. Please change the shape of y to (n_samples, ), for example using ravel().\n",
      "  return f(**kwargs)\n"
     ]
    },
    {
     "name": "stdout",
     "output_type": "stream",
     "text": [
      "training time :  92.52762699127197  seconds\n"
     ]
    },
    {
     "data": {
      "text/plain": [
       "(0.7155954293876093,\n",
       " 0.6900999821460454,\n",
       " 0.7213444027852169,\n",
       " 0.6832619175147295,\n",
       " 0.6829673272629887)"
      ]
     },
     "execution_count": 25,
     "metadata": {},
     "output_type": "execute_result"
    }
   ],
   "source": [
    "now = time.time()\n",
    "model2 = PCA(n_components=2)\n",
    "pca_features2 = model2.fit_transform(Total_datas_8)\n",
    "\n",
    "X_train2_p, X_test2_p, y_train2_p, y_test2_p = train_test_split(pca_features2, Total_labels_8, test_size=0.3, random_state=42)\n",
    "\n",
    "tree2 = DecisionTreeClassifier(max_depth=12)\n",
    "tree2.fit(X_train2_p, y_train2_p)\n",
    "\n",
    "forest2 = RandomForestClassifier(n_estimators=35)\n",
    "forest2.fit(X_train2_p, y_train2_p)\n",
    "\n",
    "knn2 = KNeighborsClassifier(n_neighbors = 40)\n",
    "knn2.fit(X_train2_p, y_train2_p)\n",
    "\n",
    "xtree2 = ExtraTreesClassifier(n_estimators=35)\n",
    "xtree2.fit(X_train2_p, y_train2_p)\n",
    "\n",
    "BC2 = BaggingClassifier(n_estimators=30, bootstrap=True)\n",
    "BC2.fit(X_train2_p,y_train2_p)\n",
    "print(\"training time : \", time.time()-now, \" seconds\")\n",
    "\n",
    "r2_score_tree_p = tree2.score(X_test2_p, y_test2_p)\n",
    "r2_score_forest_p = forest2.score(X_test2_p, y_test2_p)\n",
    "r2_score_knn_p = knn2.score(X_test2_p, y_test2_p)\n",
    "r2_score_xtree_p = xtree2.score(X_test2_p, y_test2_p)\n",
    "r2_score_bc_p = BC2.score(X_test2_p, y_test2_p)\n",
    "\n",
    "\n",
    "r2_score_tree_p, r2_score_forest_p ,r2_score_knn_p ,r2_score_xtree_p,r2_score_bc_p"
   ]
  },
  {
   "cell_type": "code",
   "execution_count": 54,
   "metadata": {},
   "outputs": [],
   "source": [
    "pca1 = (0.5306998750223174,  0.4115158007498661, 0.521514015354401, 0.41061417603999284, 0.41132833422603104)\n",
    "pca2 = (0.7155954293876093, 0.6900999821460454, 0.7213444027852169, 0.6832619175147295, 0.6829673272629887)\n",
    "ori = (0.7169880378503839, 0.6906713086948759, 0.7213444027852169, 0.6856364934833066, 0.6817889662560257)\n",
    "\n",
    "totals = pca1 + pca2 + ori"
   ]
  },
  {
   "cell_type": "code",
   "execution_count": 63,
   "metadata": {},
   "outputs": [
    {
     "data": {
      "image/png": "[encoded data removed]",
      "text/plain": [
       "<Figure size 432x288 with 1 Axes>"
      ]
     },
     "metadata": {
      "needs_background": "light"
     },
     "output_type": "display_data"
    }
   ],
   "source": [
    "plt.plot(y_label,pca2,label='pca2')\n",
    "plt.plot(y_label,ori,label='original')\n",
    "plt.title('Accuracy difference in PCA2, Original model')\n",
    "plt.legend()\n",
    "plt.show()"
   ]
  },
  {
   "cell_type": "code",
   "execution_count": 62,
   "metadata": {},
   "outputs": [
    {
     "data": {
      "image/png": "[encoded data removed]",
      "text/plain": [
       "<Figure size 504x360 with 1 Axes>"
      ]
     },
     "metadata": {
      "needs_background": "light"
     },
     "output_type": "display_data"
    }
   ],
   "source": [
    "y_label = ['Decision Tree', 'Random Forest', 'KNN', 'Extra tree','Bagging']\n",
    "\n",
    "plt.figure(figsize=(7,5))\n",
    "plt.bar(y_label,ori,label='original')\n",
    "plt.bar(y_label,pca2,label='pca2')\n",
    "plt.bar(y_label,pca1,label='pca1')\n",
    "plt.ylabel('Acc')\n",
    "plt.title('Accuracy difference in each model')\n",
    "plt.legend()\n",
    "plt.show()"
   ]
  },
  {
   "cell_type": "code",
   "execution_count": null,
   "metadata": {},
   "outputs": [],
   "source": []
  }
 ],
 "metadata": {
  "kernelspec": {
   "display_name": "Python 3",
   "language": "python",
   "name": "python3"
  },
  "language_info": {
   "codemirror_mode": {
    "name": "ipython",
    "version": 3
   },
   "file_extension": ".py",
   "mimetype": "text/x-python",
   "name": "python",
   "nbconvert_exporter": "python",
   "pygments_lexer": "ipython3",
   "version": "3.8.3"
  }
 },
 "nbformat": 4,
 "nbformat_minor": 4
}
