{
 "cells": [
  {
   "cell_type": "code",
   "execution_count": 1,
   "metadata": {},
   "outputs": [],
   "source": [
    "import pandas as pd\n",
    "import numpy as np\n",
    "import glob\n",
    "import matplotlib.pyplot as plt\n",
    "from pandas import DataFrame as df\n",
    "import seaborn as sns\n",
    "import time\n",
    "\n",
    "from sklearn import datasets\n",
    "from sklearn.model_selection import train_test_split\n",
    "from sklearn import metrics\n",
    "\n",
    "from sklearn import tree\n",
    "from sklearn.tree import DecisionTreeClassifier\n",
    "\n",
    "from sklearn.ensemble import RandomForestClassifier\n",
    "\n",
    "from sklearn.naive_bayes import GaussianNB\n",
    "from sklearn.feature_extraction.text import CountVectorizer\n",
    "from sklearn.naive_bayes import BernoulliNB\n",
    "\n",
    "\n",
    "from sklearn.neighbors import KNeighborsClassifier"
   ]
  },
  {
   "cell_type": "code",
   "execution_count": 2,
   "metadata": {},
   "outputs": [
    {
     "data": {
      "text/plain": [
       "((373399, 2), (373399, 1))"
      ]
     },
     "execution_count": 2,
     "metadata": {},
     "output_type": "execute_result"
    }
   ],
   "source": [
    "Total_datas = pd.read_csv('C:/Users/hml76/OneDrive/바탕 화면/data/testset/Total_datas.csv')\n",
    "Total_labels =  pd.read_csv('C:/Users/hml76/OneDrive/바탕 화면/data/testset/Total_labels.csv')\n",
    "Total_datas.shape, Total_labels.shape "
   ]
  },
  {
   "cell_type": "code",
   "execution_count": null,
   "metadata": {},
   "outputs": [],
   "source": []
  },
  {
   "cell_type": "markdown",
   "metadata": {},
   "source": [
    "# Decision Tree"
   ]
  },
  {
   "cell_type": "code",
   "execution_count": 42,
   "metadata": {},
   "outputs": [
    {
     "name": "stdout",
     "output_type": "stream",
     "text": [
      "Training Decision Tree ...\n",
      "Training Time :  3.8182215690612793  second\n"
     ]
    }
   ],
   "source": [
    "now = time.time()\n",
    "X_train, X_test, y_train, y_test = train_test_split(Total_datas, Total_labels, test_size=0.3, random_state=42)\n",
    "print(\"Training Decision Tree ...\")\n",
    "tree = DecisionTreeClassifier(random_state=0)\n",
    "tree.fit(X_train, y_train)\n",
    "times = time.time() - now\n",
    "print(\"Training Time : \", times,\" second\")"
   ]
  },
  {
   "cell_type": "code",
   "execution_count": 44,
   "metadata": {},
   "outputs": [
    {
     "name": "stdout",
     "output_type": "stream",
     "text": [
      "Training set Accuracy: 1.000\n",
      "Test set Accuracy : 0.634\n"
     ]
    }
   ],
   "source": [
    "print(\"Training set Accuracy: {:.3f}\".format(tree.score(X_train, y_train)))\n",
    "print('Test set Accuracy : {:.3f}'.format(metrics.accuracy_score(y_test, y_pred))) "
   ]
  },
  {
   "cell_type": "code",
   "execution_count": 47,
   "metadata": {},
   "outputs": [
    {
     "data": {
      "image/png": "[encoded data removed]",
      "text/plain": [
       "<Figure size 432x288 with 1 Axes>"
      ]
     },
     "metadata": {
      "needs_background": "light"
     },
     "output_type": "display_data"
    }
   ],
   "source": [
    "max_depth_list = range(1,29)\n",
    "accuracies=[]\n",
    "\n",
    "for i in max_depth_list:\n",
    "    tree = DecisionTreeClassifier(max_depth=i)\n",
    "    tree.fit(X_train,y_train)\n",
    "    accuracies.append(tree.score(X_test,y_test))\n",
    "\n",
    "plt.plot(max_depth_list, accuracies)\n",
    "plt.xlabel(\"max_depth_list\")\n",
    "plt.ylabel(\"validation accuracy\")\n",
    "plt.title(\"Accuracy Graph\")\n",
    "plt.show()"
   ]
  },
  {
   "cell_type": "markdown",
   "metadata": {},
   "source": [
    "## graphviz"
   ]
  },
  {
   "cell_type": "markdown",
   "metadata": {},
   "source": [
    "# Random Forest"
   ]
  },
  {
   "cell_type": "code",
   "execution_count": 29,
   "metadata": {},
   "outputs": [
    {
     "name": "stdout",
     "output_type": "stream",
     "text": [
      "Training RandomForest ...\n"
     ]
    },
    {
     "name": "stderr",
     "output_type": "stream",
     "text": [
      "<ipython-input-29-ef6939f80d55>:7: DataConversionWarning: A column-vector y was passed when a 1d array was expected. Please change the shape of y to (n_samples,), for example using ravel().\n",
      "  forest.fit(X_train, y_train)\n"
     ]
    },
    {
     "name": "stdout",
     "output_type": "stream",
     "text": [
      "Training Time :  31.360140323638916  second\n"
     ]
    }
   ],
   "source": [
    "now = time.time()\n",
    "\n",
    "X_train, X_test, y_train, y_test = train_test_split(Total_datas, Total_labels, test_size=0.3)#, random_state=42)\n",
    "print(\"Training RandomForest ...\")\n",
    "\n",
    "forest = RandomForestClassifier(n_estimators=100, n_jobs=-1)\n",
    "forest.fit(X_train, y_train)\n",
    "\n",
    "times = time.time() - now\n",
    "print(\"Training Time : \", times,\" second\")"
   ]
  },
  {
   "cell_type": "code",
   "execution_count": 41,
   "metadata": {},
   "outputs": [
    {
     "name": "stdout",
     "output_type": "stream",
     "text": [
      "Training set Accuracy: 1.000\n",
      "Test set Accuracy : 0.694\n"
     ]
    }
   ],
   "source": [
    "y_pred = forest.predict(X_test)\n",
    "print(\"Training set Accuracy: {:.3f}\".format(forest.score(X_train, y_train)))\n",
    "print('Test set Accuracy : {:.3f}'.format(metrics.accuracy_score(y_test, y_pred))) "
   ]
  },
  {
   "cell_type": "code",
   "execution_count": 24,
   "metadata": {
    "scrolled": true
   },
   "outputs": [
    {
     "name": "stderr",
     "output_type": "stream",
     "text": [
      "<ipython-input-24-95ac7589779f>:7: DataConversionWarning: A column-vector y was passed when a 1d array was expected. Please change the shape of y to (n_samples,), for example using ravel().\n",
      "  forest.fit(X_train,y_train)\n",
      "<ipython-input-24-95ac7589779f>:7: DataConversionWarning: A column-vector y was passed when a 1d array was expected. Please change the shape of y to (n_samples,), for example using ravel().\n",
      "  forest.fit(X_train,y_train)\n",
      "<ipython-input-24-95ac7589779f>:7: DataConversionWarning: A column-vector y was passed when a 1d array was expected. Please change the shape of y to (n_samples,), for example using ravel().\n",
      "  forest.fit(X_train,y_train)\n",
      "<ipython-input-24-95ac7589779f>:7: DataConversionWarning: A column-vector y was passed when a 1d array was expected. Please change the shape of y to (n_samples,), for example using ravel().\n",
      "  forest.fit(X_train,y_train)\n",
      "<ipython-input-24-95ac7589779f>:7: DataConversionWarning: A column-vector y was passed when a 1d array was expected. Please change the shape of y to (n_samples,), for example using ravel().\n",
      "  forest.fit(X_train,y_train)\n",
      "<ipython-input-24-95ac7589779f>:7: DataConversionWarning: A column-vector y was passed when a 1d array was expected. Please change the shape of y to (n_samples,), for example using ravel().\n",
      "  forest.fit(X_train,y_train)\n",
      "<ipython-input-24-95ac7589779f>:7: DataConversionWarning: A column-vector y was passed when a 1d array was expected. Please change the shape of y to (n_samples,), for example using ravel().\n",
      "  forest.fit(X_train,y_train)\n",
      "<ipython-input-24-95ac7589779f>:7: DataConversionWarning: A column-vector y was passed when a 1d array was expected. Please change the shape of y to (n_samples,), for example using ravel().\n",
      "  forest.fit(X_train,y_train)\n",
      "<ipython-input-24-95ac7589779f>:7: DataConversionWarning: A column-vector y was passed when a 1d array was expected. Please change the shape of y to (n_samples,), for example using ravel().\n",
      "  forest.fit(X_train,y_train)\n",
      "<ipython-input-24-95ac7589779f>:7: DataConversionWarning: A column-vector y was passed when a 1d array was expected. Please change the shape of y to (n_samples,), for example using ravel().\n",
      "  forest.fit(X_train,y_train)\n",
      "<ipython-input-24-95ac7589779f>:7: DataConversionWarning: A column-vector y was passed when a 1d array was expected. Please change the shape of y to (n_samples,), for example using ravel().\n",
      "  forest.fit(X_train,y_train)\n",
      "<ipython-input-24-95ac7589779f>:7: DataConversionWarning: A column-vector y was passed when a 1d array was expected. Please change the shape of y to (n_samples,), for example using ravel().\n",
      "  forest.fit(X_train,y_train)\n",
      "<ipython-input-24-95ac7589779f>:7: DataConversionWarning: A column-vector y was passed when a 1d array was expected. Please change the shape of y to (n_samples,), for example using ravel().\n",
      "  forest.fit(X_train,y_train)\n",
      "<ipython-input-24-95ac7589779f>:7: DataConversionWarning: A column-vector y was passed when a 1d array was expected. Please change the shape of y to (n_samples,), for example using ravel().\n",
      "  forest.fit(X_train,y_train)\n",
      "<ipython-input-24-95ac7589779f>:7: DataConversionWarning: A column-vector y was passed when a 1d array was expected. Please change the shape of y to (n_samples,), for example using ravel().\n",
      "  forest.fit(X_train,y_train)\n",
      "<ipython-input-24-95ac7589779f>:7: DataConversionWarning: A column-vector y was passed when a 1d array was expected. Please change the shape of y to (n_samples,), for example using ravel().\n",
      "  forest.fit(X_train,y_train)\n",
      "<ipython-input-24-95ac7589779f>:7: DataConversionWarning: A column-vector y was passed when a 1d array was expected. Please change the shape of y to (n_samples,), for example using ravel().\n",
      "  forest.fit(X_train,y_train)\n",
      "<ipython-input-24-95ac7589779f>:7: DataConversionWarning: A column-vector y was passed when a 1d array was expected. Please change the shape of y to (n_samples,), for example using ravel().\n",
      "  forest.fit(X_train,y_train)\n",
      "<ipython-input-24-95ac7589779f>:7: DataConversionWarning: A column-vector y was passed when a 1d array was expected. Please change the shape of y to (n_samples,), for example using ravel().\n",
      "  forest.fit(X_train,y_train)\n",
      "<ipython-input-24-95ac7589779f>:7: DataConversionWarning: A column-vector y was passed when a 1d array was expected. Please change the shape of y to (n_samples,), for example using ravel().\n",
      "  forest.fit(X_train,y_train)\n",
      "<ipython-input-24-95ac7589779f>:7: DataConversionWarning: A column-vector y was passed when a 1d array was expected. Please change the shape of y to (n_samples,), for example using ravel().\n",
      "  forest.fit(X_train,y_train)\n",
      "<ipython-input-24-95ac7589779f>:7: DataConversionWarning: A column-vector y was passed when a 1d array was expected. Please change the shape of y to (n_samples,), for example using ravel().\n",
      "  forest.fit(X_train,y_train)\n",
      "<ipython-input-24-95ac7589779f>:7: DataConversionWarning: A column-vector y was passed when a 1d array was expected. Please change the shape of y to (n_samples,), for example using ravel().\n",
      "  forest.fit(X_train,y_train)\n",
      "<ipython-input-24-95ac7589779f>:7: DataConversionWarning: A column-vector y was passed when a 1d array was expected. Please change the shape of y to (n_samples,), for example using ravel().\n",
      "  forest.fit(X_train,y_train)\n",
      "<ipython-input-24-95ac7589779f>:7: DataConversionWarning: A column-vector y was passed when a 1d array was expected. Please change the shape of y to (n_samples,), for example using ravel().\n",
      "  forest.fit(X_train,y_train)\n",
      "<ipython-input-24-95ac7589779f>:7: DataConversionWarning: A column-vector y was passed when a 1d array was expected. Please change the shape of y to (n_samples,), for example using ravel().\n",
      "  forest.fit(X_train,y_train)\n",
      "<ipython-input-24-95ac7589779f>:7: DataConversionWarning: A column-vector y was passed when a 1d array was expected. Please change the shape of y to (n_samples,), for example using ravel().\n",
      "  forest.fit(X_train,y_train)\n",
      "<ipython-input-24-95ac7589779f>:7: DataConversionWarning: A column-vector y was passed when a 1d array was expected. Please change the shape of y to (n_samples,), for example using ravel().\n",
      "  forest.fit(X_train,y_train)\n",
      "<ipython-input-24-95ac7589779f>:7: DataConversionWarning: A column-vector y was passed when a 1d array was expected. Please change the shape of y to (n_samples,), for example using ravel().\n",
      "  forest.fit(X_train,y_train)\n"
     ]
    },
    {
     "data": {
      "image/png": "[encoded data removed]",
      "text/plain": [
       "<Figure size 432x288 with 1 Axes>"
      ]
     },
     "metadata": {
      "needs_background": "light"
     },
     "output_type": "display_data"
    },
    {
     "name": "stdout",
     "output_type": "stream",
     "text": [
      "Training Time :  165.31920456886292  second\n"
     ]
    }
   ],
   "source": [
    "now = time.time()\n",
    "n_estimators = range(1,30) #29개 여야만 함. accuracy 크기가 29\n",
    "accuracies1=[]\n",
    "\n",
    "for i in n_estimators:\n",
    "    forest = RandomForestClassifier(n_estimators=i,n_jobs=-1,random_state=0)\n",
    "    forest.fit(X_train,y_train)\n",
    "    accuracies1.append(forest.score(X_test,y_test))\n",
    "\n",
    "plt.plot(n_estimators, accuracies1)\n",
    "plt.xlabel(\"n_estimator\")\n",
    "plt.ylabel(\"validation accuracy\")\n",
    "plt.title(\"Accuracy Graph\")\n",
    "plt.show()\n",
    "\n",
    "times = time.time() - now\n",
    "print(\"Training Time : \", times,\" second\")"
   ]
  },
  {
   "cell_type": "code",
   "execution_count": null,
   "metadata": {},
   "outputs": [],
   "source": []
  },
  {
   "cell_type": "markdown",
   "metadata": {},
   "source": [
    "# Naive Bayes"
   ]
  },
  {
   "cell_type": "code",
   "execution_count": 59,
   "metadata": {},
   "outputs": [
    {
     "name": "stdout",
     "output_type": "stream",
     "text": [
      "Training Naive Bayes ...\n",
      "Training Time :  0.23776459693908691  second\n"
     ]
    },
    {
     "name": "stderr",
     "output_type": "stream",
     "text": [
      "C:\\ProgramData\\Anaconda3\\lib\\site-packages\\sklearn\\utils\\validation.py:73: DataConversionWarning: A column-vector y was passed when a 1d array was expected. Please change the shape of y to (n_samples, ), for example using ravel().\n",
      "  return f(**kwargs)\n"
     ]
    }
   ],
   "source": [
    "now = time.time()\n",
    "X_train, X_test, y_train, y_test = train_test_split(Total_datas, Total_labels, test_size=0.3, random_state=50)\n",
    "print(\"Training Naive Bayes ...\")\n",
    "naive_bayes = GaussianNB()\n",
    "naive_bayes.fit(X_train,y_train)\n",
    "y_pred = naive_bayes.predict(X_test)\n",
    "\n",
    "times = time.time() - now\n",
    "print(\"Training Time : \", times,\" second\")"
   ]
  },
  {
   "cell_type": "code",
   "execution_count": 60,
   "metadata": {},
   "outputs": [
    {
     "name": "stdout",
     "output_type": "stream",
     "text": [
      "Test set Accuracy : 44.496 %\n"
     ]
    }
   ],
   "source": [
    "print('Test set Accuracy : {:.3f}'.format(metrics.accuracy_score(y_test, y_pred)*100), \"%\") "
   ]
  },
  {
   "cell_type": "code",
   "execution_count": null,
   "metadata": {},
   "outputs": [],
   "source": []
  },
  {
   "cell_type": "markdown",
   "metadata": {},
   "source": [
    "# KNN"
   ]
  },
  {
   "cell_type": "code",
   "execution_count": 62,
   "metadata": {},
   "outputs": [
    {
     "name": "stdout",
     "output_type": "stream",
     "text": [
      "Training KNN ...\n"
     ]
    },
    {
     "name": "stderr",
     "output_type": "stream",
     "text": [
      "<ipython-input-62-0f6fb4b98387>:5: DataConversionWarning: A column-vector y was passed when a 1d array was expected. Please change the shape of y to (n_samples, ), for example using ravel().\n",
      "  knn.fit(X_train,y_train)\n"
     ]
    },
    {
     "name": "stdout",
     "output_type": "stream",
     "text": [
      "Training Time :  15.608504056930542  second\n"
     ]
    }
   ],
   "source": [
    "now = time.time()\n",
    "X_train, X_test, y_train, y_test = train_test_split(Total_datas, Total_labels, test_size=0.3, random_state=50)\n",
    "print(\"Training KNN ...\")\n",
    "knn = KNeighborsClassifier(n_neighbors = 4)\n",
    "knn.fit(X_train,y_train)\n",
    "y_pred = knn.predict(X_test)\n",
    "\n",
    "times = time.time() - now\n",
    "print(\"Training Time : \", times,\" second\")"
   ]
  },
  {
   "cell_type": "code",
   "execution_count": 8,
   "metadata": {
    "scrolled": true
   },
   "outputs": [
    {
     "name": "stderr",
     "output_type": "stream",
     "text": [
      "<ipython-input-8-d0a265ec3b99>:9: DataConversionWarning: A column-vector y was passed when a 1d array was expected. Please change the shape of y to (n_samples, ), for example using ravel().\n",
      "  knn.fit(X_train,y_train)\n",
      "<ipython-input-8-d0a265ec3b99>:9: DataConversionWarning: A column-vector y was passed when a 1d array was expected. Please change the shape of y to (n_samples, ), for example using ravel().\n",
      "  knn.fit(X_train,y_train)\n",
      "<ipython-input-8-d0a265ec3b99>:9: DataConversionWarning: A column-vector y was passed when a 1d array was expected. Please change the shape of y to (n_samples, ), for example using ravel().\n",
      "  knn.fit(X_train,y_train)\n",
      "<ipython-input-8-d0a265ec3b99>:9: DataConversionWarning: A column-vector y was passed when a 1d array was expected. Please change the shape of y to (n_samples, ), for example using ravel().\n",
      "  knn.fit(X_train,y_train)\n",
      "<ipython-input-8-d0a265ec3b99>:9: DataConversionWarning: A column-vector y was passed when a 1d array was expected. Please change the shape of y to (n_samples, ), for example using ravel().\n",
      "  knn.fit(X_train,y_train)\n",
      "<ipython-input-8-d0a265ec3b99>:9: DataConversionWarning: A column-vector y was passed when a 1d array was expected. Please change the shape of y to (n_samples, ), for example using ravel().\n",
      "  knn.fit(X_train,y_train)\n",
      "<ipython-input-8-d0a265ec3b99>:9: DataConversionWarning: A column-vector y was passed when a 1d array was expected. Please change the shape of y to (n_samples, ), for example using ravel().\n",
      "  knn.fit(X_train,y_train)\n",
      "<ipython-input-8-d0a265ec3b99>:9: DataConversionWarning: A column-vector y was passed when a 1d array was expected. Please change the shape of y to (n_samples, ), for example using ravel().\n",
      "  knn.fit(X_train,y_train)\n",
      "<ipython-input-8-d0a265ec3b99>:9: DataConversionWarning: A column-vector y was passed when a 1d array was expected. Please change the shape of y to (n_samples, ), for example using ravel().\n",
      "  knn.fit(X_train,y_train)\n",
      "<ipython-input-8-d0a265ec3b99>:9: DataConversionWarning: A column-vector y was passed when a 1d array was expected. Please change the shape of y to (n_samples, ), for example using ravel().\n",
      "  knn.fit(X_train,y_train)\n",
      "<ipython-input-8-d0a265ec3b99>:9: DataConversionWarning: A column-vector y was passed when a 1d array was expected. Please change the shape of y to (n_samples, ), for example using ravel().\n",
      "  knn.fit(X_train,y_train)\n",
      "<ipython-input-8-d0a265ec3b99>:9: DataConversionWarning: A column-vector y was passed when a 1d array was expected. Please change the shape of y to (n_samples, ), for example using ravel().\n",
      "  knn.fit(X_train,y_train)\n",
      "<ipython-input-8-d0a265ec3b99>:9: DataConversionWarning: A column-vector y was passed when a 1d array was expected. Please change the shape of y to (n_samples, ), for example using ravel().\n",
      "  knn.fit(X_train,y_train)\n",
      "<ipython-input-8-d0a265ec3b99>:9: DataConversionWarning: A column-vector y was passed when a 1d array was expected. Please change the shape of y to (n_samples, ), for example using ravel().\n",
      "  knn.fit(X_train,y_train)\n",
      "<ipython-input-8-d0a265ec3b99>:9: DataConversionWarning: A column-vector y was passed when a 1d array was expected. Please change the shape of y to (n_samples, ), for example using ravel().\n",
      "  knn.fit(X_train,y_train)\n",
      "<ipython-input-8-d0a265ec3b99>:9: DataConversionWarning: A column-vector y was passed when a 1d array was expected. Please change the shape of y to (n_samples, ), for example using ravel().\n",
      "  knn.fit(X_train,y_train)\n",
      "<ipython-input-8-d0a265ec3b99>:9: DataConversionWarning: A column-vector y was passed when a 1d array was expected. Please change the shape of y to (n_samples, ), for example using ravel().\n",
      "  knn.fit(X_train,y_train)\n",
      "<ipython-input-8-d0a265ec3b99>:9: DataConversionWarning: A column-vector y was passed when a 1d array was expected. Please change the shape of y to (n_samples, ), for example using ravel().\n",
      "  knn.fit(X_train,y_train)\n",
      "<ipython-input-8-d0a265ec3b99>:9: DataConversionWarning: A column-vector y was passed when a 1d array was expected. Please change the shape of y to (n_samples, ), for example using ravel().\n",
      "  knn.fit(X_train,y_train)\n"
     ]
    },
    {
     "data": {
      "image/png": "[encoded data removed]",
      "text/plain": [
       "<Figure size 432x288 with 1 Axes>"
      ]
     },
     "metadata": {
      "needs_background": "light"
     },
     "output_type": "display_data"
    },
    {
     "name": "stdout",
     "output_type": "stream",
     "text": [
      "Training Time :  80.8491325378418  second\n"
     ]
    }
   ],
   "source": [
    "now = time.time()\n",
    "n_neighbors = range(1,20) \n",
    "accuracies2=[]\n",
    "X_train, X_test, y_train, y_test = train_test_split(Total_datas, Total_labels, test_size=0.3, random_state=50)\n",
    "\n",
    "\n",
    "for i in n_neighbors:\n",
    "    knn = KNeighborsClassifier(n_neighbors=i)\n",
    "    knn.fit(X_train,y_train)\n",
    "    accuracies2.append(knn.score(X_test,y_test))\n",
    "    \n",
    "plt.plot(n_neighbors, accuracies2)\n",
    "plt.xlabel(\"n_estimator\")\n",
    "plt.ylabel(\"validation accuracy\")\n",
    "plt.title(\"Accuracy Graph\")\n",
    "plt.show()\n",
    "\n",
    "times = time.time() - now\n",
    "print(\"Training Time : \", times,\" second\")"
   ]
  },
  {
   "cell_type": "code",
   "execution_count": null,
   "metadata": {},
   "outputs": [],
   "source": []
  },
  {
   "cell_type": "code",
   "execution_count": 63,
   "metadata": {},
   "outputs": [
    {
     "name": "stdout",
     "output_type": "stream",
     "text": [
      "Test set Accuracy : 67.938 %\n"
     ]
    }
   ],
   "source": [
    "print('Test set Accuracy : {:.3f}'.format(metrics.accuracy_score(y_test, y_pred)*100), \"%\") "
   ]
  },
  {
   "cell_type": "code",
   "execution_count": null,
   "metadata": {},
   "outputs": [],
   "source": []
  }
 ],
 "metadata": {
  "kernelspec": {
   "display_name": "Python 3",
   "language": "python",
   "name": "python3"
  },
  "language_info": {
   "codemirror_mode": {
    "name": "ipython",
    "version": 3
   },
   "file_extension": ".py",
   "mimetype": "text/x-python",
   "name": "python",
   "nbconvert_exporter": "python",
   "pygments_lexer": "ipython3",
   "version": "3.8.3"
  }
 },
 "nbformat": 4,
 "nbformat_minor": 4
}
