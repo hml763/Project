{
 "cells": [
  {
   "cell_type": "code",
   "execution_count": 26,
   "metadata": {},
   "outputs": [],
   "source": [
    "import numpy as np\n",
    "import matplotlib.pyplot as plt\n",
    "import pandas as pd\n",
    "from pandas import DataFrame as df\n",
    "import seaborn as sns\n",
    "from sklearn import datasets\n",
    "from sklearn.pipeline import Pipeline\n",
    "from sklearn.preprocessing import MinMaxScaler, StandardScaler, RobustScaler\n",
    "from sklearn.model_selection import train_test_split\n",
    "from sklearn.metrics import accuracy_score\n",
    "from sklearn import metrics\n",
    "\n",
    "\n",
    "from sklearn.naive_bayes import GaussianNB\n",
    "from sklearn.naive_bayes import BernoulliNB\n",
    "from sklearn.tree import DecisionTreeClassifier\n",
    "from sklearn.ensemble import RandomForestClassifier\n",
    "from sklearn.neighbors import KNeighborsClassifier\n",
    "from sklearn.ensemble import VotingClassifier #VotingRegressor도 있음\n"
   ]
  },
  {
   "cell_type": "markdown",
   "metadata": {},
   "source": [
    "### Decision Tree"
   ]
  },
  {
   "cell_type": "code",
   "execution_count": 7,
   "metadata": {},
   "outputs": [],
   "source": [
    "Total_datas = pd.read_csv('C:/Users/hml76/OneDrive/바탕 화면/Capacitive_sensor_research/실험데이터/Total_datas.csv')\n",
    "Total_labels =  pd.read_csv('C:/Users/hml76/OneDrive/바탕 화면/Capacitive_sensor_research/실험데이터/Total_labels.csv')\n",
    "\n",
    "X_train, X_test, y_train, y_test = train_test_split(Total_datas, Total_labels, test_size=0.3, random_state=42)"
   ]
  },
  {
   "cell_type": "code",
   "execution_count": 14,
   "metadata": {},
   "outputs": [
    {
     "name": "stdout",
     "output_type": "stream",
     "text": [
      "훈련 세트 정확도: 0.738\n",
      "테스트 세트 정확도: 0.717\n"
     ]
    }
   ],
   "source": [
    "tree = DecisionTreeClassifier(max_depth=12, random_state=0)\n",
    "tree = tree.fit(X_train, y_train)\n",
    "\n",
    "print(\"훈련 세트 정확도: {:.3f}\".format(tree.score(X_train, y_train)))\n",
    "print(\"테스트 세트 정확도: {:.3f}\".format(tree.score(X_test, y_test)))"
   ]
  },
  {
   "cell_type": "markdown",
   "metadata": {},
   "source": [
    "### Random Forest"
   ]
  },
  {
   "cell_type": "code",
   "execution_count": 28,
   "metadata": {},
   "outputs": [
    {
     "name": "stderr",
     "output_type": "stream",
     "text": [
      "C:\\Users\\hml76\\AppData\\Local\\Continuum\\anaconda3\\lib\\site-packages\\ipykernel_launcher.py:2: DataConversionWarning: A column-vector y was passed when a 1d array was expected. Please change the shape of y to (n_samples,), for example using ravel().\n",
      "  \n"
     ]
    },
    {
     "name": "stdout",
     "output_type": "stream",
     "text": [
      "훈련 세트 정확도: 1.000\n",
      "테스트 세트 정확도: 0.692\n"
     ]
    }
   ],
   "source": [
    "forest = RandomForestClassifier(n_estimators=100, n_jobs=-1)\n",
    "forest = forest.fit(X_train, y_train)\n",
    "\n",
    "print(\"훈련 세트 정확도: {:.3f}\".format(forest.score(X_train, y_train)))\n",
    "print(\"테스트 세트 정확도: {:.3f}\".format(forest.score(X_test, y_test)))"
   ]
  },
  {
   "cell_type": "markdown",
   "metadata": {},
   "source": [
    "### Naive Bayes"
   ]
  },
  {
   "cell_type": "code",
   "execution_count": 15,
   "metadata": {},
   "outputs": [
    {
     "name": "stdout",
     "output_type": "stream",
     "text": [
      "훈련 세트 정확도: 0.441\n",
      "테스트 세트 정확도: 0.441\n"
     ]
    },
    {
     "name": "stderr",
     "output_type": "stream",
     "text": [
      "C:\\Users\\hml76\\AppData\\Local\\Continuum\\anaconda3\\lib\\site-packages\\sklearn\\utils\\validation.py:724: DataConversionWarning: A column-vector y was passed when a 1d array was expected. Please change the shape of y to (n_samples, ), for example using ravel().\n",
      "  y = column_or_1d(y, warn=True)\n"
     ]
    }
   ],
   "source": [
    "NB = GaussianNB()\n",
    "NB = NB.fit(X_train,y_train)\n",
    "\n",
    "print(\"훈련 세트 정확도: {:.3f}\".format(NB.score(X_train, y_train)))\n",
    "print(\"테스트 세트 정확도: {:.3f}\".format(NB.score(X_test, y_test)))"
   ]
  },
  {
   "cell_type": "markdown",
   "metadata": {},
   "source": [
    "### Bernuille Naive Bayes"
   ]
  },
  {
   "cell_type": "code",
   "execution_count": 17,
   "metadata": {},
   "outputs": [
    {
     "name": "stdout",
     "output_type": "stream",
     "text": [
      "훈련 세트 정확도: 0.453\n",
      "테스트 세트 정확도: 0.454\n"
     ]
    },
    {
     "name": "stderr",
     "output_type": "stream",
     "text": [
      "C:\\Users\\hml76\\AppData\\Local\\Continuum\\anaconda3\\lib\\site-packages\\sklearn\\utils\\validation.py:724: DataConversionWarning: A column-vector y was passed when a 1d array was expected. Please change the shape of y to (n_samples, ), for example using ravel().\n",
      "  y = column_or_1d(y, warn=True)\n"
     ]
    }
   ],
   "source": [
    "bnb = BernoulliNB()\n",
    "bnb = bnb.fit(X_train, y_train)\n",
    "\n",
    "print(\"훈련 세트 정확도: {:.3f}\".format(bnb.score(X_train, y_train)))\n",
    "print(\"테스트 세트 정확도: {:.3f}\".format(bnb.score(X_test, y_test)))"
   ]
  },
  {
   "cell_type": "markdown",
   "metadata": {},
   "source": [
    "### KNN"
   ]
  },
  {
   "cell_type": "code",
   "execution_count": 27,
   "metadata": {
    "scrolled": true
   },
   "outputs": [
    {
     "name": "stderr",
     "output_type": "stream",
     "text": [
      "C:\\Users\\hml76\\AppData\\Local\\Continuum\\anaconda3\\lib\\site-packages\\ipykernel_launcher.py:2: DataConversionWarning: A column-vector y was passed when a 1d array was expected. Please change the shape of y to (n_samples, ), for example using ravel().\n",
      "  \n"
     ]
    },
    {
     "name": "stdout",
     "output_type": "stream",
     "text": [
      "훈련 세트 정확도: 0.743\n",
      "테스트 세트 정확도: 0.717\n"
     ]
    }
   ],
   "source": [
    "knn = KNeighborsClassifier(n_neighbors = 20)\n",
    "knn = knn.fit(X_train, y_train)\n",
    "\n",
    "print(\"훈련 세트 정확도: {:.3f}\".format(knn.score(X_train, y_train)))\n",
    "print(\"테스트 세트 정확도: {:.3f}\".format(knn.score(X_test, y_test)))"
   ]
  },
  {
   "cell_type": "markdown",
   "metadata": {},
   "source": [
    "### Hard Voting \n",
    "\n",
    "#### 일반적인 투표와 같이 각 분류기의 예측 값들을 모아서 가장 많은 투표를 받은 예측 값으로 최종 결론을 내리는 방식"
   ]
  },
  {
   "cell_type": "code",
   "execution_count": 29,
   "metadata": {},
   "outputs": [
    {
     "name": "stderr",
     "output_type": "stream",
     "text": [
      "C:\\Users\\hml76\\AppData\\Local\\Continuum\\anaconda3\\lib\\site-packages\\sklearn\\preprocessing\\label.py:219: DataConversionWarning: A column-vector y was passed when a 1d array was expected. Please change the shape of y to (n_samples, ), for example using ravel().\n",
      "  y = column_or_1d(y, warn=True)\n",
      "C:\\Users\\hml76\\AppData\\Local\\Continuum\\anaconda3\\lib\\site-packages\\sklearn\\preprocessing\\label.py:252: DataConversionWarning: A column-vector y was passed when a 1d array was expected. Please change the shape of y to (n_samples, ), for example using ravel().\n",
      "  y = column_or_1d(y, warn=True)\n"
     ]
    },
    {
     "name": "stdout",
     "output_type": "stream",
     "text": [
      "훈련 세트 정확도: 0.787\n",
      "테스트 세트 정확도: 0.717\n"
     ]
    }
   ],
   "source": [
    "voting_h = VotingClassifier(estimators=[('decision_tree',tree),('knn',knn),('naive_bayes',NB),('Bernuille_naive_bayes',bnb),\n",
    "                                      ('random_forest',forest)],weights=[1,1,1,1,1],voting='hard').fit(X_train,y_train)\n",
    "\n",
    "print(\"훈련 세트 정확도: {:.3f}\".format(voting_h.score(X_train, y_train)))\n",
    "print(\"테스트 세트 정확도: {:.3f}\".format(voting_h.score(X_test, y_test)))"
   ]
  },
  {
   "cell_type": "code",
   "execution_count": 30,
   "metadata": {},
   "outputs": [
    {
     "name": "stderr",
     "output_type": "stream",
     "text": [
      "C:\\Users\\hml76\\AppData\\Local\\Continuum\\anaconda3\\lib\\site-packages\\sklearn\\preprocessing\\label.py:219: DataConversionWarning: A column-vector y was passed when a 1d array was expected. Please change the shape of y to (n_samples, ), for example using ravel().\n",
      "  y = column_or_1d(y, warn=True)\n",
      "C:\\Users\\hml76\\AppData\\Local\\Continuum\\anaconda3\\lib\\site-packages\\sklearn\\preprocessing\\label.py:252: DataConversionWarning: A column-vector y was passed when a 1d array was expected. Please change the shape of y to (n_samples, ), for example using ravel().\n",
      "  y = column_or_1d(y, warn=True)\n"
     ]
    },
    {
     "name": "stdout",
     "output_type": "stream",
     "text": [
      "훈련 세트 정확도: 0.780\n",
      "테스트 세트 정확도: 0.719\n"
     ]
    }
   ],
   "source": [
    "voting_h = VotingClassifier(estimators=[('decision_tree',tree),('knn',knn),('naive_bayes',NB),('Bernuille_naive_bayes',bnb),\n",
    "                                      ('random_forest',forest)],weights=[1,1,0.5,0.5,0.8],voting='hard').fit(X_train,y_train)\n",
    "\n",
    "print(\"훈련 세트 정확도: {:.3f}\".format(voting_h.score(X_train, y_train)))\n",
    "print(\"테스트 세트 정확도: {:.3f}\".format(voting_h.score(X_test, y_test)))"
   ]
  },
  {
   "cell_type": "code",
   "execution_count": 34,
   "metadata": {},
   "outputs": [
    {
     "name": "stderr",
     "output_type": "stream",
     "text": [
      "C:\\Users\\hml76\\AppData\\Local\\Continuum\\anaconda3\\lib\\site-packages\\sklearn\\preprocessing\\label.py:219: DataConversionWarning: A column-vector y was passed when a 1d array was expected. Please change the shape of y to (n_samples, ), for example using ravel().\n",
      "  y = column_or_1d(y, warn=True)\n",
      "C:\\Users\\hml76\\AppData\\Local\\Continuum\\anaconda3\\lib\\site-packages\\sklearn\\preprocessing\\label.py:252: DataConversionWarning: A column-vector y was passed when a 1d array was expected. Please change the shape of y to (n_samples, ), for example using ravel().\n",
      "  y = column_or_1d(y, warn=True)\n"
     ]
    },
    {
     "name": "stdout",
     "output_type": "stream",
     "text": [
      "훈련 세트 정확도: 0.779\n",
      "테스트 세트 정확도: 0.719\n"
     ]
    }
   ],
   "source": [
    "voting_h = VotingClassifier(estimators=[('decision_tree',tree),('knn',knn),('naive_bayes',NB),('Bernuille_naive_bayes',bnb),\n",
    "                                      ('random_forest',forest)],weights=[0.9,0.9,0.3,0.3,0.5],voting='hard').fit(X_train,y_train)\n",
    "\n",
    "print(\"훈련 세트 정확도: {:.3f}\".format(voting_h.score(X_train, y_train)))\n",
    "print(\"테스트 세트 정확도: {:.3f}\".format(voting_h.score(X_test, y_test)))"
   ]
  },
  {
   "cell_type": "code",
   "execution_count": null,
   "metadata": {},
   "outputs": [],
   "source": []
  },
  {
   "cell_type": "markdown",
   "metadata": {},
   "source": [
    "### Soft Voting \n",
    "\n",
    "#### 각 모델의 모든 분류 값들의 확률을 더해서 가장 높은 점수를 획득한 분류값으로 최종 결론을 내림"
   ]
  },
  {
   "cell_type": "code",
   "execution_count": 31,
   "metadata": {},
   "outputs": [
    {
     "name": "stderr",
     "output_type": "stream",
     "text": [
      "C:\\Users\\hml76\\AppData\\Local\\Continuum\\anaconda3\\lib\\site-packages\\sklearn\\preprocessing\\label.py:219: DataConversionWarning: A column-vector y was passed when a 1d array was expected. Please change the shape of y to (n_samples, ), for example using ravel().\n",
      "  y = column_or_1d(y, warn=True)\n",
      "C:\\Users\\hml76\\AppData\\Local\\Continuum\\anaconda3\\lib\\site-packages\\sklearn\\preprocessing\\label.py:252: DataConversionWarning: A column-vector y was passed when a 1d array was expected. Please change the shape of y to (n_samples, ), for example using ravel().\n",
      "  y = column_or_1d(y, warn=True)\n"
     ]
    },
    {
     "name": "stdout",
     "output_type": "stream",
     "text": [
      "훈련 세트 정확도: 0.842\n",
      "테스트 세트 정확도: 0.717\n"
     ]
    }
   ],
   "source": [
    "voting_s = VotingClassifier(estimators=[('decision_tree',tree),('knn',knn),('naive_bayes',NB),('Bernuille_naive_bayes',bnb),\n",
    "                                      ('random_forest',forest)],weights=[1,1,1,1,1],voting='soft').fit(X_train,y_train)\n",
    "\n",
    "print(\"훈련 세트 정확도: {:.3f}\".format(voting_s.score(X_train, y_train)))\n",
    "print(\"테스트 세트 정확도: {:.3f}\".format(voting_s.score(X_test, y_test)))"
   ]
  },
  {
   "cell_type": "code",
   "execution_count": 32,
   "metadata": {},
   "outputs": [
    {
     "name": "stderr",
     "output_type": "stream",
     "text": [
      "C:\\Users\\hml76\\AppData\\Local\\Continuum\\anaconda3\\lib\\site-packages\\sklearn\\preprocessing\\label.py:219: DataConversionWarning: A column-vector y was passed when a 1d array was expected. Please change the shape of y to (n_samples, ), for example using ravel().\n",
      "  y = column_or_1d(y, warn=True)\n",
      "C:\\Users\\hml76\\AppData\\Local\\Continuum\\anaconda3\\lib\\site-packages\\sklearn\\preprocessing\\label.py:252: DataConversionWarning: A column-vector y was passed when a 1d array was expected. Please change the shape of y to (n_samples, ), for example using ravel().\n",
      "  y = column_or_1d(y, warn=True)\n"
     ]
    },
    {
     "name": "stdout",
     "output_type": "stream",
     "text": [
      "훈련 세트 정확도: 0.835\n",
      "테스트 세트 정확도: 0.719\n"
     ]
    }
   ],
   "source": [
    "voting_s = VotingClassifier(estimators=[('decision_tree',tree),('knn',knn),('naive_bayes',NB),('Bernuille_naive_bayes',bnb),\n",
    "                                      ('random_forest',forest)],weights=[1,1,0.3,0.3,0.8],voting='soft').fit(X_train,y_train)\n",
    "\n",
    "print(\"훈련 세트 정확도: {:.3f}\".format(voting_s.score(X_train, y_train)))\n",
    "print(\"테스트 세트 정확도: {:.3f}\".format(voting_s.score(X_test, y_test)))"
   ]
  },
  {
   "cell_type": "code",
   "execution_count": 35,
   "metadata": {},
   "outputs": [
    {
     "name": "stderr",
     "output_type": "stream",
     "text": [
      "C:\\Users\\hml76\\AppData\\Local\\Continuum\\anaconda3\\lib\\site-packages\\sklearn\\preprocessing\\label.py:219: DataConversionWarning: A column-vector y was passed when a 1d array was expected. Please change the shape of y to (n_samples, ), for example using ravel().\n",
      "  y = column_or_1d(y, warn=True)\n",
      "C:\\Users\\hml76\\AppData\\Local\\Continuum\\anaconda3\\lib\\site-packages\\sklearn\\preprocessing\\label.py:252: DataConversionWarning: A column-vector y was passed when a 1d array was expected. Please change the shape of y to (n_samples, ), for example using ravel().\n",
      "  y = column_or_1d(y, warn=True)\n"
     ]
    },
    {
     "name": "stdout",
     "output_type": "stream",
     "text": [
      "훈련 세트 정확도: 0.834\n",
      "테스트 세트 정확도: 0.719\n"
     ]
    }
   ],
   "source": [
    "voting_s = VotingClassifier(estimators=[('decision_tree',tree),('knn',knn),('naive_bayes',NB),('Bernuille_naive_bayes',bnb),\n",
    "                                      ('random_forest',forest)],weights=[0.9,0.9,0.2,0.2,0.7],voting='soft').fit(X_train,y_train)\n",
    "\n",
    "print(\"훈련 세트 정확도: {:.3f}\".format(voting_s.score(X_train, y_train)))\n",
    "print(\"테스트 세트 정확도: {:.3f}\".format(voting_s.score(X_test, y_test)))"
   ]
  },
  {
   "cell_type": "code",
   "execution_count": null,
   "metadata": {},
   "outputs": [],
   "source": []
  },
  {
   "cell_type": "code",
   "execution_count": null,
   "metadata": {},
   "outputs": [],
   "source": []
  },
  {
   "cell_type": "code",
   "execution_count": null,
   "metadata": {},
   "outputs": [],
   "source": [
    "x = np.arange(7)\n",
    "plt.bar(7)(x,height=[voting_s.score(y_test)])"
   ]
  }
 ],
 "metadata": {
  "kernelspec": {
   "display_name": "Python 3",
   "language": "python",
   "name": "python3"
  },
  "language_info": {
   "codemirror_mode": {
    "name": "ipython",
    "version": 3
   },
   "file_extension": ".py",
   "mimetype": "text/x-python",
   "name": "python",
   "nbconvert_exporter": "python",
   "pygments_lexer": "ipython3",
   "version": "3.7.3"
  }
 },
 "nbformat": 4,
 "nbformat_minor": 2
}
