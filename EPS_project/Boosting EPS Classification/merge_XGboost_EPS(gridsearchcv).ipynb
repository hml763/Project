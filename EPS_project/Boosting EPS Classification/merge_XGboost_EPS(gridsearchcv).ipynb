{
 "cells": [
  {
   "cell_type": "code",
   "execution_count": 6,
   "metadata": {},
   "outputs": [],
   "source": [
    "from sklearn.model_selection import train_test_split\n",
    "from sklearn.metrics import accuracy_score\n",
    "import numpy as np\n",
    "import matplotlib.pyplot as plt\n",
    "import pandas as pd\n",
    "from pandas import DataFrame as df\n",
    "from sklearn.metrics import r2_score, mean_squared_error\n",
    "from sklearn.model_selection import cross_val_score    \n",
    "from xgboost import plot_importance\n",
    "from xgboost import XGBClassifier\n",
    "from sklearn import metrics"
   ]
  },
  {
   "cell_type": "code",
   "execution_count": 7,
   "metadata": {},
   "outputs": [],
   "source": [
    "Total_datas = pd.read_csv('C:/Users/hml76/OneDrive/바탕 화면/Capacitive_sensor_research/실험데이터/A-B1 + A-B2  C-D1 + C-D2 데이터/Total_datas_merged_add.csv')\n",
    "Total_labels = pd.read_csv('C:/Users/hml76/OneDrive/바탕 화면/Capacitive_sensor_research/실험데이터/A-B1 + A-B2  C-D1 + C-D2 데이터/Total_labels_merged_add.csv')\n",
    "\n",
    "Total_datas_only = pd.read_csv('C:/Users/hml76/OneDrive/바탕 화면/Capacitive_sensor_research/실험데이터/A-B1 + A-B2  C-D1 + C-D2 데이터/Total_datas_merged_only_add.csv')\n",
    "Total_labels_only = pd.read_csv('C:/Users/hml76/OneDrive/바탕 화면/Capacitive_sensor_research/실험데이터/A-B1 + A-B2  C-D1 + C-D2 데이터/Total_labels_merged_only_add.csv')\n"
   ]
  },
  {
   "cell_type": "code",
   "execution_count": null,
   "metadata": {},
   "outputs": [],
   "source": [
    "X_train, X_test, y_train, y_test = train_test_split(Total_datas, Total_labels, test_size=0.3, random_state=42)\n",
    "\n",
    "xgb = XGBClassifier(n_estimators=500, learning_rate = 0.1, max_depth = 10)\n",
    "xgb.fit(X_train, y_train)"
   ]
  },
  {
   "cell_type": "code",
   "execution_count": null,
   "metadata": {},
   "outputs": [],
   "source": [
    "xgb_pred = xgb.predict(X_test)\n",
    "print(\"Accuracy:\", metrics.accuracy_score(y_test, xgb_pred))"
   ]
  },
  {
   "cell_type": "code",
   "execution_count": null,
   "metadata": {},
   "outputs": [],
   "source": []
  },
  {
   "cell_type": "code",
   "execution_count": null,
   "metadata": {},
   "outputs": [],
   "source": [
    "X_train1, X_test1, y_train1, y_test1 = train_test_split(Total_datas_only, Total_labels_only, test_size=0.3, random_state=42)\n",
    "\n",
    "xgb1 = XGBClassifier(n_estimators=500, learning_rate = 0.1, max_depth = 10)\n",
    "xgb1.fit(X_train1, y_train1)"
   ]
  },
  {
   "cell_type": "code",
   "execution_count": null,
   "metadata": {},
   "outputs": [],
   "source": [
    "xgb_pred1 = xgb1.predict(X_test1)\n",
    "print(\"Accuracy:\", metrics.accuracy_score(y_test1, xgb_pred1))"
   ]
  },
  {
   "cell_type": "code",
   "execution_count": null,
   "metadata": {},
   "outputs": [],
   "source": []
  },
  {
   "cell_type": "code",
   "execution_count": null,
   "metadata": {},
   "outputs": [],
   "source": [
    "from sklearn.model_selection import StratifiedShuffleSplit, GridSearchCV\n",
    "from sklearn.model_selection import GridSearchCV\n",
    "\n",
    "xgb_params ={\n",
    "    'n_estimators' : [100, 200, 400, 600]\n",
    "    'learning_rate' : [0.01, 0.05, 0.1, 0.15, 0.2]\n",
    "    'max_depth' : [4,6,8,10,12,15]\n",
    "}\n",
    "\n",
    "\n",
    "clf_grid=GridSearchCV(xgb,xgb_params = xgb_params, scoring='accuracy',n_jobs=-1, verbose=1)\n",
    "clf_grid.fit(X_train,y_train)"
   ]
  },
  {
   "cell_type": "code",
   "execution_count": null,
   "metadata": {},
   "outputs": [],
   "source": []
  },
  {
   "cell_type": "code",
   "execution_count": null,
   "metadata": {},
   "outputs": [],
   "source": []
  }
 ],
 "metadata": {
  "kernelspec": {
   "display_name": "Python 3",
   "language": "python",
   "name": "python3"
  },
  "language_info": {
   "codemirror_mode": {
    "name": "ipython",
    "version": 3
   },
   "file_extension": ".py",
   "mimetype": "text/x-python",
   "name": "python",
   "nbconvert_exporter": "python",
   "pygments_lexer": "ipython3",
   "version": "3.7.3"
  }
 },
 "nbformat": 4,
 "nbformat_minor": 2
}
