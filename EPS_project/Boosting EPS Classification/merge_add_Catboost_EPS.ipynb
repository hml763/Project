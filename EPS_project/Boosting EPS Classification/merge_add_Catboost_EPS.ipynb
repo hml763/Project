{
 "cells": [
  {
   "cell_type": "code",
   "execution_count": 2,
   "metadata": {},
   "outputs": [],
   "source": [
    "from catboost import Pool, CatBoostClassifier\n",
    "from sklearn.model_selection import train_test_split\n",
    "from sklearn.metrics import accuracy_score\n",
    "import numpy as np\n",
    "import matplotlib.pyplot as plt\n",
    "import pandas as pd\n",
    "from pandas import DataFrame as df\n",
    "from sklearn.metrics import r2_score, mean_squared_error\n",
    "from sklearn.model_selection import cross_val_score    \n",
    "from sklearn import metrics\n"
   ]
  },
  {
   "cell_type": "code",
   "execution_count": 3,
   "metadata": {},
   "outputs": [],
   "source": [
    "Total_datas = pd.read_csv('C:/Users/hml76/OneDrive/바탕 화면/Capacitive_sensor_research/실험데이터/A-B1 + A-B2  C-D1 + C-D2 데이터/Total_datas_merged_add.csv')\n",
    "Total_labels = pd.read_csv('C:/Users/hml76/OneDrive/바탕 화면/Capacitive_sensor_research/실험데이터/A-B1 + A-B2  C-D1 + C-D2 데이터/Total_labels_merged_add.csv')\n",
    "\n",
    "Total_datas_only = pd.read_csv('C:/Users/hml76/OneDrive/바탕 화면/Capacitive_sensor_research/실험데이터/A-B1 + A-B2  C-D1 + C-D2 데이터/Total_datas_merged_only_add.csv')\n",
    "Total_labels_only = pd.read_csv('C:/Users/hml76/OneDrive/바탕 화면/Capacitive_sensor_research/실험데이터/A-B1 + A-B2  C-D1 + C-D2 데이터/Total_labels_merged_only_add.csv')\n"
   ]
  },
  {
   "cell_type": "code",
   "execution_count": null,
   "metadata": {
    "scrolled": true
   },
   "outputs": [],
   "source": []
  },
  {
   "cell_type": "code",
   "execution_count": 4,
   "metadata": {},
   "outputs": [],
   "source": [
    "X_train, X_test, y_train, y_test = train_test_split(Total_datas, Total_labels, test_size=0.3, random_state=42)\n",
    "X_train1, X_test1, y_train1, y_test1 = train_test_split(Total_datas_only, Total_labels_only, test_size=0.3, random_state=42)"
   ]
  },
  {
   "cell_type": "code",
   "execution_count": 6,
   "metadata": {
    "scrolled": true
   },
   "outputs": [],
   "source": [
    "cat_features = [2]\n",
    "\n",
    "train_dataset = Pool(data=X_train,\n",
    "                     label=y_train)\n",
    "\n",
    "eval_dataset = Pool(data=X_test,\n",
    "                    label=y_test)\n"
   ]
  },
  {
   "cell_type": "code",
   "execution_count": 7,
   "metadata": {},
   "outputs": [
    {
     "name": "stdout",
     "output_type": "stream",
     "text": [
      "0:\tlearn: 1.2733954\ttotal: 344ms\tremaining: 1.03s\n",
      "1:\tlearn: 1.1880063\ttotal: 694ms\tremaining: 694ms\n",
      "2:\tlearn: 1.1203161\ttotal: 1.14s\tremaining: 379ms\n",
      "3:\tlearn: 1.0659087\ttotal: 1.52s\tremaining: 0us\n"
     ]
    },
    {
     "data": {
      "text/plain": [
       "<catboost.core.CatBoostClassifier at 0x1fb0602c588>"
      ]
     },
     "execution_count": 7,
     "metadata": {},
     "output_type": "execute_result"
    }
   ],
   "source": [
    "model = CatBoostClassifier(iterations=4,\n",
    "                           learning_rate=0.1,\n",
    "                           depth=10,\n",
    "                           loss_function='MultiClass')\n",
    "# Fit model\n",
    "model.fit(train_dataset)"
   ]
  },
  {
   "cell_type": "code",
   "execution_count": 8,
   "metadata": {},
   "outputs": [],
   "source": [
    "y_pred=model.predict(X_test)"
   ]
  },
  {
   "cell_type": "code",
   "execution_count": 9,
   "metadata": {},
   "outputs": [
    {
     "name": "stdout",
     "output_type": "stream",
     "text": [
      "Accuracy: 0.6898115498263687\n"
     ]
    }
   ],
   "source": [
    "print(\"Accuracy:\", accuracy_score(y_test, y_pred))"
   ]
  },
  {
   "cell_type": "code",
   "execution_count": null,
   "metadata": {},
   "outputs": [],
   "source": []
  },
  {
   "cell_type": "code",
   "execution_count": 12,
   "metadata": {},
   "outputs": [],
   "source": [
    "cat_features = [4]\n",
    "train_dataset1 = Pool(data=X_train1,\n",
    "                     label=y_train1)\n",
    "\n",
    "eval_dataset1 = Pool(data=X_test1,\n",
    "                    label=y_test1)"
   ]
  },
  {
   "cell_type": "code",
   "execution_count": 14,
   "metadata": {},
   "outputs": [
    {
     "name": "stdout",
     "output_type": "stream",
     "text": [
      "0:\tlearn: 1.3617763\ttotal: 840ms\tremaining: 4.2s\n",
      "1:\tlearn: 1.3382728\ttotal: 1.82s\tremaining: 3.63s\n",
      "2:\tlearn: 1.3165196\ttotal: 2.92s\tremaining: 2.92s\n",
      "3:\tlearn: 1.2957069\ttotal: 3.69s\tremaining: 1.84s\n",
      "4:\tlearn: 1.2760530\ttotal: 4.44s\tremaining: 888ms\n",
      "5:\tlearn: 1.2574450\ttotal: 5.24s\tremaining: 0us\n"
     ]
    },
    {
     "data": {
      "text/plain": [
       "<catboost.core.CatBoostClassifier at 0x1fb05f751d0>"
      ]
     },
     "execution_count": 14,
     "metadata": {},
     "output_type": "execute_result"
    }
   ],
   "source": [
    "model = CatBoostClassifier(iterations=6,\n",
    "                           learning_rate=0.02,\n",
    "                           depth=12,\n",
    "                           loss_function='MultiClass')\n",
    "# Fit model\n",
    "model.fit(train_dataset1)"
   ]
  },
  {
   "cell_type": "code",
   "execution_count": 15,
   "metadata": {},
   "outputs": [
    {
     "name": "stdout",
     "output_type": "stream",
     "text": [
      "Accuracy: 0.6901954132781046\n"
     ]
    }
   ],
   "source": [
    "y_pred1=model.predict(X_test1)\n",
    "print(\"Accuracy:\", accuracy_score(y_test1, y_pred1))"
   ]
  },
  {
   "cell_type": "code",
   "execution_count": null,
   "metadata": {},
   "outputs": [],
   "source": []
  },
  {
   "cell_type": "code",
   "execution_count": null,
   "metadata": {},
   "outputs": [],
   "source": []
  },
  {
   "cell_type": "code",
   "execution_count": null,
   "metadata": {},
   "outputs": [],
   "source": []
  },
  {
   "cell_type": "code",
   "execution_count": null,
   "metadata": {},
   "outputs": [],
   "source": [
    "train_data = [[\"summer\", 1924, 44],\n",
    "              [\"summer\", 1932, 37],\n",
    "              [\"winter\", 1980, 37],\n",
    "              [\"summer\", 2012, 204]]\n",
    "\n",
    "eval_data = [[\"winter\", 1996, 197],\n",
    "             [\"winter\", 1968, 37],\n",
    "             [\"summer\", 2002, 77],\n",
    "             [\"summer\", 1948, 59]]\n",
    "\n",
    "cat_features = [0]\n",
    "\n",
    "train_label = [\"France\", \"USA\", \"USA\", \"UK\"]\n",
    "eval_label = [\"USA\", \"France\", \"USA\", \"UK\"]\n",
    "\n",
    "\n",
    "train_dataset = Pool(data=train_data,\n",
    "                     label=train_label,\n",
    "                     cat_features=cat_features)\n",
    "\n",
    "eval_dataset = Pool(data=eval_data,\n",
    "                    label=eval_label,\n",
    "                    cat_features=cat_features)\n",
    "\n",
    "# Initialize CatBoostClassifier\n",
    "model = CatBoostClassifier(iterations=10,\n",
    "                           learning_rate=1,\n",
    "                           depth=2,\n",
    "                           loss_function='MultiClass')\n",
    "# Fit model\n",
    "model.fit(train_dataset)\n",
    "# Get predicted classes\n",
    "preds_class = model.predict(eval_dataset)\n",
    "# Get predicted probabilities for each class\n",
    "preds_proba = model.predict_proba(eval_dataset)\n",
    "# Get predicted RawFormulaVal\n",
    "preds_raw = model.predict(eval_dataset, \n",
    "                          prediction_type='RawFormulaVal')"
   ]
  },
  {
   "cell_type": "code",
   "execution_count": null,
   "metadata": {},
   "outputs": [],
   "source": []
  },
  {
   "cell_type": "code",
   "execution_count": null,
   "metadata": {},
   "outputs": [],
   "source": []
  }
 ],
 "metadata": {
  "kernelspec": {
   "display_name": "Python 3",
   "language": "python",
   "name": "python3"
  },
  "language_info": {
   "codemirror_mode": {
    "name": "ipython",
    "version": 3
   },
   "file_extension": ".py",
   "mimetype": "text/x-python",
   "name": "python",
   "nbconvert_exporter": "python",
   "pygments_lexer": "ipython3",
   "version": "3.7.3"
  }
 },
 "nbformat": 4,
 "nbformat_minor": 2
}
