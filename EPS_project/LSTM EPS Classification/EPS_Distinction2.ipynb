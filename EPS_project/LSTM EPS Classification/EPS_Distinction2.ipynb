{
 "cells": [
  {
   "cell_type": "code",
   "execution_count": 6,
   "metadata": {},
   "outputs": [],
   "source": [
    "import glob\n",
    "import numpy as np\n",
    "import matplotlib.pyplot as plt\n",
    "import pandas as pd\n",
    "from pandas import DataFrame as df\n",
    "import seaborn as sns\n",
    "from sklearn.model_selection import train_test_split"
   ]
  },
  {
   "cell_type": "code",
   "execution_count": 24,
   "metadata": {},
   "outputs": [
    {
     "data": {
      "text/plain": [
       "(200, 200, 200, 200)"
      ]
     },
     "execution_count": 24,
     "metadata": {},
     "output_type": "execute_result"
    }
   ],
   "source": [
    "data_1 = glob.glob('C:/Users/hml76/OneDrive/바탕 화면/Capacitive_sensor_research/실험데이터/좌-우/*.csv')\n",
    "data_2 = glob.glob('C:/Users/hml76/OneDrive/바탕 화면/Capacitive_sensor_research/실험데이터/우-좌/*.csv')\n",
    "data_3 = glob.glob('C:/Users/hml76/OneDrive/바탕 화면/Capacitive_sensor_research/실험데이터/시계방향/*.csv')\n",
    "data_4 = glob.glob('C:/Users/hml76/OneDrive/바탕 화면/Capacitive_sensor_research/실험데이터/시계반대방향/*.csv')\n",
    "len(data_1), len(data_2), len(data_3), len(data_4)"
   ]
  },
  {
   "cell_type": "code",
   "execution_count": 25,
   "metadata": {
    "scrolled": true
   },
   "outputs": [
    {
     "data": {
      "text/plain": [
       "array([[[0., 0.],\n",
       "        [0., 0.],\n",
       "        [0., 0.],\n",
       "        ...,\n",
       "        [0., 0.],\n",
       "        [0., 0.],\n",
       "        [0., 0.]],\n",
       "\n",
       "       [[0., 0.],\n",
       "        [0., 0.],\n",
       "        [0., 0.],\n",
       "        ...,\n",
       "        [0., 0.],\n",
       "        [0., 0.],\n",
       "        [0., 0.]],\n",
       "\n",
       "       [[0., 0.],\n",
       "        [0., 0.],\n",
       "        [0., 0.],\n",
       "        ...,\n",
       "        [0., 0.],\n",
       "        [0., 0.],\n",
       "        [0., 0.]],\n",
       "\n",
       "       ...,\n",
       "\n",
       "       [[0., 0.],\n",
       "        [0., 0.],\n",
       "        [0., 0.],\n",
       "        ...,\n",
       "        [0., 0.],\n",
       "        [0., 0.],\n",
       "        [0., 0.]],\n",
       "\n",
       "       [[0., 0.],\n",
       "        [0., 0.],\n",
       "        [0., 0.],\n",
       "        ...,\n",
       "        [0., 0.],\n",
       "        [0., 0.],\n",
       "        [0., 0.]],\n",
       "\n",
       "       [[0., 0.],\n",
       "        [0., 0.],\n",
       "        [0., 0.],\n",
       "        ...,\n",
       "        [0., 0.],\n",
       "        [0., 0.],\n",
       "        [0., 0.]]])"
      ]
     },
     "execution_count": 25,
     "metadata": {},
     "output_type": "execute_result"
    }
   ],
   "source": [
    "total_data = data_1 + data_2 + data_3 + data_4\n",
    "#dataset = np.zeros((len(total_data), 100, 4))\n",
    "\n",
    "#total_data = pd.read_csv('C:/Users/hml76/OneDrive/바탕 화면/Capacitive_sensor_research/실험데이터/Total_datas_with_merged.csv')\n",
    "dataset = np.zeros((len(total_data), 100, 2))\n",
    "dataset"
   ]
  },
  {
   "cell_type": "code",
   "execution_count": 36,
   "metadata": {},
   "outputs": [
    {
     "data": {
      "text/plain": [
       "array([[-6.46500e-03,  6.53120e-02,  1.45000e-04, -2.81000e-04],\n",
       "       [-6.61000e-03,  6.55930e-02,  2.00000e-06, -3.36000e-04],\n",
       "       [-6.61200e-03,  6.59290e-02, -1.25000e-04, -3.71000e-04],\n",
       "       ...,\n",
       "       [ 9.74140e-02,  1.06765e-01, -5.09000e-04,  9.18000e-04],\n",
       "       [ 9.80030e-02,  1.06033e-01, -4.30000e-04,  7.84000e-04],\n",
       "       [ 9.85120e-02,  1.05115e-01, -3.92000e-04,  3.63000e-04]])"
      ]
     },
     "execution_count": 36,
     "metadata": {},
     "output_type": "execute_result"
    }
   ],
   "source": [
    "#total_data = data_1 + data_2 + data_3 + data_4\n",
    "dataset = np.zeros((len(total_data), 100, 4))\n",
    "\n",
    "total_data = pd.read_csv('C:/Users/hml76/OneDrive/바탕 화면/Capacitive_sensor_research/실험데이터/Total_datas_with_merged.csv')\n",
    "#dataset = np.zeros((len(total_data), 100, 2))\n",
    "dataset = np.array(total_data)\n",
    "dataset"
   ]
  },
  {
   "cell_type": "code",
   "execution_count": 35,
   "metadata": {
    "scrolled": true
   },
   "outputs": [
    {
     "ename": "FileNotFoundError",
     "evalue": "[Errno 2] File b'-0.006162' does not exist: b'-0.006162'",
     "output_type": "error",
     "traceback": [
      "\u001b[1;31m---------------------------------------------------------------------------\u001b[0m",
      "\u001b[1;31mFileNotFoundError\u001b[0m                         Traceback (most recent call last)",
      "\u001b[1;32m<ipython-input-35-befc0f0d91ed>\u001b[0m in \u001b[0;36m<module>\u001b[1;34m\u001b[0m\n\u001b[0;32m      1\u001b[0m \u001b[1;32mfor\u001b[0m \u001b[0mi\u001b[0m\u001b[1;33m,\u001b[0m \u001b[0mdata\u001b[0m \u001b[1;32min\u001b[0m \u001b[0menumerate\u001b[0m\u001b[1;33m(\u001b[0m\u001b[0mtotal_data\u001b[0m\u001b[1;33m)\u001b[0m\u001b[1;33m:\u001b[0m\u001b[1;33m\u001b[0m\u001b[1;33m\u001b[0m\u001b[0m\n\u001b[1;32m----> 2\u001b[1;33m     \u001b[0mdataset\u001b[0m\u001b[1;33m[\u001b[0m\u001b[0mi\u001b[0m\u001b[1;33m]\u001b[0m \u001b[1;33m=\u001b[0m \u001b[0mpd\u001b[0m\u001b[1;33m.\u001b[0m\u001b[0mread_csv\u001b[0m\u001b[1;33m(\u001b[0m\u001b[0mdata\u001b[0m\u001b[1;33m)\u001b[0m\u001b[1;33m.\u001b[0m\u001b[0msample\u001b[0m\u001b[1;33m(\u001b[0m\u001b[0mn\u001b[0m\u001b[1;33m=\u001b[0m\u001b[1;36m100\u001b[0m\u001b[1;33m)\u001b[0m\u001b[1;33m.\u001b[0m\u001b[0msort_index\u001b[0m\u001b[1;33m(\u001b[0m\u001b[1;33m)\u001b[0m\u001b[1;33m.\u001b[0m\u001b[0miloc\u001b[0m\u001b[1;33m[\u001b[0m\u001b[1;33m:\u001b[0m\u001b[1;33m,\u001b[0m\u001b[1;33m:\u001b[0m\u001b[1;36m4\u001b[0m\u001b[1;33m]\u001b[0m\u001b[1;33m\u001b[0m\u001b[1;33m\u001b[0m\u001b[0m\n\u001b[0m\u001b[0;32m      3\u001b[0m \u001b[1;33m\u001b[0m\u001b[0m\n\u001b[0;32m      4\u001b[0m \u001b[0mlabel\u001b[0m \u001b[1;33m=\u001b[0m \u001b[0mnp\u001b[0m\u001b[1;33m.\u001b[0m\u001b[0marray\u001b[0m\u001b[1;33m(\u001b[0m\u001b[1;33m[\u001b[0m\u001b[1;33m[\u001b[0m\u001b[1;36m1\u001b[0m\u001b[1;33m,\u001b[0m \u001b[1;36m0\u001b[0m\u001b[1;33m,\u001b[0m \u001b[1;36m0\u001b[0m \u001b[1;33m,\u001b[0m\u001b[1;36m0\u001b[0m \u001b[1;33m]\u001b[0m\u001b[1;33m]\u001b[0m \u001b[1;33m*\u001b[0m \u001b[0mlen\u001b[0m\u001b[1;33m(\u001b[0m\u001b[0mdata_1\u001b[0m\u001b[1;33m)\u001b[0m \u001b[1;33m+\u001b[0m \u001b[1;33m[\u001b[0m\u001b[1;33m[\u001b[0m\u001b[1;36m0\u001b[0m\u001b[1;33m,\u001b[0m \u001b[1;36m1\u001b[0m\u001b[1;33m,\u001b[0m \u001b[1;36m0\u001b[0m\u001b[1;33m,\u001b[0m \u001b[1;36m0\u001b[0m\u001b[1;33m]\u001b[0m\u001b[1;33m]\u001b[0m \u001b[1;33m*\u001b[0m \u001b[0mlen\u001b[0m\u001b[1;33m(\u001b[0m\u001b[0mdata_2\u001b[0m\u001b[1;33m)\u001b[0m \u001b[1;33m+\u001b[0m \u001b[1;33m[\u001b[0m\u001b[1;33m[\u001b[0m\u001b[1;36m0\u001b[0m\u001b[1;33m,\u001b[0m \u001b[1;36m0\u001b[0m\u001b[1;33m,\u001b[0m \u001b[1;36m1\u001b[0m\u001b[1;33m,\u001b[0m \u001b[1;36m0\u001b[0m\u001b[1;33m]\u001b[0m\u001b[1;33m]\u001b[0m \u001b[1;33m*\u001b[0m \u001b[0mlen\u001b[0m\u001b[1;33m(\u001b[0m\u001b[0mdata_3\u001b[0m\u001b[1;33m)\u001b[0m \u001b[1;33m+\u001b[0m \u001b[1;33m[\u001b[0m\u001b[1;33m[\u001b[0m\u001b[1;36m0\u001b[0m\u001b[1;33m,\u001b[0m \u001b[1;36m0\u001b[0m\u001b[1;33m,\u001b[0m \u001b[1;36m0\u001b[0m\u001b[1;33m,\u001b[0m \u001b[1;36m1\u001b[0m\u001b[1;33m]\u001b[0m\u001b[1;33m]\u001b[0m \u001b[1;33m*\u001b[0m \u001b[0mlen\u001b[0m\u001b[1;33m(\u001b[0m\u001b[0mdata_4\u001b[0m\u001b[1;33m)\u001b[0m\u001b[1;33m)\u001b[0m\u001b[1;33m\u001b[0m\u001b[1;33m\u001b[0m\u001b[0m\n\u001b[0;32m      5\u001b[0m \u001b[0mdataset\u001b[0m\u001b[1;33m.\u001b[0m\u001b[0mshape\u001b[0m\u001b[1;33m,\u001b[0m \u001b[0mlabel\u001b[0m\u001b[1;33m.\u001b[0m\u001b[0mshape\u001b[0m\u001b[1;33m\u001b[0m\u001b[1;33m\u001b[0m\u001b[0m\n",
      "\u001b[1;32m~\\AppData\\Local\\Continuum\\anaconda3\\lib\\site-packages\\pandas\\io\\parsers.py\u001b[0m in \u001b[0;36mparser_f\u001b[1;34m(filepath_or_buffer, sep, delimiter, header, names, index_col, usecols, squeeze, prefix, mangle_dupe_cols, dtype, engine, converters, true_values, false_values, skipinitialspace, skiprows, skipfooter, nrows, na_values, keep_default_na, na_filter, verbose, skip_blank_lines, parse_dates, infer_datetime_format, keep_date_col, date_parser, dayfirst, iterator, chunksize, compression, thousands, decimal, lineterminator, quotechar, quoting, doublequote, escapechar, comment, encoding, dialect, tupleize_cols, error_bad_lines, warn_bad_lines, delim_whitespace, low_memory, memory_map, float_precision)\u001b[0m\n\u001b[0;32m    700\u001b[0m                     skip_blank_lines=skip_blank_lines)\n\u001b[0;32m    701\u001b[0m \u001b[1;33m\u001b[0m\u001b[0m\n\u001b[1;32m--> 702\u001b[1;33m         \u001b[1;32mreturn\u001b[0m \u001b[0m_read\u001b[0m\u001b[1;33m(\u001b[0m\u001b[0mfilepath_or_buffer\u001b[0m\u001b[1;33m,\u001b[0m \u001b[0mkwds\u001b[0m\u001b[1;33m)\u001b[0m\u001b[1;33m\u001b[0m\u001b[1;33m\u001b[0m\u001b[0m\n\u001b[0m\u001b[0;32m    703\u001b[0m \u001b[1;33m\u001b[0m\u001b[0m\n\u001b[0;32m    704\u001b[0m     \u001b[0mparser_f\u001b[0m\u001b[1;33m.\u001b[0m\u001b[0m__name__\u001b[0m \u001b[1;33m=\u001b[0m \u001b[0mname\u001b[0m\u001b[1;33m\u001b[0m\u001b[1;33m\u001b[0m\u001b[0m\n",
      "\u001b[1;32m~\\AppData\\Local\\Continuum\\anaconda3\\lib\\site-packages\\pandas\\io\\parsers.py\u001b[0m in \u001b[0;36m_read\u001b[1;34m(filepath_or_buffer, kwds)\u001b[0m\n\u001b[0;32m    427\u001b[0m \u001b[1;33m\u001b[0m\u001b[0m\n\u001b[0;32m    428\u001b[0m     \u001b[1;31m# Create the parser.\u001b[0m\u001b[1;33m\u001b[0m\u001b[1;33m\u001b[0m\u001b[1;33m\u001b[0m\u001b[0m\n\u001b[1;32m--> 429\u001b[1;33m     \u001b[0mparser\u001b[0m \u001b[1;33m=\u001b[0m \u001b[0mTextFileReader\u001b[0m\u001b[1;33m(\u001b[0m\u001b[0mfilepath_or_buffer\u001b[0m\u001b[1;33m,\u001b[0m \u001b[1;33m**\u001b[0m\u001b[0mkwds\u001b[0m\u001b[1;33m)\u001b[0m\u001b[1;33m\u001b[0m\u001b[1;33m\u001b[0m\u001b[0m\n\u001b[0m\u001b[0;32m    430\u001b[0m \u001b[1;33m\u001b[0m\u001b[0m\n\u001b[0;32m    431\u001b[0m     \u001b[1;32mif\u001b[0m \u001b[0mchunksize\u001b[0m \u001b[1;32mor\u001b[0m \u001b[0miterator\u001b[0m\u001b[1;33m:\u001b[0m\u001b[1;33m\u001b[0m\u001b[1;33m\u001b[0m\u001b[0m\n",
      "\u001b[1;32m~\\AppData\\Local\\Continuum\\anaconda3\\lib\\site-packages\\pandas\\io\\parsers.py\u001b[0m in \u001b[0;36m__init__\u001b[1;34m(self, f, engine, **kwds)\u001b[0m\n\u001b[0;32m    893\u001b[0m             \u001b[0mself\u001b[0m\u001b[1;33m.\u001b[0m\u001b[0moptions\u001b[0m\u001b[1;33m[\u001b[0m\u001b[1;34m'has_index_names'\u001b[0m\u001b[1;33m]\u001b[0m \u001b[1;33m=\u001b[0m \u001b[0mkwds\u001b[0m\u001b[1;33m[\u001b[0m\u001b[1;34m'has_index_names'\u001b[0m\u001b[1;33m]\u001b[0m\u001b[1;33m\u001b[0m\u001b[1;33m\u001b[0m\u001b[0m\n\u001b[0;32m    894\u001b[0m \u001b[1;33m\u001b[0m\u001b[0m\n\u001b[1;32m--> 895\u001b[1;33m         \u001b[0mself\u001b[0m\u001b[1;33m.\u001b[0m\u001b[0m_make_engine\u001b[0m\u001b[1;33m(\u001b[0m\u001b[0mself\u001b[0m\u001b[1;33m.\u001b[0m\u001b[0mengine\u001b[0m\u001b[1;33m)\u001b[0m\u001b[1;33m\u001b[0m\u001b[1;33m\u001b[0m\u001b[0m\n\u001b[0m\u001b[0;32m    896\u001b[0m \u001b[1;33m\u001b[0m\u001b[0m\n\u001b[0;32m    897\u001b[0m     \u001b[1;32mdef\u001b[0m \u001b[0mclose\u001b[0m\u001b[1;33m(\u001b[0m\u001b[0mself\u001b[0m\u001b[1;33m)\u001b[0m\u001b[1;33m:\u001b[0m\u001b[1;33m\u001b[0m\u001b[1;33m\u001b[0m\u001b[0m\n",
      "\u001b[1;32m~\\AppData\\Local\\Continuum\\anaconda3\\lib\\site-packages\\pandas\\io\\parsers.py\u001b[0m in \u001b[0;36m_make_engine\u001b[1;34m(self, engine)\u001b[0m\n\u001b[0;32m   1120\u001b[0m     \u001b[1;32mdef\u001b[0m \u001b[0m_make_engine\u001b[0m\u001b[1;33m(\u001b[0m\u001b[0mself\u001b[0m\u001b[1;33m,\u001b[0m \u001b[0mengine\u001b[0m\u001b[1;33m=\u001b[0m\u001b[1;34m'c'\u001b[0m\u001b[1;33m)\u001b[0m\u001b[1;33m:\u001b[0m\u001b[1;33m\u001b[0m\u001b[1;33m\u001b[0m\u001b[0m\n\u001b[0;32m   1121\u001b[0m         \u001b[1;32mif\u001b[0m \u001b[0mengine\u001b[0m \u001b[1;33m==\u001b[0m \u001b[1;34m'c'\u001b[0m\u001b[1;33m:\u001b[0m\u001b[1;33m\u001b[0m\u001b[1;33m\u001b[0m\u001b[0m\n\u001b[1;32m-> 1122\u001b[1;33m             \u001b[0mself\u001b[0m\u001b[1;33m.\u001b[0m\u001b[0m_engine\u001b[0m \u001b[1;33m=\u001b[0m \u001b[0mCParserWrapper\u001b[0m\u001b[1;33m(\u001b[0m\u001b[0mself\u001b[0m\u001b[1;33m.\u001b[0m\u001b[0mf\u001b[0m\u001b[1;33m,\u001b[0m \u001b[1;33m**\u001b[0m\u001b[0mself\u001b[0m\u001b[1;33m.\u001b[0m\u001b[0moptions\u001b[0m\u001b[1;33m)\u001b[0m\u001b[1;33m\u001b[0m\u001b[1;33m\u001b[0m\u001b[0m\n\u001b[0m\u001b[0;32m   1123\u001b[0m         \u001b[1;32melse\u001b[0m\u001b[1;33m:\u001b[0m\u001b[1;33m\u001b[0m\u001b[1;33m\u001b[0m\u001b[0m\n\u001b[0;32m   1124\u001b[0m             \u001b[1;32mif\u001b[0m \u001b[0mengine\u001b[0m \u001b[1;33m==\u001b[0m \u001b[1;34m'python'\u001b[0m\u001b[1;33m:\u001b[0m\u001b[1;33m\u001b[0m\u001b[1;33m\u001b[0m\u001b[0m\n",
      "\u001b[1;32m~\\AppData\\Local\\Continuum\\anaconda3\\lib\\site-packages\\pandas\\io\\parsers.py\u001b[0m in \u001b[0;36m__init__\u001b[1;34m(self, src, **kwds)\u001b[0m\n\u001b[0;32m   1851\u001b[0m         \u001b[0mkwds\u001b[0m\u001b[1;33m[\u001b[0m\u001b[1;34m'usecols'\u001b[0m\u001b[1;33m]\u001b[0m \u001b[1;33m=\u001b[0m \u001b[0mself\u001b[0m\u001b[1;33m.\u001b[0m\u001b[0musecols\u001b[0m\u001b[1;33m\u001b[0m\u001b[1;33m\u001b[0m\u001b[0m\n\u001b[0;32m   1852\u001b[0m \u001b[1;33m\u001b[0m\u001b[0m\n\u001b[1;32m-> 1853\u001b[1;33m         \u001b[0mself\u001b[0m\u001b[1;33m.\u001b[0m\u001b[0m_reader\u001b[0m \u001b[1;33m=\u001b[0m \u001b[0mparsers\u001b[0m\u001b[1;33m.\u001b[0m\u001b[0mTextReader\u001b[0m\u001b[1;33m(\u001b[0m\u001b[0msrc\u001b[0m\u001b[1;33m,\u001b[0m \u001b[1;33m**\u001b[0m\u001b[0mkwds\u001b[0m\u001b[1;33m)\u001b[0m\u001b[1;33m\u001b[0m\u001b[1;33m\u001b[0m\u001b[0m\n\u001b[0m\u001b[0;32m   1854\u001b[0m         \u001b[0mself\u001b[0m\u001b[1;33m.\u001b[0m\u001b[0munnamed_cols\u001b[0m \u001b[1;33m=\u001b[0m \u001b[0mself\u001b[0m\u001b[1;33m.\u001b[0m\u001b[0m_reader\u001b[0m\u001b[1;33m.\u001b[0m\u001b[0munnamed_cols\u001b[0m\u001b[1;33m\u001b[0m\u001b[1;33m\u001b[0m\u001b[0m\n\u001b[0;32m   1855\u001b[0m \u001b[1;33m\u001b[0m\u001b[0m\n",
      "\u001b[1;32mpandas/_libs/parsers.pyx\u001b[0m in \u001b[0;36mpandas._libs.parsers.TextReader.__cinit__\u001b[1;34m()\u001b[0m\n",
      "\u001b[1;32mpandas/_libs/parsers.pyx\u001b[0m in \u001b[0;36mpandas._libs.parsers.TextReader._setup_parser_source\u001b[1;34m()\u001b[0m\n",
      "\u001b[1;31mFileNotFoundError\u001b[0m: [Errno 2] File b'-0.006162' does not exist: b'-0.006162'"
     ]
    }
   ],
   "source": [
    "for i, data in enumerate(total_data):\n",
    "    dataset[i] = pd.read_csv(data).sample(n=100).sort_index().iloc[:,:4]\n",
    "    \n",
    "label = np.array([[1, 0, 0 ,0 ]] * len(data_1) + [[0, 1, 0, 0]] * len(data_2) + [[0, 0, 1, 0]] * len(data_3) + [[0, 0, 0, 1]] * len(data_4))\n",
    "dataset.shape, label.shape    "
   ]
  },
  {
   "cell_type": "code",
   "execution_count": 37,
   "metadata": {},
   "outputs": [
    {
     "data": {
      "text/plain": [
       "(373395, 4)"
      ]
     },
     "execution_count": 37,
     "metadata": {},
     "output_type": "execute_result"
    }
   ],
   "source": [
    "dataset.shape"
   ]
  },
  {
   "cell_type": "code",
   "execution_count": null,
   "metadata": {},
   "outputs": [],
   "source": [
    "label = "
   ]
  },
  {
   "cell_type": "code",
   "execution_count": 68,
   "metadata": {},
   "outputs": [
    {
     "data": {
      "text/plain": [
       "((373395, 4), (373395, 4))"
      ]
     },
     "execution_count": 68,
     "metadata": {},
     "output_type": "execute_result"
    }
   ],
   "source": [
    "label = np.array(([[1, 0, 0 ,0 ]] * 55899) + ([[0, 1, 0, 0]] * 79099) + ([[0, 0, 1, 0]] * 97900) + ([[0, 0, 0, 1]] * 140497) )\n",
    "dataset.shape, label.shape    "
   ]
  },
  {
   "cell_type": "code",
   "execution_count": null,
   "metadata": {},
   "outputs": [],
   "source": []
  },
  {
   "cell_type": "code",
   "execution_count": 28,
   "metadata": {
    "scrolled": true
   },
   "outputs": [
    {
     "data": {
      "text/plain": [
       "array([[[-0.006162,  0.065109],\n",
       "        [-0.006487,  0.0663  ],\n",
       "        [-0.006328,  0.067752],\n",
       "        ...,\n",
       "        [-0.257025,  0.017383],\n",
       "        [-0.255444,  0.012578],\n",
       "        [-0.252177,  0.002974]],\n",
       "\n",
       "       [[ 0.012494,  0.039225],\n",
       "        [ 0.011924,  0.040246],\n",
       "        [ 0.011209,  0.040416],\n",
       "        ...,\n",
       "        [-0.016896,  0.154729],\n",
       "        [-0.019931,  0.153733],\n",
       "        [-0.022855,  0.152453]],\n",
       "\n",
       "       [[ 0.006021,  0.081457],\n",
       "        [ 0.005825,  0.080838],\n",
       "        [ 0.00575 ,  0.080622],\n",
       "        ...,\n",
       "        [-0.190712, -0.012411],\n",
       "        [-0.191569, -0.014376],\n",
       "        [-0.193127, -0.017875]],\n",
       "\n",
       "       ...,\n",
       "\n",
       "       [[-0.048586,  0.070963],\n",
       "        [-0.047757,  0.07031 ],\n",
       "        [-0.050937,  0.067942],\n",
       "        ...,\n",
       "        [-0.089302,  0.21664 ],\n",
       "        [-0.092032,  0.209419],\n",
       "        [-0.085702,  0.212729]],\n",
       "\n",
       "       [[-0.044828,  0.010512],\n",
       "        [-0.046266,  0.009497],\n",
       "        [-0.046294,  0.009391],\n",
       "        ...,\n",
       "        [ 0.095382,  0.107046],\n",
       "        [ 0.098942,  0.104331],\n",
       "        [ 0.099334,  0.103968]],\n",
       "\n",
       "       [[-0.048255,  0.082409],\n",
       "        [-0.045666,  0.077219],\n",
       "        [-0.044338,  0.074857],\n",
       "        ...,\n",
       "        [-0.126927,  0.259443],\n",
       "        [-0.121832,  0.261567],\n",
       "        [-0.118211,  0.229602]]])"
      ]
     },
     "execution_count": 28,
     "metadata": {},
     "output_type": "execute_result"
    }
   ],
   "source": [
    "dataset"
   ]
  },
  {
   "cell_type": "code",
   "execution_count": 38,
   "metadata": {},
   "outputs": [
    {
     "data": {
      "text/plain": [
       "array([[1, 0, 0, 0],\n",
       "       [1, 0, 0, 0],\n",
       "       [1, 0, 0, 0],\n",
       "       ...,\n",
       "       [0, 0, 0, 1],\n",
       "       [0, 0, 0, 1],\n",
       "       [0, 0, 0, 1]])"
      ]
     },
     "execution_count": 38,
     "metadata": {},
     "output_type": "execute_result"
    }
   ],
   "source": [
    "label"
   ]
  },
  {
   "cell_type": "code",
   "execution_count": 70,
   "metadata": {},
   "outputs": [],
   "source": [
    "X_train, X_test, y_train, y_test = train_test_split(dataset, label, random_state=0, test_size=0.2)"
   ]
  },
  {
   "cell_type": "code",
   "execution_count": 71,
   "metadata": {},
   "outputs": [],
   "source": [
    "from keras.layers import LSTM, Dense\n",
    "from keras.models import Sequential\n",
    "import keras.backend as K\n",
    "from keras.callbacks import ReduceLROnPlateau, ModelCheckpoint, EarlyStopping\n",
    "from keras.optimizers import Adam\n",
    "from keras.wrappers.scikit_learn import KerasClassifier\n",
    "from sklearn.model_selection import KFold, cross_val_score"
   ]
  },
  {
   "cell_type": "code",
   "execution_count": 72,
   "metadata": {},
   "outputs": [],
   "source": [
    "callback = [\n",
    "    ReduceLROnPlateau(monitor='val_loss', factor=0.1, patience=3, min_lr=0.000001), \n",
    "    #ModelCheckpoint(filepath='./weights.h5', save_best_only=True),\n",
    "    EarlyStopping(monitor='val_acc', restore_best_weights=True, patience=5)\n",
    "]"
   ]
  },
  {
   "cell_type": "code",
   "execution_count": 73,
   "metadata": {},
   "outputs": [],
   "source": [
    "K.clear_session()"
   ]
  },
  {
   "cell_type": "code",
   "execution_count": 74,
   "metadata": {},
   "outputs": [],
   "source": [
    "model_once = Sequential()"
   ]
  },
  {
   "cell_type": "code",
   "execution_count": null,
   "metadata": {},
   "outputs": [],
   "source": [
    "model_once.add(LSTM(20, input_shape=(373395,4)))\n",
    "model_once.add(Dense(4, activation='softmax'))\n",
    "model_once.compile(loss='categorical_crossentropy', optimizer=Adam(lr=0.005), metrics=['acc'])"
   ]
  },
  {
   "cell_type": "code",
   "execution_count": null,
   "metadata": {},
   "outputs": [],
   "source": [
    "model_once.summary()"
   ]
  },
  {
   "cell_type": "code",
   "execution_count": null,
   "metadata": {},
   "outputs": [],
   "source": [
    "model_once.fit(X_train, y_train, epochs=40)"
   ]
  },
  {
   "cell_type": "code",
   "execution_count": 15,
   "metadata": {},
   "outputs": [
    {
     "data": {
      "text/plain": [
       "(array([1, 2, 1, 0, 2, 2, 1, 3, 1, 1, 0, 1, 3, 3, 0, 0, 1, 1, 0, 2]),\n",
       " array([1, 2, 1, 0, 2, 2, 2, 3, 1, 1, 0, 1, 3, 1, 0, 0, 2, 1, 0, 2]))"
      ]
     },
     "execution_count": 15,
     "metadata": {},
     "output_type": "execute_result"
    }
   ],
   "source": [
    "y_test_to_int = np.arange(len(y_test))\n",
    "x_test_to_int = np.arange(len(X_test)) \n",
    "\n",
    "for j in range(len(X_test)):\n",
    "    x_test_to_int[j] = int(model_once.predict_classes(X_test[j:j+1]))\n",
    "    for k in range(4):\n",
    "        if(y_test[j,k] == 1):\n",
    "            y_test_to_int[j] = k \n",
    "\n",
    "y_test_to_int[0:20], x_test_to_int[0:20]           "
   ]
  },
  {
   "cell_type": "code",
   "execution_count": 16,
   "metadata": {
    "scrolled": true
   },
   "outputs": [
    {
     "name": "stdout",
     "output_type": "stream",
     "text": [
      "Real value : Prediction\n",
      "---------------------------\n",
      "    1 \t   : \t 2\n",
      "    3 \t   : \t 1\n",
      "    1 \t   : \t 2\n",
      "    3 \t   : \t 1\n",
      "    2 \t   : \t 3\n",
      "    3 \t   : \t 1\n",
      "    3 \t   : \t 1\n",
      "    3 \t   : \t 1\n",
      "    3 \t   : \t 1\n",
      "    3 \t   : \t 1\n",
      "    1 \t   : \t 2\n",
      "    1 \t   : \t 0\n",
      "    1 \t   : \t 2\n",
      "    3 \t   : \t 2\n",
      "    3 \t   : \t 1\n",
      "    1 \t   : \t 0\n",
      "    1 \t   : \t 0\n",
      "    3 \t   : \t 1\n",
      "    3 \t   : \t 1\n",
      "    3 \t   : \t 1\n",
      "    2 \t   : \t 0\n",
      "    3 \t   : \t 1\n",
      "    3 \t   : \t 0\n",
      "    3 \t   : \t 1\n",
      "    1 \t   : \t 2\n",
      "    1 \t   : \t 2\n",
      "\n",
      "\n",
      "Number of miscalculation :  26 / 160 = 0.163\n",
      "\n",
      "Accuracy :  83.75 %\n"
     ]
    }
   ],
   "source": [
    "count=0\n",
    "print(\"Real value : Prediction\\n---------------------------\")\n",
    "for i in range(len(X_test)):\n",
    "    if(y_test_to_int[i] != x_test_to_int[i]):\n",
    "        print(\"   \",y_test_to_int[i], \"\\t   : \\t\", x_test_to_int[i])\n",
    "        count = count + 1\n",
    "probab = count/len(X_test)\n",
    "print(\"\\n\\nNumber of miscalculation : \",count,\"/\",len(x_test_to_int),\"=\",round(probab,3))\n",
    "print(\"\\nAccuracy : \",((1-round(probab,4))*100),\"%\")"
   ]
  },
  {
   "cell_type": "code",
   "execution_count": null,
   "metadata": {},
   "outputs": [],
   "source": []
  },
  {
   "cell_type": "code",
   "execution_count": null,
   "metadata": {},
   "outputs": [],
   "source": []
  },
  {
   "cell_type": "code",
   "execution_count": null,
   "metadata": {},
   "outputs": [],
   "source": []
  },
  {
   "cell_type": "code",
   "execution_count": null,
   "metadata": {},
   "outputs": [],
   "source": []
  },
  {
   "cell_type": "code",
   "execution_count": null,
   "metadata": {},
   "outputs": [],
   "source": []
  },
  {
   "cell_type": "code",
   "execution_count": null,
   "metadata": {},
   "outputs": [],
   "source": []
  },
  {
   "cell_type": "code",
   "execution_count": null,
   "metadata": {},
   "outputs": [],
   "source": []
  },
  {
   "cell_type": "code",
   "execution_count": null,
   "metadata": {},
   "outputs": [],
   "source": []
  },
  {
   "cell_type": "code",
   "execution_count": null,
   "metadata": {},
   "outputs": [],
   "source": []
  },
  {
   "cell_type": "code",
   "execution_count": null,
   "metadata": {},
   "outputs": [],
   "source": []
  },
  {
   "cell_type": "code",
   "execution_count": null,
   "metadata": {},
   "outputs": [],
   "source": []
  },
  {
   "cell_type": "code",
   "execution_count": 25,
   "metadata": {},
   "outputs": [
    {
     "data": {
      "text/plain": [
       "(640, 100, 2)"
      ]
     },
     "execution_count": 25,
     "metadata": {},
     "output_type": "execute_result"
    }
   ],
   "source": [
    "X_train.shape"
   ]
  },
  {
   "cell_type": "code",
   "execution_count": 26,
   "metadata": {},
   "outputs": [
    {
     "name": "stdout",
     "output_type": "stream",
     "text": [
      "[0 0 0 3 0 1 2 2 2 1 0 1 1 3 0 0 0 2 1 1 1 0 1 0 3 2 2 3 3 2 1 1 2 1 3 3 2\n",
      " 1 0 1 2 1 2 1 2 3 3 1 3 0 0 3 2 0 2 2 0 0 1 2 1 0 0 1 2 0 3 3 2 0 1 1 1 0\n",
      " 3 3 0 0 0 2 0 2 2 2 0 3 2 0 1 3 0 1 1 2 3 1 2 3 1 2 0 1 0 1 2 3 3 0 1 1 3\n",
      " 1 0 1 1 1 0 3 3 2 1 2 3 1 2 1 2 2 1 3 3 3 0 1 1 0 1 1 0 2 3 2 0 2 3 2 1 3\n",
      " 3 1 3 0 3 3 0 2 0 1 0 0 1 1 3 3 1 3 0 3 1 2 0 3 0 0 0 0 3 2 0 0 2 1 2 1 1\n",
      " 0 3 0 1 2 1 3 1 3 3 0 2 2 2 3 1 0 3 2 2 1 0 0 1 1 1 0 3 1 3 1 2 3 3 1 3 1\n",
      " 1 2 1 2 3 2 3 0 3 2 1 2 3 0 3 3 0 0 1 0 1 2 2 2 3 1 1 3 0 0 0 1 3 1 3 2 2\n",
      " 3 2 0 2 1 3 0 0 0 3 3 0 2 3 3 1 3 0 2 0 2 1 2 1 3 3 1 1 2 2 0 0 2 3 3 1 2\n",
      " 2 2 3 0 0 0 1 0 3 1 3 3 2 1 2 2 1 2 2 2 0 0 2 3 2 1 2 3 1 2 1 0 1 2 1 3 0\n",
      " 3 2 2 3 2 3 0 0 2 2 0 2 1 3 0 3 2 1 1 2 2 1 0 3 0 2 2 3 0 3 2 2 3 0 0 0 0\n",
      " 0 2 1 2 2 3 2 2 0 2 0 3 3 2 2 2 3 1 1 0 2 2 1 1 3 0 1 0 0 2 3 3 0 0 1 1 3\n",
      " 3 3 3 0 0 2 3 1 3 1 3 3 1 0 0 0 1 0 3 0 2 3 1 1 0 1 2 2 2 3 3 3 1 2 3 2 0\n",
      " 1 3 3 3 3 1 0 0 1 1 0 1 0 0 1 2 2 1 3 2 3 2 1 2 1 0 2 1 2 2 0 2 0 0 0 0 2\n",
      " 3 2 2 0 1 1 3 1 2 2 3 0 1 1 1 1 0 2 3 1 1 2 3 2 0 1 3 3 1 3 0 0 0 1 0 0 0\n",
      " 0 0 0 2 2 1 0 2 0 2 0 1 0 0 3 2 1 2 1 1 1 2 3 1 1 3 1 3 0 0 3 3 0 2 1 2 1\n",
      " 1 3 0 0 0 3 0 1 1 0 3 2 3 1 0 0 2 0 1 0 1 1 3 2 0 3 1 1 1 2 2 0 3 0 0 0 2\n",
      " 2 3 0 1 3 2 2 3 3 1 1 2 0 3 3 0 0 2 2 3 3 0 0 2 3 3 0 0 2 2 3 1 1 3 2 0 2\n",
      " 3 1 3 0 1 3 3 0 3 2 3]\n",
      "(array([0, 1, 2, 3], dtype=int64), array([168, 160, 157, 155], dtype=int64))\n"
     ]
    }
   ],
   "source": [
    "y_tr_ = np.argmax(y_train, axis=-1)\n",
    "print(y_tr_)\n",
    "print(np.unique(y_tr_, return_counts=True))"
   ]
  },
  {
   "cell_type": "code",
   "execution_count": 27,
   "metadata": {},
   "outputs": [],
   "source": [
    "import matplotlib.pyplot as plt"
   ]
  },
  {
   "cell_type": "code",
   "execution_count": 28,
   "metadata": {},
   "outputs": [
    {
     "data": {
      "text/plain": [
       "[<matplotlib.lines.Line2D at 0x17cf3b65fd0>]"
      ]
     },
     "execution_count": 28,
     "metadata": {},
     "output_type": "execute_result"
    },
    {
     "data": {
      "image/png": "[encoded data removed]",
      "text/plain": [
       "<Figure size 432x288 with 1 Axes>"
      ]
     },
     "metadata": {
      "needs_background": "light"
     },
     "output_type": "display_data"
    }
   ],
   "source": [
    "plt.plot(dataset[120,:,0])"
   ]
  },
  {
   "cell_type": "code",
   "execution_count": 29,
   "metadata": {},
   "outputs": [
    {
     "name": "stderr",
     "output_type": "stream",
     "text": [
      "Using TensorFlow backend.\n"
     ]
    }
   ],
   "source": [
    "from keras.layers import LSTM, Dense\n",
    "from keras.models import Sequential\n",
    "import keras.backend as K\n",
    "from keras.callbacks import ReduceLROnPlateau, ModelCheckpoint, EarlyStopping\n",
    "from keras.optimizers import Adam\n",
    "from keras.wrappers.scikit_learn import KerasClassifier\n",
    "from sklearn.model_selection import KFold, cross_val_score"
   ]
  },
  {
   "cell_type": "code",
   "execution_count": 30,
   "metadata": {},
   "outputs": [],
   "source": [
    "callback = [\n",
    "    ReduceLROnPlateau(monitor='val_loss', factor=0.1, patience=3, min_lr=0.000001), \n",
    "    #ModelCheckpoint(filepath='./weights.h5', save_best_only=True),\n",
    "    EarlyStopping(monitor='val_acc', restore_best_weights=True, patience=5)\n",
    "]"
   ]
  },
  {
   "cell_type": "code",
   "execution_count": 31,
   "metadata": {
    "scrolled": true
   },
   "outputs": [
    {
     "name": "stdout",
     "output_type": "stream",
     "text": [
      "WARNING:tensorflow:From C:\\Users\\hml76\\AppData\\Local\\Continuum\\anaconda3\\lib\\site-packages\\keras\\backend\\tensorflow_backend.py:95: The name tf.reset_default_graph is deprecated. Please use tf.compat.v1.reset_default_graph instead.\n",
      "\n",
      "WARNING:tensorflow:From C:\\Users\\hml76\\AppData\\Local\\Continuum\\anaconda3\\lib\\site-packages\\keras\\backend\\tensorflow_backend.py:98: The name tf.placeholder_with_default is deprecated. Please use tf.compat.v1.placeholder_with_default instead.\n",
      "\n",
      "WARNING:tensorflow:From C:\\Users\\hml76\\AppData\\Local\\Continuum\\anaconda3\\lib\\site-packages\\keras\\backend\\tensorflow_backend.py:102: The name tf.get_default_graph is deprecated. Please use tf.compat.v1.get_default_graph instead.\n",
      "\n"
     ]
    }
   ],
   "source": [
    "K.clear_session()"
   ]
  },
  {
   "cell_type": "code",
   "execution_count": 32,
   "metadata": {},
   "outputs": [],
   "source": [
    "model_once = Sequential()"
   ]
  },
  {
   "cell_type": "code",
   "execution_count": 33,
   "metadata": {
    "scrolled": true
   },
   "outputs": [
    {
     "name": "stdout",
     "output_type": "stream",
     "text": [
      "WARNING:tensorflow:From C:\\Users\\hml76\\AppData\\Local\\Continuum\\anaconda3\\lib\\site-packages\\keras\\backend\\tensorflow_backend.py:517: The name tf.placeholder is deprecated. Please use tf.compat.v1.placeholder instead.\n",
      "\n",
      "WARNING:tensorflow:From C:\\Users\\hml76\\AppData\\Local\\Continuum\\anaconda3\\lib\\site-packages\\keras\\backend\\tensorflow_backend.py:4138: The name tf.random_uniform is deprecated. Please use tf.random.uniform instead.\n",
      "\n",
      "WARNING:tensorflow:From C:\\Users\\hml76\\AppData\\Local\\Continuum\\anaconda3\\lib\\site-packages\\keras\\optimizers.py:790: The name tf.train.Optimizer is deprecated. Please use tf.compat.v1.train.Optimizer instead.\n",
      "\n"
     ]
    }
   ],
   "source": [
    "model_once.add(LSTM(20, input_shape=(100,2)))\n",
    "model_once.add(Dense(4, activation='softmax'))\n",
    "model_once.compile(loss='categorical_crossentropy', optimizer=Adam(lr=0.005), metrics=['acc'])"
   ]
  },
  {
   "cell_type": "code",
   "execution_count": 34,
   "metadata": {},
   "outputs": [
    {
     "name": "stdout",
     "output_type": "stream",
     "text": [
      "_________________________________________________________________\n",
      "Layer (type)                 Output Shape              Param #   \n",
      "=================================================================\n",
      "lstm_1 (LSTM)                (None, 20)                1840      \n",
      "_________________________________________________________________\n",
      "dense_1 (Dense)              (None, 4)                 84        \n",
      "=================================================================\n",
      "Total params: 1,924\n",
      "Trainable params: 1,924\n",
      "Non-trainable params: 0\n",
      "_________________________________________________________________\n"
     ]
    }
   ],
   "source": [
    "model_once.summary()"
   ]
  },
  {
   "cell_type": "code",
   "execution_count": 35,
   "metadata": {
    "scrolled": true
   },
   "outputs": [
    {
     "name": "stdout",
     "output_type": "stream",
     "text": [
      "WARNING:tensorflow:From C:\\Users\\hml76\\AppData\\Local\\Continuum\\anaconda3\\lib\\site-packages\\tensorflow\\python\\ops\\math_grad.py:1250: add_dispatch_support.<locals>.wrapper (from tensorflow.python.ops.array_ops) is deprecated and will be removed in a future version.\n",
      "Instructions for updating:\n",
      "Use tf.where in 2.0, which has the same broadcast rule as np.where\n",
      "Epoch 1/40\n",
      "640/640 [==============================] - 3s 4ms/step - loss: 1.3402 - acc: 0.3641\n",
      "Epoch 2/40\n",
      "640/640 [==============================] - 2s 3ms/step - loss: 0.9090 - acc: 0.6281\n",
      "Epoch 3/40\n",
      "640/640 [==============================] - 1s 2ms/step - loss: 0.7666 - acc: 0.6656\n",
      "Epoch 4/40\n",
      "640/640 [==============================] - 1s 2ms/step - loss: 0.7698 - acc: 0.6766\n",
      "Epoch 5/40\n",
      "640/640 [==============================] - 1s 2ms/step - loss: 0.9921 - acc: 0.5516\n",
      "Epoch 6/40\n",
      "640/640 [==============================] - 1s 2ms/step - loss: 0.9098 - acc: 0.6141\n",
      "Epoch 7/40\n",
      "640/640 [==============================] - 1s 2ms/step - loss: 0.7450 - acc: 0.7234\n",
      "Epoch 8/40\n",
      "640/640 [==============================] - 2s 3ms/step - loss: 0.6027 - acc: 0.8156\n",
      "Epoch 9/40\n",
      "640/640 [==============================] - 1s 2ms/step - loss: 0.4546 - acc: 0.8406\n",
      "Epoch 10/40\n",
      "640/640 [==============================] - 1s 2ms/step - loss: 0.3696 - acc: 0.8750\n",
      "Epoch 11/40\n",
      "640/640 [==============================] - 2s 3ms/step - loss: 0.3070 - acc: 0.9219\n",
      "Epoch 12/40\n",
      "640/640 [==============================] - 1s 2ms/step - loss: 0.2181 - acc: 0.9516\n",
      "Epoch 13/40\n",
      "640/640 [==============================] - 1s 2ms/step - loss: 0.1733 - acc: 0.9594\n",
      "Epoch 14/40\n",
      "640/640 [==============================] - 1s 2ms/step - loss: 0.1268 - acc: 0.9703\n",
      "Epoch 15/40\n",
      "640/640 [==============================] - 1s 2ms/step - loss: 0.1115 - acc: 0.9734\n",
      "Epoch 16/40\n",
      "640/640 [==============================] - 2s 2ms/step - loss: 0.1525 - acc: 0.9484\n",
      "Epoch 17/40\n",
      "640/640 [==============================] - 2s 2ms/step - loss: 0.2219 - acc: 0.9281\n",
      "Epoch 18/40\n",
      "640/640 [==============================] - 2s 2ms/step - loss: 0.1422 - acc: 0.9703\n",
      "Epoch 19/40\n",
      "640/640 [==============================] - 2s 3ms/step - loss: 0.2038 - acc: 0.9250\n",
      "Epoch 20/40\n",
      "640/640 [==============================] - 1s 2ms/step - loss: 0.4175 - acc: 0.8562\n",
      "Epoch 21/40\n",
      "640/640 [==============================] - 1s 2ms/step - loss: 0.1548 - acc: 0.9750\n",
      "Epoch 22/40\n",
      "640/640 [==============================] - 2s 2ms/step - loss: 0.0788 - acc: 0.9922\n",
      "Epoch 23/40\n",
      "640/640 [==============================] - 1s 2ms/step - loss: 0.1462 - acc: 0.9609\n",
      "Epoch 24/40\n",
      "640/640 [==============================] - 2s 2ms/step - loss: 0.1925 - acc: 0.9234\n",
      "Epoch 25/40\n",
      "640/640 [==============================] - 1s 2ms/step - loss: 0.1617 - acc: 0.9625\n",
      "Epoch 26/40\n",
      "640/640 [==============================] - 1s 2ms/step - loss: 0.0972 - acc: 0.9828\n",
      "Epoch 27/40\n",
      "640/640 [==============================] - 2s 2ms/step - loss: 0.0749 - acc: 0.9859\n",
      "Epoch 28/40\n",
      "640/640 [==============================] - 1s 2ms/step - loss: 0.0639 - acc: 0.9859\n",
      "Epoch 29/40\n",
      "640/640 [==============================] - 1s 2ms/step - loss: 0.0731 - acc: 0.9781\n",
      "Epoch 30/40\n",
      "640/640 [==============================] - 2s 2ms/step - loss: 0.0775 - acc: 0.9844\n",
      "Epoch 31/40\n",
      "640/640 [==============================] - 1s 2ms/step - loss: 0.0635 - acc: 0.9844\n",
      "Epoch 32/40\n",
      "640/640 [==============================] - 1s 2ms/step - loss: 0.1310 - acc: 0.9594\n",
      "Epoch 33/40\n",
      "640/640 [==============================] - 2s 3ms/step - loss: 0.2501 - acc: 0.9359\n",
      "Epoch 34/40\n",
      "640/640 [==============================] - 1s 2ms/step - loss: 0.1089 - acc: 0.9781\n",
      "Epoch 35/40\n",
      "640/640 [==============================] - 2s 2ms/step - loss: 0.0849 - acc: 0.9844\n",
      "Epoch 36/40\n",
      "640/640 [==============================] - 1s 2ms/step - loss: 0.0688 - acc: 0.9875\n",
      "Epoch 37/40\n",
      "640/640 [==============================] - 1s 2ms/step - loss: 0.0656 - acc: 0.9859\n",
      "Epoch 38/40\n",
      "640/640 [==============================] - 2s 3ms/step - loss: 0.0628 - acc: 0.9859\n",
      "Epoch 39/40\n",
      "640/640 [==============================] - 1s 2ms/step - loss: 0.0629 - acc: 0.9844\n",
      "Epoch 40/40\n",
      "640/640 [==============================] - 1s 2ms/step - loss: 0.0977 - acc: 0.9812\n"
     ]
    },
    {
     "data": {
      "text/plain": [
       "<keras.callbacks.History at 0x17cfa23c080>"
      ]
     },
     "execution_count": 35,
     "metadata": {},
     "output_type": "execute_result"
    }
   ],
   "source": [
    "model_once.fit(X_train, y_train, epochs=40)"
   ]
  },
  {
   "cell_type": "code",
   "execution_count": 36,
   "metadata": {},
   "outputs": [
    {
     "name": "stdout",
     "output_type": "stream",
     "text": [
      "160/160 [==============================] - 0s 3ms/step\n"
     ]
    },
    {
     "data": {
      "text/plain": [
       "[0.10339478645473718, 0.9875]"
      ]
     },
     "execution_count": 36,
     "metadata": {},
     "output_type": "execute_result"
    }
   ],
   "source": [
    "model_once.evaluate(X_test, y_test)"
   ]
  },
  {
   "cell_type": "code",
   "execution_count": 37,
   "metadata": {},
   "outputs": [
    {
     "data": {
      "text/plain": [
       "(160, 4)"
      ]
     },
     "execution_count": 37,
     "metadata": {},
     "output_type": "execute_result"
    }
   ],
   "source": [
    "tmp = model_once.predict(X_test)\n",
    "tmp.shape"
   ]
  },
  {
   "cell_type": "code",
   "execution_count": 38,
   "metadata": {
    "scrolled": true
   },
   "outputs": [
    {
     "name": "stdout",
     "output_type": "stream",
     "text": [
      "[1 2 1 0 2 2 1 3 1 1 0 1 3 3 0 0 1 1 0 2 3 0 3 2 3 2 0 1 2 3 2 2 0 2 1 0 1\n",
      " 3 3 3 2 3 3 3 2 2 2 2 0 3 3 2 1 0 3 2 1 1 3 3 3 0 2 3 0 1 1 0 1 1 2 3 0 1\n",
      " 2 0 3 3 2 3 1 1 1 3 1 2 3 3 1 2 3 0 1 2 2 2 2 3 3 1 2 2 1 3 0 1 3 2 2 1 3\n",
      " 0 3 3 3 2 2 0 1 1 2 0 0 2 0 2 1 3 2 2 2 2 0 3 3 0 0 3 3 3 2 1 3 1 1 2 1 0\n",
      " 0 3 3 0 0 2 0 0 1 1 1 1] \n",
      " [1 2 1 0 2 2 1 3 1 1 0 1 3 3 0 0 1 1 0 2 3 0 3 2 3 2 0 1 1 3 2 2 0 2 1 0 1\n",
      " 3 3 3 2 3 3 3 2 2 2 2 0 3 3 2 1 0 3 2 1 1 3 3 3 0 2 3 0 1 1 0 1 1 2 3 0 1\n",
      " 2 0 3 3 2 3 1 1 1 3 1 2 3 3 1 2 3 0 1 2 2 2 2 3 3 1 2 2 1 3 0 1 3 2 2 1 3\n",
      " 0 3 3 3 2 2 0 1 1 2 0 0 2 0 2 1 3 2 2 2 2 0 3 3 0 0 3 3 2 2 1 3 1 1 2 1 0\n",
      " 0 3 3 0 0 2 0 0 1 1 1 1]\n"
     ]
    }
   ],
   "source": [
    "test_pred = model_once.predict_classes(X_test)\n",
    "print(np.argmax(y_test, axis=-1), \"\\n\", test_pred)"
   ]
  },
  {
   "cell_type": "code",
   "execution_count": 39,
   "metadata": {},
   "outputs": [],
   "source": [
    "model_once.save('C:/Users/hml76/EPS_distributing/my_model.h5')   # 모델을 컴퓨터에 저장"
   ]
  },
  {
   "cell_type": "code",
   "execution_count": 40,
   "metadata": {},
   "outputs": [
    {
     "data": {
      "text/plain": [
       "(640, 160, 640, 160)"
      ]
     },
     "execution_count": 40,
     "metadata": {},
     "output_type": "execute_result"
    }
   ],
   "source": [
    "len(X_train),len(X_test),len(y_train),len(y_test)"
   ]
  },
  {
   "cell_type": "code",
   "execution_count": 41,
   "metadata": {
    "scrolled": true
   },
   "outputs": [
    {
     "data": {
      "text/plain": [
       "(array([1, 2, 1, 0, 2, 2, 1, 3, 1, 1, 0, 1, 3, 3, 0, 0, 1, 1, 0, 2]),\n",
       " array([1, 2, 1, 0, 2, 2, 1, 3, 1, 1, 0, 1, 3, 3, 0, 0, 1, 1, 0, 2]))"
      ]
     },
     "execution_count": 41,
     "metadata": {},
     "output_type": "execute_result"
    }
   ],
   "source": [
    "y_test_to_int = np.arange(len(y_test))\n",
    "x_test_to_int = np.arange(len(X_test)) \n",
    "\n",
    "for j in range(len(X_test)):\n",
    "    x_test_to_int[j] = int(model_once.predict_classes(X_test[j:j+1]))\n",
    "    for k in range(4):\n",
    "        if(y_test[j,k] == 1):\n",
    "            y_test_to_int[j] = k \n",
    "\n",
    "y_test_to_int[0:20], x_test_to_int[0:20]           "
   ]
  },
  {
   "cell_type": "code",
   "execution_count": 42,
   "metadata": {},
   "outputs": [
    {
     "name": "stdout",
     "output_type": "stream",
     "text": [
      "Real value : Prediction\n",
      "---------------------------\n",
      "    2 \t   : \t 1\n",
      "    3 \t   : \t 2\n",
      "\n",
      "\n",
      "Number of miscalculation :  2 / 160 = 0.013\n",
      "\n",
      "Accuracy :  98.75 %\n"
     ]
    }
   ],
   "source": [
    "count=0\n",
    "print(\"Real value : Prediction\\n---------------------------\")\n",
    "for i in range(len(X_test)):\n",
    "    if(y_test_to_int[i] != x_test_to_int[i]):\n",
    "        print(\"   \",y_test_to_int[i], \"\\t   : \\t\", x_test_to_int[i])\n",
    "        count = count + 1\n",
    "probab = count/len(X_test)\n",
    "print(\"\\n\\nNumber of miscalculation : \",count,\"/\",len(x_test_to_int),\"=\",round(probab,3))\n",
    "print(\"\\nAccuracy : \",((1-round(probab,4))*100),\"%\")"
   ]
  },
  {
   "cell_type": "code",
   "execution_count": 43,
   "metadata": {
    "scrolled": false
   },
   "outputs": [
    {
     "data": {
      "text/html": [
       "<div>\n",
       "<style scoped>\n",
       "    .dataframe tbody tr th:only-of-type {\n",
       "        vertical-align: middle;\n",
       "    }\n",
       "\n",
       "    .dataframe tbody tr th {\n",
       "        vertical-align: top;\n",
       "    }\n",
       "\n",
       "    .dataframe thead th {\n",
       "        text-align: right;\n",
       "    }\n",
       "</style>\n",
       "<table border=\"1\" class=\"dataframe\">\n",
       "  <thead>\n",
       "    <tr style=\"text-align: right;\">\n",
       "      <th></th>\n",
       "      <th>a-b</th>\n",
       "      <th>c-d</th>\n",
       "    </tr>\n",
       "  </thead>\n",
       "  <tbody>\n",
       "    <tr>\n",
       "      <th>0</th>\n",
       "      <td>-0.044983</td>\n",
       "      <td>0.069712</td>\n",
       "    </tr>\n",
       "    <tr>\n",
       "      <th>1</th>\n",
       "      <td>-0.047032</td>\n",
       "      <td>0.071235</td>\n",
       "    </tr>\n",
       "    <tr>\n",
       "      <th>2</th>\n",
       "      <td>-0.049376</td>\n",
       "      <td>0.072815</td>\n",
       "    </tr>\n",
       "    <tr>\n",
       "      <th>3</th>\n",
       "      <td>-0.052028</td>\n",
       "      <td>0.074546</td>\n",
       "    </tr>\n",
       "    <tr>\n",
       "      <th>4</th>\n",
       "      <td>-0.054947</td>\n",
       "      <td>0.076428</td>\n",
       "    </tr>\n",
       "  </tbody>\n",
       "</table>\n",
       "</div>"
      ],
      "text/plain": [
       "        a-b       c-d\n",
       "0 -0.044983  0.069712\n",
       "1 -0.047032  0.071235\n",
       "2 -0.049376  0.072815\n",
       "3 -0.052028  0.074546\n",
       "4 -0.054947  0.076428"
      ]
     },
     "execution_count": 43,
     "metadata": {},
     "output_type": "execute_result"
    }
   ],
   "source": [
    "test_data_set = pd.read_csv(\"C:/Users/hml76/OneDrive/바탕 화면/Capacitive_sensor_research/test.csv\", names = ['a-b','c-d',])\n",
    "np.array(test_data_set)\n",
    "test_data_set.head()"
   ]
  },
  {
   "cell_type": "code",
   "execution_count": 44,
   "metadata": {
    "scrolled": true
   },
   "outputs": [
    {
     "data": {
      "text/html": [
       "<div>\n",
       "<style scoped>\n",
       "    .dataframe tbody tr th:only-of-type {\n",
       "        vertical-align: middle;\n",
       "    }\n",
       "\n",
       "    .dataframe tbody tr th {\n",
       "        vertical-align: top;\n",
       "    }\n",
       "\n",
       "    .dataframe thead th {\n",
       "        text-align: right;\n",
       "    }\n",
       "</style>\n",
       "<table border=\"1\" class=\"dataframe\">\n",
       "  <thead>\n",
       "    <tr style=\"text-align: right;\">\n",
       "      <th></th>\n",
       "      <th>a-b</th>\n",
       "    </tr>\n",
       "  </thead>\n",
       "  <tbody>\n",
       "    <tr>\n",
       "      <th>100</th>\n",
       "      <td>-0.011069</td>\n",
       "    </tr>\n",
       "  </tbody>\n",
       "</table>\n",
       "</div>"
      ],
      "text/plain": [
       "          a-b\n",
       "100 -0.011069"
      ]
     },
     "execution_count": 44,
     "metadata": {},
     "output_type": "execute_result"
    }
   ],
   "source": [
    "test_data_set.iloc[[100],[0]]"
   ]
  },
  {
   "cell_type": "code",
   "execution_count": 45,
   "metadata": {},
   "outputs": [],
   "source": [
    "test_dataset = np.zeros((len(total_data), 100, 2))"
   ]
  },
  {
   "cell_type": "code",
   "execution_count": 46,
   "metadata": {},
   "outputs": [],
   "source": [
    "# del model_once   # 테스트를 위해 메모리 내의 모델을 삭제\\\n",
    "# model_once = load_model('my_model.h5')   # 모델을 새로 불러옴\n",
    "\n",
    "\n",
    "# print(\"\\n Test Accuracy: %.4f\" % (model_once.evaluate(X_test, Y_test)"
   ]
  },
  {
   "cell_type": "code",
   "execution_count": null,
   "metadata": {},
   "outputs": [],
   "source": []
  },
  {
   "cell_type": "code",
   "execution_count": null,
   "metadata": {},
   "outputs": [],
   "source": []
  },
  {
   "cell_type": "code",
   "execution_count": null,
   "metadata": {},
   "outputs": [],
   "source": []
  },
  {
   "cell_type": "code",
   "execution_count": null,
   "metadata": {},
   "outputs": [],
   "source": []
  },
  {
   "cell_type": "code",
   "execution_count": null,
   "metadata": {},
   "outputs": [],
   "source": []
  },
  {
   "cell_type": "markdown",
   "metadata": {},
   "source": [
    "## Round 1"
   ]
  },
  {
   "cell_type": "code",
   "execution_count": 47,
   "metadata": {},
   "outputs": [
    {
     "data": {
      "text/plain": [
       "array([0, 0], dtype=int64)"
      ]
     },
     "execution_count": 47,
     "metadata": {},
     "output_type": "execute_result"
    }
   ],
   "source": [
    "test_data_set_LR1 = pd.read_csv(\"C:/Users/hml76/OneDrive/바탕 화면/Capacitive_sensor_research/실험데이터/좌-우/12.csv\",names=['a-b','c-d'])\n",
    "test_data_set_LR1 = np.zeros((2, 100, 2))\n",
    "test_data_set_LR1\n",
    "for i, data in enumerate(test_data_set_LR1):\n",
    "    test_data_set_LR1[i] = pd.read_csv(\"C:/Users/hml76/OneDrive/바탕 화면/Capacitive_sensor_research/실험데이터/좌-우/12.csv\", names=['a-b','c-d']).sample(n=100).sort_index().iloc[:,:2]\n",
    "test_data_set_LR1    \n",
    "model_once.predict_classes(test_data_set_LR1)"
   ]
  },
  {
   "cell_type": "code",
   "execution_count": 48,
   "metadata": {},
   "outputs": [
    {
     "data": {
      "text/plain": [
       "array([1, 1], dtype=int64)"
      ]
     },
     "execution_count": 48,
     "metadata": {},
     "output_type": "execute_result"
    }
   ],
   "source": [
    "test_data_set_RL1 = pd.read_csv(\"C:/Users/hml76/OneDrive/바탕 화면/Capacitive_sensor_research/실험데이터/우-좌/12.csv\",names=['a-b','c-d'])\n",
    "test_data_set_RL1 = np.zeros((2, 100, 2))\n",
    "test_data_set_RL1\n",
    "for i, data in enumerate(test_data_set_RL1):\n",
    "    test_data_set_RL1[i] = pd.read_csv(\"C:/Users/hml76/OneDrive/바탕 화면/Capacitive_sensor_research/실험데이터/우-좌/12.csv\", names=['a-b','c-d']).sample(n=100).sort_index().iloc[:,:2]\n",
    "test_data_set_RL1    \n",
    "model_once.predict_classes(test_data_set_RL1)"
   ]
  },
  {
   "cell_type": "code",
   "execution_count": 49,
   "metadata": {},
   "outputs": [
    {
     "data": {
      "text/plain": [
       "array([2, 2], dtype=int64)"
      ]
     },
     "execution_count": 49,
     "metadata": {},
     "output_type": "execute_result"
    }
   ],
   "source": [
    "test_data_set_CW1 = pd.read_csv(\"C:/Users/hml76/OneDrive/바탕 화면/Capacitive_sensor_research/실험데이터/시계방향/22.csv\",names=['a-b','c-d'])\n",
    "test_data_set_CW1 = np.zeros((2, 100, 2))\n",
    "test_data_set_CW1\n",
    "for i, data in enumerate(test_data_set_CW1):\n",
    "    test_data_set_CW1[i] = pd.read_csv(\"C:/Users/hml76/OneDrive/바탕 화면/Capacitive_sensor_research/실험데이터/시계방향/22.csv\", names=['a-b','c-d']).sample(n=100).sort_index().iloc[:,:2]\n",
    "test_data_set_CW1    \n",
    "model_once.predict_classes(test_data_set_CW1)"
   ]
  },
  {
   "cell_type": "code",
   "execution_count": 50,
   "metadata": {},
   "outputs": [
    {
     "data": {
      "text/plain": [
       "array([3, 3], dtype=int64)"
      ]
     },
     "execution_count": 50,
     "metadata": {},
     "output_type": "execute_result"
    }
   ],
   "source": [
    "test_data_set_CCW1 = pd.read_csv(\"C:/Users/hml76/OneDrive/바탕 화면/Capacitive_sensor_research/실험데이터/시계반대방향/25.csv\",names=['a-b','c-d'])\n",
    "test_data_set_CCW1 = np.zeros((2, 100, 2))\n",
    "test_data_set_CCW1\n",
    "for i, data in enumerate(test_data_set_CCW1):\n",
    "    test_data_set_CCW1[i] = pd.read_csv(\"C:/Users/hml76/OneDrive/바탕 화면/Capacitive_sensor_research/실험데이터/시계반대방향/25.csv\", names=['a-b','c-d']).sample(n=100).sort_index().iloc[:,:2]\n",
    "test_data_set_CCW1    \n",
    "model_once.predict_classes(test_data_set_CCW1)"
   ]
  },
  {
   "cell_type": "markdown",
   "metadata": {},
   "source": [
    "## Round 2"
   ]
  },
  {
   "cell_type": "code",
   "execution_count": 51,
   "metadata": {},
   "outputs": [
    {
     "data": {
      "text/plain": [
       "array([0, 0], dtype=int64)"
      ]
     },
     "execution_count": 51,
     "metadata": {},
     "output_type": "execute_result"
    }
   ],
   "source": [
    "test_data_set_LR2 = pd.read_csv(\"C:/Users/hml76/OneDrive/바탕 화면/Capacitive_sensor_research/실험데이터/좌-우/50.csv\",names=['a-b','c-d'])\n",
    "test_data_set_LR2 = np.zeros((2, 100, 2))\n",
    "test_data_set_LR2\n",
    "for i, data in enumerate(test_data_set_LR2):\n",
    "    test_data_set_LR2[i] = pd.read_csv(\"C:/Users/hml76/OneDrive/바탕 화면/Capacitive_sensor_research/실험데이터/좌-우/50.csv\", names=['a-b','c-d']).sample(n=100).sort_index().iloc[:,:2]\n",
    "test_data_set_LR2\n",
    "model_once.predict_classes(test_data_set_LR2)"
   ]
  },
  {
   "cell_type": "code",
   "execution_count": 52,
   "metadata": {},
   "outputs": [
    {
     "data": {
      "text/plain": [
       "array([1, 1], dtype=int64)"
      ]
     },
     "execution_count": 52,
     "metadata": {},
     "output_type": "execute_result"
    }
   ],
   "source": [
    "test_data_set_RL2 = pd.read_csv(\"C:/Users/hml76/OneDrive/바탕 화면/Capacitive_sensor_research/실험데이터/우-좌/50.csv\",names=['a-b','c-d'])\n",
    "test_data_set_RL2 = np.zeros((2, 100, 2))\n",
    "test_data_set_RL2\n",
    "for i, data in enumerate(test_data_set_RL2):\n",
    "    test_data_set_RL2[i] = pd.read_csv(\"C:/Users/hml76/OneDrive/바탕 화면/Capacitive_sensor_research/실험데이터/우-좌/50.csv\", names=['a-b','c-d']).sample(n=100).sort_index().iloc[:,:2]\n",
    "test_data_set_RL2\n",
    "model_once.predict_classes(test_data_set_RL2)"
   ]
  },
  {
   "cell_type": "code",
   "execution_count": 53,
   "metadata": {},
   "outputs": [
    {
     "data": {
      "text/plain": [
       "array([2, 2], dtype=int64)"
      ]
     },
     "execution_count": 53,
     "metadata": {},
     "output_type": "execute_result"
    }
   ],
   "source": [
    "test_data_set_CW2 = pd.read_csv(\"C:/Users/hml76/OneDrive/바탕 화면/Capacitive_sensor_research/실험데이터/시계방향/50.csv\",names=['a-b','c-d'])\n",
    "test_data_set_CW2 = np.zeros((2, 100, 2))\n",
    "test_data_set_CW2\n",
    "for i, data in enumerate(test_data_set_CW2):\n",
    "    test_data_set_CW2[i] = pd.read_csv(\"C:/Users/hml76/OneDrive/바탕 화면/Capacitive_sensor_research/실험데이터/시계방향/50.csv\", names=['a-b','c-d']).sample(n=100).sort_index().iloc[:,:2]\n",
    "test_data_set_CW2    \n",
    "model_once.predict_classes(test_data_set_CW2)"
   ]
  },
  {
   "cell_type": "code",
   "execution_count": 54,
   "metadata": {},
   "outputs": [
    {
     "data": {
      "text/plain": [
       "array([3, 3], dtype=int64)"
      ]
     },
     "execution_count": 54,
     "metadata": {},
     "output_type": "execute_result"
    }
   ],
   "source": [
    "test_data_set_CCW2 = pd.read_csv(\"C:/Users/hml76/OneDrive/바탕 화면/Capacitive_sensor_research/실험데이터/시계반대방향/41.csv\",names=['a-b','c-d'])\n",
    "test_data_set_CCW2 = np.zeros((2, 100, 2))\n",
    "test_data_set_CCW2\n",
    "for i, data in enumerate(test_data_set_CCW2):\n",
    "    test_data_set_CCW2[i] = pd.read_csv(\"C:/Users/hml76/OneDrive/바탕 화면/Capacitive_sensor_research/실험데이터/시계반대방향/41.csv\", names=['a-b','c-d']).sample(n=100).sort_index().iloc[:,:2]\n",
    "test_data_set_CCW2\n",
    "model_once.predict_classes(test_data_set_CCW2)"
   ]
  },
  {
   "cell_type": "code",
   "execution_count": null,
   "metadata": {},
   "outputs": [],
   "source": []
  },
  {
   "cell_type": "code",
   "execution_count": 55,
   "metadata": {},
   "outputs": [
    {
     "data": {
      "text/plain": [
       "array([0, 0], dtype=int64)"
      ]
     },
     "execution_count": 55,
     "metadata": {},
     "output_type": "execute_result"
    }
   ],
   "source": [
    "test_data_set_LR2 = pd.read_csv(\"C:/Users/hml76/OneDrive/바탕 화면/Capacitive_sensor_research/실험데이터/좌-우/95.csv\",names=['a-b','c-d'])\n",
    "test_data_set_LR2 = np.zeros((2, 100, 2))\n",
    "test_data_set_LR2\n",
    "for i, data in enumerate(test_data_set_LR2):\n",
    "    test_data_set_LR2[i] = pd.read_csv(\"C:/Users/hml76/OneDrive/바탕 화면/Capacitive_sensor_research/실험데이터/좌-우/95.csv\", names=['a-b','c-d']).sample(n=100).sort_index().iloc[:,:2]\n",
    "test_data_set_LR2\n",
    "model_once.predict_classes(test_data_set_LR2)"
   ]
  },
  {
   "cell_type": "code",
   "execution_count": 56,
   "metadata": {},
   "outputs": [
    {
     "data": {
      "text/plain": [
       "array([1, 1], dtype=int64)"
      ]
     },
     "execution_count": 56,
     "metadata": {},
     "output_type": "execute_result"
    }
   ],
   "source": [
    "test_data_set_RL2 = pd.read_csv(\"C:/Users/hml76/OneDrive/바탕 화면/Capacitive_sensor_research/실험데이터/우-좌/95.csv\",names=['a-b','c-d'])\n",
    "test_data_set_RL2 = np.zeros((2, 100, 2))\n",
    "test_data_set_RL2\n",
    "for i, data in enumerate(test_data_set_RL2):\n",
    "    test_data_set_RL2[i] = pd.read_csv(\"C:/Users/hml76/OneDrive/바탕 화면/Capacitive_sensor_research/실험데이터/우-좌/95.csv\", names=['a-b','c-d']).sample(n=100).sort_index().iloc[:,:2]\n",
    "test_data_set_RL2\n",
    "model_once.predict_classes(test_data_set_RL2)"
   ]
  },
  {
   "cell_type": "code",
   "execution_count": 57,
   "metadata": {},
   "outputs": [
    {
     "data": {
      "text/plain": [
       "array([2, 2], dtype=int64)"
      ]
     },
     "execution_count": 57,
     "metadata": {},
     "output_type": "execute_result"
    }
   ],
   "source": [
    "test_data_set_CW2 = pd.read_csv(\"C:/Users/hml76/OneDrive/바탕 화면/Capacitive_sensor_research/실험데이터/시계방향/95.csv\",names=['a-b','c-d'])\n",
    "test_data_set_CW2 = np.zeros((2, 100, 2))\n",
    "test_data_set_CW2\n",
    "for i, data in enumerate(test_data_set_CW2):\n",
    "    test_data_set_CW2[i] = pd.read_csv(\"C:/Users/hml76/OneDrive/바탕 화면/Capacitive_sensor_research/실험데이터/시계방향/95.csv\", names=['a-b','c-d']).sample(n=100).sort_index().iloc[:,:2]\n",
    "test_data_set_CW2    \n",
    "model_once.predict_classes(test_data_set_CW2)"
   ]
  },
  {
   "cell_type": "code",
   "execution_count": 58,
   "metadata": {},
   "outputs": [
    {
     "data": {
      "text/plain": [
       "array([3, 3], dtype=int64)"
      ]
     },
     "execution_count": 58,
     "metadata": {},
     "output_type": "execute_result"
    }
   ],
   "source": [
    "test_data_set_CCW2 = pd.read_csv(\"C:/Users/hml76/OneDrive/바탕 화면/Capacitive_sensor_research/실험데이터/시계반대방향/50.csv\",names=['a-b','c-d'])\n",
    "test_data_set_CCW2 = np.zeros((2, 100, 2))\n",
    "test_data_set_CCW2\n",
    "for i, data in enumerate(test_data_set_CCW2):\n",
    "    test_data_set_CCW2[i] = pd.read_csv(\"C:/Users/hml76/OneDrive/바탕 화면/Capacitive_sensor_research/실험데이터/시계반대방향/50.csv\", names=['a-b','c-d']).sample(n=100).sort_index().iloc[:,:2]\n",
    "test_data_set_CCW2\n",
    "model_once.predict_classes(test_data_set_CCW2)"
   ]
  },
  {
   "cell_type": "code",
   "execution_count": null,
   "metadata": {},
   "outputs": [],
   "source": []
  }
 ],
 "metadata": {
  "kernelspec": {
   "display_name": "Python 3",
   "language": "python",
   "name": "python3"
  },
  "language_info": {
   "codemirror_mode": {
    "name": "ipython",
    "version": 3
   },
   "file_extension": ".py",
   "mimetype": "text/x-python",
   "name": "python",
   "nbconvert_exporter": "python",
   "pygments_lexer": "ipython3",
   "version": "3.7.3"
  }
 },
 "nbformat": 4,
 "nbformat_minor": 2
}
