{
 "cells": [
  {
   "cell_type": "code",
   "execution_count": 49,
   "metadata": {
    "scrolled": true
   },
   "outputs": [],
   "source": [
    "import glob\n",
    "import numpy as np\n",
    "import matplotlib.pyplot as plt\n",
    "import pandas as pd\n",
    "from pandas import DataFrame as df\n",
    "import seaborn as sns\n",
    "\n",
    "\n",
    "from keras.layers import LSTM, Dense\n",
    "from keras.models import Sequential\n",
    "import keras.backend as K\n",
    "from keras.callbacks import ReduceLROnPlateau, ModelCheckpoint, EarlyStopping\n",
    "from keras.optimizers import Adam\n",
    "from keras.wrappers.scikit_learn import KerasClassifier\n",
    "from sklearn.model_selection import KFold, cross_val_score\n",
    "\n",
    "from sklearn.model_selection import train_test_split"
   ]
  },
  {
   "cell_type": "code",
   "execution_count": 50,
   "metadata": {},
   "outputs": [
    {
     "data": {
      "text/plain": [
       "(100, 100, 100, 100, 100, 100, 100, 100, 100, 100, 100, 100)"
      ]
     },
     "execution_count": 50,
     "metadata": {},
     "output_type": "execute_result"
    }
   ],
   "source": [
    "data_1 = glob.glob('C:/Users/hml76/OneDrive/바탕 화면/Capacitive_sensor_research/new_datas/datas/LR/*.csv')\n",
    "data_1_2 = glob.glob('C:/Users/hml76/OneDrive/바탕 화면/Capacitive_sensor_research/new_datas/datas/LR2/*.csv')\n",
    "\n",
    "data_2 = glob.glob('C:/Users/hml76/OneDrive/바탕 화면/Capacitive_sensor_research/new_datas/datas/RL/*.csv')\n",
    "data_2_2 = glob.glob('C:/Users/hml76/OneDrive/바탕 화면/Capacitive_sensor_research/new_datas/datas/RL2/*.csv')\n",
    "\n",
    "data_3 = glob.glob('C:/Users/hml76/OneDrive/바탕 화면/Capacitive_sensor_research/new_datas/datas/CW/*.csv')\n",
    "data_3_2 = glob.glob('C:/Users/hml76/OneDrive/바탕 화면/Capacitive_sensor_research/new_datas/datas/CW2/*.csv')\n",
    "\n",
    "data_4 = glob.glob('C:/Users/hml76/OneDrive/바탕 화면/Capacitive_sensor_research/new_datas/datas/CCW/*.csv')\n",
    "data_4_2 = glob.glob('C:/Users/hml76/OneDrive/바탕 화면/Capacitive_sensor_research/new_datas/datas/CCW2/*.csv')\n",
    "\n",
    "data_5 = glob.glob('C:/Users/hml76/OneDrive/바탕 화면/Capacitive_sensor_research/new_datas/datas/DOWN/*.csv')\n",
    "data_5_2 = glob.glob('C:/Users/hml76/OneDrive/바탕 화면/Capacitive_sensor_research/new_datas/datas/DOWN2/*.csv')\n",
    "\n",
    "data_6 = glob.glob('C:/Users/hml76/OneDrive/바탕 화면/Capacitive_sensor_research/new_datas/datas/UP/*.csv')\n",
    "data_6_2 = glob.glob('C:/Users/hml76/OneDrive/바탕 화면/Capacitive_sensor_research/new_datas/datas/UP2/*.csv')\n",
    "\n",
    "\n",
    "\n",
    "len(data_1),len(data_1_2), len(data_2),len(data_2_2), len(data_3),len(data_3_2), len(data_4),len(data_4_2), len(data_5),len(data_5_2), len(data_6), len(data_6_2)"
   ]
  },
  {
   "cell_type": "code",
   "execution_count": 110,
   "metadata": {
    "scrolled": true
   },
   "outputs": [
    {
     "data": {
      "text/plain": [
       "array([[[0., 0., 0., 0., 0., 0.],\n",
       "        [0., 0., 0., 0., 0., 0.],\n",
       "        [0., 0., 0., 0., 0., 0.],\n",
       "        ...,\n",
       "        [0., 0., 0., 0., 0., 0.],\n",
       "        [0., 0., 0., 0., 0., 0.],\n",
       "        [0., 0., 0., 0., 0., 0.]],\n",
       "\n",
       "       [[0., 0., 0., 0., 0., 0.],\n",
       "        [0., 0., 0., 0., 0., 0.],\n",
       "        [0., 0., 0., 0., 0., 0.],\n",
       "        ...,\n",
       "        [0., 0., 0., 0., 0., 0.],\n",
       "        [0., 0., 0., 0., 0., 0.],\n",
       "        [0., 0., 0., 0., 0., 0.]],\n",
       "\n",
       "       [[0., 0., 0., 0., 0., 0.],\n",
       "        [0., 0., 0., 0., 0., 0.],\n",
       "        [0., 0., 0., 0., 0., 0.],\n",
       "        ...,\n",
       "        [0., 0., 0., 0., 0., 0.],\n",
       "        [0., 0., 0., 0., 0., 0.],\n",
       "        [0., 0., 0., 0., 0., 0.]],\n",
       "\n",
       "       ...,\n",
       "\n",
       "       [[0., 0., 0., 0., 0., 0.],\n",
       "        [0., 0., 0., 0., 0., 0.],\n",
       "        [0., 0., 0., 0., 0., 0.],\n",
       "        ...,\n",
       "        [0., 0., 0., 0., 0., 0.],\n",
       "        [0., 0., 0., 0., 0., 0.],\n",
       "        [0., 0., 0., 0., 0., 0.]],\n",
       "\n",
       "       [[0., 0., 0., 0., 0., 0.],\n",
       "        [0., 0., 0., 0., 0., 0.],\n",
       "        [0., 0., 0., 0., 0., 0.],\n",
       "        ...,\n",
       "        [0., 0., 0., 0., 0., 0.],\n",
       "        [0., 0., 0., 0., 0., 0.],\n",
       "        [0., 0., 0., 0., 0., 0.]],\n",
       "\n",
       "       [[0., 0., 0., 0., 0., 0.],\n",
       "        [0., 0., 0., 0., 0., 0.],\n",
       "        [0., 0., 0., 0., 0., 0.],\n",
       "        ...,\n",
       "        [0., 0., 0., 0., 0., 0.],\n",
       "        [0., 0., 0., 0., 0., 0.],\n",
       "        [0., 0., 0., 0., 0., 0.]]])"
      ]
     },
     "execution_count": 110,
     "metadata": {},
     "output_type": "execute_result"
    }
   ],
   "source": [
    "total_data_2 = data_1 + data_1_2 + data_2 + data_2_2 + data_3 + data_3_2 + data_4 + data_4_2 + data_5 + data_5_2 + data_6 + data_6_2 \n",
    "total_data = data_1 + data_2 + data_3 + data_4 + data_5 + data_6 \n",
    "total_data_1 = data_1_2 + data_2_2 + data_3_2 + data_4_2 + data_5_2 + data_6_2 \n",
    "\n",
    "\n",
    "dataset_2 = np.zeros((len(total_data_2), 100, 6))\n",
    "dataset_1 = np.zeros((len(total_data_1), 100, 6))\n",
    "dataset = np.zeros((len(total_data), 100, 6))\n",
    "\n",
    "dataset"
   ]
  },
  {
   "cell_type": "code",
   "execution_count": 126,
   "metadata": {
    "scrolled": true
   },
   "outputs": [],
   "source": [
    "for i, data_2 in enumerate(total_data_2):\n",
    "    #print(data)\n",
    "    dataset_2[i] = pd.read_csv(data_2, names=['n','na','a','b','c','d','a-b','c-d']).sample(n=100).sort_index().iloc[:,:6]"
   ]
  },
  {
   "cell_type": "code",
   "execution_count": 111,
   "metadata": {},
   "outputs": [],
   "source": [
    "for i, data in enumerate(total_data):\n",
    "    #print(data)\n",
    "    dataset[i] = pd.read_csv(data, names=['n','na','a','b','c','d','a-b','c-d']).sample(n=100).sort_index().iloc[:,:6]"
   ]
  },
  {
   "cell_type": "code",
   "execution_count": 112,
   "metadata": {},
   "outputs": [
    {
     "data": {
      "text/plain": [
       "((600, 100, 6), (600, 6))"
      ]
     },
     "execution_count": 112,
     "metadata": {},
     "output_type": "execute_result"
    }
   ],
   "source": [
    "label = np.array([[1, 0, 0 ,0, 0, 0 ]] * len(data_1) + [[0, 1, 0, 0, 0, 0 ]] * len(data_2) + [[0, 0, 1, 0, 0, 0 ]] * len(data_3) + [[0, 0, 0, 1, 0, 0 ]] * len(data_4) + [[0, 0, 0, 0, 1, 0 ]] * len(data_5) + [[0, 0, 0, 0, 0, 1]] * len(data_6))\n",
    "dataset.shape, label.shape\n"
   ]
  },
  {
   "cell_type": "code",
   "execution_count": 139,
   "metadata": {},
   "outputs": [
    {
     "data": {
      "text/plain": [
       "((1200, 100, 6), (1200, 6))"
      ]
     },
     "execution_count": 139,
     "metadata": {},
     "output_type": "execute_result"
    }
   ],
   "source": [
    "label_2 = np.array([[1, 0, 0 ,0, 0, 0 ]] * (2*len(data_1)) + [[0, 1, 0, 0, 0, 0 ]] * (2*len(data_2)) + [[0, 0, 1, 0, 0, 0 ]] * (2*len(data_3)) + [[0, 0, 0, 1, 0, 0 ]] * (2*len(data_4)) + [[0, 0, 0, 0, 1, 0 ]] * (2*len(data_5)) + [[0, 0, 0, 0, 0, 1]] * (2*len(data_6)))\n",
    "\n",
    "dataset_2.shape, label_2.shape"
   ]
  },
  {
   "cell_type": "markdown",
   "metadata": {},
   "source": [
    "## Dataset first (600,100,6) Round 1"
   ]
  },
  {
   "cell_type": "code",
   "execution_count": 119,
   "metadata": {},
   "outputs": [
    {
     "data": {
      "text/plain": [
       "(180, 100, 6)"
      ]
     },
     "execution_count": 119,
     "metadata": {},
     "output_type": "execute_result"
    }
   ],
   "source": [
    "X_train, X_test, y_train, y_test = train_test_split(dataset, label, random_state=0, test_size=0.3)\n",
    "\n",
    "X_test.shape"
   ]
  },
  {
   "cell_type": "code",
   "execution_count": 120,
   "metadata": {},
   "outputs": [],
   "source": [
    "callback = [\n",
    "    ReduceLROnPlateau(monitor='val_loss', factor=0.1, patience=3, min_lr=0.000001), \n",
    "    #ModelCheckpoint(filepath='./weights.h5', save_best_only=True),\n",
    "    EarlyStopping(monitor='val_acc', restore_best_weights=True, patience=5)\n",
    "]"
   ]
  },
  {
   "cell_type": "code",
   "execution_count": 121,
   "metadata": {},
   "outputs": [],
   "source": [
    "K.clear_session()"
   ]
  },
  {
   "cell_type": "code",
   "execution_count": 122,
   "metadata": {},
   "outputs": [
    {
     "name": "stdout",
     "output_type": "stream",
     "text": [
      "_________________________________________________________________\n",
      "Layer (type)                 Output Shape              Param #   \n",
      "=================================================================\n",
      "lstm_1 (LSTM)                (None, 20)                2160      \n",
      "_________________________________________________________________\n",
      "dense_1 (Dense)              (None, 6)                 126       \n",
      "=================================================================\n",
      "Total params: 2,286\n",
      "Trainable params: 2,286\n",
      "Non-trainable params: 0\n",
      "_________________________________________________________________\n"
     ]
    }
   ],
   "source": [
    "model_once = Sequential()\n",
    "\n",
    "model_once.add(LSTM(20, input_shape=(100,6)))\n",
    "model_once.add(Dense(6, activation='softmax'))\n",
    "model_once.compile(loss='categorical_crossentropy', optimizer=Adam(lr=0.005), metrics=['acc'])\n",
    "\n",
    "model_once.summary()"
   ]
  },
  {
   "cell_type": "code",
   "execution_count": 123,
   "metadata": {
    "scrolled": true
   },
   "outputs": [
    {
     "name": "stdout",
     "output_type": "stream",
     "text": [
      "Epoch 1/30\n",
      "420/420 [==============================] - 5s 12ms/step - loss: 1.7513 - acc: 0.1619\n",
      "Epoch 2/30\n",
      "420/420 [==============================] - 1s 3ms/step - loss: 1.5735 - acc: 0.3619\n",
      "Epoch 3/30\n",
      "420/420 [==============================] - 1s 4ms/step - loss: 1.2503 - acc: 0.6619\n",
      "Epoch 4/30\n",
      "420/420 [==============================] - 2s 4ms/step - loss: 1.1014 - acc: 0.6524\n",
      "Epoch 5/30\n",
      "420/420 [==============================] - 2s 4ms/step - loss: 1.2125 - acc: 0.5690\n",
      "Epoch 6/30\n",
      "420/420 [==============================] - 2s 4ms/step - loss: 1.0473 - acc: 0.6214\n",
      "Epoch 7/30\n",
      "420/420 [==============================] - 1s 3ms/step - loss: 0.8172 - acc: 0.7905\n",
      "Epoch 8/30\n",
      "420/420 [==============================] - 1s 3ms/step - loss: 0.7066 - acc: 0.8071\n",
      "Epoch 9/30\n",
      "420/420 [==============================] - 1s 3ms/step - loss: 0.6195 - acc: 0.8190\n",
      "Epoch 10/30\n",
      "420/420 [==============================] - 2s 4ms/step - loss: 0.7928 - acc: 0.7429\n",
      "Epoch 11/30\n",
      "420/420 [==============================] - 1s 3ms/step - loss: 0.5218 - acc: 0.8119\n",
      "Epoch 12/30\n",
      "420/420 [==============================] - 1s 3ms/step - loss: 0.5780 - acc: 0.8357\n",
      "Epoch 13/30\n",
      "420/420 [==============================] - 2s 4ms/step - loss: 0.9472 - acc: 0.7071A: 0s - loss: 0.9493 - acc: 0.706\n",
      "Epoch 14/30\n",
      "420/420 [==============================] - 2s 4ms/step - loss: 0.7906 - acc: 0.7214\n",
      "Epoch 15/30\n",
      "420/420 [==============================] - 3s 6ms/step - loss: 0.6661 - acc: 0.7952\n",
      "Epoch 16/30\n",
      "420/420 [==============================] - 1s 4ms/step - loss: 0.6396 - acc: 0.7690\n",
      "Epoch 17/30\n",
      "420/420 [==============================] - 2s 4ms/step - loss: 0.5080 - acc: 0.8881\n",
      "Epoch 18/30\n",
      "420/420 [==============================] - 1s 3ms/step - loss: 0.4228 - acc: 0.9024\n",
      "Epoch 19/30\n",
      "420/420 [==============================] - 2s 6ms/step - loss: 0.4224 - acc: 0.8905A: 0s - loss: 0.4337 - acc: 0.\n",
      "Epoch 20/30\n",
      "420/420 [==============================] - 2s 4ms/step - loss: 0.4289 - acc: 0.8619\n",
      "Epoch 21/30\n",
      "420/420 [==============================] - 2s 5ms/step - loss: 0.3480 - acc: 0.9167\n",
      "Epoch 22/30\n",
      "420/420 [==============================] - 2s 5ms/step - loss: 0.2891 - acc: 0.9357\n",
      "Epoch 23/30\n",
      "420/420 [==============================] - 2s 5ms/step - loss: 0.2284 - acc: 0.9429\n",
      "Epoch 24/30\n",
      "420/420 [==============================] - 2s 4ms/step - loss: 0.2289 - acc: 0.9262\n",
      "Epoch 25/30\n",
      "420/420 [==============================] - 2s 4ms/step - loss: 0.3661 - acc: 0.8833\n",
      "Epoch 26/30\n",
      "420/420 [==============================] - 2s 5ms/step - loss: 0.3140 - acc: 0.9214\n",
      "Epoch 27/30\n",
      "420/420 [==============================] - 2s 4ms/step - loss: 0.2240 - acc: 0.9452\n",
      "Epoch 28/30\n",
      "420/420 [==============================] - 2s 5ms/step - loss: 0.1893 - acc: 0.9595\n",
      "Epoch 29/30\n",
      "420/420 [==============================] - 2s 4ms/step - loss: 0.1821 - acc: 0.9571\n",
      "Epoch 30/30\n",
      "420/420 [==============================] - 2s 5ms/step - loss: 0.2227 - acc: 0.9524\n"
     ]
    },
    {
     "data": {
      "text/plain": [
       "<keras.callbacks.History at 0x1c8e99d8978>"
      ]
     },
     "execution_count": 123,
     "metadata": {},
     "output_type": "execute_result"
    }
   ],
   "source": [
    "model_once.fit(X_train, y_train, epochs=30)"
   ]
  },
  {
   "cell_type": "code",
   "execution_count": 124,
   "metadata": {
    "scrolled": true
   },
   "outputs": [
    {
     "name": "stdout",
     "output_type": "stream",
     "text": [
      "180/180 [==============================] - 1s 3ms/step\n"
     ]
    },
    {
     "data": {
      "text/plain": [
       "[0.124138233727879, 0.9777777764532302]"
      ]
     },
     "execution_count": 124,
     "metadata": {},
     "output_type": "execute_result"
    }
   ],
   "source": [
    "model_once.evaluate(X_test, y_test)"
   ]
  },
  {
   "cell_type": "code",
   "execution_count": 130,
   "metadata": {},
   "outputs": [
    {
     "ename": "ValueError",
     "evalue": "Tensor Tensor(\"dense_1/Softmax:0\", shape=(?, 6), dtype=float32) is not an element of this graph.",
     "output_type": "error",
     "traceback": [
      "\u001b[1;31m---------------------------------------------------------------------------\u001b[0m",
      "\u001b[1;31mValueError\u001b[0m                                Traceback (most recent call last)",
      "\u001b[1;32m<ipython-input-130-379035e9b983>\u001b[0m in \u001b[0;36m<module>\u001b[1;34m\u001b[0m\n\u001b[0;32m      3\u001b[0m \u001b[1;33m\u001b[0m\u001b[0m\n\u001b[0;32m      4\u001b[0m \u001b[1;32mfor\u001b[0m \u001b[0mj\u001b[0m \u001b[1;32min\u001b[0m \u001b[0mrange\u001b[0m\u001b[1;33m(\u001b[0m\u001b[0mlen\u001b[0m\u001b[1;33m(\u001b[0m\u001b[0mX_test\u001b[0m\u001b[1;33m)\u001b[0m\u001b[1;33m)\u001b[0m\u001b[1;33m:\u001b[0m\u001b[1;33m\u001b[0m\u001b[1;33m\u001b[0m\u001b[0m\n\u001b[1;32m----> 5\u001b[1;33m     \u001b[0mx_test_to_int\u001b[0m\u001b[1;33m[\u001b[0m\u001b[0mj\u001b[0m\u001b[1;33m]\u001b[0m \u001b[1;33m=\u001b[0m \u001b[0mint\u001b[0m\u001b[1;33m(\u001b[0m\u001b[0mmodel_once\u001b[0m\u001b[1;33m.\u001b[0m\u001b[0mpredict_classes\u001b[0m\u001b[1;33m(\u001b[0m\u001b[0mX_test\u001b[0m\u001b[1;33m[\u001b[0m\u001b[0mj\u001b[0m\u001b[1;33m:\u001b[0m\u001b[0mj\u001b[0m\u001b[1;33m+\u001b[0m\u001b[1;36m1\u001b[0m\u001b[1;33m]\u001b[0m\u001b[1;33m)\u001b[0m\u001b[1;33m)\u001b[0m\u001b[1;33m\u001b[0m\u001b[1;33m\u001b[0m\u001b[0m\n\u001b[0m\u001b[0;32m      6\u001b[0m     \u001b[1;32mfor\u001b[0m \u001b[0mk\u001b[0m \u001b[1;32min\u001b[0m \u001b[0mrange\u001b[0m\u001b[1;33m(\u001b[0m\u001b[1;36m6\u001b[0m\u001b[1;33m)\u001b[0m\u001b[1;33m:\u001b[0m\u001b[1;33m\u001b[0m\u001b[1;33m\u001b[0m\u001b[0m\n\u001b[0;32m      7\u001b[0m         \u001b[1;32mif\u001b[0m\u001b[1;33m(\u001b[0m\u001b[0my_test\u001b[0m\u001b[1;33m[\u001b[0m\u001b[0mj\u001b[0m\u001b[1;33m,\u001b[0m\u001b[0mk\u001b[0m\u001b[1;33m]\u001b[0m \u001b[1;33m==\u001b[0m \u001b[1;36m1\u001b[0m\u001b[1;33m)\u001b[0m\u001b[1;33m:\u001b[0m\u001b[1;33m\u001b[0m\u001b[1;33m\u001b[0m\u001b[0m\n",
      "\u001b[1;32m~\\AppData\\Local\\Continuum\\anaconda3\\lib\\site-packages\\keras\\engine\\sequential.py\u001b[0m in \u001b[0;36mpredict_classes\u001b[1;34m(self, x, batch_size, verbose)\u001b[0m\n\u001b[0;32m    265\u001b[0m             \u001b[0mA\u001b[0m \u001b[0mnumpy\u001b[0m \u001b[0marray\u001b[0m \u001b[0mof\u001b[0m \u001b[1;32mclass\u001b[0m \u001b[0mpredictions\u001b[0m\u001b[1;33m.\u001b[0m\u001b[1;33m\u001b[0m\u001b[1;33m\u001b[0m\u001b[0m\n\u001b[0;32m    266\u001b[0m         \"\"\"\n\u001b[1;32m--> 267\u001b[1;33m         \u001b[0mproba\u001b[0m \u001b[1;33m=\u001b[0m \u001b[0mself\u001b[0m\u001b[1;33m.\u001b[0m\u001b[0mpredict\u001b[0m\u001b[1;33m(\u001b[0m\u001b[0mx\u001b[0m\u001b[1;33m,\u001b[0m \u001b[0mbatch_size\u001b[0m\u001b[1;33m=\u001b[0m\u001b[0mbatch_size\u001b[0m\u001b[1;33m,\u001b[0m \u001b[0mverbose\u001b[0m\u001b[1;33m=\u001b[0m\u001b[0mverbose\u001b[0m\u001b[1;33m)\u001b[0m\u001b[1;33m\u001b[0m\u001b[1;33m\u001b[0m\u001b[0m\n\u001b[0m\u001b[0;32m    268\u001b[0m         \u001b[1;32mif\u001b[0m \u001b[0mproba\u001b[0m\u001b[1;33m.\u001b[0m\u001b[0mshape\u001b[0m\u001b[1;33m[\u001b[0m\u001b[1;33m-\u001b[0m\u001b[1;36m1\u001b[0m\u001b[1;33m]\u001b[0m \u001b[1;33m>\u001b[0m \u001b[1;36m1\u001b[0m\u001b[1;33m:\u001b[0m\u001b[1;33m\u001b[0m\u001b[1;33m\u001b[0m\u001b[0m\n\u001b[0;32m    269\u001b[0m             \u001b[1;32mreturn\u001b[0m \u001b[0mproba\u001b[0m\u001b[1;33m.\u001b[0m\u001b[0margmax\u001b[0m\u001b[1;33m(\u001b[0m\u001b[0maxis\u001b[0m\u001b[1;33m=\u001b[0m\u001b[1;33m-\u001b[0m\u001b[1;36m1\u001b[0m\u001b[1;33m)\u001b[0m\u001b[1;33m\u001b[0m\u001b[1;33m\u001b[0m\u001b[0m\n",
      "\u001b[1;32m~\\AppData\\Local\\Continuum\\anaconda3\\lib\\site-packages\\keras\\engine\\training.py\u001b[0m in \u001b[0;36mpredict\u001b[1;34m(self, x, batch_size, verbose, steps)\u001b[0m\n\u001b[0;32m   1162\u001b[0m         \u001b[1;32melse\u001b[0m\u001b[1;33m:\u001b[0m\u001b[1;33m\u001b[0m\u001b[1;33m\u001b[0m\u001b[0m\n\u001b[0;32m   1163\u001b[0m             \u001b[0mins\u001b[0m \u001b[1;33m=\u001b[0m \u001b[0mx\u001b[0m\u001b[1;33m\u001b[0m\u001b[1;33m\u001b[0m\u001b[0m\n\u001b[1;32m-> 1164\u001b[1;33m         \u001b[0mself\u001b[0m\u001b[1;33m.\u001b[0m\u001b[0m_make_predict_function\u001b[0m\u001b[1;33m(\u001b[0m\u001b[1;33m)\u001b[0m\u001b[1;33m\u001b[0m\u001b[1;33m\u001b[0m\u001b[0m\n\u001b[0m\u001b[0;32m   1165\u001b[0m         \u001b[0mf\u001b[0m \u001b[1;33m=\u001b[0m \u001b[0mself\u001b[0m\u001b[1;33m.\u001b[0m\u001b[0mpredict_function\u001b[0m\u001b[1;33m\u001b[0m\u001b[1;33m\u001b[0m\u001b[0m\n\u001b[0;32m   1166\u001b[0m         return training_arrays.predict_loop(self, f, ins,\n",
      "\u001b[1;32m~\\AppData\\Local\\Continuum\\anaconda3\\lib\\site-packages\\keras\\engine\\training.py\u001b[0m in \u001b[0;36m_make_predict_function\u001b[1;34m(self)\u001b[0m\n\u001b[0;32m    552\u001b[0m                                                \u001b[0mupdates\u001b[0m\u001b[1;33m=\u001b[0m\u001b[0mself\u001b[0m\u001b[1;33m.\u001b[0m\u001b[0mstate_updates\u001b[0m\u001b[1;33m,\u001b[0m\u001b[1;33m\u001b[0m\u001b[1;33m\u001b[0m\u001b[0m\n\u001b[0;32m    553\u001b[0m                                                \u001b[0mname\u001b[0m\u001b[1;33m=\u001b[0m\u001b[1;34m'predict_function'\u001b[0m\u001b[1;33m,\u001b[0m\u001b[1;33m\u001b[0m\u001b[1;33m\u001b[0m\u001b[0m\n\u001b[1;32m--> 554\u001b[1;33m                                                **kwargs)\n\u001b[0m\u001b[0;32m    555\u001b[0m \u001b[1;33m\u001b[0m\u001b[0m\n\u001b[0;32m    556\u001b[0m     \u001b[1;32mdef\u001b[0m \u001b[0m_uses_dynamic_learning_phase\u001b[0m\u001b[1;33m(\u001b[0m\u001b[0mself\u001b[0m\u001b[1;33m)\u001b[0m\u001b[1;33m:\u001b[0m\u001b[1;33m\u001b[0m\u001b[1;33m\u001b[0m\u001b[0m\n",
      "\u001b[1;32m~\\AppData\\Local\\Continuum\\anaconda3\\lib\\site-packages\\keras\\backend\\tensorflow_backend.py\u001b[0m in \u001b[0;36mfunction\u001b[1;34m(inputs, outputs, updates, **kwargs)\u001b[0m\n\u001b[0;32m   2742\u001b[0m                 \u001b[0mmsg\u001b[0m \u001b[1;33m=\u001b[0m \u001b[1;34m'Invalid argument \"%s\" passed to K.function with TensorFlow backend'\u001b[0m \u001b[1;33m%\u001b[0m \u001b[0mkey\u001b[0m\u001b[1;33m\u001b[0m\u001b[1;33m\u001b[0m\u001b[0m\n\u001b[0;32m   2743\u001b[0m                 \u001b[1;32mraise\u001b[0m \u001b[0mValueError\u001b[0m\u001b[1;33m(\u001b[0m\u001b[0mmsg\u001b[0m\u001b[1;33m)\u001b[0m\u001b[1;33m\u001b[0m\u001b[1;33m\u001b[0m\u001b[0m\n\u001b[1;32m-> 2744\u001b[1;33m     \u001b[1;32mreturn\u001b[0m \u001b[0mFunction\u001b[0m\u001b[1;33m(\u001b[0m\u001b[0minputs\u001b[0m\u001b[1;33m,\u001b[0m \u001b[0moutputs\u001b[0m\u001b[1;33m,\u001b[0m \u001b[0mupdates\u001b[0m\u001b[1;33m=\u001b[0m\u001b[0mupdates\u001b[0m\u001b[1;33m,\u001b[0m \u001b[1;33m**\u001b[0m\u001b[0mkwargs\u001b[0m\u001b[1;33m)\u001b[0m\u001b[1;33m\u001b[0m\u001b[1;33m\u001b[0m\u001b[0m\n\u001b[0m\u001b[0;32m   2745\u001b[0m \u001b[1;33m\u001b[0m\u001b[0m\n\u001b[0;32m   2746\u001b[0m \u001b[1;33m\u001b[0m\u001b[0m\n",
      "\u001b[1;32m~\\AppData\\Local\\Continuum\\anaconda3\\lib\\site-packages\\keras\\backend\\tensorflow_backend.py\u001b[0m in \u001b[0;36m__init__\u001b[1;34m(self, inputs, outputs, updates, name, **session_kwargs)\u001b[0m\n\u001b[0;32m   2544\u001b[0m         \u001b[0mself\u001b[0m\u001b[1;33m.\u001b[0m\u001b[0minputs\u001b[0m \u001b[1;33m=\u001b[0m \u001b[0mlist\u001b[0m\u001b[1;33m(\u001b[0m\u001b[0minputs\u001b[0m\u001b[1;33m)\u001b[0m\u001b[1;33m\u001b[0m\u001b[1;33m\u001b[0m\u001b[0m\n\u001b[0;32m   2545\u001b[0m         \u001b[0mself\u001b[0m\u001b[1;33m.\u001b[0m\u001b[0moutputs\u001b[0m \u001b[1;33m=\u001b[0m \u001b[0mlist\u001b[0m\u001b[1;33m(\u001b[0m\u001b[0moutputs\u001b[0m\u001b[1;33m)\u001b[0m\u001b[1;33m\u001b[0m\u001b[1;33m\u001b[0m\u001b[0m\n\u001b[1;32m-> 2546\u001b[1;33m         \u001b[1;32mwith\u001b[0m \u001b[0mtf\u001b[0m\u001b[1;33m.\u001b[0m\u001b[0mcontrol_dependencies\u001b[0m\u001b[1;33m(\u001b[0m\u001b[0mself\u001b[0m\u001b[1;33m.\u001b[0m\u001b[0moutputs\u001b[0m\u001b[1;33m)\u001b[0m\u001b[1;33m:\u001b[0m\u001b[1;33m\u001b[0m\u001b[1;33m\u001b[0m\u001b[0m\n\u001b[0m\u001b[0;32m   2547\u001b[0m             \u001b[0mupdates_ops\u001b[0m \u001b[1;33m=\u001b[0m \u001b[1;33m[\u001b[0m\u001b[1;33m]\u001b[0m\u001b[1;33m\u001b[0m\u001b[1;33m\u001b[0m\u001b[0m\n\u001b[0;32m   2548\u001b[0m             \u001b[1;32mfor\u001b[0m \u001b[0mupdate\u001b[0m \u001b[1;32min\u001b[0m \u001b[0mupdates\u001b[0m\u001b[1;33m:\u001b[0m\u001b[1;33m\u001b[0m\u001b[1;33m\u001b[0m\u001b[0m\n",
      "\u001b[1;32m~\\AppData\\Local\\Continuum\\anaconda3\\lib\\site-packages\\tensorflow\\python\\framework\\ops.py\u001b[0m in \u001b[0;36mcontrol_dependencies\u001b[1;34m(control_inputs)\u001b[0m\n\u001b[0;32m   5424\u001b[0m     \u001b[1;32mreturn\u001b[0m \u001b[0mNullContextmanager\u001b[0m\u001b[1;33m(\u001b[0m\u001b[1;33m)\u001b[0m\u001b[1;33m\u001b[0m\u001b[1;33m\u001b[0m\u001b[0m\n\u001b[0;32m   5425\u001b[0m   \u001b[1;32melse\u001b[0m\u001b[1;33m:\u001b[0m\u001b[1;33m\u001b[0m\u001b[1;33m\u001b[0m\u001b[0m\n\u001b[1;32m-> 5426\u001b[1;33m     \u001b[1;32mreturn\u001b[0m \u001b[0mget_default_graph\u001b[0m\u001b[1;33m(\u001b[0m\u001b[1;33m)\u001b[0m\u001b[1;33m.\u001b[0m\u001b[0mcontrol_dependencies\u001b[0m\u001b[1;33m(\u001b[0m\u001b[0mcontrol_inputs\u001b[0m\u001b[1;33m)\u001b[0m\u001b[1;33m\u001b[0m\u001b[1;33m\u001b[0m\u001b[0m\n\u001b[0m\u001b[0;32m   5427\u001b[0m \u001b[1;33m\u001b[0m\u001b[0m\n\u001b[0;32m   5428\u001b[0m \u001b[1;33m\u001b[0m\u001b[0m\n",
      "\u001b[1;32m~\\AppData\\Local\\Continuum\\anaconda3\\lib\\site-packages\\tensorflow\\python\\framework\\ops.py\u001b[0m in \u001b[0;36mcontrol_dependencies\u001b[1;34m(self, control_inputs)\u001b[0m\n\u001b[0;32m   4865\u001b[0m           (hasattr(c, \"_handle\") and hasattr(c, \"op\"))):\n\u001b[0;32m   4866\u001b[0m         \u001b[0mc\u001b[0m \u001b[1;33m=\u001b[0m \u001b[0mc\u001b[0m\u001b[1;33m.\u001b[0m\u001b[0mop\u001b[0m\u001b[1;33m\u001b[0m\u001b[1;33m\u001b[0m\u001b[0m\n\u001b[1;32m-> 4867\u001b[1;33m       \u001b[0mc\u001b[0m \u001b[1;33m=\u001b[0m \u001b[0mself\u001b[0m\u001b[1;33m.\u001b[0m\u001b[0mas_graph_element\u001b[0m\u001b[1;33m(\u001b[0m\u001b[0mc\u001b[0m\u001b[1;33m)\u001b[0m\u001b[1;33m\u001b[0m\u001b[1;33m\u001b[0m\u001b[0m\n\u001b[0m\u001b[0;32m   4868\u001b[0m       \u001b[1;32mif\u001b[0m \u001b[0misinstance\u001b[0m\u001b[1;33m(\u001b[0m\u001b[0mc\u001b[0m\u001b[1;33m,\u001b[0m \u001b[0mTensor\u001b[0m\u001b[1;33m)\u001b[0m\u001b[1;33m:\u001b[0m\u001b[1;33m\u001b[0m\u001b[1;33m\u001b[0m\u001b[0m\n\u001b[0;32m   4869\u001b[0m         \u001b[0mc\u001b[0m \u001b[1;33m=\u001b[0m \u001b[0mc\u001b[0m\u001b[1;33m.\u001b[0m\u001b[0mop\u001b[0m\u001b[1;33m\u001b[0m\u001b[1;33m\u001b[0m\u001b[0m\n",
      "\u001b[1;32m~\\AppData\\Local\\Continuum\\anaconda3\\lib\\site-packages\\tensorflow\\python\\framework\\ops.py\u001b[0m in \u001b[0;36mas_graph_element\u001b[1;34m(self, obj, allow_tensor, allow_operation)\u001b[0m\n\u001b[0;32m   3794\u001b[0m \u001b[1;33m\u001b[0m\u001b[0m\n\u001b[0;32m   3795\u001b[0m     \u001b[1;32mwith\u001b[0m \u001b[0mself\u001b[0m\u001b[1;33m.\u001b[0m\u001b[0m_lock\u001b[0m\u001b[1;33m:\u001b[0m\u001b[1;33m\u001b[0m\u001b[1;33m\u001b[0m\u001b[0m\n\u001b[1;32m-> 3796\u001b[1;33m       \u001b[1;32mreturn\u001b[0m \u001b[0mself\u001b[0m\u001b[1;33m.\u001b[0m\u001b[0m_as_graph_element_locked\u001b[0m\u001b[1;33m(\u001b[0m\u001b[0mobj\u001b[0m\u001b[1;33m,\u001b[0m \u001b[0mallow_tensor\u001b[0m\u001b[1;33m,\u001b[0m \u001b[0mallow_operation\u001b[0m\u001b[1;33m)\u001b[0m\u001b[1;33m\u001b[0m\u001b[1;33m\u001b[0m\u001b[0m\n\u001b[0m\u001b[0;32m   3797\u001b[0m \u001b[1;33m\u001b[0m\u001b[0m\n\u001b[0;32m   3798\u001b[0m   \u001b[1;32mdef\u001b[0m \u001b[0m_as_graph_element_locked\u001b[0m\u001b[1;33m(\u001b[0m\u001b[0mself\u001b[0m\u001b[1;33m,\u001b[0m \u001b[0mobj\u001b[0m\u001b[1;33m,\u001b[0m \u001b[0mallow_tensor\u001b[0m\u001b[1;33m,\u001b[0m \u001b[0mallow_operation\u001b[0m\u001b[1;33m)\u001b[0m\u001b[1;33m:\u001b[0m\u001b[1;33m\u001b[0m\u001b[1;33m\u001b[0m\u001b[0m\n",
      "\u001b[1;32m~\\AppData\\Local\\Continuum\\anaconda3\\lib\\site-packages\\tensorflow\\python\\framework\\ops.py\u001b[0m in \u001b[0;36m_as_graph_element_locked\u001b[1;34m(self, obj, allow_tensor, allow_operation)\u001b[0m\n\u001b[0;32m   3873\u001b[0m       \u001b[1;31m# Actually obj is just the object it's referring to.\u001b[0m\u001b[1;33m\u001b[0m\u001b[1;33m\u001b[0m\u001b[1;33m\u001b[0m\u001b[0m\n\u001b[0;32m   3874\u001b[0m       \u001b[1;32mif\u001b[0m \u001b[0mobj\u001b[0m\u001b[1;33m.\u001b[0m\u001b[0mgraph\u001b[0m \u001b[1;32mis\u001b[0m \u001b[1;32mnot\u001b[0m \u001b[0mself\u001b[0m\u001b[1;33m:\u001b[0m\u001b[1;33m\u001b[0m\u001b[1;33m\u001b[0m\u001b[0m\n\u001b[1;32m-> 3875\u001b[1;33m         \u001b[1;32mraise\u001b[0m \u001b[0mValueError\u001b[0m\u001b[1;33m(\u001b[0m\u001b[1;34m\"Tensor %s is not an element of this graph.\"\u001b[0m \u001b[1;33m%\u001b[0m \u001b[0mobj\u001b[0m\u001b[1;33m)\u001b[0m\u001b[1;33m\u001b[0m\u001b[1;33m\u001b[0m\u001b[0m\n\u001b[0m\u001b[0;32m   3876\u001b[0m       \u001b[1;32mreturn\u001b[0m \u001b[0mobj\u001b[0m\u001b[1;33m\u001b[0m\u001b[1;33m\u001b[0m\u001b[0m\n\u001b[0;32m   3877\u001b[0m     \u001b[1;32melif\u001b[0m \u001b[0misinstance\u001b[0m\u001b[1;33m(\u001b[0m\u001b[0mobj\u001b[0m\u001b[1;33m,\u001b[0m \u001b[0mOperation\u001b[0m\u001b[1;33m)\u001b[0m \u001b[1;32mand\u001b[0m \u001b[0mallow_operation\u001b[0m\u001b[1;33m:\u001b[0m\u001b[1;33m\u001b[0m\u001b[1;33m\u001b[0m\u001b[0m\n",
      "\u001b[1;31mValueError\u001b[0m: Tensor Tensor(\"dense_1/Softmax:0\", shape=(?, 6), dtype=float32) is not an element of this graph."
     ]
    }
   ],
   "source": [
    "y_test_to_int = np.arange(len(y_test))\n",
    "x_test_to_int = np.arange(len(X_test)) \n",
    "\n",
    "for j in range(len(X_test)):\n",
    "    x_test_to_int[j] = int(model_once.predict_classes(X_test[j:j+1]))\n",
    "    for k in range(6):\n",
    "        if(y_test[j,k] == 1):\n",
    "            y_test_to_int[j] = k \n",
    "\n",
    "y_test_to_int[0:20], x_test_to_int[0:20]           "
   ]
  },
  {
   "cell_type": "code",
   "execution_count": null,
   "metadata": {},
   "outputs": [],
   "source": [
    "count=0\n",
    "print(\"Real value : Prediction\\n---------------------------\")\n",
    "for i in range(len(X_test)):\n",
    "    if(y_test_to_int[i] != x_test_to_int[i]):\n",
    "        print(\"   \",y_test_to_int[i], \"\\t   : \\t\", x_test_to_int[i])\n",
    "        count = count + 1\n",
    "probab = count/len(X_test)\n",
    "print(\"\\n\\nNumber of miscalculation : \",count,\"/\",len(x_test_to_int),\"=\",round(probab,3))\n",
    "print(\"\\nAccuracy : \",((1-round(probab,4))*100),\"%\")"
   ]
  },
  {
   "cell_type": "code",
   "execution_count": null,
   "metadata": {},
   "outputs": [],
   "source": []
  },
  {
   "cell_type": "code",
   "execution_count": null,
   "metadata": {},
   "outputs": [],
   "source": []
  },
  {
   "cell_type": "code",
   "execution_count": null,
   "metadata": {},
   "outputs": [],
   "source": []
  },
  {
   "cell_type": "markdown",
   "metadata": {},
   "source": [
    "## Dataset first (600,100,6) Round 2"
   ]
  },
  {
   "cell_type": "code",
   "execution_count": 10,
   "metadata": {},
   "outputs": [
    {
     "data": {
      "text/plain": [
       "(180, 100, 6)"
      ]
     },
     "execution_count": 10,
     "metadata": {},
     "output_type": "execute_result"
    }
   ],
   "source": [
    "X_train, X_test, y_train, y_test = train_test_split(dataset, label, random_state=0, test_size=0.3)\n",
    "\n",
    "X_test.shape"
   ]
  },
  {
   "cell_type": "code",
   "execution_count": 11,
   "metadata": {},
   "outputs": [],
   "source": [
    "callback = [\n",
    "    ReduceLROnPlateau(monitor='val_loss', factor=0.1, patience=3, min_lr=0.000001), \n",
    "    #ModelCheckpoint(filepath='./weights.h5', save_best_only=True),\n",
    "    EarlyStopping(monitor='val_acc', restore_best_weights=True, patience=5)\n",
    "]"
   ]
  },
  {
   "cell_type": "code",
   "execution_count": 12,
   "metadata": {},
   "outputs": [],
   "source": [
    "K.clear_session()"
   ]
  },
  {
   "cell_type": "code",
   "execution_count": 13,
   "metadata": {},
   "outputs": [
    {
     "name": "stdout",
     "output_type": "stream",
     "text": [
      "_________________________________________________________________\n",
      "Layer (type)                 Output Shape              Param #   \n",
      "=================================================================\n",
      "lstm_1 (LSTM)                (None, 20)                2160      \n",
      "_________________________________________________________________\n",
      "dense_1 (Dense)              (None, 6)                 126       \n",
      "=================================================================\n",
      "Total params: 2,286\n",
      "Trainable params: 2,286\n",
      "Non-trainable params: 0\n",
      "_________________________________________________________________\n"
     ]
    }
   ],
   "source": [
    "model_once = Sequential()\n",
    "\n",
    "model_once.add(LSTM(20, input_shape=(100,6)))\n",
    "model_once.add(Dense(6, activation='softmax'))\n",
    "model_once.compile(loss='categorical_crossentropy', optimizer=Adam(lr=0.005), metrics=['acc'])\n",
    "\n",
    "model_once.summary()"
   ]
  },
  {
   "cell_type": "code",
   "execution_count": 14,
   "metadata": {
    "scrolled": true
   },
   "outputs": [
    {
     "name": "stdout",
     "output_type": "stream",
     "text": [
      "WARNING:tensorflow:From C:\\Users\\hml76\\AppData\\Local\\Continuum\\anaconda3\\lib\\site-packages\\tensorflow\\python\\ops\\math_grad.py:1250: add_dispatch_support.<locals>.wrapper (from tensorflow.python.ops.array_ops) is deprecated and will be removed in a future version.\n",
      "Instructions for updating:\n",
      "Use tf.where in 2.0, which has the same broadcast rule as np.where\n",
      "Epoch 1/30\n",
      "420/420 [==============================] - 2s 6ms/step - loss: 1.7523 - acc: 0.2333\n",
      "Epoch 2/30\n",
      "420/420 [==============================] - 1s 3ms/step - loss: 1.5825 - acc: 0.4405\n",
      "Epoch 3/30\n",
      "420/420 [==============================] - 1s 2ms/step - loss: 1.3213 - acc: 0.5738\n",
      "Epoch 4/30\n",
      "420/420 [==============================] - 1s 3ms/step - loss: 1.0558 - acc: 0.6238\n",
      "Epoch 5/30\n",
      "420/420 [==============================] - 1s 3ms/step - loss: 0.8741 - acc: 0.7405\n",
      "Epoch 6/30\n",
      "420/420 [==============================] - 1s 2ms/step - loss: 0.7547 - acc: 0.8119\n",
      "Epoch 7/30\n",
      "420/420 [==============================] - 1s 3ms/step - loss: 0.6873 - acc: 0.8238\n",
      "Epoch 8/30\n",
      "420/420 [==============================] - 2s 4ms/step - loss: 0.7999 - acc: 0.7595\n",
      "Epoch 9/30\n",
      "420/420 [==============================] - 1s 3ms/step - loss: 0.7360 - acc: 0.7833\n",
      "Epoch 10/30\n",
      "420/420 [==============================] - 1s 3ms/step - loss: 0.5911 - acc: 0.8333\n",
      "Epoch 11/30\n",
      "420/420 [==============================] - 1s 3ms/step - loss: 0.5231 - acc: 0.8452\n",
      "Epoch 12/30\n",
      "420/420 [==============================] - 1s 3ms/step - loss: 0.5444 - acc: 0.8286\n",
      "Epoch 13/30\n",
      "420/420 [==============================] - 1s 3ms/step - loss: 0.4479 - acc: 0.8643\n",
      "Epoch 14/30\n",
      "420/420 [==============================] - 1s 3ms/step - loss: 0.4473 - acc: 0.8548\n",
      "Epoch 15/30\n",
      "420/420 [==============================] - 1s 2ms/step - loss: 0.4013 - acc: 0.8595\n",
      "Epoch 16/30\n",
      "420/420 [==============================] - 1s 3ms/step - loss: 0.4467 - acc: 0.8571\n",
      "Epoch 17/30\n",
      "420/420 [==============================] - 1s 3ms/step - loss: 0.3684 - acc: 0.8952\n",
      "Epoch 18/30\n",
      "420/420 [==============================] - 1s 3ms/step - loss: 0.6372 - acc: 0.8262\n",
      "Epoch 19/30\n",
      "420/420 [==============================] - 1s 3ms/step - loss: 0.5726 - acc: 0.7929\n",
      "Epoch 20/30\n",
      "420/420 [==============================] - 1s 3ms/step - loss: 0.4280 - acc: 0.8833\n",
      "Epoch 21/30\n",
      "420/420 [==============================] - 1s 3ms/step - loss: 0.3887 - acc: 0.9143\n",
      "Epoch 22/30\n",
      "420/420 [==============================] - 1s 3ms/step - loss: 0.3086 - acc: 0.9262\n",
      "Epoch 23/30\n",
      "420/420 [==============================] - 1s 3ms/step - loss: 0.2757 - acc: 0.9405\n",
      "Epoch 24/30\n",
      "420/420 [==============================] - 1s 3ms/step - loss: 0.2367 - acc: 0.9524\n",
      "Epoch 25/30\n",
      "420/420 [==============================] - 1s 3ms/step - loss: 0.2821 - acc: 0.9381\n",
      "Epoch 26/30\n",
      "420/420 [==============================] - 2s 4ms/step - loss: 0.2204 - acc: 0.9548\n",
      "Epoch 27/30\n",
      "420/420 [==============================] - 2s 4ms/step - loss: 0.3467 - acc: 0.9048\n",
      "Epoch 28/30\n",
      "420/420 [==============================] - 1s 3ms/step - loss: 0.2385 - acc: 0.9405\n",
      "Epoch 29/30\n",
      "420/420 [==============================] - 1s 3ms/step - loss: 0.2086 - acc: 0.9571\n",
      "Epoch 30/30\n",
      "420/420 [==============================] - 1s 3ms/step - loss: 0.1758 - acc: 0.9595\n"
     ]
    },
    {
     "data": {
      "text/plain": [
       "<keras.callbacks.History at 0x1c851a824e0>"
      ]
     },
     "execution_count": 14,
     "metadata": {},
     "output_type": "execute_result"
    }
   ],
   "source": [
    "model_once.fit(X_train, y_train, epochs=30)"
   ]
  },
  {
   "cell_type": "code",
   "execution_count": 15,
   "metadata": {},
   "outputs": [
    {
     "name": "stdout",
     "output_type": "stream",
     "text": [
      "180/180 [==============================] - 1s 3ms/step\n"
     ]
    },
    {
     "data": {
      "text/plain": [
       "[0.08638498120837741, 0.9944444431198968]"
      ]
     },
     "execution_count": 15,
     "metadata": {},
     "output_type": "execute_result"
    }
   ],
   "source": [
    "model_once.evaluate(X_test, y_test)"
   ]
  },
  {
   "cell_type": "code",
   "execution_count": 16,
   "metadata": {},
   "outputs": [],
   "source": [
    "y_test_to_int = np.arange(len(y_test))\n",
    "x_test_to_int = np.arange(len(X_test)) \n",
    "\n",
    "for j in range(len(X_test)):\n",
    "    x_test_to_int[j] = int(model_once.predict_classes(X_test[j:j+1]))\n",
    "    for k in range(6):\n",
    "        if(y_test[j,k] == 1):\n",
    "            y_test_to_int[j] = k "
   ]
  },
  {
   "cell_type": "code",
   "execution_count": 17,
   "metadata": {},
   "outputs": [
    {
     "name": "stdout",
     "output_type": "stream",
     "text": [
      "Real value : Prediction\n",
      "---------------------------\n",
      "    5 \t   : \t 2\n",
      "\n",
      "\n",
      "Number of miscalculation :  1 / 180 = 0.006\n",
      "\n",
      "Accuracy :  99.44 %\n"
     ]
    }
   ],
   "source": [
    "count=0\n",
    "print(\"Real value : Prediction\\n---------------------------\")\n",
    "for i in range(len(X_test)):\n",
    "    if(y_test_to_int[i] != x_test_to_int[i]):\n",
    "        print(\"   \",y_test_to_int[i], \"\\t   : \\t\", x_test_to_int[i])\n",
    "        count = count + 1\n",
    "probab = count/len(X_test)\n",
    "print(\"\\n\\nNumber of miscalculation : \",count,\"/\",len(x_test_to_int),\"=\",round(probab,3))\n",
    "print(\"\\nAccuracy : \",((1-round(probab,4))*100),\"%\")"
   ]
  },
  {
   "cell_type": "code",
   "execution_count": null,
   "metadata": {},
   "outputs": [],
   "source": []
  },
  {
   "cell_type": "code",
   "execution_count": null,
   "metadata": {},
   "outputs": [],
   "source": []
  },
  {
   "cell_type": "markdown",
   "metadata": {},
   "source": [
    "## Second Dataset(600,100,6)_ Round 1"
   ]
  },
  {
   "cell_type": "code",
   "execution_count": 21,
   "metadata": {},
   "outputs": [],
   "source": [
    "for i, data_1 in enumerate(total_data_1):\n",
    "    #print(data)\n",
    "    dataset_1[i] = pd.read_csv(data_1, names=['n','na','a','b','c','d','a-b','c-d']).sample(n=100).sort_index().iloc[:,:6]"
   ]
  },
  {
   "cell_type": "code",
   "execution_count": 22,
   "metadata": {},
   "outputs": [
    {
     "data": {
      "text/plain": [
       "((600, 100, 6), (600, 6))"
      ]
     },
     "execution_count": 22,
     "metadata": {},
     "output_type": "execute_result"
    }
   ],
   "source": [
    "label_1 = np.array([[1, 0, 0 ,0, 0, 0 ]] * len(data_1_2) + [[0, 1, 0, 0, 0, 0 ]] * len(data_2_2) + [[0, 0, 1, 0, 0, 0 ]] * len(data_3_2) + [[0, 0, 0, 1, 0, 0 ]] * len(data_4_2) + [[0, 0, 0, 0, 1, 0 ]] * len(data_5_2) + [[0, 0, 0, 0, 0, 1]] * len(data_6_2))\n",
    "dataset_1.shape, label_1.shape\n"
   ]
  },
  {
   "cell_type": "code",
   "execution_count": 23,
   "metadata": {},
   "outputs": [],
   "source": [
    "X_train_1, X_test_1, y_train_1, y_test_1 = train_test_split(dataset_1, label_1, random_state=0, test_size=0.3)"
   ]
  },
  {
   "cell_type": "code",
   "execution_count": 24,
   "metadata": {},
   "outputs": [],
   "source": [
    "callback = [\n",
    "    ReduceLROnPlateau(monitor='val_loss', factor=0.1, patience=3, min_lr=0.000001), \n",
    "    #ModelCheckpoint(filepath='./weights.h5', save_best_only=True),\n",
    "    EarlyStopping(monitor='val_acc', restore_best_weights=True, patience=5)\n",
    "]"
   ]
  },
  {
   "cell_type": "code",
   "execution_count": 25,
   "metadata": {},
   "outputs": [],
   "source": [
    "K.clear_session()"
   ]
  },
  {
   "cell_type": "code",
   "execution_count": 26,
   "metadata": {},
   "outputs": [
    {
     "name": "stdout",
     "output_type": "stream",
     "text": [
      "_________________________________________________________________\n",
      "Layer (type)                 Output Shape              Param #   \n",
      "=================================================================\n",
      "lstm_1 (LSTM)                (None, 20)                2160      \n",
      "_________________________________________________________________\n",
      "dense_1 (Dense)              (None, 6)                 126       \n",
      "=================================================================\n",
      "Total params: 2,286\n",
      "Trainable params: 2,286\n",
      "Non-trainable params: 0\n",
      "_________________________________________________________________\n"
     ]
    }
   ],
   "source": [
    "model_1 = Sequential()\n",
    "\n",
    "model_1.add(LSTM(20, input_shape=(100,6)))\n",
    "model_1.add(Dense(6, activation='softmax'))\n",
    "model_1.compile(loss='categorical_crossentropy', optimizer=Adam(lr=0.005), metrics=['acc'])\n",
    "\n",
    "model_1.summary()"
   ]
  },
  {
   "cell_type": "code",
   "execution_count": 27,
   "metadata": {
    "scrolled": true
   },
   "outputs": [
    {
     "name": "stdout",
     "output_type": "stream",
     "text": [
      "Epoch 1/30\n",
      "420/420 [==============================] - 3s 6ms/step - loss: 1.7601 - acc: 0.2381\n",
      "Epoch 2/30\n",
      "420/420 [==============================] - 1s 2ms/step - loss: 1.6031 - acc: 0.3976\n",
      "Epoch 3/30\n",
      "420/420 [==============================] - 1s 2ms/step - loss: 1.3401 - acc: 0.4881\n",
      "Epoch 4/30\n",
      "420/420 [==============================] - 1s 3ms/step - loss: 1.1430 - acc: 0.5905\n",
      "Epoch 5/30\n",
      "420/420 [==============================] - 1s 3ms/step - loss: 1.1077 - acc: 0.6143\n",
      "Epoch 6/30\n",
      "420/420 [==============================] - 1s 2ms/step - loss: 0.9722 - acc: 0.7143\n",
      "Epoch 7/30\n",
      "420/420 [==============================] - 1s 3ms/step - loss: 0.8831 - acc: 0.7238A: 0s - loss: 0.8821 - acc: 0.7\n",
      "Epoch 8/30\n",
      "420/420 [==============================] - 1s 3ms/step - loss: 0.8642 - acc: 0.6929\n",
      "Epoch 9/30\n",
      "420/420 [==============================] - 1s 2ms/step - loss: 0.8003 - acc: 0.6762\n",
      "Epoch 10/30\n",
      "420/420 [==============================] - 1s 2ms/step - loss: 0.7609 - acc: 0.6690\n",
      "Epoch 11/30\n",
      "420/420 [==============================] - 1s 3ms/step - loss: 0.7164 - acc: 0.7548\n",
      "Epoch 12/30\n",
      "420/420 [==============================] - 1s 2ms/step - loss: 1.5350 - acc: 0.4762\n",
      "Epoch 13/30\n",
      "420/420 [==============================] - 1s 2ms/step - loss: 1.2446 - acc: 0.5429\n",
      "Epoch 14/30\n",
      "420/420 [==============================] - 1s 3ms/step - loss: 1.1202 - acc: 0.5738A: 0s - loss: 1.1249 - acc: 0\n",
      "Epoch 15/30\n",
      "420/420 [==============================] - 1s 3ms/step - loss: 1.2653 - acc: 0.4476\n",
      "Epoch 16/30\n",
      "420/420 [==============================] - 1s 2ms/step - loss: 1.1748 - acc: 0.5119\n",
      "Epoch 17/30\n",
      "420/420 [==============================] - 1s 3ms/step - loss: 1.0338 - acc: 0.6929\n",
      "Epoch 18/30\n",
      "420/420 [==============================] - 1s 3ms/step - loss: 0.9851 - acc: 0.7333\n",
      "Epoch 19/30\n",
      "420/420 [==============================] - 1s 3ms/step - loss: 0.9379 - acc: 0.7333\n",
      "Epoch 20/30\n",
      "420/420 [==============================] - 1s 3ms/step - loss: 0.8717 - acc: 0.7595\n",
      "Epoch 21/30\n",
      "420/420 [==============================] - 1s 3ms/step - loss: 0.8274 - acc: 0.7571\n",
      "Epoch 22/30\n",
      "420/420 [==============================] - 1s 3ms/step - loss: 0.8323 - acc: 0.7405\n",
      "Epoch 23/30\n",
      "420/420 [==============================] - 1s 3ms/step - loss: 0.7990 - acc: 0.7595\n",
      "Epoch 24/30\n",
      "420/420 [==============================] - 1s 3ms/step - loss: 0.8060 - acc: 0.7714\n",
      "Epoch 25/30\n",
      "420/420 [==============================] - 1s 3ms/step - loss: 0.8904 - acc: 0.7262\n",
      "Epoch 26/30\n",
      "420/420 [==============================] - 1s 3ms/step - loss: 0.7599 - acc: 0.7476\n",
      "Epoch 27/30\n",
      "420/420 [==============================] - 1s 3ms/step - loss: 0.7067 - acc: 0.8190\n",
      "Epoch 28/30\n",
      "420/420 [==============================] - 1s 3ms/step - loss: 0.6378 - acc: 0.8214\n",
      "Epoch 29/30\n",
      "420/420 [==============================] - 2s 4ms/step - loss: 0.6367 - acc: 0.8262\n",
      "Epoch 30/30\n",
      "420/420 [==============================] - 1s 3ms/step - loss: 0.5763 - acc: 0.8405\n"
     ]
    },
    {
     "data": {
      "text/plain": [
       "<keras.callbacks.History at 0x1c85f4cd198>"
      ]
     },
     "execution_count": 27,
     "metadata": {},
     "output_type": "execute_result"
    }
   ],
   "source": [
    "model_1.fit(X_train_1, y_train_1, epochs=30)"
   ]
  },
  {
   "cell_type": "code",
   "execution_count": 28,
   "metadata": {
    "scrolled": true
   },
   "outputs": [
    {
     "name": "stdout",
     "output_type": "stream",
     "text": [
      "180/180 [==============================] - 0s 2ms/step\n"
     ]
    },
    {
     "data": {
      "text/plain": [
       "[0.6488732311460707, 0.8111111097865634]"
      ]
     },
     "execution_count": 28,
     "metadata": {},
     "output_type": "execute_result"
    }
   ],
   "source": [
    "model_1.evaluate(X_test_1, y_test_1)"
   ]
  },
  {
   "cell_type": "code",
   "execution_count": 45,
   "metadata": {
    "scrolled": true
   },
   "outputs": [
    {
     "name": "stdout",
     "output_type": "stream",
     "text": [
      "Real value : Prediction\n",
      "---------------------------\n",
      "    4 \t   : \t 1\n",
      "    2 \t   : \t 5\n",
      "    4 \t   : \t 0\n",
      "    4 \t   : \t 5\n",
      "    1 \t   : \t 5\n",
      "    2 \t   : \t 3\n",
      "    3 \t   : \t 2\n",
      "    3 \t   : \t 5\n",
      "    4 \t   : \t 1\n",
      "    3 \t   : \t 5\n",
      "    1 \t   : \t 5\n",
      "    4 \t   : \t 0\n",
      "    2 \t   : \t 3\n",
      "    4 \t   : \t 3\n",
      "    4 \t   : \t 5\n",
      "    4 \t   : \t 0\n",
      "    3 \t   : \t 2\n",
      "    2 \t   : \t 3\n",
      "    3 \t   : \t 5\n",
      "    1 \t   : \t 5\n",
      "    3 \t   : \t 2\n",
      "    5 \t   : \t 1\n",
      "    2 \t   : \t 0\n",
      "    3 \t   : \t 0\n",
      "    2 \t   : \t 3\n",
      "    5 \t   : \t 2\n",
      "    1 \t   : \t 5\n",
      "    2 \t   : \t 5\n",
      "    1 \t   : \t 5\n",
      "    3 \t   : \t 2\n",
      "    4 \t   : \t 1\n",
      "    3 \t   : \t 0\n",
      "    2 \t   : \t 3\n",
      "    3 \t   : \t 2\n",
      "\n",
      "\n",
      "Number of miscalculation :  34 / 180 = 0.189\n",
      "\n",
      "Accuracy :  81.11 %\n",
      "\n",
      "Wrong data_labels\n",
      "0s :  3 \n",
      "1s :  6 \n",
      "2s :  4 \n",
      "3s :  5 \n",
      "4s :  12 \n",
      "5s :  4\n"
     ]
    }
   ],
   "source": [
    "y_test_to_int_1 = np.arange(len(y_test_1))\n",
    "x_test_to_int_1 = np.arange(len(X_test_1)) \n",
    "\n",
    "for j in range(len(X_test)):\n",
    "    x_test_to_int_1[j] = int(model_1.predict_classes(X_test_1[j:j+1]))\n",
    "    for k in range(6):\n",
    "        if(y_test_1[j,k] == 1):\n",
    "            y_test_to_int_1[j] = k \n",
    "            \n",
    "count=0\n",
    "print(\"Real value : Prediction\\n---------------------------\")\n",
    "for i in range(len(X_test_1)):\n",
    "    if(y_test_to_int_1[i] != x_test_to_int_1[i]):\n",
    "        print(\"   \",y_test_to_int_1[i], \"\\t   : \\t\", x_test_to_int_1[i])\n",
    "        count = count + 1\n",
    "probab = count/len(X_test_1)\n",
    "print(\"\\n\\nNumber of miscalculation : \",count,\"/\",len(x_test_to_int_1),\"=\",round(probab,3))\n",
    "print(\"\\nAccuracy : \",((1-round(probab,4))*100),\"%\")\n",
    "\n",
    "count_0 = 0\n",
    "count_1=0\n",
    "count_2 = 0\n",
    "count_3=0\n",
    "count_4=0 \n",
    "count_5 = 0\n",
    "\n",
    "for m in range(count):\n",
    "    if (y_test_to_int_1[m]==0):\n",
    "        count_0 = count_0 + 1\n",
    "        \n",
    "    elif (y_test_to_int_1[m] == 1):\n",
    "        count_1 = count_1 + 1\n",
    "        \n",
    "    elif (y_test_to_int_1[m] == 2):\n",
    "        count_2 = count_2 + 1\n",
    "        \n",
    "    elif (y_test_to_int_1[m] == 3):\n",
    "        count_3 = count_3 + 1\n",
    "        \n",
    "    elif (y_test_to_int_1[m] == 4):\n",
    "        count_4 = count_4 + 1\n",
    "        \n",
    "    elif (y_test_to_int_1[m] == 5):\n",
    "        count_5 = count_5 + 1   \n",
    "        \n",
    "print(\"\\nWrong data_labels_y_value\\n0s : \",count_0,\"\\n1s : \",count_1,\"\\n2s : \",count_2,\"\\n3s : \",count_3,\"\\n4s : \",count_4,\"\\n5s : \",count_5)\n"
   ]
  },
  {
   "cell_type": "code",
   "execution_count": null,
   "metadata": {},
   "outputs": [],
   "source": []
  },
  {
   "cell_type": "code",
   "execution_count": null,
   "metadata": {},
   "outputs": [],
   "source": []
  },
  {
   "cell_type": "code",
   "execution_count": null,
   "metadata": {},
   "outputs": [],
   "source": []
  },
  {
   "cell_type": "code",
   "execution_count": null,
   "metadata": {},
   "outputs": [],
   "source": []
  },
  {
   "cell_type": "code",
   "execution_count": null,
   "metadata": {},
   "outputs": [],
   "source": []
  },
  {
   "cell_type": "code",
   "execution_count": null,
   "metadata": {},
   "outputs": [],
   "source": []
  },
  {
   "cell_type": "code",
   "execution_count": 159,
   "metadata": {},
   "outputs": [],
   "source": [
    "X_train_2, X_test_2, y_train_2, y_test_2 = train_test_split(dataset_2, label_2, random_state=0, test_size=0.2)"
   ]
  },
  {
   "cell_type": "code",
   "execution_count": 160,
   "metadata": {},
   "outputs": [],
   "source": [
    "callback = [\n",
    "    ReduceLROnPlateau(monitor='val_loss', factor=0.1, patience=3, min_lr=0.000001), \n",
    "    #ModelCheckpoint(filepath='./weights.h5', save_best_only=True),\n",
    "    EarlyStopping(monitor='val_acc', restore_best_weights=True, patience=5)\n",
    "]"
   ]
  },
  {
   "cell_type": "code",
   "execution_count": 161,
   "metadata": {},
   "outputs": [],
   "source": [
    "K.clear_session()"
   ]
  },
  {
   "cell_type": "code",
   "execution_count": 162,
   "metadata": {},
   "outputs": [
    {
     "name": "stdout",
     "output_type": "stream",
     "text": [
      "_________________________________________________________________\n",
      "Layer (type)                 Output Shape              Param #   \n",
      "=================================================================\n",
      "lstm_1 (LSTM)                (None, 20)                2160      \n",
      "_________________________________________________________________\n",
      "dense_1 (Dense)              (None, 6)                 126       \n",
      "=================================================================\n",
      "Total params: 2,286\n",
      "Trainable params: 2,286\n",
      "Non-trainable params: 0\n",
      "_________________________________________________________________\n"
     ]
    }
   ],
   "source": [
    "model_2 = Sequential()\n",
    "\n",
    "model_2.add(LSTM(20, input_shape=(100,6)))\n",
    "model_2.add(Dense(6, activation='softmax'))\n",
    "model_2.compile(loss='categorical_crossentropy', optimizer=Adam(lr=0.005), metrics=['acc'])\n",
    "\n",
    "model_2.summary()"
   ]
  },
  {
   "cell_type": "code",
   "execution_count": 164,
   "metadata": {
    "scrolled": true
   },
   "outputs": [
    {
     "name": "stdout",
     "output_type": "stream",
     "text": [
      "Epoch 1/30\n",
      "960/960 [==============================] - 10s 11ms/step - loss: 1.6726 - acc: 0.2802\n",
      "Epoch 2/30\n",
      "960/960 [==============================] - 5s 6ms/step - loss: 1.3647 - acc: 0.4885\n",
      "Epoch 3/30\n",
      "960/960 [==============================] - 5s 5ms/step - loss: 1.2660 - acc: 0.5375\n",
      "Epoch 4/30\n",
      "960/960 [==============================] - 5s 5ms/step - loss: 1.6274 - acc: 0.3615\n",
      "Epoch 5/30\n",
      "960/960 [==============================] - 4s 5ms/step - loss: 1.3971 - acc: 0.4563\n",
      "Epoch 6/30\n",
      "960/960 [==============================] - 5s 5ms/step - loss: 1.3037 - acc: 0.5521\n",
      "Epoch 7/30\n",
      "960/960 [==============================] - 5s 5ms/step - loss: 1.2187 - acc: 0.5906\n",
      "Epoch 8/30\n",
      "960/960 [==============================] - 5s 5ms/step - loss: 1.1252 - acc: 0.5708\n",
      "Epoch 9/30\n",
      "960/960 [==============================] - 5s 5ms/step - loss: 1.0825 - acc: 0.5854\n",
      "Epoch 10/30\n",
      "960/960 [==============================] - 5s 5ms/step - loss: 1.0260 - acc: 0.5948A: 1s - loss: 1.0317 - acc:\n",
      "Epoch 11/30\n",
      "960/960 [==============================] - 5s 5ms/step - loss: 1.0061 - acc: 0.6219\n",
      "Epoch 12/30\n",
      "960/960 [==============================] - 6s 6ms/step - loss: 0.9397 - acc: 0.6427\n",
      "Epoch 13/30\n",
      "960/960 [==============================] - 5s 5ms/step - loss: 0.9335 - acc: 0.6438\n",
      "Epoch 14/30\n",
      "960/960 [==============================] - ETA: 0s - loss: 0.9237 - acc: 0.631 - 6s 6ms/step - loss: 0.9234 - acc: 0.6344\n",
      "Epoch 15/30\n",
      "960/960 [==============================] - 5s 5ms/step - loss: 0.8796 - acc: 0.6781A: 4s \n",
      "Epoch 16/30\n",
      "960/960 [==============================] - 5s 5ms/step - loss: 0.9312 - acc: 0.6667\n",
      "Epoch 17/30\n",
      "960/960 [==============================] - 6s 6ms/step - loss: 0.9915 - acc: 0.6531\n",
      "Epoch 18/30\n",
      "960/960 [==============================] - 5s 5ms/step - loss: 0.8804 - acc: 0.7115\n",
      "Epoch 19/30\n",
      "960/960 [==============================] - 6s 6ms/step - loss: 0.8254 - acc: 0.7073\n",
      "Epoch 20/30\n",
      "960/960 [==============================] - 6s 6ms/step - loss: 0.7807 - acc: 0.7250\n",
      "Epoch 21/30\n",
      "960/960 [==============================] - 6s 6ms/step - loss: 0.7455 - acc: 0.7333A: 1s - loss: 0.7152 - ac\n",
      "Epoch 22/30\n",
      "960/960 [==============================] - 5s 5ms/step - loss: 0.7568 - acc: 0.7135\n",
      "Epoch 23/30\n",
      "960/960 [==============================] - 5s 5ms/step - loss: 0.7096 - acc: 0.7427\n",
      "Epoch 24/30\n",
      "960/960 [==============================] - 5s 6ms/step - loss: 0.6847 - acc: 0.7552A: 2s - loss: 0.67\n",
      "Epoch 25/30\n",
      "960/960 [==============================] - 6s 6ms/step - loss: 0.7469 - acc: 0.7437\n",
      "Epoch 26/30\n",
      "960/960 [==============================] - 6s 6ms/step - loss: 0.6976 - acc: 0.7646\n",
      "Epoch 27/30\n",
      "960/960 [==============================] - 5s 5ms/step - loss: 0.7455 - acc: 0.7406A: 4s - \n",
      "Epoch 28/30\n",
      "960/960 [==============================] - 6s 6ms/step - loss: 0.7604 - acc: 0.7323A: 4s - loss: \n",
      "Epoch 29/30\n",
      "960/960 [==============================] - 6s 6ms/step - loss: 0.8479 - acc: 0.6865\n",
      "Epoch 30/30\n",
      "960/960 [==============================] - 7s 7ms/step - loss: 0.7017 - acc: 0.7698\n"
     ]
    },
    {
     "data": {
      "text/plain": [
       "<keras.callbacks.History at 0x21a29848c88>"
      ]
     },
     "execution_count": 164,
     "metadata": {},
     "output_type": "execute_result"
    }
   ],
   "source": [
    "model_2.fit(X_train_2, y_train_2, epochs=30)"
   ]
  },
  {
   "cell_type": "code",
   "execution_count": 167,
   "metadata": {},
   "outputs": [
    {
     "name": "stdout",
     "output_type": "stream",
     "text": [
      "240/240 [==============================] - 1s 4ms/step\n"
     ]
    },
    {
     "data": {
      "text/plain": [
       "[0.6044707655906677, 0.7791666666666667]"
      ]
     },
     "execution_count": 167,
     "metadata": {},
     "output_type": "execute_result"
    }
   ],
   "source": [
    "model_2.evaluate(X_test_2, y_test_2)"
   ]
  },
  {
   "cell_type": "code",
   "execution_count": 171,
   "metadata": {
    "scrolled": true
   },
   "outputs": [
    {
     "name": "stdout",
     "output_type": "stream",
     "text": [
      "Real value : Prediction\n",
      "---------------------------\n",
      "    4 \t   : \t 2\n",
      "    2 \t   : \t 3\n",
      "    4 \t   : \t 3\n",
      "    4 \t   : \t 3\n",
      "    3 \t   : \t 0\n",
      "    1 \t   : \t 2\n",
      "    3 \t   : \t 0\n",
      "    2 \t   : \t 3\n",
      "    3 \t   : \t 0\n",
      "    3 \t   : \t 0\n",
      "    3 \t   : \t 1\n",
      "    0 \t   : \t 1\n",
      "    2 \t   : \t 3\n",
      "    2 \t   : \t 3\n",
      "    3 \t   : \t 0\n",
      "    3 \t   : \t 0\n",
      "    0 \t   : \t 1\n",
      "    0 \t   : \t 1\n",
      "    0 \t   : \t 1\n",
      "    3 \t   : \t 1\n",
      "    0 \t   : \t 1\n",
      "    2 \t   : \t 3\n",
      "    0 \t   : \t 1\n",
      "    0 \t   : \t 1\n",
      "    0 \t   : \t 1\n",
      "    2 \t   : \t 3\n",
      "    3 \t   : \t 0\n",
      "    0 \t   : \t 1\n",
      "    0 \t   : \t 1\n",
      "    4 \t   : \t 3\n",
      "    0 \t   : \t 1\n",
      "    3 \t   : \t 1\n",
      "    3 \t   : \t 0\n",
      "    3 \t   : \t 0\n",
      "\n",
      "\n",
      "Number of miscalculation :  34 / 120 = 0.283\n",
      "\n",
      "Accuracy :  71.67 %\n"
     ]
    }
   ],
   "source": [
    "y_test_to_int_2 = np.arange(len(y_test))\n",
    "x_test_to_int_2 = np.arange(len(X_test)) \n",
    "\n",
    "for j in range(len(X_test_2)):\n",
    "    x_test_to_int_2[j] = int(model_2.predict_classes(X_test_2[j:j+1]))\n",
    "    for k in range(6):\n",
    "        if(y_test_2[j,k] == 1):\n",
    "            y_test_to_int_2[j] = k \n",
    "\n",
    "count=0\n",
    "print(\"Real value : Prediction\\n---------------------------\")\n",
    "for i in range(len(X_test)):\n",
    "    if(y_test_to_int[i] != x_test_to_int[i]):\n",
    "        print(\"   \",y_test_to_int[i], \"\\t   : \\t\", x_test_to_int[i])\n",
    "        count = count + 1\n",
    "probab = count/len(X_test)\n",
    "print(\"\\n\\nNumber of miscalculation : \",count,\"/\",len(x_test_to_int),\"=\",round(probab,3))\n",
    "print(\"\\nAccuracy : \",((1-round(probab,4))*100),\"%\")\n",
    "\n",
    "count_0 = 0\n",
    "count_1=0\n",
    "count_2 = 0\n",
    "count_3=0\n",
    "count_4=0 \n",
    "count_5 = 0\n",
    "\n",
    "for m in range(count):\n",
    "    if (y_test_to_int_1[m]==0):\n",
    "        count_0 = count_0 + 1\n",
    "        \n",
    "    elif (y_test_to_int_1[m] == 1):\n",
    "        count_1 = count_1 + 1\n",
    "        \n",
    "    elif (y_test_to_int_1[m] == 2):\n",
    "        count_2 = count_2 + 1\n",
    "        \n",
    "    elif (y_test_to_int_1[m] == 3):\n",
    "        count_3 = count_3 + 1\n",
    "        \n",
    "    elif (y_test_to_int_1[m] == 4):\n",
    "        count_4 = count_4 + 1\n",
    "        \n",
    "    elif (y_test_to_int_1[m] == 5):\n",
    "        count_5 = count_5 + 1   \n",
    "        \n",
    "print(\"\\nWrong data_labels_y_value\\n0s : \",count_0,\"\\n1s : \",count_1,\"\\n2s : \",count_2,\"\\n3s : \",count_3,\"\\n4s : \",count_4,\"\\n5s : \",count_5)\n"
   ]
  },
  {
   "cell_type": "code",
   "execution_count": null,
   "metadata": {},
   "outputs": [],
   "source": []
  },
  {
   "cell_type": "code",
   "execution_count": 97,
   "metadata": {},
   "outputs": [],
   "source": [
    "dataset_ori = np.zeros((len(total_data), 100, 2))\n"
   ]
  },
  {
   "cell_type": "code",
   "execution_count": 98,
   "metadata": {},
   "outputs": [],
   "source": [
    "for i, data in enumerate(total_data):\n",
    "    #print(data)\n",
    "    temp_ori = pd.read_csv(data, names=['a-b','c-d','n','n1']).sample(n=100).sort_index().iloc[:,:6]\n",
    "    temp_ori = pd.DataFrame(temp_ori)\n",
    "    temp_ori = temp_ori.drop(columns=[\"n\", \"n1\"])\n",
    "    temp_ori = np.array(temp_ori)\n",
    "    dataset_ori[i] = temp_ori"
   ]
  },
  {
   "cell_type": "code",
   "execution_count": 99,
   "metadata": {},
   "outputs": [
    {
     "data": {
      "text/plain": [
       "((600, 100, 2), (600, 6))"
      ]
     },
     "execution_count": 99,
     "metadata": {},
     "output_type": "execute_result"
    }
   ],
   "source": [
    "label_ori = np.array([[1, 0, 0 ,0, 0, 0 ]] * len(data_1) + [[0, 1, 0, 0, 0, 0 ]] * len(data_2) + [[0, 0, 1, 0, 0, 0 ]] * len(data_3) + [[0, 0, 0, 1, 0, 0 ]] * len(data_4) + [[0, 0, 0, 0, 1, 0 ]] *len(data_5) + [[0, 0, 0, 0, 0, 1]] *len(data_6))\n",
    "dataset_ori.shape, label_ori.shape"
   ]
  },
  {
   "cell_type": "code",
   "execution_count": 125,
   "metadata": {},
   "outputs": [],
   "source": [
    "X_train_ori, X_test_ori, y_train_ori, y_test_ori = train_test_split(dataset_ori, label_ori, random_state=0, test_size=0.3)\n",
    "\n",
    "callback = [\n",
    "    ReduceLROnPlateau(monitor='val_loss', factor=0.1, patience=3, min_lr=0.000001), \n",
    "    #ModelCheckpoint(filepath='./weights.h5', save_best_only=True),\n",
    "    EarlyStopping(monitor='val_acc', restore_best_weights=True, patience=5)\n",
    "]"
   ]
  },
  {
   "cell_type": "code",
   "execution_count": 126,
   "metadata": {},
   "outputs": [],
   "source": [
    "K.clear_session()"
   ]
  },
  {
   "cell_type": "code",
   "execution_count": 127,
   "metadata": {},
   "outputs": [
    {
     "name": "stdout",
     "output_type": "stream",
     "text": [
      "_________________________________________________________________\n",
      "Layer (type)                 Output Shape              Param #   \n",
      "=================================================================\n",
      "lstm_1 (LSTM)                (None, 20)                1840      \n",
      "_________________________________________________________________\n",
      "dense_1 (Dense)              (None, 6)                 126       \n",
      "=================================================================\n",
      "Total params: 1,966\n",
      "Trainable params: 1,966\n",
      "Non-trainable params: 0\n",
      "_________________________________________________________________\n"
     ]
    }
   ],
   "source": [
    "model_ori = Sequential()\n",
    "\n",
    "model_ori.add(LSTM(20, input_shape=(100,2)))\n",
    "model_ori.add(Dense(6, activation='softmax'))\n",
    "model_ori.compile(loss='categorical_crossentropy', optimizer=Adam(lr=0.005), metrics=['acc'])\n",
    "\n",
    "model_ori.summary()"
   ]
  },
  {
   "cell_type": "code",
   "execution_count": 128,
   "metadata": {
    "scrolled": true
   },
   "outputs": [
    {
     "name": "stdout",
     "output_type": "stream",
     "text": [
      "Epoch 1/30\n",
      "420/420 [==============================] - 5s 12ms/step - loss: 1.7872 - acc: 0.2310\n",
      "Epoch 2/30\n",
      "420/420 [==============================] - 1s 3ms/step - loss: 1.6537 - acc: 0.3738\n",
      "Epoch 3/30\n",
      "420/420 [==============================] - 2s 4ms/step - loss: 1.4441 - acc: 0.3881\n",
      "Epoch 4/30\n",
      "420/420 [==============================] - 1s 3ms/step - loss: 1.4570 - acc: 0.4262\n",
      "Epoch 5/30\n",
      "420/420 [==============================] - 1s 3ms/step - loss: 1.3043 - acc: 0.5667\n",
      "Epoch 6/30\n",
      "420/420 [==============================] - 4s 11ms/step - loss: 1.1727 - acc: 0.6286\n",
      "Epoch 7/30\n",
      "420/420 [==============================] - 3s 6ms/step - loss: 1.0777 - acc: 0.6524\n",
      "Epoch 8/30\n",
      "420/420 [==============================] - 2s 4ms/step - loss: 0.9528 - acc: 0.6714\n",
      "Epoch 9/30\n",
      "420/420 [==============================] - 2s 4ms/step - loss: 0.8712 - acc: 0.6667\n",
      "Epoch 10/30\n",
      "420/420 [==============================] - 1s 3ms/step - loss: 0.7979 - acc: 0.7405\n",
      "Epoch 11/30\n",
      "420/420 [==============================] - 2s 5ms/step - loss: 0.7530 - acc: 0.7500\n",
      "Epoch 12/30\n",
      "420/420 [==============================] - 2s 4ms/step - loss: 0.7356 - acc: 0.6762\n",
      "Epoch 13/30\n",
      "420/420 [==============================] - 2s 5ms/step - loss: 0.7358 - acc: 0.7167\n",
      "Epoch 14/30\n",
      "420/420 [==============================] - 2s 4ms/step - loss: 0.7114 - acc: 0.7476\n",
      "Epoch 15/30\n",
      "420/420 [==============================] - 2s 5ms/step - loss: 0.6200 - acc: 0.8214\n",
      "Epoch 16/30\n",
      "420/420 [==============================] - 1s 3ms/step - loss: 0.5754 - acc: 0.8048\n",
      "Epoch 17/30\n",
      "420/420 [==============================] - 1s 3ms/step - loss: 1.0955 - acc: 0.6357\n",
      "Epoch 18/30\n",
      "420/420 [==============================] - 2s 5ms/step - loss: 0.7460 - acc: 0.7786\n",
      "Epoch 19/30\n",
      "420/420 [==============================] - 2s 4ms/step - loss: 0.8218 - acc: 0.7381\n",
      "Epoch 20/30\n",
      "420/420 [==============================] - 2s 5ms/step - loss: 0.7601 - acc: 0.7738\n",
      "Epoch 21/30\n",
      "420/420 [==============================] - 1s 3ms/step - loss: 0.6391 - acc: 0.7976\n",
      "Epoch 22/30\n",
      "420/420 [==============================] - 2s 5ms/step - loss: 0.6133 - acc: 0.7857\n",
      "Epoch 23/30\n",
      "420/420 [==============================] - 2s 5ms/step - loss: 0.6737 - acc: 0.7548\n",
      "Epoch 24/30\n",
      "420/420 [==============================] - 2s 4ms/step - loss: 0.5771 - acc: 0.7976A: 0s - loss: 0.6018 - acc:\n",
      "Epoch 25/30\n",
      "420/420 [==============================] - 2s 4ms/step - loss: 0.5386 - acc: 0.8071\n",
      "Epoch 26/30\n",
      "420/420 [==============================] - 2s 4ms/step - loss: 0.5011 - acc: 0.8310\n",
      "Epoch 27/30\n",
      "420/420 [==============================] - 1s 3ms/step - loss: 0.4560 - acc: 0.8619\n",
      "Epoch 28/30\n",
      "420/420 [==============================] - 2s 4ms/step - loss: 0.4457 - acc: 0.8571\n",
      "Epoch 29/30\n",
      "420/420 [==============================] - 2s 4ms/step - loss: 0.4344 - acc: 0.8595\n",
      "Epoch 30/30\n",
      "420/420 [==============================] - 1s 3ms/step - loss: 0.4097 - acc: 0.8881\n"
     ]
    },
    {
     "data": {
      "text/plain": [
       "<keras.callbacks.History at 0x1c90ef89eb8>"
      ]
     },
     "execution_count": 128,
     "metadata": {},
     "output_type": "execute_result"
    }
   ],
   "source": [
    "model_ori.fit(X_train_ori, y_train_ori, epochs=30)"
   ]
  },
  {
   "cell_type": "code",
   "execution_count": 129,
   "metadata": {},
   "outputs": [
    {
     "name": "stdout",
     "output_type": "stream",
     "text": [
      "180/180 [==============================] - 1s 3ms/step\n"
     ]
    },
    {
     "data": {
      "text/plain": [
       "[0.48774745331870184, 0.8388888888888889]"
      ]
     },
     "execution_count": 129,
     "metadata": {},
     "output_type": "execute_result"
    }
   ],
   "source": [
    "model_ori.evaluate(X_test_ori, y_test_ori)"
   ]
  },
  {
   "cell_type": "code",
   "execution_count": null,
   "metadata": {},
   "outputs": [],
   "source": []
  }
 ],
 "metadata": {
  "kernelspec": {
   "display_name": "Python 3",
   "language": "python",
   "name": "python3"
  },
  "language_info": {
   "codemirror_mode": {
    "name": "ipython",
    "version": 3
   },
   "file_extension": ".py",
   "mimetype": "text/x-python",
   "name": "python",
   "nbconvert_exporter": "python",
   "pygments_lexer": "ipython3",
   "version": "3.7.3"
  }
 },
 "nbformat": 4,
 "nbformat_minor": 4
}
