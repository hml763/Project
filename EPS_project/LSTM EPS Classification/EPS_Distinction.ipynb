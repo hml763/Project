{
 "cells": [
  {
   "cell_type": "code",
   "execution_count": 216,
   "metadata": {},
   "outputs": [],
   "source": [
    "import glob\n",
    "import numpy as np\n",
    "import matplotlib.pyplot as plt\n",
    "import pandas as pd\n",
    "from pandas import DataFrame as df\n",
    "import seaborn as sns"
   ]
  },
  {
   "cell_type": "code",
   "execution_count": 217,
   "metadata": {},
   "outputs": [
    {
     "data": {
      "text/plain": [
       "(200, 200, 200, 200)"
      ]
     },
     "execution_count": 217,
     "metadata": {},
     "output_type": "execute_result"
    }
   ],
   "source": [
    "data_1 = glob.glob('C:/Users/hml76/OneDrive/바탕 화면/Capacitive_sensor_research/실험데이터/좌-우/*.csv')\n",
    "data_2 = glob.glob('C:/Users/hml76/OneDrive/바탕 화면/Capacitive_sensor_research/실험데이터/우-좌/*.csv')\n",
    "data_3 = glob.glob('C:/Users/hml76/OneDrive/바탕 화면/Capacitive_sensor_research/실험데이터/시계방향/*.csv')\n",
    "data_4 = glob.glob('C:/Users/hml76/OneDrive/바탕 화면/Capacitive_sensor_research/실험데이터/시계반대방향/*.csv')\n",
    "len(data_1), len(data_2), len(data_3), len(data_4)"
   ]
  },
  {
   "cell_type": "code",
   "execution_count": 218,
   "metadata": {},
   "outputs": [],
   "source": [
    "total_data = data_1 + data_2 + data_3 + data_4"
   ]
  },
  {
   "cell_type": "code",
   "execution_count": 219,
   "metadata": {
    "scrolled": true
   },
   "outputs": [
    {
     "data": {
      "text/plain": [
       "array([[[0., 0.],\n",
       "        [0., 0.],\n",
       "        [0., 0.],\n",
       "        ...,\n",
       "        [0., 0.],\n",
       "        [0., 0.],\n",
       "        [0., 0.]],\n",
       "\n",
       "       [[0., 0.],\n",
       "        [0., 0.],\n",
       "        [0., 0.],\n",
       "        ...,\n",
       "        [0., 0.],\n",
       "        [0., 0.],\n",
       "        [0., 0.]],\n",
       "\n",
       "       [[0., 0.],\n",
       "        [0., 0.],\n",
       "        [0., 0.],\n",
       "        ...,\n",
       "        [0., 0.],\n",
       "        [0., 0.],\n",
       "        [0., 0.]],\n",
       "\n",
       "       ...,\n",
       "\n",
       "       [[0., 0.],\n",
       "        [0., 0.],\n",
       "        [0., 0.],\n",
       "        ...,\n",
       "        [0., 0.],\n",
       "        [0., 0.],\n",
       "        [0., 0.]],\n",
       "\n",
       "       [[0., 0.],\n",
       "        [0., 0.],\n",
       "        [0., 0.],\n",
       "        ...,\n",
       "        [0., 0.],\n",
       "        [0., 0.],\n",
       "        [0., 0.]],\n",
       "\n",
       "       [[0., 0.],\n",
       "        [0., 0.],\n",
       "        [0., 0.],\n",
       "        ...,\n",
       "        [0., 0.],\n",
       "        [0., 0.],\n",
       "        [0., 0.]]])"
      ]
     },
     "execution_count": 219,
     "metadata": {},
     "output_type": "execute_result"
    }
   ],
   "source": [
    "dataset = np.zeros((len(total_data), 100, 2))\n",
    "dataset"
   ]
  },
  {
   "cell_type": "code",
   "execution_count": 86,
   "metadata": {},
   "outputs": [
    {
     "data": {
      "text/html": [
       "<div>\n",
       "<style scoped>\n",
       "    .dataframe tbody tr th:only-of-type {\n",
       "        vertical-align: middle;\n",
       "    }\n",
       "\n",
       "    .dataframe tbody tr th {\n",
       "        vertical-align: top;\n",
       "    }\n",
       "\n",
       "    .dataframe thead th {\n",
       "        text-align: right;\n",
       "    }\n",
       "</style>\n",
       "<table border=\"1\" class=\"dataframe\">\n",
       "  <thead>\n",
       "    <tr style=\"text-align: right;\">\n",
       "      <th></th>\n",
       "      <th>0</th>\n",
       "      <th>1</th>\n",
       "    </tr>\n",
       "  </thead>\n",
       "  <tbody>\n",
       "    <tr>\n",
       "      <th>0</th>\n",
       "      <td>1</td>\n",
       "      <td>2</td>\n",
       "    </tr>\n",
       "  </tbody>\n",
       "</table>\n",
       "</div>"
      ],
      "text/plain": [
       "   0  1\n",
       "0  1  2"
      ]
     },
     "execution_count": 86,
     "metadata": {},
     "output_type": "execute_result"
    }
   ],
   "source": [
    "arr = [1,2],\n",
    "arr = pd.DataFrame(arr)\n",
    "arr"
   ]
  },
  {
   "cell_type": "code",
   "execution_count": 260,
   "metadata": {},
   "outputs": [
    {
     "name": "stdout",
     "output_type": "stream",
     "text": [
      "C:/Users/hml76/OneDrive/바탕 화면/Capacitive_sensor_research/실험데이터/좌-우\\1 (2).csv\n",
      "C:/Users/hml76/OneDrive/바탕 화면/Capacitive_sensor_research/실험데이터/좌-우\\1.csv\n",
      "C:/Users/hml76/OneDrive/바탕 화면/Capacitive_sensor_research/실험데이터/좌-우\\10 (2).csv\n",
      "C:/Users/hml76/OneDrive/바탕 화면/Capacitive_sensor_research/실험데이터/좌-우\\10.csv\n",
      "C:/Users/hml76/OneDrive/바탕 화면/Capacitive_sensor_research/실험데이터/좌-우\\100 (2).csv\n",
      "C:/Users/hml76/OneDrive/바탕 화면/Capacitive_sensor_research/실험데이터/좌-우\\100.csv\n",
      "C:/Users/hml76/OneDrive/바탕 화면/Capacitive_sensor_research/실험데이터/좌-우\\11 (2).csv\n",
      "C:/Users/hml76/OneDrive/바탕 화면/Capacitive_sensor_research/실험데이터/좌-우\\11.csv\n",
      "C:/Users/hml76/OneDrive/바탕 화면/Capacitive_sensor_research/실험데이터/좌-우\\12 (2).csv\n",
      "C:/Users/hml76/OneDrive/바탕 화면/Capacitive_sensor_research/실험데이터/좌-우\\12.csv\n",
      "C:/Users/hml76/OneDrive/바탕 화면/Capacitive_sensor_research/실험데이터/좌-우\\13 (2).csv\n",
      "C:/Users/hml76/OneDrive/바탕 화면/Capacitive_sensor_research/실험데이터/좌-우\\13.csv\n",
      "C:/Users/hml76/OneDrive/바탕 화면/Capacitive_sensor_research/실험데이터/좌-우\\14 (2).csv\n",
      "C:/Users/hml76/OneDrive/바탕 화면/Capacitive_sensor_research/실험데이터/좌-우\\14.csv\n",
      "C:/Users/hml76/OneDrive/바탕 화면/Capacitive_sensor_research/실험데이터/좌-우\\15 (2).csv\n",
      "C:/Users/hml76/OneDrive/바탕 화면/Capacitive_sensor_research/실험데이터/좌-우\\15.csv\n",
      "C:/Users/hml76/OneDrive/바탕 화면/Capacitive_sensor_research/실험데이터/좌-우\\16 (2).csv\n",
      "C:/Users/hml76/OneDrive/바탕 화면/Capacitive_sensor_research/실험데이터/좌-우\\16.csv\n",
      "C:/Users/hml76/OneDrive/바탕 화면/Capacitive_sensor_research/실험데이터/좌-우\\17 (2).csv\n",
      "C:/Users/hml76/OneDrive/바탕 화면/Capacitive_sensor_research/실험데이터/좌-우\\17.csv\n",
      "C:/Users/hml76/OneDrive/바탕 화면/Capacitive_sensor_research/실험데이터/좌-우\\18 (2).csv\n",
      "C:/Users/hml76/OneDrive/바탕 화면/Capacitive_sensor_research/실험데이터/좌-우\\18.csv\n",
      "C:/Users/hml76/OneDrive/바탕 화면/Capacitive_sensor_research/실험데이터/좌-우\\19 (2).csv\n",
      "C:/Users/hml76/OneDrive/바탕 화면/Capacitive_sensor_research/실험데이터/좌-우\\19.csv\n",
      "C:/Users/hml76/OneDrive/바탕 화면/Capacitive_sensor_research/실험데이터/좌-우\\2 (2).csv\n",
      "C:/Users/hml76/OneDrive/바탕 화면/Capacitive_sensor_research/실험데이터/좌-우\\2.csv\n",
      "C:/Users/hml76/OneDrive/바탕 화면/Capacitive_sensor_research/실험데이터/좌-우\\20 (2).csv\n",
      "C:/Users/hml76/OneDrive/바탕 화면/Capacitive_sensor_research/실험데이터/좌-우\\20.csv\n",
      "C:/Users/hml76/OneDrive/바탕 화면/Capacitive_sensor_research/실험데이터/좌-우\\21 (2).csv\n",
      "C:/Users/hml76/OneDrive/바탕 화면/Capacitive_sensor_research/실험데이터/좌-우\\21.csv\n",
      "C:/Users/hml76/OneDrive/바탕 화면/Capacitive_sensor_research/실험데이터/좌-우\\22 (2).csv\n",
      "C:/Users/hml76/OneDrive/바탕 화면/Capacitive_sensor_research/실험데이터/좌-우\\22.csv\n",
      "C:/Users/hml76/OneDrive/바탕 화면/Capacitive_sensor_research/실험데이터/좌-우\\23 (2).csv\n",
      "C:/Users/hml76/OneDrive/바탕 화면/Capacitive_sensor_research/실험데이터/좌-우\\23.csv\n",
      "C:/Users/hml76/OneDrive/바탕 화면/Capacitive_sensor_research/실험데이터/좌-우\\24 (2).csv\n",
      "C:/Users/hml76/OneDrive/바탕 화면/Capacitive_sensor_research/실험데이터/좌-우\\24.csv\n",
      "C:/Users/hml76/OneDrive/바탕 화면/Capacitive_sensor_research/실험데이터/좌-우\\25 (2).csv\n",
      "C:/Users/hml76/OneDrive/바탕 화면/Capacitive_sensor_research/실험데이터/좌-우\\25.csv\n",
      "C:/Users/hml76/OneDrive/바탕 화면/Capacitive_sensor_research/실험데이터/좌-우\\26 (2).csv\n",
      "C:/Users/hml76/OneDrive/바탕 화면/Capacitive_sensor_research/실험데이터/좌-우\\26.csv\n",
      "C:/Users/hml76/OneDrive/바탕 화면/Capacitive_sensor_research/실험데이터/좌-우\\27 (2).csv\n",
      "C:/Users/hml76/OneDrive/바탕 화면/Capacitive_sensor_research/실험데이터/좌-우\\27.csv\n",
      "C:/Users/hml76/OneDrive/바탕 화면/Capacitive_sensor_research/실험데이터/좌-우\\28 (2).csv\n",
      "C:/Users/hml76/OneDrive/바탕 화면/Capacitive_sensor_research/실험데이터/좌-우\\28.csv\n",
      "C:/Users/hml76/OneDrive/바탕 화면/Capacitive_sensor_research/실험데이터/좌-우\\29 (2).csv\n",
      "C:/Users/hml76/OneDrive/바탕 화면/Capacitive_sensor_research/실험데이터/좌-우\\29.csv\n",
      "C:/Users/hml76/OneDrive/바탕 화면/Capacitive_sensor_research/실험데이터/좌-우\\3 (2).csv\n",
      "C:/Users/hml76/OneDrive/바탕 화면/Capacitive_sensor_research/실험데이터/좌-우\\3.csv\n",
      "C:/Users/hml76/OneDrive/바탕 화면/Capacitive_sensor_research/실험데이터/좌-우\\30 (2).csv\n",
      "C:/Users/hml76/OneDrive/바탕 화면/Capacitive_sensor_research/실험데이터/좌-우\\30.csv\n",
      "C:/Users/hml76/OneDrive/바탕 화면/Capacitive_sensor_research/실험데이터/좌-우\\31 (2).csv\n",
      "C:/Users/hml76/OneDrive/바탕 화면/Capacitive_sensor_research/실험데이터/좌-우\\31.csv\n",
      "C:/Users/hml76/OneDrive/바탕 화면/Capacitive_sensor_research/실험데이터/좌-우\\32 (2).csv\n",
      "C:/Users/hml76/OneDrive/바탕 화면/Capacitive_sensor_research/실험데이터/좌-우\\32.csv\n",
      "C:/Users/hml76/OneDrive/바탕 화면/Capacitive_sensor_research/실험데이터/좌-우\\33 (2).csv\n",
      "C:/Users/hml76/OneDrive/바탕 화면/Capacitive_sensor_research/실험데이터/좌-우\\33.csv\n",
      "C:/Users/hml76/OneDrive/바탕 화면/Capacitive_sensor_research/실험데이터/좌-우\\34 (2).csv\n",
      "C:/Users/hml76/OneDrive/바탕 화면/Capacitive_sensor_research/실험데이터/좌-우\\34.csv\n",
      "C:/Users/hml76/OneDrive/바탕 화면/Capacitive_sensor_research/실험데이터/좌-우\\35 (2).csv\n",
      "C:/Users/hml76/OneDrive/바탕 화면/Capacitive_sensor_research/실험데이터/좌-우\\35.csv\n",
      "C:/Users/hml76/OneDrive/바탕 화면/Capacitive_sensor_research/실험데이터/좌-우\\36 (2).csv\n",
      "C:/Users/hml76/OneDrive/바탕 화면/Capacitive_sensor_research/실험데이터/좌-우\\36.csv\n",
      "C:/Users/hml76/OneDrive/바탕 화면/Capacitive_sensor_research/실험데이터/좌-우\\37 (2).csv\n",
      "C:/Users/hml76/OneDrive/바탕 화면/Capacitive_sensor_research/실험데이터/좌-우\\37.csv\n",
      "C:/Users/hml76/OneDrive/바탕 화면/Capacitive_sensor_research/실험데이터/좌-우\\38 (2).csv\n",
      "C:/Users/hml76/OneDrive/바탕 화면/Capacitive_sensor_research/실험데이터/좌-우\\38.csv\n",
      "C:/Users/hml76/OneDrive/바탕 화면/Capacitive_sensor_research/실험데이터/좌-우\\39 (2).csv\n",
      "C:/Users/hml76/OneDrive/바탕 화면/Capacitive_sensor_research/실험데이터/좌-우\\39.csv\n",
      "C:/Users/hml76/OneDrive/바탕 화면/Capacitive_sensor_research/실험데이터/좌-우\\4 (2).csv\n",
      "C:/Users/hml76/OneDrive/바탕 화면/Capacitive_sensor_research/실험데이터/좌-우\\4.csv\n",
      "C:/Users/hml76/OneDrive/바탕 화면/Capacitive_sensor_research/실험데이터/좌-우\\40 (2).csv\n",
      "C:/Users/hml76/OneDrive/바탕 화면/Capacitive_sensor_research/실험데이터/좌-우\\40.csv\n",
      "C:/Users/hml76/OneDrive/바탕 화면/Capacitive_sensor_research/실험데이터/좌-우\\41 (2).csv\n",
      "C:/Users/hml76/OneDrive/바탕 화면/Capacitive_sensor_research/실험데이터/좌-우\\41.csv\n",
      "C:/Users/hml76/OneDrive/바탕 화면/Capacitive_sensor_research/실험데이터/좌-우\\42 (2).csv\n",
      "C:/Users/hml76/OneDrive/바탕 화면/Capacitive_sensor_research/실험데이터/좌-우\\42.csv\n",
      "C:/Users/hml76/OneDrive/바탕 화면/Capacitive_sensor_research/실험데이터/좌-우\\43 (2).csv\n",
      "C:/Users/hml76/OneDrive/바탕 화면/Capacitive_sensor_research/실험데이터/좌-우\\43.csv\n",
      "C:/Users/hml76/OneDrive/바탕 화면/Capacitive_sensor_research/실험데이터/좌-우\\44 (2).csv\n",
      "C:/Users/hml76/OneDrive/바탕 화면/Capacitive_sensor_research/실험데이터/좌-우\\44.csv\n",
      "C:/Users/hml76/OneDrive/바탕 화면/Capacitive_sensor_research/실험데이터/좌-우\\45 (2).csv\n",
      "C:/Users/hml76/OneDrive/바탕 화면/Capacitive_sensor_research/실험데이터/좌-우\\45.csv\n",
      "C:/Users/hml76/OneDrive/바탕 화면/Capacitive_sensor_research/실험데이터/좌-우\\46 (2).csv\n",
      "C:/Users/hml76/OneDrive/바탕 화면/Capacitive_sensor_research/실험데이터/좌-우\\46.csv\n",
      "C:/Users/hml76/OneDrive/바탕 화면/Capacitive_sensor_research/실험데이터/좌-우\\47 (2).csv\n",
      "C:/Users/hml76/OneDrive/바탕 화면/Capacitive_sensor_research/실험데이터/좌-우\\47.csv\n",
      "C:/Users/hml76/OneDrive/바탕 화면/Capacitive_sensor_research/실험데이터/좌-우\\48 (2).csv\n",
      "C:/Users/hml76/OneDrive/바탕 화면/Capacitive_sensor_research/실험데이터/좌-우\\48.csv\n",
      "C:/Users/hml76/OneDrive/바탕 화면/Capacitive_sensor_research/실험데이터/좌-우\\49 (2).csv\n",
      "C:/Users/hml76/OneDrive/바탕 화면/Capacitive_sensor_research/실험데이터/좌-우\\49.csv\n",
      "C:/Users/hml76/OneDrive/바탕 화면/Capacitive_sensor_research/실험데이터/좌-우\\5 (2).csv\n",
      "C:/Users/hml76/OneDrive/바탕 화면/Capacitive_sensor_research/실험데이터/좌-우\\5.csv\n",
      "C:/Users/hml76/OneDrive/바탕 화면/Capacitive_sensor_research/실험데이터/좌-우\\50 (2).csv\n",
      "C:/Users/hml76/OneDrive/바탕 화면/Capacitive_sensor_research/실험데이터/좌-우\\50.csv\n",
      "C:/Users/hml76/OneDrive/바탕 화면/Capacitive_sensor_research/실험데이터/좌-우\\51 (2).csv\n",
      "C:/Users/hml76/OneDrive/바탕 화면/Capacitive_sensor_research/실험데이터/좌-우\\51.csv\n",
      "C:/Users/hml76/OneDrive/바탕 화면/Capacitive_sensor_research/실험데이터/좌-우\\52 (2).csv\n",
      "C:/Users/hml76/OneDrive/바탕 화면/Capacitive_sensor_research/실험데이터/좌-우\\52.csv\n",
      "C:/Users/hml76/OneDrive/바탕 화면/Capacitive_sensor_research/실험데이터/좌-우\\53 (2).csv\n",
      "C:/Users/hml76/OneDrive/바탕 화면/Capacitive_sensor_research/실험데이터/좌-우\\53.csv\n",
      "C:/Users/hml76/OneDrive/바탕 화면/Capacitive_sensor_research/실험데이터/좌-우\\54 (2).csv\n",
      "C:/Users/hml76/OneDrive/바탕 화면/Capacitive_sensor_research/실험데이터/좌-우\\54.csv\n",
      "C:/Users/hml76/OneDrive/바탕 화면/Capacitive_sensor_research/실험데이터/좌-우\\55 (2).csv\n",
      "C:/Users/hml76/OneDrive/바탕 화면/Capacitive_sensor_research/실험데이터/좌-우\\55.csv\n",
      "C:/Users/hml76/OneDrive/바탕 화면/Capacitive_sensor_research/실험데이터/좌-우\\56 (2).csv\n",
      "C:/Users/hml76/OneDrive/바탕 화면/Capacitive_sensor_research/실험데이터/좌-우\\56.csv\n",
      "C:/Users/hml76/OneDrive/바탕 화면/Capacitive_sensor_research/실험데이터/좌-우\\57 (2).csv\n",
      "C:/Users/hml76/OneDrive/바탕 화면/Capacitive_sensor_research/실험데이터/좌-우\\57.csv\n",
      "C:/Users/hml76/OneDrive/바탕 화면/Capacitive_sensor_research/실험데이터/좌-우\\58 (2).csv\n",
      "C:/Users/hml76/OneDrive/바탕 화면/Capacitive_sensor_research/실험데이터/좌-우\\58.csv\n",
      "C:/Users/hml76/OneDrive/바탕 화면/Capacitive_sensor_research/실험데이터/좌-우\\59 (2).csv\n",
      "C:/Users/hml76/OneDrive/바탕 화면/Capacitive_sensor_research/실험데이터/좌-우\\59.csv\n",
      "C:/Users/hml76/OneDrive/바탕 화면/Capacitive_sensor_research/실험데이터/좌-우\\6 (2).csv\n",
      "C:/Users/hml76/OneDrive/바탕 화면/Capacitive_sensor_research/실험데이터/좌-우\\6.csv\n",
      "C:/Users/hml76/OneDrive/바탕 화면/Capacitive_sensor_research/실험데이터/좌-우\\60 (2).csv\n",
      "C:/Users/hml76/OneDrive/바탕 화면/Capacitive_sensor_research/실험데이터/좌-우\\60.csv\n",
      "C:/Users/hml76/OneDrive/바탕 화면/Capacitive_sensor_research/실험데이터/좌-우\\61 (2).csv\n",
      "C:/Users/hml76/OneDrive/바탕 화면/Capacitive_sensor_research/실험데이터/좌-우\\61.csv\n",
      "C:/Users/hml76/OneDrive/바탕 화면/Capacitive_sensor_research/실험데이터/좌-우\\62 (2).csv\n",
      "C:/Users/hml76/OneDrive/바탕 화면/Capacitive_sensor_research/실험데이터/좌-우\\62.csv\n",
      "C:/Users/hml76/OneDrive/바탕 화면/Capacitive_sensor_research/실험데이터/좌-우\\63 (2).csv\n",
      "C:/Users/hml76/OneDrive/바탕 화면/Capacitive_sensor_research/실험데이터/좌-우\\63.csv\n",
      "C:/Users/hml76/OneDrive/바탕 화면/Capacitive_sensor_research/실험데이터/좌-우\\64 (2).csv\n",
      "C:/Users/hml76/OneDrive/바탕 화면/Capacitive_sensor_research/실험데이터/좌-우\\64.csv\n",
      "C:/Users/hml76/OneDrive/바탕 화면/Capacitive_sensor_research/실험데이터/좌-우\\65 (2).csv\n",
      "C:/Users/hml76/OneDrive/바탕 화면/Capacitive_sensor_research/실험데이터/좌-우\\65.csv\n",
      "C:/Users/hml76/OneDrive/바탕 화면/Capacitive_sensor_research/실험데이터/좌-우\\66 (2).csv\n",
      "C:/Users/hml76/OneDrive/바탕 화면/Capacitive_sensor_research/실험데이터/좌-우\\66.csv\n",
      "C:/Users/hml76/OneDrive/바탕 화면/Capacitive_sensor_research/실험데이터/좌-우\\67 (2).csv\n",
      "C:/Users/hml76/OneDrive/바탕 화면/Capacitive_sensor_research/실험데이터/좌-우\\67.csv\n",
      "C:/Users/hml76/OneDrive/바탕 화면/Capacitive_sensor_research/실험데이터/좌-우\\68 (2).csv\n",
      "C:/Users/hml76/OneDrive/바탕 화면/Capacitive_sensor_research/실험데이터/좌-우\\68.csv\n",
      "C:/Users/hml76/OneDrive/바탕 화면/Capacitive_sensor_research/실험데이터/좌-우\\69 (2).csv\n",
      "C:/Users/hml76/OneDrive/바탕 화면/Capacitive_sensor_research/실험데이터/좌-우\\69.csv\n",
      "C:/Users/hml76/OneDrive/바탕 화면/Capacitive_sensor_research/실험데이터/좌-우\\7 (2).csv\n",
      "C:/Users/hml76/OneDrive/바탕 화면/Capacitive_sensor_research/실험데이터/좌-우\\7.csv\n",
      "C:/Users/hml76/OneDrive/바탕 화면/Capacitive_sensor_research/실험데이터/좌-우\\70 (2).csv\n",
      "C:/Users/hml76/OneDrive/바탕 화면/Capacitive_sensor_research/실험데이터/좌-우\\70.csv\n",
      "C:/Users/hml76/OneDrive/바탕 화면/Capacitive_sensor_research/실험데이터/좌-우\\71 (2).csv\n",
      "C:/Users/hml76/OneDrive/바탕 화면/Capacitive_sensor_research/실험데이터/좌-우\\71.csv\n",
      "C:/Users/hml76/OneDrive/바탕 화면/Capacitive_sensor_research/실험데이터/좌-우\\72 (2).csv\n",
      "C:/Users/hml76/OneDrive/바탕 화면/Capacitive_sensor_research/실험데이터/좌-우\\72.csv\n",
      "C:/Users/hml76/OneDrive/바탕 화면/Capacitive_sensor_research/실험데이터/좌-우\\73 (2).csv\n",
      "C:/Users/hml76/OneDrive/바탕 화면/Capacitive_sensor_research/실험데이터/좌-우\\73.csv\n",
      "C:/Users/hml76/OneDrive/바탕 화면/Capacitive_sensor_research/실험데이터/좌-우\\74 (2).csv\n",
      "C:/Users/hml76/OneDrive/바탕 화면/Capacitive_sensor_research/실험데이터/좌-우\\74.csv\n",
      "C:/Users/hml76/OneDrive/바탕 화면/Capacitive_sensor_research/실험데이터/좌-우\\75 (2).csv\n"
     ]
    },
    {
     "name": "stdout",
     "output_type": "stream",
     "text": [
      "C:/Users/hml76/OneDrive/바탕 화면/Capacitive_sensor_research/실험데이터/좌-우\\75.csv\n",
      "C:/Users/hml76/OneDrive/바탕 화면/Capacitive_sensor_research/실험데이터/좌-우\\76 (2).csv\n",
      "C:/Users/hml76/OneDrive/바탕 화면/Capacitive_sensor_research/실험데이터/좌-우\\76.csv\n",
      "C:/Users/hml76/OneDrive/바탕 화면/Capacitive_sensor_research/실험데이터/좌-우\\77 (2).csv\n",
      "C:/Users/hml76/OneDrive/바탕 화면/Capacitive_sensor_research/실험데이터/좌-우\\77.csv\n",
      "C:/Users/hml76/OneDrive/바탕 화면/Capacitive_sensor_research/실험데이터/좌-우\\78 (2).csv\n",
      "C:/Users/hml76/OneDrive/바탕 화면/Capacitive_sensor_research/실험데이터/좌-우\\78.csv\n",
      "C:/Users/hml76/OneDrive/바탕 화면/Capacitive_sensor_research/실험데이터/좌-우\\79 (2).csv\n",
      "C:/Users/hml76/OneDrive/바탕 화면/Capacitive_sensor_research/실험데이터/좌-우\\79.csv\n",
      "C:/Users/hml76/OneDrive/바탕 화면/Capacitive_sensor_research/실험데이터/좌-우\\8 (2).csv\n",
      "C:/Users/hml76/OneDrive/바탕 화면/Capacitive_sensor_research/실험데이터/좌-우\\8.csv\n",
      "C:/Users/hml76/OneDrive/바탕 화면/Capacitive_sensor_research/실험데이터/좌-우\\80 (2).csv\n",
      "C:/Users/hml76/OneDrive/바탕 화면/Capacitive_sensor_research/실험데이터/좌-우\\80.csv\n",
      "C:/Users/hml76/OneDrive/바탕 화면/Capacitive_sensor_research/실험데이터/좌-우\\81 (2).csv\n",
      "C:/Users/hml76/OneDrive/바탕 화면/Capacitive_sensor_research/실험데이터/좌-우\\81.csv\n",
      "C:/Users/hml76/OneDrive/바탕 화면/Capacitive_sensor_research/실험데이터/좌-우\\82 (2).csv\n",
      "C:/Users/hml76/OneDrive/바탕 화면/Capacitive_sensor_research/실험데이터/좌-우\\82.csv\n",
      "C:/Users/hml76/OneDrive/바탕 화면/Capacitive_sensor_research/실험데이터/좌-우\\83 (2).csv\n",
      "C:/Users/hml76/OneDrive/바탕 화면/Capacitive_sensor_research/실험데이터/좌-우\\83.csv\n",
      "C:/Users/hml76/OneDrive/바탕 화면/Capacitive_sensor_research/실험데이터/좌-우\\84 (2).csv\n",
      "C:/Users/hml76/OneDrive/바탕 화면/Capacitive_sensor_research/실험데이터/좌-우\\84.csv\n",
      "C:/Users/hml76/OneDrive/바탕 화면/Capacitive_sensor_research/실험데이터/좌-우\\85 (2).csv\n",
      "C:/Users/hml76/OneDrive/바탕 화면/Capacitive_sensor_research/실험데이터/좌-우\\85.csv\n",
      "C:/Users/hml76/OneDrive/바탕 화면/Capacitive_sensor_research/실험데이터/좌-우\\86 (2).csv\n",
      "C:/Users/hml76/OneDrive/바탕 화면/Capacitive_sensor_research/실험데이터/좌-우\\86.csv\n",
      "C:/Users/hml76/OneDrive/바탕 화면/Capacitive_sensor_research/실험데이터/좌-우\\87 (2).csv\n",
      "C:/Users/hml76/OneDrive/바탕 화면/Capacitive_sensor_research/실험데이터/좌-우\\87.csv\n",
      "C:/Users/hml76/OneDrive/바탕 화면/Capacitive_sensor_research/실험데이터/좌-우\\88 (2).csv\n",
      "C:/Users/hml76/OneDrive/바탕 화면/Capacitive_sensor_research/실험데이터/좌-우\\88.csv\n",
      "C:/Users/hml76/OneDrive/바탕 화면/Capacitive_sensor_research/실험데이터/좌-우\\89 (2).csv\n",
      "C:/Users/hml76/OneDrive/바탕 화면/Capacitive_sensor_research/실험데이터/좌-우\\89.csv\n",
      "C:/Users/hml76/OneDrive/바탕 화면/Capacitive_sensor_research/실험데이터/좌-우\\9 (2).csv\n",
      "C:/Users/hml76/OneDrive/바탕 화면/Capacitive_sensor_research/실험데이터/좌-우\\9.csv\n",
      "C:/Users/hml76/OneDrive/바탕 화면/Capacitive_sensor_research/실험데이터/좌-우\\90 (2).csv\n",
      "C:/Users/hml76/OneDrive/바탕 화면/Capacitive_sensor_research/실험데이터/좌-우\\90.csv\n",
      "C:/Users/hml76/OneDrive/바탕 화면/Capacitive_sensor_research/실험데이터/좌-우\\91 (2).csv\n",
      "C:/Users/hml76/OneDrive/바탕 화면/Capacitive_sensor_research/실험데이터/좌-우\\91.csv\n",
      "C:/Users/hml76/OneDrive/바탕 화면/Capacitive_sensor_research/실험데이터/좌-우\\92 (2).csv\n",
      "C:/Users/hml76/OneDrive/바탕 화면/Capacitive_sensor_research/실험데이터/좌-우\\92.csv\n",
      "C:/Users/hml76/OneDrive/바탕 화면/Capacitive_sensor_research/실험데이터/좌-우\\93 (2).csv\n",
      "C:/Users/hml76/OneDrive/바탕 화면/Capacitive_sensor_research/실험데이터/좌-우\\93.csv\n",
      "C:/Users/hml76/OneDrive/바탕 화면/Capacitive_sensor_research/실험데이터/좌-우\\94 (2).csv\n",
      "C:/Users/hml76/OneDrive/바탕 화면/Capacitive_sensor_research/실험데이터/좌-우\\94.csv\n",
      "C:/Users/hml76/OneDrive/바탕 화면/Capacitive_sensor_research/실험데이터/좌-우\\95 (2).csv\n",
      "C:/Users/hml76/OneDrive/바탕 화면/Capacitive_sensor_research/실험데이터/좌-우\\95.csv\n",
      "C:/Users/hml76/OneDrive/바탕 화면/Capacitive_sensor_research/실험데이터/좌-우\\96 (2).csv\n",
      "C:/Users/hml76/OneDrive/바탕 화면/Capacitive_sensor_research/실험데이터/좌-우\\96.csv\n",
      "C:/Users/hml76/OneDrive/바탕 화면/Capacitive_sensor_research/실험데이터/좌-우\\97 (2).csv\n",
      "C:/Users/hml76/OneDrive/바탕 화면/Capacitive_sensor_research/실험데이터/좌-우\\97.csv\n",
      "C:/Users/hml76/OneDrive/바탕 화면/Capacitive_sensor_research/실험데이터/좌-우\\98 (2).csv\n",
      "C:/Users/hml76/OneDrive/바탕 화면/Capacitive_sensor_research/실험데이터/좌-우\\98.csv\n",
      "C:/Users/hml76/OneDrive/바탕 화면/Capacitive_sensor_research/실험데이터/좌-우\\99 (2).csv\n",
      "C:/Users/hml76/OneDrive/바탕 화면/Capacitive_sensor_research/실험데이터/좌-우\\99.csv\n",
      "C:/Users/hml76/OneDrive/바탕 화면/Capacitive_sensor_research/실험데이터/우-좌\\1 (2).csv\n",
      "C:/Users/hml76/OneDrive/바탕 화면/Capacitive_sensor_research/실험데이터/우-좌\\1.csv\n",
      "C:/Users/hml76/OneDrive/바탕 화면/Capacitive_sensor_research/실험데이터/우-좌\\10 (2).csv\n",
      "C:/Users/hml76/OneDrive/바탕 화면/Capacitive_sensor_research/실험데이터/우-좌\\10.csv\n",
      "C:/Users/hml76/OneDrive/바탕 화면/Capacitive_sensor_research/실험데이터/우-좌\\100 (2).csv\n",
      "C:/Users/hml76/OneDrive/바탕 화면/Capacitive_sensor_research/실험데이터/우-좌\\100.csv\n",
      "C:/Users/hml76/OneDrive/바탕 화면/Capacitive_sensor_research/실험데이터/우-좌\\11 (2).csv\n",
      "C:/Users/hml76/OneDrive/바탕 화면/Capacitive_sensor_research/실험데이터/우-좌\\11.csv\n",
      "C:/Users/hml76/OneDrive/바탕 화면/Capacitive_sensor_research/실험데이터/우-좌\\12 (2).csv\n",
      "C:/Users/hml76/OneDrive/바탕 화면/Capacitive_sensor_research/실험데이터/우-좌\\12.csv\n",
      "C:/Users/hml76/OneDrive/바탕 화면/Capacitive_sensor_research/실험데이터/우-좌\\13 (2).csv\n",
      "C:/Users/hml76/OneDrive/바탕 화면/Capacitive_sensor_research/실험데이터/우-좌\\13.csv\n",
      "C:/Users/hml76/OneDrive/바탕 화면/Capacitive_sensor_research/실험데이터/우-좌\\14 (2).csv\n",
      "C:/Users/hml76/OneDrive/바탕 화면/Capacitive_sensor_research/실험데이터/우-좌\\14.csv\n",
      "C:/Users/hml76/OneDrive/바탕 화면/Capacitive_sensor_research/실험데이터/우-좌\\15 (2).csv\n",
      "C:/Users/hml76/OneDrive/바탕 화면/Capacitive_sensor_research/실험데이터/우-좌\\15.csv\n",
      "C:/Users/hml76/OneDrive/바탕 화면/Capacitive_sensor_research/실험데이터/우-좌\\16 (2).csv\n",
      "C:/Users/hml76/OneDrive/바탕 화면/Capacitive_sensor_research/실험데이터/우-좌\\16.csv\n",
      "C:/Users/hml76/OneDrive/바탕 화면/Capacitive_sensor_research/실험데이터/우-좌\\17 (2).csv\n",
      "C:/Users/hml76/OneDrive/바탕 화면/Capacitive_sensor_research/실험데이터/우-좌\\17.csv\n",
      "C:/Users/hml76/OneDrive/바탕 화면/Capacitive_sensor_research/실험데이터/우-좌\\18 (2).csv\n",
      "C:/Users/hml76/OneDrive/바탕 화면/Capacitive_sensor_research/실험데이터/우-좌\\18.csv\n",
      "C:/Users/hml76/OneDrive/바탕 화면/Capacitive_sensor_research/실험데이터/우-좌\\19 (2).csv\n",
      "C:/Users/hml76/OneDrive/바탕 화면/Capacitive_sensor_research/실험데이터/우-좌\\19.csv\n",
      "C:/Users/hml76/OneDrive/바탕 화면/Capacitive_sensor_research/실험데이터/우-좌\\2 (2).csv\n",
      "C:/Users/hml76/OneDrive/바탕 화면/Capacitive_sensor_research/실험데이터/우-좌\\2.csv\n",
      "C:/Users/hml76/OneDrive/바탕 화면/Capacitive_sensor_research/실험데이터/우-좌\\20 (2).csv\n",
      "C:/Users/hml76/OneDrive/바탕 화면/Capacitive_sensor_research/실험데이터/우-좌\\20.csv\n",
      "C:/Users/hml76/OneDrive/바탕 화면/Capacitive_sensor_research/실험데이터/우-좌\\21 (2).csv\n",
      "C:/Users/hml76/OneDrive/바탕 화면/Capacitive_sensor_research/실험데이터/우-좌\\21.csv\n",
      "C:/Users/hml76/OneDrive/바탕 화면/Capacitive_sensor_research/실험데이터/우-좌\\22 (2).csv\n",
      "C:/Users/hml76/OneDrive/바탕 화면/Capacitive_sensor_research/실험데이터/우-좌\\22.csv\n",
      "C:/Users/hml76/OneDrive/바탕 화면/Capacitive_sensor_research/실험데이터/우-좌\\23 (2).csv\n",
      "C:/Users/hml76/OneDrive/바탕 화면/Capacitive_sensor_research/실험데이터/우-좌\\23.csv\n",
      "C:/Users/hml76/OneDrive/바탕 화면/Capacitive_sensor_research/실험데이터/우-좌\\24 (2).csv\n",
      "C:/Users/hml76/OneDrive/바탕 화면/Capacitive_sensor_research/실험데이터/우-좌\\24.csv\n",
      "C:/Users/hml76/OneDrive/바탕 화면/Capacitive_sensor_research/실험데이터/우-좌\\25 (2).csv\n",
      "C:/Users/hml76/OneDrive/바탕 화면/Capacitive_sensor_research/실험데이터/우-좌\\25.csv\n",
      "C:/Users/hml76/OneDrive/바탕 화면/Capacitive_sensor_research/실험데이터/우-좌\\26 (2).csv\n",
      "C:/Users/hml76/OneDrive/바탕 화면/Capacitive_sensor_research/실험데이터/우-좌\\26.csv\n",
      "C:/Users/hml76/OneDrive/바탕 화면/Capacitive_sensor_research/실험데이터/우-좌\\27 (2).csv\n",
      "C:/Users/hml76/OneDrive/바탕 화면/Capacitive_sensor_research/실험데이터/우-좌\\27.csv\n",
      "C:/Users/hml76/OneDrive/바탕 화면/Capacitive_sensor_research/실험데이터/우-좌\\28 (2).csv\n",
      "C:/Users/hml76/OneDrive/바탕 화면/Capacitive_sensor_research/실험데이터/우-좌\\28.csv\n",
      "C:/Users/hml76/OneDrive/바탕 화면/Capacitive_sensor_research/실험데이터/우-좌\\29 (2).csv\n",
      "C:/Users/hml76/OneDrive/바탕 화면/Capacitive_sensor_research/실험데이터/우-좌\\29.csv\n",
      "C:/Users/hml76/OneDrive/바탕 화면/Capacitive_sensor_research/실험데이터/우-좌\\3 (2).csv\n",
      "C:/Users/hml76/OneDrive/바탕 화면/Capacitive_sensor_research/실험데이터/우-좌\\3.csv\n",
      "C:/Users/hml76/OneDrive/바탕 화면/Capacitive_sensor_research/실험데이터/우-좌\\30 (2).csv\n",
      "C:/Users/hml76/OneDrive/바탕 화면/Capacitive_sensor_research/실험데이터/우-좌\\30.csv\n",
      "C:/Users/hml76/OneDrive/바탕 화면/Capacitive_sensor_research/실험데이터/우-좌\\31 (2).csv\n",
      "C:/Users/hml76/OneDrive/바탕 화면/Capacitive_sensor_research/실험데이터/우-좌\\31.csv\n",
      "C:/Users/hml76/OneDrive/바탕 화면/Capacitive_sensor_research/실험데이터/우-좌\\32 (2).csv\n",
      "C:/Users/hml76/OneDrive/바탕 화면/Capacitive_sensor_research/실험데이터/우-좌\\32.csv\n",
      "C:/Users/hml76/OneDrive/바탕 화면/Capacitive_sensor_research/실험데이터/우-좌\\33 (2).csv\n",
      "C:/Users/hml76/OneDrive/바탕 화면/Capacitive_sensor_research/실험데이터/우-좌\\33.csv\n",
      "C:/Users/hml76/OneDrive/바탕 화면/Capacitive_sensor_research/실험데이터/우-좌\\34 (2).csv\n",
      "C:/Users/hml76/OneDrive/바탕 화면/Capacitive_sensor_research/실험데이터/우-좌\\34.csv\n",
      "C:/Users/hml76/OneDrive/바탕 화면/Capacitive_sensor_research/실험데이터/우-좌\\35 (2).csv\n",
      "C:/Users/hml76/OneDrive/바탕 화면/Capacitive_sensor_research/실험데이터/우-좌\\35.csv\n",
      "C:/Users/hml76/OneDrive/바탕 화면/Capacitive_sensor_research/실험데이터/우-좌\\36 (2).csv\n",
      "C:/Users/hml76/OneDrive/바탕 화면/Capacitive_sensor_research/실험데이터/우-좌\\36.csv\n",
      "C:/Users/hml76/OneDrive/바탕 화면/Capacitive_sensor_research/실험데이터/우-좌\\37 (2).csv\n",
      "C:/Users/hml76/OneDrive/바탕 화면/Capacitive_sensor_research/실험데이터/우-좌\\37.csv\n",
      "C:/Users/hml76/OneDrive/바탕 화면/Capacitive_sensor_research/실험데이터/우-좌\\38 (2).csv\n",
      "C:/Users/hml76/OneDrive/바탕 화면/Capacitive_sensor_research/실험데이터/우-좌\\38.csv\n",
      "C:/Users/hml76/OneDrive/바탕 화면/Capacitive_sensor_research/실험데이터/우-좌\\39 (2).csv\n",
      "C:/Users/hml76/OneDrive/바탕 화면/Capacitive_sensor_research/실험데이터/우-좌\\39.csv\n",
      "C:/Users/hml76/OneDrive/바탕 화면/Capacitive_sensor_research/실험데이터/우-좌\\4 (2).csv\n",
      "C:/Users/hml76/OneDrive/바탕 화면/Capacitive_sensor_research/실험데이터/우-좌\\4.csv\n",
      "C:/Users/hml76/OneDrive/바탕 화면/Capacitive_sensor_research/실험데이터/우-좌\\40 (2).csv\n",
      "C:/Users/hml76/OneDrive/바탕 화면/Capacitive_sensor_research/실험데이터/우-좌\\40.csv\n",
      "C:/Users/hml76/OneDrive/바탕 화면/Capacitive_sensor_research/실험데이터/우-좌\\41 (2).csv\n",
      "C:/Users/hml76/OneDrive/바탕 화면/Capacitive_sensor_research/실험데이터/우-좌\\41.csv\n"
     ]
    },
    {
     "name": "stdout",
     "output_type": "stream",
     "text": [
      "C:/Users/hml76/OneDrive/바탕 화면/Capacitive_sensor_research/실험데이터/우-좌\\42 (2).csv\n",
      "C:/Users/hml76/OneDrive/바탕 화면/Capacitive_sensor_research/실험데이터/우-좌\\42.csv\n",
      "C:/Users/hml76/OneDrive/바탕 화면/Capacitive_sensor_research/실험데이터/우-좌\\43 (2).csv\n",
      "C:/Users/hml76/OneDrive/바탕 화면/Capacitive_sensor_research/실험데이터/우-좌\\43.csv\n",
      "C:/Users/hml76/OneDrive/바탕 화면/Capacitive_sensor_research/실험데이터/우-좌\\44 (2).csv\n",
      "C:/Users/hml76/OneDrive/바탕 화면/Capacitive_sensor_research/실험데이터/우-좌\\44.csv\n",
      "C:/Users/hml76/OneDrive/바탕 화면/Capacitive_sensor_research/실험데이터/우-좌\\45 (2).csv\n",
      "C:/Users/hml76/OneDrive/바탕 화면/Capacitive_sensor_research/실험데이터/우-좌\\45.csv\n",
      "C:/Users/hml76/OneDrive/바탕 화면/Capacitive_sensor_research/실험데이터/우-좌\\46 (2).csv\n",
      "C:/Users/hml76/OneDrive/바탕 화면/Capacitive_sensor_research/실험데이터/우-좌\\46.csv\n",
      "C:/Users/hml76/OneDrive/바탕 화면/Capacitive_sensor_research/실험데이터/우-좌\\47 (2).csv\n",
      "C:/Users/hml76/OneDrive/바탕 화면/Capacitive_sensor_research/실험데이터/우-좌\\47.csv\n",
      "C:/Users/hml76/OneDrive/바탕 화면/Capacitive_sensor_research/실험데이터/우-좌\\48 (2).csv\n",
      "C:/Users/hml76/OneDrive/바탕 화면/Capacitive_sensor_research/실험데이터/우-좌\\48.csv\n",
      "C:/Users/hml76/OneDrive/바탕 화면/Capacitive_sensor_research/실험데이터/우-좌\\49 (2).csv\n",
      "C:/Users/hml76/OneDrive/바탕 화면/Capacitive_sensor_research/실험데이터/우-좌\\49.csv\n",
      "C:/Users/hml76/OneDrive/바탕 화면/Capacitive_sensor_research/실험데이터/우-좌\\5 (2).csv\n",
      "C:/Users/hml76/OneDrive/바탕 화면/Capacitive_sensor_research/실험데이터/우-좌\\5.csv\n",
      "C:/Users/hml76/OneDrive/바탕 화면/Capacitive_sensor_research/실험데이터/우-좌\\50 (2).csv\n",
      "C:/Users/hml76/OneDrive/바탕 화면/Capacitive_sensor_research/실험데이터/우-좌\\50.csv\n",
      "C:/Users/hml76/OneDrive/바탕 화면/Capacitive_sensor_research/실험데이터/우-좌\\51 (2).csv\n",
      "C:/Users/hml76/OneDrive/바탕 화면/Capacitive_sensor_research/실험데이터/우-좌\\51.csv\n",
      "C:/Users/hml76/OneDrive/바탕 화면/Capacitive_sensor_research/실험데이터/우-좌\\52 (2).csv\n",
      "C:/Users/hml76/OneDrive/바탕 화면/Capacitive_sensor_research/실험데이터/우-좌\\52.csv\n",
      "C:/Users/hml76/OneDrive/바탕 화면/Capacitive_sensor_research/실험데이터/우-좌\\53 (2).csv\n",
      "C:/Users/hml76/OneDrive/바탕 화면/Capacitive_sensor_research/실험데이터/우-좌\\53.csv\n",
      "C:/Users/hml76/OneDrive/바탕 화면/Capacitive_sensor_research/실험데이터/우-좌\\54 (2).csv\n",
      "C:/Users/hml76/OneDrive/바탕 화면/Capacitive_sensor_research/실험데이터/우-좌\\54.csv\n",
      "C:/Users/hml76/OneDrive/바탕 화면/Capacitive_sensor_research/실험데이터/우-좌\\55 (2).csv\n",
      "C:/Users/hml76/OneDrive/바탕 화면/Capacitive_sensor_research/실험데이터/우-좌\\55.csv\n",
      "C:/Users/hml76/OneDrive/바탕 화면/Capacitive_sensor_research/실험데이터/우-좌\\56 (2).csv\n",
      "C:/Users/hml76/OneDrive/바탕 화면/Capacitive_sensor_research/실험데이터/우-좌\\56.csv\n",
      "C:/Users/hml76/OneDrive/바탕 화면/Capacitive_sensor_research/실험데이터/우-좌\\57 (2).csv\n",
      "C:/Users/hml76/OneDrive/바탕 화면/Capacitive_sensor_research/실험데이터/우-좌\\57.csv\n",
      "C:/Users/hml76/OneDrive/바탕 화면/Capacitive_sensor_research/실험데이터/우-좌\\58 (2).csv\n",
      "C:/Users/hml76/OneDrive/바탕 화면/Capacitive_sensor_research/실험데이터/우-좌\\58.csv\n",
      "C:/Users/hml76/OneDrive/바탕 화면/Capacitive_sensor_research/실험데이터/우-좌\\59 (2).csv\n",
      "C:/Users/hml76/OneDrive/바탕 화면/Capacitive_sensor_research/실험데이터/우-좌\\59.csv\n",
      "C:/Users/hml76/OneDrive/바탕 화면/Capacitive_sensor_research/실험데이터/우-좌\\6 (2).csv\n",
      "C:/Users/hml76/OneDrive/바탕 화면/Capacitive_sensor_research/실험데이터/우-좌\\6.csv\n",
      "C:/Users/hml76/OneDrive/바탕 화면/Capacitive_sensor_research/실험데이터/우-좌\\60 (2).csv\n",
      "C:/Users/hml76/OneDrive/바탕 화면/Capacitive_sensor_research/실험데이터/우-좌\\60.csv\n",
      "C:/Users/hml76/OneDrive/바탕 화면/Capacitive_sensor_research/실험데이터/우-좌\\61 (2).csv\n",
      "C:/Users/hml76/OneDrive/바탕 화면/Capacitive_sensor_research/실험데이터/우-좌\\61.csv\n",
      "C:/Users/hml76/OneDrive/바탕 화면/Capacitive_sensor_research/실험데이터/우-좌\\62 (2).csv\n",
      "C:/Users/hml76/OneDrive/바탕 화면/Capacitive_sensor_research/실험데이터/우-좌\\62.csv\n",
      "C:/Users/hml76/OneDrive/바탕 화면/Capacitive_sensor_research/실험데이터/우-좌\\63 (2).csv\n",
      "C:/Users/hml76/OneDrive/바탕 화면/Capacitive_sensor_research/실험데이터/우-좌\\63.csv\n",
      "C:/Users/hml76/OneDrive/바탕 화면/Capacitive_sensor_research/실험데이터/우-좌\\64 (2).csv\n",
      "C:/Users/hml76/OneDrive/바탕 화면/Capacitive_sensor_research/실험데이터/우-좌\\64.csv\n",
      "C:/Users/hml76/OneDrive/바탕 화면/Capacitive_sensor_research/실험데이터/우-좌\\65 (2).csv\n",
      "C:/Users/hml76/OneDrive/바탕 화면/Capacitive_sensor_research/실험데이터/우-좌\\65.csv\n",
      "C:/Users/hml76/OneDrive/바탕 화면/Capacitive_sensor_research/실험데이터/우-좌\\66 (2).csv\n",
      "C:/Users/hml76/OneDrive/바탕 화면/Capacitive_sensor_research/실험데이터/우-좌\\66.csv\n",
      "C:/Users/hml76/OneDrive/바탕 화면/Capacitive_sensor_research/실험데이터/우-좌\\67 (2).csv\n",
      "C:/Users/hml76/OneDrive/바탕 화면/Capacitive_sensor_research/실험데이터/우-좌\\67.csv\n",
      "C:/Users/hml76/OneDrive/바탕 화면/Capacitive_sensor_research/실험데이터/우-좌\\68 (2).csv\n",
      "C:/Users/hml76/OneDrive/바탕 화면/Capacitive_sensor_research/실험데이터/우-좌\\68.csv\n",
      "C:/Users/hml76/OneDrive/바탕 화면/Capacitive_sensor_research/실험데이터/우-좌\\69 (2).csv\n",
      "C:/Users/hml76/OneDrive/바탕 화면/Capacitive_sensor_research/실험데이터/우-좌\\69.csv\n",
      "C:/Users/hml76/OneDrive/바탕 화면/Capacitive_sensor_research/실험데이터/우-좌\\7 (2).csv\n",
      "C:/Users/hml76/OneDrive/바탕 화면/Capacitive_sensor_research/실험데이터/우-좌\\7.csv\n",
      "C:/Users/hml76/OneDrive/바탕 화면/Capacitive_sensor_research/실험데이터/우-좌\\70 (2).csv\n",
      "C:/Users/hml76/OneDrive/바탕 화면/Capacitive_sensor_research/실험데이터/우-좌\\70.csv\n",
      "C:/Users/hml76/OneDrive/바탕 화면/Capacitive_sensor_research/실험데이터/우-좌\\71 (2).csv\n",
      "C:/Users/hml76/OneDrive/바탕 화면/Capacitive_sensor_research/실험데이터/우-좌\\71.csv\n",
      "C:/Users/hml76/OneDrive/바탕 화면/Capacitive_sensor_research/실험데이터/우-좌\\72 (2).csv\n",
      "C:/Users/hml76/OneDrive/바탕 화면/Capacitive_sensor_research/실험데이터/우-좌\\72.csv\n",
      "C:/Users/hml76/OneDrive/바탕 화면/Capacitive_sensor_research/실험데이터/우-좌\\73 (2).csv\n",
      "C:/Users/hml76/OneDrive/바탕 화면/Capacitive_sensor_research/실험데이터/우-좌\\73.csv\n",
      "C:/Users/hml76/OneDrive/바탕 화면/Capacitive_sensor_research/실험데이터/우-좌\\74 (2).csv\n",
      "C:/Users/hml76/OneDrive/바탕 화면/Capacitive_sensor_research/실험데이터/우-좌\\74.csv\n",
      "C:/Users/hml76/OneDrive/바탕 화면/Capacitive_sensor_research/실험데이터/우-좌\\75 (2).csv\n",
      "C:/Users/hml76/OneDrive/바탕 화면/Capacitive_sensor_research/실험데이터/우-좌\\75.csv\n",
      "C:/Users/hml76/OneDrive/바탕 화면/Capacitive_sensor_research/실험데이터/우-좌\\76 (2).csv\n",
      "C:/Users/hml76/OneDrive/바탕 화면/Capacitive_sensor_research/실험데이터/우-좌\\76.csv\n",
      "C:/Users/hml76/OneDrive/바탕 화면/Capacitive_sensor_research/실험데이터/우-좌\\77 (2).csv\n",
      "C:/Users/hml76/OneDrive/바탕 화면/Capacitive_sensor_research/실험데이터/우-좌\\77.csv\n",
      "C:/Users/hml76/OneDrive/바탕 화면/Capacitive_sensor_research/실험데이터/우-좌\\78 (2).csv\n",
      "C:/Users/hml76/OneDrive/바탕 화면/Capacitive_sensor_research/실험데이터/우-좌\\78.csv\n",
      "C:/Users/hml76/OneDrive/바탕 화면/Capacitive_sensor_research/실험데이터/우-좌\\79 (2).csv\n",
      "C:/Users/hml76/OneDrive/바탕 화면/Capacitive_sensor_research/실험데이터/우-좌\\79.csv\n",
      "C:/Users/hml76/OneDrive/바탕 화면/Capacitive_sensor_research/실험데이터/우-좌\\8 (2).csv\n",
      "C:/Users/hml76/OneDrive/바탕 화면/Capacitive_sensor_research/실험데이터/우-좌\\8.csv\n",
      "C:/Users/hml76/OneDrive/바탕 화면/Capacitive_sensor_research/실험데이터/우-좌\\80 (2).csv\n",
      "C:/Users/hml76/OneDrive/바탕 화면/Capacitive_sensor_research/실험데이터/우-좌\\80.csv\n",
      "C:/Users/hml76/OneDrive/바탕 화면/Capacitive_sensor_research/실험데이터/우-좌\\81 (2).csv\n",
      "C:/Users/hml76/OneDrive/바탕 화면/Capacitive_sensor_research/실험데이터/우-좌\\81.csv\n",
      "C:/Users/hml76/OneDrive/바탕 화면/Capacitive_sensor_research/실험데이터/우-좌\\82 (2).csv\n",
      "C:/Users/hml76/OneDrive/바탕 화면/Capacitive_sensor_research/실험데이터/우-좌\\82.csv\n",
      "C:/Users/hml76/OneDrive/바탕 화면/Capacitive_sensor_research/실험데이터/우-좌\\83 (2).csv\n",
      "C:/Users/hml76/OneDrive/바탕 화면/Capacitive_sensor_research/실험데이터/우-좌\\83.csv\n",
      "C:/Users/hml76/OneDrive/바탕 화면/Capacitive_sensor_research/실험데이터/우-좌\\84 (2).csv\n",
      "C:/Users/hml76/OneDrive/바탕 화면/Capacitive_sensor_research/실험데이터/우-좌\\84.csv\n",
      "C:/Users/hml76/OneDrive/바탕 화면/Capacitive_sensor_research/실험데이터/우-좌\\85 (2).csv\n",
      "C:/Users/hml76/OneDrive/바탕 화면/Capacitive_sensor_research/실험데이터/우-좌\\85.csv\n",
      "C:/Users/hml76/OneDrive/바탕 화면/Capacitive_sensor_research/실험데이터/우-좌\\86 (2).csv\n",
      "C:/Users/hml76/OneDrive/바탕 화면/Capacitive_sensor_research/실험데이터/우-좌\\86.csv\n",
      "C:/Users/hml76/OneDrive/바탕 화면/Capacitive_sensor_research/실험데이터/우-좌\\87 (2).csv\n",
      "C:/Users/hml76/OneDrive/바탕 화면/Capacitive_sensor_research/실험데이터/우-좌\\87.csv\n",
      "C:/Users/hml76/OneDrive/바탕 화면/Capacitive_sensor_research/실험데이터/우-좌\\88 (2).csv\n",
      "C:/Users/hml76/OneDrive/바탕 화면/Capacitive_sensor_research/실험데이터/우-좌\\88.csv\n",
      "C:/Users/hml76/OneDrive/바탕 화면/Capacitive_sensor_research/실험데이터/우-좌\\89 (2).csv\n",
      "C:/Users/hml76/OneDrive/바탕 화면/Capacitive_sensor_research/실험데이터/우-좌\\89.csv\n",
      "C:/Users/hml76/OneDrive/바탕 화면/Capacitive_sensor_research/실험데이터/우-좌\\9 (2).csv\n",
      "C:/Users/hml76/OneDrive/바탕 화면/Capacitive_sensor_research/실험데이터/우-좌\\9.csv\n",
      "C:/Users/hml76/OneDrive/바탕 화면/Capacitive_sensor_research/실험데이터/우-좌\\90 (2).csv\n",
      "C:/Users/hml76/OneDrive/바탕 화면/Capacitive_sensor_research/실험데이터/우-좌\\90.csv\n",
      "C:/Users/hml76/OneDrive/바탕 화면/Capacitive_sensor_research/실험데이터/우-좌\\91 (2).csv\n",
      "C:/Users/hml76/OneDrive/바탕 화면/Capacitive_sensor_research/실험데이터/우-좌\\91.csv\n",
      "C:/Users/hml76/OneDrive/바탕 화면/Capacitive_sensor_research/실험데이터/우-좌\\92 (2).csv\n",
      "C:/Users/hml76/OneDrive/바탕 화면/Capacitive_sensor_research/실험데이터/우-좌\\92.csv\n",
      "C:/Users/hml76/OneDrive/바탕 화면/Capacitive_sensor_research/실험데이터/우-좌\\93 (2).csv\n",
      "C:/Users/hml76/OneDrive/바탕 화면/Capacitive_sensor_research/실험데이터/우-좌\\93.csv\n",
      "C:/Users/hml76/OneDrive/바탕 화면/Capacitive_sensor_research/실험데이터/우-좌\\94 (2).csv\n",
      "C:/Users/hml76/OneDrive/바탕 화면/Capacitive_sensor_research/실험데이터/우-좌\\94.csv\n",
      "C:/Users/hml76/OneDrive/바탕 화면/Capacitive_sensor_research/실험데이터/우-좌\\95 (2).csv\n",
      "C:/Users/hml76/OneDrive/바탕 화면/Capacitive_sensor_research/실험데이터/우-좌\\95.csv\n",
      "C:/Users/hml76/OneDrive/바탕 화면/Capacitive_sensor_research/실험데이터/우-좌\\96 (2).csv\n",
      "C:/Users/hml76/OneDrive/바탕 화면/Capacitive_sensor_research/실험데이터/우-좌\\96.csv\n",
      "C:/Users/hml76/OneDrive/바탕 화면/Capacitive_sensor_research/실험데이터/우-좌\\97 (2).csv\n",
      "C:/Users/hml76/OneDrive/바탕 화면/Capacitive_sensor_research/실험데이터/우-좌\\97.csv\n",
      "C:/Users/hml76/OneDrive/바탕 화면/Capacitive_sensor_research/실험데이터/우-좌\\98 (2).csv\n",
      "C:/Users/hml76/OneDrive/바탕 화면/Capacitive_sensor_research/실험데이터/우-좌\\98.csv\n",
      "C:/Users/hml76/OneDrive/바탕 화면/Capacitive_sensor_research/실험데이터/우-좌\\99 (2).csv\n",
      "C:/Users/hml76/OneDrive/바탕 화면/Capacitive_sensor_research/실험데이터/우-좌\\99.csv\n",
      "C:/Users/hml76/OneDrive/바탕 화면/Capacitive_sensor_research/실험데이터/시계방향\\1 (2).csv\n"
     ]
    },
    {
     "name": "stdout",
     "output_type": "stream",
     "text": [
      "C:/Users/hml76/OneDrive/바탕 화면/Capacitive_sensor_research/실험데이터/시계방향\\1.csv\n",
      "C:/Users/hml76/OneDrive/바탕 화면/Capacitive_sensor_research/실험데이터/시계방향\\10 (2).csv\n",
      "C:/Users/hml76/OneDrive/바탕 화면/Capacitive_sensor_research/실험데이터/시계방향\\100 (2).csv\n",
      "C:/Users/hml76/OneDrive/바탕 화면/Capacitive_sensor_research/실험데이터/시계방향\\100.csv\n",
      "C:/Users/hml76/OneDrive/바탕 화면/Capacitive_sensor_research/실험데이터/시계방향\\101 (2).csv\n",
      "C:/Users/hml76/OneDrive/바탕 화면/Capacitive_sensor_research/실험데이터/시계방향\\101.csv\n",
      "C:/Users/hml76/OneDrive/바탕 화면/Capacitive_sensor_research/실험데이터/시계방향\\102 (2).csv\n",
      "C:/Users/hml76/OneDrive/바탕 화면/Capacitive_sensor_research/실험데이터/시계방향\\102.csv\n",
      "C:/Users/hml76/OneDrive/바탕 화면/Capacitive_sensor_research/실험데이터/시계방향\\103 (2).csv\n",
      "C:/Users/hml76/OneDrive/바탕 화면/Capacitive_sensor_research/실험데이터/시계방향\\103.csv\n",
      "C:/Users/hml76/OneDrive/바탕 화면/Capacitive_sensor_research/실험데이터/시계방향\\104.csv\n",
      "C:/Users/hml76/OneDrive/바탕 화면/Capacitive_sensor_research/실험데이터/시계방향\\105.csv\n",
      "C:/Users/hml76/OneDrive/바탕 화면/Capacitive_sensor_research/실험데이터/시계방향\\106.csv\n",
      "C:/Users/hml76/OneDrive/바탕 화면/Capacitive_sensor_research/실험데이터/시계방향\\107.csv\n",
      "C:/Users/hml76/OneDrive/바탕 화면/Capacitive_sensor_research/실험데이터/시계방향\\108.csv\n",
      "C:/Users/hml76/OneDrive/바탕 화면/Capacitive_sensor_research/실험데이터/시계방향\\109.csv\n",
      "C:/Users/hml76/OneDrive/바탕 화면/Capacitive_sensor_research/실험데이터/시계방향\\11.csv\n",
      "C:/Users/hml76/OneDrive/바탕 화면/Capacitive_sensor_research/실험데이터/시계방향\\110.csv\n",
      "C:/Users/hml76/OneDrive/바탕 화면/Capacitive_sensor_research/실험데이터/시계방향\\111.csv\n",
      "C:/Users/hml76/OneDrive/바탕 화면/Capacitive_sensor_research/실험데이터/시계방향\\112.csv\n",
      "C:/Users/hml76/OneDrive/바탕 화면/Capacitive_sensor_research/실험데이터/시계방향\\113.csv\n",
      "C:/Users/hml76/OneDrive/바탕 화면/Capacitive_sensor_research/실험데이터/시계방향\\114.csv\n",
      "C:/Users/hml76/OneDrive/바탕 화면/Capacitive_sensor_research/실험데이터/시계방향\\115.csv\n",
      "C:/Users/hml76/OneDrive/바탕 화면/Capacitive_sensor_research/실험데이터/시계방향\\116.csv\n",
      "C:/Users/hml76/OneDrive/바탕 화면/Capacitive_sensor_research/실험데이터/시계방향\\117.csv\n",
      "C:/Users/hml76/OneDrive/바탕 화면/Capacitive_sensor_research/실험데이터/시계방향\\118.csv\n",
      "C:/Users/hml76/OneDrive/바탕 화면/Capacitive_sensor_research/실험데이터/시계방향\\119.csv\n",
      "C:/Users/hml76/OneDrive/바탕 화면/Capacitive_sensor_research/실험데이터/시계방향\\12 (2).csv\n",
      "C:/Users/hml76/OneDrive/바탕 화면/Capacitive_sensor_research/실험데이터/시계방향\\12.csv\n",
      "C:/Users/hml76/OneDrive/바탕 화면/Capacitive_sensor_research/실험데이터/시계방향\\120.csv\n",
      "C:/Users/hml76/OneDrive/바탕 화면/Capacitive_sensor_research/실험데이터/시계방향\\121.csv\n",
      "C:/Users/hml76/OneDrive/바탕 화면/Capacitive_sensor_research/실험데이터/시계방향\\122.csv\n",
      "C:/Users/hml76/OneDrive/바탕 화면/Capacitive_sensor_research/실험데이터/시계방향\\13 (2).csv\n",
      "C:/Users/hml76/OneDrive/바탕 화면/Capacitive_sensor_research/실험데이터/시계방향\\13.csv\n",
      "C:/Users/hml76/OneDrive/바탕 화면/Capacitive_sensor_research/실험데이터/시계방향\\14 (2).csv\n",
      "C:/Users/hml76/OneDrive/바탕 화면/Capacitive_sensor_research/실험데이터/시계방향\\14.csv\n",
      "C:/Users/hml76/OneDrive/바탕 화면/Capacitive_sensor_research/실험데이터/시계방향\\15.csv\n",
      "C:/Users/hml76/OneDrive/바탕 화면/Capacitive_sensor_research/실험데이터/시계방향\\16 (2).csv\n",
      "C:/Users/hml76/OneDrive/바탕 화면/Capacitive_sensor_research/실험데이터/시계방향\\17 (2).csv\n",
      "C:/Users/hml76/OneDrive/바탕 화면/Capacitive_sensor_research/실험데이터/시계방향\\17.csv\n",
      "C:/Users/hml76/OneDrive/바탕 화면/Capacitive_sensor_research/실험데이터/시계방향\\18 (2).csv\n",
      "C:/Users/hml76/OneDrive/바탕 화면/Capacitive_sensor_research/실험데이터/시계방향\\18.csv\n",
      "C:/Users/hml76/OneDrive/바탕 화면/Capacitive_sensor_research/실험데이터/시계방향\\19 (2).csv\n",
      "C:/Users/hml76/OneDrive/바탕 화면/Capacitive_sensor_research/실험데이터/시계방향\\2 (2).csv\n",
      "C:/Users/hml76/OneDrive/바탕 화면/Capacitive_sensor_research/실험데이터/시계방향\\2.csv\n",
      "C:/Users/hml76/OneDrive/바탕 화면/Capacitive_sensor_research/실험데이터/시계방향\\20 (2).csv\n",
      "C:/Users/hml76/OneDrive/바탕 화면/Capacitive_sensor_research/실험데이터/시계방향\\20.csv\n",
      "C:/Users/hml76/OneDrive/바탕 화면/Capacitive_sensor_research/실험데이터/시계방향\\21 (2).csv\n",
      "C:/Users/hml76/OneDrive/바탕 화면/Capacitive_sensor_research/실험데이터/시계방향\\22 (2).csv\n",
      "C:/Users/hml76/OneDrive/바탕 화면/Capacitive_sensor_research/실험데이터/시계방향\\22.csv\n",
      "C:/Users/hml76/OneDrive/바탕 화면/Capacitive_sensor_research/실험데이터/시계방향\\23 (2).csv\n",
      "C:/Users/hml76/OneDrive/바탕 화면/Capacitive_sensor_research/실험데이터/시계방향\\24 (2).csv\n",
      "C:/Users/hml76/OneDrive/바탕 화면/Capacitive_sensor_research/실험데이터/시계방향\\24.csv\n",
      "C:/Users/hml76/OneDrive/바탕 화면/Capacitive_sensor_research/실험데이터/시계방향\\25 (2).csv\n",
      "C:/Users/hml76/OneDrive/바탕 화면/Capacitive_sensor_research/실험데이터/시계방향\\25.csv\n",
      "C:/Users/hml76/OneDrive/바탕 화면/Capacitive_sensor_research/실험데이터/시계방향\\26 (2).csv\n",
      "C:/Users/hml76/OneDrive/바탕 화면/Capacitive_sensor_research/실험데이터/시계방향\\27 (2).csv\n",
      "C:/Users/hml76/OneDrive/바탕 화면/Capacitive_sensor_research/실험데이터/시계방향\\27.csv\n",
      "C:/Users/hml76/OneDrive/바탕 화면/Capacitive_sensor_research/실험데이터/시계방향\\28 (2).csv\n",
      "C:/Users/hml76/OneDrive/바탕 화면/Capacitive_sensor_research/실험데이터/시계방향\\29 (2).csv\n",
      "C:/Users/hml76/OneDrive/바탕 화면/Capacitive_sensor_research/실험데이터/시계방향\\3 (2).csv\n",
      "C:/Users/hml76/OneDrive/바탕 화면/Capacitive_sensor_research/실험데이터/시계방향\\30 (2).csv\n",
      "C:/Users/hml76/OneDrive/바탕 화면/Capacitive_sensor_research/실험데이터/시계방향\\30.csv\n",
      "C:/Users/hml76/OneDrive/바탕 화면/Capacitive_sensor_research/실험데이터/시계방향\\31 (2).csv\n",
      "C:/Users/hml76/OneDrive/바탕 화면/Capacitive_sensor_research/실험데이터/시계방향\\32 (2).csv\n",
      "C:/Users/hml76/OneDrive/바탕 화면/Capacitive_sensor_research/실험데이터/시계방향\\32.csv\n",
      "C:/Users/hml76/OneDrive/바탕 화면/Capacitive_sensor_research/실험데이터/시계방향\\33 (2).csv\n",
      "C:/Users/hml76/OneDrive/바탕 화면/Capacitive_sensor_research/실험데이터/시계방향\\34 (2).csv\n",
      "C:/Users/hml76/OneDrive/바탕 화면/Capacitive_sensor_research/실험데이터/시계방향\\34.csv\n",
      "C:/Users/hml76/OneDrive/바탕 화면/Capacitive_sensor_research/실험데이터/시계방향\\35 (2).csv\n",
      "C:/Users/hml76/OneDrive/바탕 화면/Capacitive_sensor_research/실험데이터/시계방향\\35.csv\n",
      "C:/Users/hml76/OneDrive/바탕 화면/Capacitive_sensor_research/실험데이터/시계방향\\36 (2).csv\n",
      "C:/Users/hml76/OneDrive/바탕 화면/Capacitive_sensor_research/실험데이터/시계방향\\36.csv\n",
      "C:/Users/hml76/OneDrive/바탕 화면/Capacitive_sensor_research/실험데이터/시계방향\\37 (2).csv\n",
      "C:/Users/hml76/OneDrive/바탕 화면/Capacitive_sensor_research/실험데이터/시계방향\\37.csv\n",
      "C:/Users/hml76/OneDrive/바탕 화면/Capacitive_sensor_research/실험데이터/시계방향\\38 (2).csv\n",
      "C:/Users/hml76/OneDrive/바탕 화면/Capacitive_sensor_research/실험데이터/시계방향\\38.csv\n",
      "C:/Users/hml76/OneDrive/바탕 화면/Capacitive_sensor_research/실험데이터/시계방향\\39 (2).csv\n",
      "C:/Users/hml76/OneDrive/바탕 화면/Capacitive_sensor_research/실험데이터/시계방향\\4 (2).csv\n",
      "C:/Users/hml76/OneDrive/바탕 화면/Capacitive_sensor_research/실험데이터/시계방향\\40 (2).csv\n",
      "C:/Users/hml76/OneDrive/바탕 화면/Capacitive_sensor_research/실험데이터/시계방향\\40.csv\n",
      "C:/Users/hml76/OneDrive/바탕 화면/Capacitive_sensor_research/실험데이터/시계방향\\41 (2).csv\n",
      "C:/Users/hml76/OneDrive/바탕 화면/Capacitive_sensor_research/실험데이터/시계방향\\42 (2).csv\n",
      "C:/Users/hml76/OneDrive/바탕 화면/Capacitive_sensor_research/실험데이터/시계방향\\42.csv\n",
      "C:/Users/hml76/OneDrive/바탕 화면/Capacitive_sensor_research/실험데이터/시계방향\\43 (2).csv\n",
      "C:/Users/hml76/OneDrive/바탕 화면/Capacitive_sensor_research/실험데이터/시계방향\\43.csv\n",
      "C:/Users/hml76/OneDrive/바탕 화면/Capacitive_sensor_research/실험데이터/시계방향\\44 (2).csv\n",
      "C:/Users/hml76/OneDrive/바탕 화면/Capacitive_sensor_research/실험데이터/시계방향\\44.csv\n",
      "C:/Users/hml76/OneDrive/바탕 화면/Capacitive_sensor_research/실험데이터/시계방향\\45 (2).csv\n",
      "C:/Users/hml76/OneDrive/바탕 화면/Capacitive_sensor_research/실험데이터/시계방향\\46 (2).csv\n",
      "C:/Users/hml76/OneDrive/바탕 화면/Capacitive_sensor_research/실험데이터/시계방향\\46.csv\n",
      "C:/Users/hml76/OneDrive/바탕 화면/Capacitive_sensor_research/실험데이터/시계방향\\47 (2).csv\n",
      "C:/Users/hml76/OneDrive/바탕 화면/Capacitive_sensor_research/실험데이터/시계방향\\47.csv\n",
      "C:/Users/hml76/OneDrive/바탕 화면/Capacitive_sensor_research/실험데이터/시계방향\\48 (2).csv\n",
      "C:/Users/hml76/OneDrive/바탕 화면/Capacitive_sensor_research/실험데이터/시계방향\\49 (2).csv\n",
      "C:/Users/hml76/OneDrive/바탕 화면/Capacitive_sensor_research/실험데이터/시계방향\\49.csv\n",
      "C:/Users/hml76/OneDrive/바탕 화면/Capacitive_sensor_research/실험데이터/시계방향\\5 (2).csv\n",
      "C:/Users/hml76/OneDrive/바탕 화면/Capacitive_sensor_research/실험데이터/시계방향\\5.csv\n",
      "C:/Users/hml76/OneDrive/바탕 화면/Capacitive_sensor_research/실험데이터/시계방향\\50 (2).csv\n",
      "C:/Users/hml76/OneDrive/바탕 화면/Capacitive_sensor_research/실험데이터/시계방향\\50.csv\n",
      "C:/Users/hml76/OneDrive/바탕 화면/Capacitive_sensor_research/실험데이터/시계방향\\51 (2).csv\n",
      "C:/Users/hml76/OneDrive/바탕 화면/Capacitive_sensor_research/실험데이터/시계방향\\51.csv\n",
      "C:/Users/hml76/OneDrive/바탕 화면/Capacitive_sensor_research/실험데이터/시계방향\\52 (2).csv\n",
      "C:/Users/hml76/OneDrive/바탕 화면/Capacitive_sensor_research/실험데이터/시계방향\\52.csv\n",
      "C:/Users/hml76/OneDrive/바탕 화면/Capacitive_sensor_research/실험데이터/시계방향\\53 (2).csv\n",
      "C:/Users/hml76/OneDrive/바탕 화면/Capacitive_sensor_research/실험데이터/시계방향\\53.csv\n",
      "C:/Users/hml76/OneDrive/바탕 화면/Capacitive_sensor_research/실험데이터/시계방향\\54 (2).csv\n",
      "C:/Users/hml76/OneDrive/바탕 화면/Capacitive_sensor_research/실험데이터/시계방향\\54.csv\n",
      "C:/Users/hml76/OneDrive/바탕 화면/Capacitive_sensor_research/실험데이터/시계방향\\55 (2).csv\n",
      "C:/Users/hml76/OneDrive/바탕 화면/Capacitive_sensor_research/실험데이터/시계방향\\55.csv\n",
      "C:/Users/hml76/OneDrive/바탕 화면/Capacitive_sensor_research/실험데이터/시계방향\\56 (2).csv\n",
      "C:/Users/hml76/OneDrive/바탕 화면/Capacitive_sensor_research/실험데이터/시계방향\\56.csv\n",
      "C:/Users/hml76/OneDrive/바탕 화면/Capacitive_sensor_research/실험데이터/시계방향\\57 (2).csv\n",
      "C:/Users/hml76/OneDrive/바탕 화면/Capacitive_sensor_research/실험데이터/시계방향\\58 (2).csv\n",
      "C:/Users/hml76/OneDrive/바탕 화면/Capacitive_sensor_research/실험데이터/시계방향\\58.csv\n",
      "C:/Users/hml76/OneDrive/바탕 화면/Capacitive_sensor_research/실험데이터/시계방향\\59 (2).csv\n",
      "C:/Users/hml76/OneDrive/바탕 화면/Capacitive_sensor_research/실험데이터/시계방향\\59.csv\n",
      "C:/Users/hml76/OneDrive/바탕 화면/Capacitive_sensor_research/실험데이터/시계방향\\6 (2).csv\n",
      "C:/Users/hml76/OneDrive/바탕 화면/Capacitive_sensor_research/실험데이터/시계방향\\60 (2).csv\n",
      "C:/Users/hml76/OneDrive/바탕 화면/Capacitive_sensor_research/실험데이터/시계방향\\60.csv\n",
      "C:/Users/hml76/OneDrive/바탕 화면/Capacitive_sensor_research/실험데이터/시계방향\\61 (2).csv\n",
      "C:/Users/hml76/OneDrive/바탕 화면/Capacitive_sensor_research/실험데이터/시계방향\\61.csv\n"
     ]
    },
    {
     "name": "stdout",
     "output_type": "stream",
     "text": [
      "C:/Users/hml76/OneDrive/바탕 화면/Capacitive_sensor_research/실험데이터/시계방향\\62 (2).csv\n",
      "C:/Users/hml76/OneDrive/바탕 화면/Capacitive_sensor_research/실험데이터/시계방향\\62.csv\n",
      "C:/Users/hml76/OneDrive/바탕 화면/Capacitive_sensor_research/실험데이터/시계방향\\63 (2).csv\n",
      "C:/Users/hml76/OneDrive/바탕 화면/Capacitive_sensor_research/실험데이터/시계방향\\63.csv\n",
      "C:/Users/hml76/OneDrive/바탕 화면/Capacitive_sensor_research/실험데이터/시계방향\\64 (2).csv\n",
      "C:/Users/hml76/OneDrive/바탕 화면/Capacitive_sensor_research/실험데이터/시계방향\\64.csv\n",
      "C:/Users/hml76/OneDrive/바탕 화면/Capacitive_sensor_research/실험데이터/시계방향\\65 (2).csv\n",
      "C:/Users/hml76/OneDrive/바탕 화면/Capacitive_sensor_research/실험데이터/시계방향\\65.csv\n",
      "C:/Users/hml76/OneDrive/바탕 화면/Capacitive_sensor_research/실험데이터/시계방향\\66 (2).csv\n",
      "C:/Users/hml76/OneDrive/바탕 화면/Capacitive_sensor_research/실험데이터/시계방향\\66.csv\n",
      "C:/Users/hml76/OneDrive/바탕 화면/Capacitive_sensor_research/실험데이터/시계방향\\67 (2).csv\n",
      "C:/Users/hml76/OneDrive/바탕 화면/Capacitive_sensor_research/실험데이터/시계방향\\67.csv\n",
      "C:/Users/hml76/OneDrive/바탕 화면/Capacitive_sensor_research/실험데이터/시계방향\\68 (2).csv\n",
      "C:/Users/hml76/OneDrive/바탕 화면/Capacitive_sensor_research/실험데이터/시계방향\\69 (2).csv\n",
      "C:/Users/hml76/OneDrive/바탕 화면/Capacitive_sensor_research/실험데이터/시계방향\\69.csv\n",
      "C:/Users/hml76/OneDrive/바탕 화면/Capacitive_sensor_research/실험데이터/시계방향\\7 (2).csv\n",
      "C:/Users/hml76/OneDrive/바탕 화면/Capacitive_sensor_research/실험데이터/시계방향\\70 (2).csv\n",
      "C:/Users/hml76/OneDrive/바탕 화면/Capacitive_sensor_research/실험데이터/시계방향\\70.csv\n",
      "C:/Users/hml76/OneDrive/바탕 화면/Capacitive_sensor_research/실험데이터/시계방향\\71 (2).csv\n",
      "C:/Users/hml76/OneDrive/바탕 화면/Capacitive_sensor_research/실험데이터/시계방향\\71.csv\n",
      "C:/Users/hml76/OneDrive/바탕 화면/Capacitive_sensor_research/실험데이터/시계방향\\72 (2).csv\n",
      "C:/Users/hml76/OneDrive/바탕 화면/Capacitive_sensor_research/실험데이터/시계방향\\72.csv\n",
      "C:/Users/hml76/OneDrive/바탕 화면/Capacitive_sensor_research/실험데이터/시계방향\\73 (2).csv\n",
      "C:/Users/hml76/OneDrive/바탕 화면/Capacitive_sensor_research/실험데이터/시계방향\\74 (2).csv\n",
      "C:/Users/hml76/OneDrive/바탕 화면/Capacitive_sensor_research/실험데이터/시계방향\\74.csv\n",
      "C:/Users/hml76/OneDrive/바탕 화면/Capacitive_sensor_research/실험데이터/시계방향\\75 (2).csv\n",
      "C:/Users/hml76/OneDrive/바탕 화면/Capacitive_sensor_research/실험데이터/시계방향\\75.csv\n",
      "C:/Users/hml76/OneDrive/바탕 화면/Capacitive_sensor_research/실험데이터/시계방향\\76 (2).csv\n",
      "C:/Users/hml76/OneDrive/바탕 화면/Capacitive_sensor_research/실험데이터/시계방향\\76.csv\n",
      "C:/Users/hml76/OneDrive/바탕 화면/Capacitive_sensor_research/실험데이터/시계방향\\77 (2).csv\n",
      "C:/Users/hml76/OneDrive/바탕 화면/Capacitive_sensor_research/실험데이터/시계방향\\77.csv\n",
      "C:/Users/hml76/OneDrive/바탕 화면/Capacitive_sensor_research/실험데이터/시계방향\\78 (2).csv\n",
      "C:/Users/hml76/OneDrive/바탕 화면/Capacitive_sensor_research/실험데이터/시계방향\\78.csv\n",
      "C:/Users/hml76/OneDrive/바탕 화면/Capacitive_sensor_research/실험데이터/시계방향\\79 (2).csv\n",
      "C:/Users/hml76/OneDrive/바탕 화면/Capacitive_sensor_research/실험데이터/시계방향\\79.csv\n",
      "C:/Users/hml76/OneDrive/바탕 화면/Capacitive_sensor_research/실험데이터/시계방향\\8.csv\n",
      "C:/Users/hml76/OneDrive/바탕 화면/Capacitive_sensor_research/실험데이터/시계방향\\80 (2).csv\n",
      "C:/Users/hml76/OneDrive/바탕 화면/Capacitive_sensor_research/실험데이터/시계방향\\80.csv\n",
      "C:/Users/hml76/OneDrive/바탕 화면/Capacitive_sensor_research/실험데이터/시계방향\\81 (2).csv\n",
      "C:/Users/hml76/OneDrive/바탕 화면/Capacitive_sensor_research/실험데이터/시계방향\\81.csv\n",
      "C:/Users/hml76/OneDrive/바탕 화면/Capacitive_sensor_research/실험데이터/시계방향\\82 (2).csv\n",
      "C:/Users/hml76/OneDrive/바탕 화면/Capacitive_sensor_research/실험데이터/시계방향\\82.csv\n",
      "C:/Users/hml76/OneDrive/바탕 화면/Capacitive_sensor_research/실험데이터/시계방향\\83 (2).csv\n",
      "C:/Users/hml76/OneDrive/바탕 화면/Capacitive_sensor_research/실험데이터/시계방향\\83.csv\n",
      "C:/Users/hml76/OneDrive/바탕 화면/Capacitive_sensor_research/실험데이터/시계방향\\84 (2).csv\n",
      "C:/Users/hml76/OneDrive/바탕 화면/Capacitive_sensor_research/실험데이터/시계방향\\84.csv\n",
      "C:/Users/hml76/OneDrive/바탕 화면/Capacitive_sensor_research/실험데이터/시계방향\\85 (2).csv\n",
      "C:/Users/hml76/OneDrive/바탕 화면/Capacitive_sensor_research/실험데이터/시계방향\\85.csv\n",
      "C:/Users/hml76/OneDrive/바탕 화면/Capacitive_sensor_research/실험데이터/시계방향\\86 (2).csv\n",
      "C:/Users/hml76/OneDrive/바탕 화면/Capacitive_sensor_research/실험데이터/시계방향\\86.csv\n",
      "C:/Users/hml76/OneDrive/바탕 화면/Capacitive_sensor_research/실험데이터/시계방향\\87 (2).csv\n",
      "C:/Users/hml76/OneDrive/바탕 화면/Capacitive_sensor_research/실험데이터/시계방향\\87.csv\n",
      "C:/Users/hml76/OneDrive/바탕 화면/Capacitive_sensor_research/실험데이터/시계방향\\88 (2).csv\n",
      "C:/Users/hml76/OneDrive/바탕 화면/Capacitive_sensor_research/실험데이터/시계방향\\88.csv\n",
      "C:/Users/hml76/OneDrive/바탕 화면/Capacitive_sensor_research/실험데이터/시계방향\\89 (2).csv\n",
      "C:/Users/hml76/OneDrive/바탕 화면/Capacitive_sensor_research/실험데이터/시계방향\\89.csv\n",
      "C:/Users/hml76/OneDrive/바탕 화면/Capacitive_sensor_research/실험데이터/시계방향\\9.csv\n",
      "C:/Users/hml76/OneDrive/바탕 화면/Capacitive_sensor_research/실험데이터/시계방향\\90 (2).csv\n",
      "C:/Users/hml76/OneDrive/바탕 화면/Capacitive_sensor_research/실험데이터/시계방향\\90.csv\n",
      "C:/Users/hml76/OneDrive/바탕 화면/Capacitive_sensor_research/실험데이터/시계방향\\91 (2).csv\n",
      "C:/Users/hml76/OneDrive/바탕 화면/Capacitive_sensor_research/실험데이터/시계방향\\91.csv\n",
      "C:/Users/hml76/OneDrive/바탕 화면/Capacitive_sensor_research/실험데이터/시계방향\\92 (2).csv\n",
      "C:/Users/hml76/OneDrive/바탕 화면/Capacitive_sensor_research/실험데이터/시계방향\\92.csv\n",
      "C:/Users/hml76/OneDrive/바탕 화면/Capacitive_sensor_research/실험데이터/시계방향\\93 (2).csv\n",
      "C:/Users/hml76/OneDrive/바탕 화면/Capacitive_sensor_research/실험데이터/시계방향\\93.csv\n",
      "C:/Users/hml76/OneDrive/바탕 화면/Capacitive_sensor_research/실험데이터/시계방향\\94 (2).csv\n",
      "C:/Users/hml76/OneDrive/바탕 화면/Capacitive_sensor_research/실험데이터/시계방향\\94.csv\n",
      "C:/Users/hml76/OneDrive/바탕 화면/Capacitive_sensor_research/실험데이터/시계방향\\95 (2).csv\n",
      "C:/Users/hml76/OneDrive/바탕 화면/Capacitive_sensor_research/실험데이터/시계방향\\95.csv\n",
      "C:/Users/hml76/OneDrive/바탕 화면/Capacitive_sensor_research/실험데이터/시계방향\\96 (2).csv\n",
      "C:/Users/hml76/OneDrive/바탕 화면/Capacitive_sensor_research/실험데이터/시계방향\\96.csv\n",
      "C:/Users/hml76/OneDrive/바탕 화면/Capacitive_sensor_research/실험데이터/시계방향\\97 (2).csv\n",
      "C:/Users/hml76/OneDrive/바탕 화면/Capacitive_sensor_research/실험데이터/시계방향\\97.csv\n",
      "C:/Users/hml76/OneDrive/바탕 화면/Capacitive_sensor_research/실험데이터/시계방향\\98 (2).csv\n",
      "C:/Users/hml76/OneDrive/바탕 화면/Capacitive_sensor_research/실험데이터/시계방향\\98.csv\n",
      "C:/Users/hml76/OneDrive/바탕 화면/Capacitive_sensor_research/실험데이터/시계방향\\99 (2).csv\n",
      "C:/Users/hml76/OneDrive/바탕 화면/Capacitive_sensor_research/실험데이터/시계방향\\99.csv\n",
      "C:/Users/hml76/OneDrive/바탕 화면/Capacitive_sensor_research/실험데이터/시계반대방향\\1 - 복사본.csv\n",
      "C:/Users/hml76/OneDrive/바탕 화면/Capacitive_sensor_research/실험데이터/시계반대방향\\1.csv\n",
      "C:/Users/hml76/OneDrive/바탕 화면/Capacitive_sensor_research/실험데이터/시계반대방향\\10 (2).csv\n",
      "C:/Users/hml76/OneDrive/바탕 화면/Capacitive_sensor_research/실험데이터/시계반대방향\\10.csv\n",
      "C:/Users/hml76/OneDrive/바탕 화면/Capacitive_sensor_research/실험데이터/시계반대방향\\100 (2).csv\n",
      "C:/Users/hml76/OneDrive/바탕 화면/Capacitive_sensor_research/실험데이터/시계반대방향\\100.csv\n",
      "C:/Users/hml76/OneDrive/바탕 화면/Capacitive_sensor_research/실험데이터/시계반대방향\\101 (2).csv\n",
      "C:/Users/hml76/OneDrive/바탕 화면/Capacitive_sensor_research/실험데이터/시계반대방향\\102 (2).csv\n",
      "C:/Users/hml76/OneDrive/바탕 화면/Capacitive_sensor_research/실험데이터/시계반대방향\\103 (2).csv\n",
      "C:/Users/hml76/OneDrive/바탕 화면/Capacitive_sensor_research/실험데이터/시계반대방향\\103.csv\n",
      "C:/Users/hml76/OneDrive/바탕 화면/Capacitive_sensor_research/실험데이터/시계반대방향\\104 (2).csv\n",
      "C:/Users/hml76/OneDrive/바탕 화면/Capacitive_sensor_research/실험데이터/시계반대방향\\104.csv\n",
      "C:/Users/hml76/OneDrive/바탕 화면/Capacitive_sensor_research/실험데이터/시계반대방향\\105 (2).csv\n",
      "C:/Users/hml76/OneDrive/바탕 화면/Capacitive_sensor_research/실험데이터/시계반대방향\\105.csv\n",
      "C:/Users/hml76/OneDrive/바탕 화면/Capacitive_sensor_research/실험데이터/시계반대방향\\106 (2).csv\n",
      "C:/Users/hml76/OneDrive/바탕 화면/Capacitive_sensor_research/실험데이터/시계반대방향\\106.csv\n",
      "C:/Users/hml76/OneDrive/바탕 화면/Capacitive_sensor_research/실험데이터/시계반대방향\\107.csv\n",
      "C:/Users/hml76/OneDrive/바탕 화면/Capacitive_sensor_research/실험데이터/시계반대방향\\11 (2).csv\n",
      "C:/Users/hml76/OneDrive/바탕 화면/Capacitive_sensor_research/실험데이터/시계반대방향\\11.csv\n",
      "C:/Users/hml76/OneDrive/바탕 화면/Capacitive_sensor_research/실험데이터/시계반대방향\\12 (2).csv\n",
      "C:/Users/hml76/OneDrive/바탕 화면/Capacitive_sensor_research/실험데이터/시계반대방향\\12.csv\n",
      "C:/Users/hml76/OneDrive/바탕 화면/Capacitive_sensor_research/실험데이터/시계반대방향\\13 (2).csv\n",
      "C:/Users/hml76/OneDrive/바탕 화면/Capacitive_sensor_research/실험데이터/시계반대방향\\13.csv\n",
      "C:/Users/hml76/OneDrive/바탕 화면/Capacitive_sensor_research/실험데이터/시계반대방향\\14 (2).csv\n",
      "C:/Users/hml76/OneDrive/바탕 화면/Capacitive_sensor_research/실험데이터/시계반대방향\\14.csv\n",
      "C:/Users/hml76/OneDrive/바탕 화면/Capacitive_sensor_research/실험데이터/시계반대방향\\15 (2).csv\n",
      "C:/Users/hml76/OneDrive/바탕 화면/Capacitive_sensor_research/실험데이터/시계반대방향\\15.csv\n",
      "C:/Users/hml76/OneDrive/바탕 화면/Capacitive_sensor_research/실험데이터/시계반대방향\\16.csv\n",
      "C:/Users/hml76/OneDrive/바탕 화면/Capacitive_sensor_research/실험데이터/시계반대방향\\17.csv\n",
      "C:/Users/hml76/OneDrive/바탕 화면/Capacitive_sensor_research/실험데이터/시계반대방향\\18 (2).csv\n",
      "C:/Users/hml76/OneDrive/바탕 화면/Capacitive_sensor_research/실험데이터/시계반대방향\\18.csv\n",
      "C:/Users/hml76/OneDrive/바탕 화면/Capacitive_sensor_research/실험데이터/시계반대방향\\19 (2).csv\n",
      "C:/Users/hml76/OneDrive/바탕 화면/Capacitive_sensor_research/실험데이터/시계반대방향\\19.csv\n",
      "C:/Users/hml76/OneDrive/바탕 화면/Capacitive_sensor_research/실험데이터/시계반대방향\\2 (2).csv\n",
      "C:/Users/hml76/OneDrive/바탕 화면/Capacitive_sensor_research/실험데이터/시계반대방향\\2.csv\n",
      "C:/Users/hml76/OneDrive/바탕 화면/Capacitive_sensor_research/실험데이터/시계반대방향\\20 (2).csv\n",
      "C:/Users/hml76/OneDrive/바탕 화면/Capacitive_sensor_research/실험데이터/시계반대방향\\20.csv\n",
      "C:/Users/hml76/OneDrive/바탕 화면/Capacitive_sensor_research/실험데이터/시계반대방향\\21 (2).csv\n",
      "C:/Users/hml76/OneDrive/바탕 화면/Capacitive_sensor_research/실험데이터/시계반대방향\\21.csv\n",
      "C:/Users/hml76/OneDrive/바탕 화면/Capacitive_sensor_research/실험데이터/시계반대방향\\22 (2).csv\n",
      "C:/Users/hml76/OneDrive/바탕 화면/Capacitive_sensor_research/실험데이터/시계반대방향\\22.csv\n",
      "C:/Users/hml76/OneDrive/바탕 화면/Capacitive_sensor_research/실험데이터/시계반대방향\\23.csv\n"
     ]
    },
    {
     "name": "stdout",
     "output_type": "stream",
     "text": [
      "C:/Users/hml76/OneDrive/바탕 화면/Capacitive_sensor_research/실험데이터/시계반대방향\\24.csv\n",
      "C:/Users/hml76/OneDrive/바탕 화면/Capacitive_sensor_research/실험데이터/시계반대방향\\25 (2).csv\n",
      "C:/Users/hml76/OneDrive/바탕 화면/Capacitive_sensor_research/실험데이터/시계반대방향\\25.csv\n",
      "C:/Users/hml76/OneDrive/바탕 화면/Capacitive_sensor_research/실험데이터/시계반대방향\\26 (2).csv\n",
      "C:/Users/hml76/OneDrive/바탕 화면/Capacitive_sensor_research/실험데이터/시계반대방향\\26.csv\n",
      "C:/Users/hml76/OneDrive/바탕 화면/Capacitive_sensor_research/실험데이터/시계반대방향\\27 (2).csv\n",
      "C:/Users/hml76/OneDrive/바탕 화면/Capacitive_sensor_research/실험데이터/시계반대방향\\27.csv\n",
      "C:/Users/hml76/OneDrive/바탕 화면/Capacitive_sensor_research/실험데이터/시계반대방향\\28 (2).csv\n",
      "C:/Users/hml76/OneDrive/바탕 화면/Capacitive_sensor_research/실험데이터/시계반대방향\\28.csv\n",
      "C:/Users/hml76/OneDrive/바탕 화면/Capacitive_sensor_research/실험데이터/시계반대방향\\29 (2).csv\n",
      "C:/Users/hml76/OneDrive/바탕 화면/Capacitive_sensor_research/실험데이터/시계반대방향\\29.csv\n",
      "C:/Users/hml76/OneDrive/바탕 화면/Capacitive_sensor_research/실험데이터/시계반대방향\\3 (2).csv\n",
      "C:/Users/hml76/OneDrive/바탕 화면/Capacitive_sensor_research/실험데이터/시계반대방향\\3.csv\n",
      "C:/Users/hml76/OneDrive/바탕 화면/Capacitive_sensor_research/실험데이터/시계반대방향\\30 (2).csv\n",
      "C:/Users/hml76/OneDrive/바탕 화면/Capacitive_sensor_research/실험데이터/시계반대방향\\30.csv\n",
      "C:/Users/hml76/OneDrive/바탕 화면/Capacitive_sensor_research/실험데이터/시계반대방향\\31 (2).csv\n",
      "C:/Users/hml76/OneDrive/바탕 화면/Capacitive_sensor_research/실험데이터/시계반대방향\\31.csv\n",
      "C:/Users/hml76/OneDrive/바탕 화면/Capacitive_sensor_research/실험데이터/시계반대방향\\32 (2).csv\n",
      "C:/Users/hml76/OneDrive/바탕 화면/Capacitive_sensor_research/실험데이터/시계반대방향\\32.csv\n",
      "C:/Users/hml76/OneDrive/바탕 화면/Capacitive_sensor_research/실험데이터/시계반대방향\\33 (2).csv\n",
      "C:/Users/hml76/OneDrive/바탕 화면/Capacitive_sensor_research/실험데이터/시계반대방향\\33.csv\n",
      "C:/Users/hml76/OneDrive/바탕 화면/Capacitive_sensor_research/실험데이터/시계반대방향\\34 (2).csv\n",
      "C:/Users/hml76/OneDrive/바탕 화면/Capacitive_sensor_research/실험데이터/시계반대방향\\34.csv\n",
      "C:/Users/hml76/OneDrive/바탕 화면/Capacitive_sensor_research/실험데이터/시계반대방향\\35 (2).csv\n",
      "C:/Users/hml76/OneDrive/바탕 화면/Capacitive_sensor_research/실험데이터/시계반대방향\\35.csv\n",
      "C:/Users/hml76/OneDrive/바탕 화면/Capacitive_sensor_research/실험데이터/시계반대방향\\36 (2).csv\n",
      "C:/Users/hml76/OneDrive/바탕 화면/Capacitive_sensor_research/실험데이터/시계반대방향\\36.csv\n",
      "C:/Users/hml76/OneDrive/바탕 화면/Capacitive_sensor_research/실험데이터/시계반대방향\\37 (2).csv\n",
      "C:/Users/hml76/OneDrive/바탕 화면/Capacitive_sensor_research/실험데이터/시계반대방향\\37.csv\n",
      "C:/Users/hml76/OneDrive/바탕 화면/Capacitive_sensor_research/실험데이터/시계반대방향\\38 (2).csv\n",
      "C:/Users/hml76/OneDrive/바탕 화면/Capacitive_sensor_research/실험데이터/시계반대방향\\38.csv\n",
      "C:/Users/hml76/OneDrive/바탕 화면/Capacitive_sensor_research/실험데이터/시계반대방향\\39 (2).csv\n",
      "C:/Users/hml76/OneDrive/바탕 화면/Capacitive_sensor_research/실험데이터/시계반대방향\\39.csv\n",
      "C:/Users/hml76/OneDrive/바탕 화면/Capacitive_sensor_research/실험데이터/시계반대방향\\4 (2).csv\n",
      "C:/Users/hml76/OneDrive/바탕 화면/Capacitive_sensor_research/실험데이터/시계반대방향\\4.csv\n",
      "C:/Users/hml76/OneDrive/바탕 화면/Capacitive_sensor_research/실험데이터/시계반대방향\\40 (2).csv\n",
      "C:/Users/hml76/OneDrive/바탕 화면/Capacitive_sensor_research/실험데이터/시계반대방향\\40.csv\n",
      "C:/Users/hml76/OneDrive/바탕 화면/Capacitive_sensor_research/실험데이터/시계반대방향\\41 (2).csv\n",
      "C:/Users/hml76/OneDrive/바탕 화면/Capacitive_sensor_research/실험데이터/시계반대방향\\41.csv\n",
      "C:/Users/hml76/OneDrive/바탕 화면/Capacitive_sensor_research/실험데이터/시계반대방향\\42 (2).csv\n",
      "C:/Users/hml76/OneDrive/바탕 화면/Capacitive_sensor_research/실험데이터/시계반대방향\\42.csv\n",
      "C:/Users/hml76/OneDrive/바탕 화면/Capacitive_sensor_research/실험데이터/시계반대방향\\43 (2).csv\n",
      "C:/Users/hml76/OneDrive/바탕 화면/Capacitive_sensor_research/실험데이터/시계반대방향\\43.csv\n",
      "C:/Users/hml76/OneDrive/바탕 화면/Capacitive_sensor_research/실험데이터/시계반대방향\\44 (2).csv\n",
      "C:/Users/hml76/OneDrive/바탕 화면/Capacitive_sensor_research/실험데이터/시계반대방향\\45 (2).csv\n",
      "C:/Users/hml76/OneDrive/바탕 화면/Capacitive_sensor_research/실험데이터/시계반대방향\\46 (2).csv\n",
      "C:/Users/hml76/OneDrive/바탕 화면/Capacitive_sensor_research/실험데이터/시계반대방향\\46.csv\n",
      "C:/Users/hml76/OneDrive/바탕 화면/Capacitive_sensor_research/실험데이터/시계반대방향\\47 (2).csv\n",
      "C:/Users/hml76/OneDrive/바탕 화면/Capacitive_sensor_research/실험데이터/시계반대방향\\47.csv\n",
      "C:/Users/hml76/OneDrive/바탕 화면/Capacitive_sensor_research/실험데이터/시계반대방향\\48 (2).csv\n",
      "C:/Users/hml76/OneDrive/바탕 화면/Capacitive_sensor_research/실험데이터/시계반대방향\\48.csv\n",
      "C:/Users/hml76/OneDrive/바탕 화면/Capacitive_sensor_research/실험데이터/시계반대방향\\49 (2).csv\n",
      "C:/Users/hml76/OneDrive/바탕 화면/Capacitive_sensor_research/실험데이터/시계반대방향\\49.csv\n",
      "C:/Users/hml76/OneDrive/바탕 화면/Capacitive_sensor_research/실험데이터/시계반대방향\\5 (2).csv\n",
      "C:/Users/hml76/OneDrive/바탕 화면/Capacitive_sensor_research/실험데이터/시계반대방향\\5.csv\n",
      "C:/Users/hml76/OneDrive/바탕 화면/Capacitive_sensor_research/실험데이터/시계반대방향\\50 (2).csv\n",
      "C:/Users/hml76/OneDrive/바탕 화면/Capacitive_sensor_research/실험데이터/시계반대방향\\50.csv\n",
      "C:/Users/hml76/OneDrive/바탕 화면/Capacitive_sensor_research/실험데이터/시계반대방향\\51 (2).csv\n",
      "C:/Users/hml76/OneDrive/바탕 화면/Capacitive_sensor_research/실험데이터/시계반대방향\\52 (2).csv\n",
      "C:/Users/hml76/OneDrive/바탕 화면/Capacitive_sensor_research/실험데이터/시계반대방향\\53 (2).csv\n",
      "C:/Users/hml76/OneDrive/바탕 화면/Capacitive_sensor_research/실험데이터/시계반대방향\\53.csv\n",
      "C:/Users/hml76/OneDrive/바탕 화면/Capacitive_sensor_research/실험데이터/시계반대방향\\54 (2).csv\n",
      "C:/Users/hml76/OneDrive/바탕 화면/Capacitive_sensor_research/실험데이터/시계반대방향\\54.csv\n",
      "C:/Users/hml76/OneDrive/바탕 화면/Capacitive_sensor_research/실험데이터/시계반대방향\\55 (2).csv\n",
      "C:/Users/hml76/OneDrive/바탕 화면/Capacitive_sensor_research/실험데이터/시계반대방향\\55.csv\n",
      "C:/Users/hml76/OneDrive/바탕 화면/Capacitive_sensor_research/실험데이터/시계반대방향\\56 (2).csv\n",
      "C:/Users/hml76/OneDrive/바탕 화면/Capacitive_sensor_research/실험데이터/시계반대방향\\56.csv\n",
      "C:/Users/hml76/OneDrive/바탕 화면/Capacitive_sensor_research/실험데이터/시계반대방향\\57 (2).csv\n",
      "C:/Users/hml76/OneDrive/바탕 화면/Capacitive_sensor_research/실험데이터/시계반대방향\\57.csv\n",
      "C:/Users/hml76/OneDrive/바탕 화면/Capacitive_sensor_research/실험데이터/시계반대방향\\58 (2).csv\n",
      "C:/Users/hml76/OneDrive/바탕 화면/Capacitive_sensor_research/실험데이터/시계반대방향\\58.csv\n",
      "C:/Users/hml76/OneDrive/바탕 화면/Capacitive_sensor_research/실험데이터/시계반대방향\\59 (2).csv\n",
      "C:/Users/hml76/OneDrive/바탕 화면/Capacitive_sensor_research/실험데이터/시계반대방향\\59.csv\n",
      "C:/Users/hml76/OneDrive/바탕 화면/Capacitive_sensor_research/실험데이터/시계반대방향\\6 (2).csv\n",
      "C:/Users/hml76/OneDrive/바탕 화면/Capacitive_sensor_research/실험데이터/시계반대방향\\6.csv\n",
      "C:/Users/hml76/OneDrive/바탕 화면/Capacitive_sensor_research/실험데이터/시계반대방향\\60 (2).csv\n",
      "C:/Users/hml76/OneDrive/바탕 화면/Capacitive_sensor_research/실험데이터/시계반대방향\\60.csv\n",
      "C:/Users/hml76/OneDrive/바탕 화면/Capacitive_sensor_research/실험데이터/시계반대방향\\61 (2).csv\n",
      "C:/Users/hml76/OneDrive/바탕 화면/Capacitive_sensor_research/실험데이터/시계반대방향\\61.csv\n",
      "C:/Users/hml76/OneDrive/바탕 화면/Capacitive_sensor_research/실험데이터/시계반대방향\\62 (2).csv\n",
      "C:/Users/hml76/OneDrive/바탕 화면/Capacitive_sensor_research/실험데이터/시계반대방향\\62.csv\n",
      "C:/Users/hml76/OneDrive/바탕 화면/Capacitive_sensor_research/실험데이터/시계반대방향\\63 (2).csv\n",
      "C:/Users/hml76/OneDrive/바탕 화면/Capacitive_sensor_research/실험데이터/시계반대방향\\63.csv\n",
      "C:/Users/hml76/OneDrive/바탕 화면/Capacitive_sensor_research/실험데이터/시계반대방향\\64 (2).csv\n",
      "C:/Users/hml76/OneDrive/바탕 화면/Capacitive_sensor_research/실험데이터/시계반대방향\\64.csv\n",
      "C:/Users/hml76/OneDrive/바탕 화면/Capacitive_sensor_research/실험데이터/시계반대방향\\65.csv\n",
      "C:/Users/hml76/OneDrive/바탕 화면/Capacitive_sensor_research/실험데이터/시계반대방향\\66 (2).csv\n",
      "C:/Users/hml76/OneDrive/바탕 화면/Capacitive_sensor_research/실험데이터/시계반대방향\\66.csv\n",
      "C:/Users/hml76/OneDrive/바탕 화면/Capacitive_sensor_research/실험데이터/시계반대방향\\67 (2).csv\n",
      "C:/Users/hml76/OneDrive/바탕 화면/Capacitive_sensor_research/실험데이터/시계반대방향\\67.csv\n",
      "C:/Users/hml76/OneDrive/바탕 화면/Capacitive_sensor_research/실험데이터/시계반대방향\\68 (2).csv\n",
      "C:/Users/hml76/OneDrive/바탕 화면/Capacitive_sensor_research/실험데이터/시계반대방향\\68.csv\n",
      "C:/Users/hml76/OneDrive/바탕 화면/Capacitive_sensor_research/실험데이터/시계반대방향\\69 (2).csv\n",
      "C:/Users/hml76/OneDrive/바탕 화면/Capacitive_sensor_research/실험데이터/시계반대방향\\69.csv\n",
      "C:/Users/hml76/OneDrive/바탕 화면/Capacitive_sensor_research/실험데이터/시계반대방향\\7 (2).csv\n",
      "C:/Users/hml76/OneDrive/바탕 화면/Capacitive_sensor_research/실험데이터/시계반대방향\\7.csv\n",
      "C:/Users/hml76/OneDrive/바탕 화면/Capacitive_sensor_research/실험데이터/시계반대방향\\70 (2).csv\n",
      "C:/Users/hml76/OneDrive/바탕 화면/Capacitive_sensor_research/실험데이터/시계반대방향\\70.csv\n",
      "C:/Users/hml76/OneDrive/바탕 화면/Capacitive_sensor_research/실험데이터/시계반대방향\\71 (2).csv\n",
      "C:/Users/hml76/OneDrive/바탕 화면/Capacitive_sensor_research/실험데이터/시계반대방향\\71.csv\n",
      "C:/Users/hml76/OneDrive/바탕 화면/Capacitive_sensor_research/실험데이터/시계반대방향\\72 (2).csv\n",
      "C:/Users/hml76/OneDrive/바탕 화면/Capacitive_sensor_research/실험데이터/시계반대방향\\72.csv\n",
      "C:/Users/hml76/OneDrive/바탕 화면/Capacitive_sensor_research/실험데이터/시계반대방향\\73 (2).csv\n",
      "C:/Users/hml76/OneDrive/바탕 화면/Capacitive_sensor_research/실험데이터/시계반대방향\\73.csv\n",
      "C:/Users/hml76/OneDrive/바탕 화면/Capacitive_sensor_research/실험데이터/시계반대방향\\74 (2).csv\n",
      "C:/Users/hml76/OneDrive/바탕 화면/Capacitive_sensor_research/실험데이터/시계반대방향\\74.csv\n",
      "C:/Users/hml76/OneDrive/바탕 화면/Capacitive_sensor_research/실험데이터/시계반대방향\\75 (2).csv\n",
      "C:/Users/hml76/OneDrive/바탕 화면/Capacitive_sensor_research/실험데이터/시계반대방향\\75.csv\n",
      "C:/Users/hml76/OneDrive/바탕 화면/Capacitive_sensor_research/실험데이터/시계반대방향\\76 (2).csv\n",
      "C:/Users/hml76/OneDrive/바탕 화면/Capacitive_sensor_research/실험데이터/시계반대방향\\76.csv\n",
      "C:/Users/hml76/OneDrive/바탕 화면/Capacitive_sensor_research/실험데이터/시계반대방향\\77 (2).csv\n",
      "C:/Users/hml76/OneDrive/바탕 화면/Capacitive_sensor_research/실험데이터/시계반대방향\\77.csv\n",
      "C:/Users/hml76/OneDrive/바탕 화면/Capacitive_sensor_research/실험데이터/시계반대방향\\78 (2).csv\n",
      "C:/Users/hml76/OneDrive/바탕 화면/Capacitive_sensor_research/실험데이터/시계반대방향\\78.csv\n",
      "C:/Users/hml76/OneDrive/바탕 화면/Capacitive_sensor_research/실험데이터/시계반대방향\\79 (2).csv\n",
      "C:/Users/hml76/OneDrive/바탕 화면/Capacitive_sensor_research/실험데이터/시계반대방향\\79.csv\n",
      "C:/Users/hml76/OneDrive/바탕 화면/Capacitive_sensor_research/실험데이터/시계반대방향\\8 (2).csv\n",
      "C:/Users/hml76/OneDrive/바탕 화면/Capacitive_sensor_research/실험데이터/시계반대방향\\8.csv\n",
      "C:/Users/hml76/OneDrive/바탕 화면/Capacitive_sensor_research/실험데이터/시계반대방향\\80 (2).csv\n",
      "C:/Users/hml76/OneDrive/바탕 화면/Capacitive_sensor_research/실험데이터/시계반대방향\\80.csv\n",
      "C:/Users/hml76/OneDrive/바탕 화면/Capacitive_sensor_research/실험데이터/시계반대방향\\81 (2).csv\n",
      "C:/Users/hml76/OneDrive/바탕 화면/Capacitive_sensor_research/실험데이터/시계반대방향\\81.csv\n",
      "C:/Users/hml76/OneDrive/바탕 화면/Capacitive_sensor_research/실험데이터/시계반대방향\\82 (2).csv\n",
      "C:/Users/hml76/OneDrive/바탕 화면/Capacitive_sensor_research/실험데이터/시계반대방향\\82.csv\n",
      "C:/Users/hml76/OneDrive/바탕 화면/Capacitive_sensor_research/실험데이터/시계반대방향\\83 (2).csv\n",
      "C:/Users/hml76/OneDrive/바탕 화면/Capacitive_sensor_research/실험데이터/시계반대방향\\83.csv\n",
      "C:/Users/hml76/OneDrive/바탕 화면/Capacitive_sensor_research/실험데이터/시계반대방향\\84 (2).csv\n",
      "C:/Users/hml76/OneDrive/바탕 화면/Capacitive_sensor_research/실험데이터/시계반대방향\\84.csv\n",
      "C:/Users/hml76/OneDrive/바탕 화면/Capacitive_sensor_research/실험데이터/시계반대방향\\85 (2).csv\n",
      "C:/Users/hml76/OneDrive/바탕 화면/Capacitive_sensor_research/실험데이터/시계반대방향\\85.csv\n",
      "C:/Users/hml76/OneDrive/바탕 화면/Capacitive_sensor_research/실험데이터/시계반대방향\\86 (2).csv\n",
      "C:/Users/hml76/OneDrive/바탕 화면/Capacitive_sensor_research/실험데이터/시계반대방향\\86.csv\n",
      "C:/Users/hml76/OneDrive/바탕 화면/Capacitive_sensor_research/실험데이터/시계반대방향\\87 (2).csv\n",
      "C:/Users/hml76/OneDrive/바탕 화면/Capacitive_sensor_research/실험데이터/시계반대방향\\87.csv\n",
      "C:/Users/hml76/OneDrive/바탕 화면/Capacitive_sensor_research/실험데이터/시계반대방향\\88 (2).csv\n",
      "C:/Users/hml76/OneDrive/바탕 화면/Capacitive_sensor_research/실험데이터/시계반대방향\\88.csv\n",
      "C:/Users/hml76/OneDrive/바탕 화면/Capacitive_sensor_research/실험데이터/시계반대방향\\89 (2).csv\n",
      "C:/Users/hml76/OneDrive/바탕 화면/Capacitive_sensor_research/실험데이터/시계반대방향\\89.csv\n",
      "C:/Users/hml76/OneDrive/바탕 화면/Capacitive_sensor_research/실험데이터/시계반대방향\\9 (2).csv\n",
      "C:/Users/hml76/OneDrive/바탕 화면/Capacitive_sensor_research/실험데이터/시계반대방향\\9.csv\n",
      "C:/Users/hml76/OneDrive/바탕 화면/Capacitive_sensor_research/실험데이터/시계반대방향\\90 (2).csv\n",
      "C:/Users/hml76/OneDrive/바탕 화면/Capacitive_sensor_research/실험데이터/시계반대방향\\90.csv\n",
      "C:/Users/hml76/OneDrive/바탕 화면/Capacitive_sensor_research/실험데이터/시계반대방향\\91 (2).csv\n",
      "C:/Users/hml76/OneDrive/바탕 화면/Capacitive_sensor_research/실험데이터/시계반대방향\\91.csv\n",
      "C:/Users/hml76/OneDrive/바탕 화면/Capacitive_sensor_research/실험데이터/시계반대방향\\92 (2).csv\n",
      "C:/Users/hml76/OneDrive/바탕 화면/Capacitive_sensor_research/실험데이터/시계반대방향\\92.csv\n",
      "C:/Users/hml76/OneDrive/바탕 화면/Capacitive_sensor_research/실험데이터/시계반대방향\\93 (2).csv\n",
      "C:/Users/hml76/OneDrive/바탕 화면/Capacitive_sensor_research/실험데이터/시계반대방향\\93.csv\n",
      "C:/Users/hml76/OneDrive/바탕 화면/Capacitive_sensor_research/실험데이터/시계반대방향\\94 (2).csv\n",
      "C:/Users/hml76/OneDrive/바탕 화면/Capacitive_sensor_research/실험데이터/시계반대방향\\94.csv\n"
     ]
    },
    {
     "name": "stdout",
     "output_type": "stream",
     "text": [
      "C:/Users/hml76/OneDrive/바탕 화면/Capacitive_sensor_research/실험데이터/시계반대방향\\95 (2).csv\n",
      "C:/Users/hml76/OneDrive/바탕 화면/Capacitive_sensor_research/실험데이터/시계반대방향\\95.csv\n",
      "C:/Users/hml76/OneDrive/바탕 화면/Capacitive_sensor_research/실험데이터/시계반대방향\\96 (2).csv\n",
      "C:/Users/hml76/OneDrive/바탕 화면/Capacitive_sensor_research/실험데이터/시계반대방향\\96.csv\n",
      "C:/Users/hml76/OneDrive/바탕 화면/Capacitive_sensor_research/실험데이터/시계반대방향\\97.csv\n",
      "C:/Users/hml76/OneDrive/바탕 화면/Capacitive_sensor_research/실험데이터/시계반대방향\\98.csv\n",
      "C:/Users/hml76/OneDrive/바탕 화면/Capacitive_sensor_research/실험데이터/시계반대방향\\99 (2).csv\n",
      "C:/Users/hml76/OneDrive/바탕 화면/Capacitive_sensor_research/실험데이터/시계반대방향\\99.csv\n"
     ]
    }
   ],
   "source": [
    "for i, data in enumerate(total_data):\n",
    "    # print(pd.read_csv(i, names=['a-b','c-d','label']).sample(n=1000).sort_index().iloc[:,:2].shape)\n",
    "    print(data)\n",
    "    dataset[i] = pd.read_csv(data, names=['a-b','c-d','label']).sample(n=100).sort_index().iloc[:,:2]"
   ]
  },
  {
   "cell_type": "code",
   "execution_count": 259,
   "metadata": {},
   "outputs": [
    {
     "data": {
      "text/plain": [
       "array([[-0.006136,  0.067069],\n",
       "       [-0.059692,  0.130457],\n",
       "       [-0.011448,  0.179527],\n",
       "       [-0.065691,  0.129284],\n",
       "       [ 0.131551,  0.138778],\n",
       "       [ 0.008214,  0.097005],\n",
       "       [ 0.043612,  0.092281],\n",
       "       [ 0.00617 ,  0.084892],\n",
       "       [-0.255444,  0.012578],\n",
       "       [ 0.006674,  0.076908],\n",
       "       [-0.006565,  0.074145],\n",
       "       [ 0.119162,  0.13176 ],\n",
       "       [ 0.117021,  0.179402],\n",
       "       [ 0.09793 ,  0.131091],\n",
       "       [ 0.003891,  0.194896],\n",
       "       [ 0.011911,  0.097131],\n",
       "       [-0.030539,  0.140557],\n",
       "       [ 0.049783,  0.09916 ],\n",
       "       [ 0.101194,  0.131407],\n",
       "       [-0.006143,  0.06743 ],\n",
       "       [-0.270374,  0.055718],\n",
       "       [ 0.009326,  0.097118],\n",
       "       [ 0.073192,  0.225021],\n",
       "       [ 0.107662,  0.131918],\n",
       "       [ 0.130203,  0.15672 ],\n",
       "       [ 0.080227,  0.130962],\n",
       "       [ 0.010567,  0.097171],\n",
       "       [ 0.127686,  0.162702],\n",
       "       [ 0.07957 ,  0.227552],\n",
       "       [ 0.086025,  0.130157],\n",
       "       [-0.007139,  0.068221],\n",
       "       [ 0.0288  ,  0.087851],\n",
       "       [-0.002087,  0.071761],\n",
       "       [ 0.00759 ,  0.084174],\n",
       "       [-0.238603,  0.10527 ],\n",
       "       [ 0.049569,  0.097878],\n",
       "       [-0.209094,  0.110532],\n",
       "       [ 0.032926,  0.088341],\n",
       "       [ 0.050269,  0.12915 ],\n",
       "       [ 0.047731,  0.094959],\n",
       "       [-0.003057,  0.189568],\n",
       "       [ 0.027928,  0.202654],\n",
       "       [-0.00661 ,  0.065593],\n",
       "       [ 0.052877,  0.132311],\n",
       "       [-0.148687,  0.119531],\n",
       "       [ 0.009298,  0.081094],\n",
       "       [-0.022163,  0.156591],\n",
       "       [-0.020899,  0.159711],\n",
       "       [ 0.051031,  0.125318],\n",
       "       [ 0.005455,  0.08838 ],\n",
       "       [ 0.081389,  0.227151],\n",
       "       [ 0.118531,  0.176018],\n",
       "       [ 0.00682 ,  0.095837],\n",
       "       [ 0.050511,  0.105317],\n",
       "       [ 0.030815,  0.087973],\n",
       "       [ 0.128704,  0.132483],\n",
       "       [ 0.006797,  0.084437],\n",
       "       [ 0.049358,  0.097025],\n",
       "       [ 0.10794 ,  0.209654],\n",
       "       [ 0.005407,  0.087342],\n",
       "       [ 0.008393,  0.08394 ],\n",
       "       [ 0.015214,  0.200817],\n",
       "       [-0.010053,  0.181738],\n",
       "       [ 0.071637,  0.134163],\n",
       "       [-0.054151,  0.131799],\n",
       "       [-0.270157,  0.065618],\n",
       "       [ 0.017814,  0.094851],\n",
       "       [-0.040203,  0.135845],\n",
       "       [ 0.025212,  0.088557],\n",
       "       [ 0.005745,  0.085558],\n",
       "       [ 0.051154,  0.123438],\n",
       "       [ 0.051218,  0.121271],\n",
       "       [ 0.091617,  0.130487],\n",
       "       [-0.044385,  0.134564],\n",
       "       [ 0.037298,  0.089621],\n",
       "       [ 0.098316,  0.220079],\n",
       "       [-0.009318,  0.069243],\n",
       "       [ 0.112493,  0.194886],\n",
       "       [-0.006162,  0.065109],\n",
       "       [-0.029138,  0.143001],\n",
       "       [ 0.044624,  0.202822],\n",
       "       [ 0.020799,  0.092322],\n",
       "       [ 0.076646,  0.227485],\n",
       "       [ 0.050927,  0.110583],\n",
       "       [ 0.009329,  0.198301],\n",
       "       [ 0.106032,  0.212773],\n",
       "       [ 0.11347 ,  0.190903],\n",
       "       [-0.222235,  0.108687],\n",
       "       [-0.251546,  0.09758 ],\n",
       "       [ 0.031243,  0.202566],\n",
       "       [ 0.050422,  0.131056],\n",
       "       [ 0.132066,  0.147392],\n",
       "       [ 0.050735,  0.107879],\n",
       "       [-0.261561,  0.031298],\n",
       "       [ 0.001406,  0.193124],\n",
       "       [ 0.123705,  0.130931],\n",
       "       [-0.17952 ,  0.114535],\n",
       "       [ 0.054693,  0.132897],\n",
       "       [-0.009495,  0.069766],\n",
       "       [ 0.091916,  0.223218]])"
      ]
     },
     "execution_count": 259,
     "metadata": {},
     "output_type": "execute_result"
    }
   ],
   "source": [
    "dataset[0]"
   ]
  },
  {
   "cell_type": "code",
   "execution_count": 221,
   "metadata": {
    "scrolled": true
   },
   "outputs": [
    {
     "data": {
      "text/plain": [
       "(800, 100, 2)"
      ]
     },
     "execution_count": 221,
     "metadata": {},
     "output_type": "execute_result"
    }
   ],
   "source": [
    "dataset.shape"
   ]
  },
  {
   "cell_type": "code",
   "execution_count": 238,
   "metadata": {},
   "outputs": [],
   "source": [
    "temp = pd.DataFrame(arr)\n",
    "\n",
    "for j in range(800):\n",
    "    temps = (pd.DataFrame(dataset[j]))\n",
    "    temp = temp.append(temps)\n",
    "\n",
    "\n",
    "temp.to_csv('C:/Users/hml76/OneDrive/바탕 화면/Capacitive_sensor_research/실험데이터/비둘기/test.csv',header=False,index=False)"
   ]
  },
  {
   "cell_type": "code",
   "execution_count": 162,
   "metadata": {},
   "outputs": [
    {
     "data": {
      "text/html": [
       "<div>\n",
       "<style scoped>\n",
       "    .dataframe tbody tr th:only-of-type {\n",
       "        vertical-align: middle;\n",
       "    }\n",
       "\n",
       "    .dataframe tbody tr th {\n",
       "        vertical-align: top;\n",
       "    }\n",
       "\n",
       "    .dataframe thead th {\n",
       "        text-align: right;\n",
       "    }\n",
       "</style>\n",
       "<table border=\"1\" class=\"dataframe\">\n",
       "  <thead>\n",
       "    <tr style=\"text-align: right;\">\n",
       "      <th></th>\n",
       "      <th>0</th>\n",
       "      <th>1</th>\n",
       "    </tr>\n",
       "  </thead>\n",
       "  <tbody>\n",
       "    <tr>\n",
       "      <th>0</th>\n",
       "      <td>1.000000</td>\n",
       "      <td>2.000000</td>\n",
       "    </tr>\n",
       "    <tr>\n",
       "      <th>0</th>\n",
       "      <td>-0.006162</td>\n",
       "      <td>0.065109</td>\n",
       "    </tr>\n",
       "    <tr>\n",
       "      <th>1</th>\n",
       "      <td>-0.006465</td>\n",
       "      <td>0.065312</td>\n",
       "    </tr>\n",
       "    <tr>\n",
       "      <th>2</th>\n",
       "      <td>-0.006610</td>\n",
       "      <td>0.065593</td>\n",
       "    </tr>\n",
       "    <tr>\n",
       "      <th>3</th>\n",
       "      <td>-0.006286</td>\n",
       "      <td>0.066686</td>\n",
       "    </tr>\n",
       "    <tr>\n",
       "      <th>...</th>\n",
       "      <td>...</td>\n",
       "      <td>...</td>\n",
       "    </tr>\n",
       "    <tr>\n",
       "      <th>95</th>\n",
       "      <td>-0.125733</td>\n",
       "      <td>0.277504</td>\n",
       "    </tr>\n",
       "    <tr>\n",
       "      <th>96</th>\n",
       "      <td>-0.126742</td>\n",
       "      <td>0.269622</td>\n",
       "    </tr>\n",
       "    <tr>\n",
       "      <th>97</th>\n",
       "      <td>-0.127940</td>\n",
       "      <td>0.259373</td>\n",
       "    </tr>\n",
       "    <tr>\n",
       "      <th>98</th>\n",
       "      <td>-0.121031</td>\n",
       "      <td>0.229202</td>\n",
       "    </tr>\n",
       "    <tr>\n",
       "      <th>99</th>\n",
       "      <td>-0.120291</td>\n",
       "      <td>0.229210</td>\n",
       "    </tr>\n",
       "  </tbody>\n",
       "</table>\n",
       "<p>80001 rows × 2 columns</p>\n",
       "</div>"
      ],
      "text/plain": [
       "           0         1\n",
       "0   1.000000  2.000000\n",
       "0  -0.006162  0.065109\n",
       "1  -0.006465  0.065312\n",
       "2  -0.006610  0.065593\n",
       "3  -0.006286  0.066686\n",
       "..       ...       ...\n",
       "95 -0.125733  0.277504\n",
       "96 -0.126742  0.269622\n",
       "97 -0.127940  0.259373\n",
       "98 -0.121031  0.229202\n",
       "99 -0.120291  0.229210\n",
       "\n",
       "[80001 rows x 2 columns]"
      ]
     },
     "execution_count": 162,
     "metadata": {},
     "output_type": "execute_result"
    }
   ],
   "source": [
    "temp"
   ]
  },
  {
   "cell_type": "code",
   "execution_count": 163,
   "metadata": {},
   "outputs": [
    {
     "data": {
      "text/html": [
       "<div>\n",
       "<style scoped>\n",
       "    .dataframe tbody tr th:only-of-type {\n",
       "        vertical-align: middle;\n",
       "    }\n",
       "\n",
       "    .dataframe tbody tr th {\n",
       "        vertical-align: top;\n",
       "    }\n",
       "\n",
       "    .dataframe thead th {\n",
       "        text-align: right;\n",
       "    }\n",
       "</style>\n",
       "<table border=\"1\" class=\"dataframe\">\n",
       "  <thead>\n",
       "    <tr style=\"text-align: right;\">\n",
       "      <th></th>\n",
       "      <th>0</th>\n",
       "      <th>1</th>\n",
       "    </tr>\n",
       "  </thead>\n",
       "  <tbody>\n",
       "    <tr>\n",
       "      <th>0</th>\n",
       "      <td>-0.006162</td>\n",
       "      <td>0.065109</td>\n",
       "    </tr>\n",
       "    <tr>\n",
       "      <th>1</th>\n",
       "      <td>-0.006465</td>\n",
       "      <td>0.065312</td>\n",
       "    </tr>\n",
       "    <tr>\n",
       "      <th>2</th>\n",
       "      <td>-0.006610</td>\n",
       "      <td>0.065593</td>\n",
       "    </tr>\n",
       "    <tr>\n",
       "      <th>3</th>\n",
       "      <td>-0.006286</td>\n",
       "      <td>0.066686</td>\n",
       "    </tr>\n",
       "    <tr>\n",
       "      <th>4</th>\n",
       "      <td>-0.006136</td>\n",
       "      <td>0.067069</td>\n",
       "    </tr>\n",
       "    <tr>\n",
       "      <th>...</th>\n",
       "      <td>...</td>\n",
       "      <td>...</td>\n",
       "    </tr>\n",
       "    <tr>\n",
       "      <th>95</th>\n",
       "      <td>-0.003693</td>\n",
       "      <td>0.155713</td>\n",
       "    </tr>\n",
       "    <tr>\n",
       "      <th>96</th>\n",
       "      <td>-0.010539</td>\n",
       "      <td>0.155833</td>\n",
       "    </tr>\n",
       "    <tr>\n",
       "      <th>97</th>\n",
       "      <td>-0.013764</td>\n",
       "      <td>0.155432</td>\n",
       "    </tr>\n",
       "    <tr>\n",
       "      <th>98</th>\n",
       "      <td>-0.022855</td>\n",
       "      <td>0.152453</td>\n",
       "    </tr>\n",
       "    <tr>\n",
       "      <th>99</th>\n",
       "      <td>-0.028320</td>\n",
       "      <td>0.149088</td>\n",
       "    </tr>\n",
       "  </tbody>\n",
       "</table>\n",
       "<p>200 rows × 2 columns</p>\n",
       "</div>"
      ],
      "text/plain": [
       "           0         1\n",
       "0  -0.006162  0.065109\n",
       "1  -0.006465  0.065312\n",
       "2  -0.006610  0.065593\n",
       "3  -0.006286  0.066686\n",
       "4  -0.006136  0.067069\n",
       "..       ...       ...\n",
       "95 -0.003693  0.155713\n",
       "96 -0.010539  0.155833\n",
       "97 -0.013764  0.155432\n",
       "98 -0.022855  0.152453\n",
       "99 -0.028320  0.149088\n",
       "\n",
       "[200 rows x 2 columns]"
      ]
     },
     "execution_count": 163,
     "metadata": {},
     "output_type": "execute_result"
    }
   ],
   "source": [
    "temps=pd.DataFrame(dataset[0])\n",
    "sl = pd.DataFrame(dataset[1])\n",
    "temps = temps.append(sl)\n",
    "temps"
   ]
  },
  {
   "cell_type": "code",
   "execution_count": null,
   "metadata": {},
   "outputs": [],
   "source": []
  },
  {
   "cell_type": "code",
   "execution_count": 244,
   "metadata": {
    "scrolled": true
   },
   "outputs": [
    {
     "data": {
      "text/plain": [
       "array([[[-0.006162,  0.065109],\n",
       "        [-0.006465,  0.065312],\n",
       "        [-0.006487,  0.0663  ],\n",
       "        ...,\n",
       "        [-0.264189,  0.039668],\n",
       "        [-0.262898,  0.035608],\n",
       "        [-0.252177,  0.002974]],\n",
       "\n",
       "       [[ 0.012494,  0.039225],\n",
       "        [ 0.01235 ,  0.039841],\n",
       "        [ 0.009056,  0.040115],\n",
       "        ...,\n",
       "        [-0.02832 ,  0.149088],\n",
       "        [-0.03084 ,  0.147028],\n",
       "        [-0.033206,  0.144732]],\n",
       "\n",
       "       [[ 0.005952,  0.081642],\n",
       "        [ 0.006021,  0.081457],\n",
       "        [ 0.005825,  0.080838],\n",
       "        ...,\n",
       "        [-0.187543,  0.004773],\n",
       "        [-0.187265, -0.000655],\n",
       "        [-0.195653, -0.020797]],\n",
       "\n",
       "       ...,\n",
       "\n",
       "       [[-0.049304,  0.069058],\n",
       "        [-0.050172,  0.068515],\n",
       "        [-0.058627,  0.059109],\n",
       "        ...,\n",
       "        [-0.086207,  0.212734],\n",
       "        [-0.085311,  0.210558],\n",
       "        [-0.084997,  0.20863 ]],\n",
       "\n",
       "       [[-0.043847,  0.011122],\n",
       "        [-0.044828,  0.010512],\n",
       "        [-0.046021,  0.009712],\n",
       "        ...,\n",
       "        [ 0.10093 ,  0.086876],\n",
       "        [ 0.092992,  0.099582],\n",
       "        [ 0.094705,  0.106454]],\n",
       "\n",
       "       [[-0.048491,  0.081403],\n",
       "        [-0.048538,  0.080552],\n",
       "        [-0.047651,  0.078671],\n",
       "        ...,\n",
       "        [-0.121288,  0.232384],\n",
       "        [-0.120724,  0.22914 ],\n",
       "        [-0.117492,  0.229696]]])"
      ]
     },
     "execution_count": 244,
     "metadata": {},
     "output_type": "execute_result"
    }
   ],
   "source": [
    "dataset"
   ]
  },
  {
   "cell_type": "code",
   "execution_count": null,
   "metadata": {},
   "outputs": [],
   "source": []
  },
  {
   "cell_type": "code",
   "execution_count": null,
   "metadata": {},
   "outputs": [],
   "source": []
  },
  {
   "cell_type": "code",
   "execution_count": null,
   "metadata": {},
   "outputs": [],
   "source": []
  },
  {
   "cell_type": "code",
   "execution_count": null,
   "metadata": {},
   "outputs": [],
   "source": []
  },
  {
   "cell_type": "code",
   "execution_count": null,
   "metadata": {},
   "outputs": [],
   "source": []
  },
  {
   "cell_type": "code",
   "execution_count": 222,
   "metadata": {},
   "outputs": [],
   "source": [
    "label = np.array([[1, 0, 0 ,0 ]] * len(data_1) + [[0, 1, 0, 0]] * len(data_2) + [[0, 0, 1, 0]] * len(data_3) + [[0, 0, 0, 1]] * len(data_4))\n",
    "#label.conca"
   ]
  },
  {
   "cell_type": "code",
   "execution_count": 223,
   "metadata": {},
   "outputs": [
    {
     "data": {
      "text/plain": [
       "array([[1, 0, 0, 0],\n",
       "       [1, 0, 0, 0],\n",
       "       [1, 0, 0, 0],\n",
       "       ...,\n",
       "       [0, 0, 0, 1],\n",
       "       [0, 0, 0, 1],\n",
       "       [0, 0, 0, 1]])"
      ]
     },
     "execution_count": 223,
     "metadata": {},
     "output_type": "execute_result"
    }
   ],
   "source": [
    "label"
   ]
  },
  {
   "cell_type": "code",
   "execution_count": 224,
   "metadata": {
    "scrolled": true
   },
   "outputs": [
    {
     "data": {
      "text/plain": [
       "((800, 100, 2), (800, 4))"
      ]
     },
     "execution_count": 224,
     "metadata": {},
     "output_type": "execute_result"
    }
   ],
   "source": [
    "dataset.shape, label.shape"
   ]
  },
  {
   "cell_type": "code",
   "execution_count": 225,
   "metadata": {},
   "outputs": [],
   "source": [
    "from sklearn.preprocessing import MinMaxScaler, StandardScaler, RobustScaler"
   ]
  },
  {
   "cell_type": "code",
   "execution_count": 189,
   "metadata": {},
   "outputs": [],
   "source": [
    "sc = MinMaxScaler()"
   ]
  },
  {
   "cell_type": "code",
   "execution_count": null,
   "metadata": {
    "scrolled": false
   },
   "outputs": [],
   "source": []
  },
  {
   "cell_type": "code",
   "execution_count": 21,
   "metadata": {
    "scrolled": true
   },
   "outputs": [],
   "source": [
    "#sc_dataset"
   ]
  },
  {
   "cell_type": "code",
   "execution_count": 22,
   "metadata": {
    "scrolled": true
   },
   "outputs": [],
   "source": [
    "# sc_dataset = dataset[:]\n",
    "# sc_dataset"
   ]
  },
  {
   "cell_type": "code",
   "execution_count": 23,
   "metadata": {},
   "outputs": [],
   "source": [
    "# for num, i in enumerate(dataset):\n",
    "#     sc_dataset[num] = sc.fit_transform(i)"
   ]
  },
  {
   "cell_type": "code",
   "execution_count": 168,
   "metadata": {},
   "outputs": [],
   "source": [
    "from sklearn.model_selection import train_test_split"
   ]
  },
  {
   "cell_type": "code",
   "execution_count": 226,
   "metadata": {},
   "outputs": [],
   "source": [
    "X_train, X_test, y_train, y_test = train_test_split(dataset, label, random_state=0, test_size=0.2)"
   ]
  },
  {
   "cell_type": "code",
   "execution_count": 227,
   "metadata": {},
   "outputs": [
    {
     "data": {
      "text/plain": [
       "(640, 100, 2)"
      ]
     },
     "execution_count": 227,
     "metadata": {},
     "output_type": "execute_result"
    }
   ],
   "source": [
    "X_train.shape"
   ]
  },
  {
   "cell_type": "code",
   "execution_count": 228,
   "metadata": {
    "scrolled": true
   },
   "outputs": [
    {
     "data": {
      "text/plain": [
       "array([[[ 0.010173,  0.0975  ],\n",
       "        [ 0.013831,  0.096646],\n",
       "        [ 0.015039,  0.096092],\n",
       "        ...,\n",
       "        [-0.216606,  0.128537],\n",
       "        [-0.223278,  0.126722],\n",
       "        [-0.229591,  0.124963]],\n",
       "\n",
       "       [[-0.003514,  0.107754],\n",
       "        [-0.002747,  0.106619],\n",
       "        [-0.001254,  0.103743],\n",
       "        ...,\n",
       "        [-0.2294  , -0.009361],\n",
       "        [-0.233732, -0.010856],\n",
       "        [-0.242426, -0.01251 ]],\n",
       "\n",
       "       [[-0.005391,  0.063452],\n",
       "        [-0.00396 ,  0.06502 ],\n",
       "        [-0.001733,  0.064026],\n",
       "        ...,\n",
       "        [-0.133231,  0.084352],\n",
       "        [-0.134994,  0.064801],\n",
       "        [-0.132776,  0.058978]],\n",
       "\n",
       "       ...,\n",
       "\n",
       "       [[-0.0326  ,  0.010794],\n",
       "        [-0.029726,  0.012288],\n",
       "        [-0.029944,  0.015644],\n",
       "        ...,\n",
       "        [-0.033881,  0.165796],\n",
       "        [-0.03975 ,  0.165454],\n",
       "        [-0.045287,  0.164044]],\n",
       "\n",
       "       [[ 0.011841,  0.10038 ],\n",
       "        [ 0.00897 ,  0.100535],\n",
       "        [ 0.008539,  0.1012  ],\n",
       "        ...,\n",
       "        [-0.174446, -0.016993],\n",
       "        [-0.177291, -0.009004],\n",
       "        [-0.17647 , -0.002789]],\n",
       "\n",
       "       [[-0.022653,  0.106862],\n",
       "        [-0.022864,  0.10803 ],\n",
       "        [-0.016016,  0.104416],\n",
       "        ...,\n",
       "        [ 0.047302,  0.185531],\n",
       "        [ 0.047009,  0.181358],\n",
       "        [ 0.045354,  0.173659]]])"
      ]
     },
     "execution_count": 228,
     "metadata": {},
     "output_type": "execute_result"
    }
   ],
   "source": [
    "X_train"
   ]
  },
  {
   "cell_type": "code",
   "execution_count": 229,
   "metadata": {},
   "outputs": [
    {
     "name": "stdout",
     "output_type": "stream",
     "text": [
      "[0 0 0 3 0 1 2 2 2 1 0 1 1 3 0 0 0 2 1 1 1 0 1 0 3 2 2 3 3 2 1 1 2 1 3 3 2\n",
      " 1 0 1 2 1 2 1 2 3 3 1 3 0 0 3 2 0 2 2 0 0 1 2 1 0 0 1 2 0 3 3 2 0 1 1 1 0\n",
      " 3 3 0 0 0 2 0 2 2 2 0 3 2 0 1 3 0 1 1 2 3 1 2 3 1 2 0 1 0 1 2 3 3 0 1 1 3\n",
      " 1 0 1 1 1 0 3 3 2 1 2 3 1 2 1 2 2 1 3 3 3 0 1 1 0 1 1 0 2 3 2 0 2 3 2 1 3\n",
      " 3 1 3 0 3 3 0 2 0 1 0 0 1 1 3 3 1 3 0 3 1 2 0 3 0 0 0 0 3 2 0 0 2 1 2 1 1\n",
      " 0 3 0 1 2 1 3 1 3 3 0 2 2 2 3 1 0 3 2 2 1 0 0 1 1 1 0 3 1 3 1 2 3 3 1 3 1\n",
      " 1 2 1 2 3 2 3 0 3 2 1 2 3 0 3 3 0 0 1 0 1 2 2 2 3 1 1 3 0 0 0 1 3 1 3 2 2\n",
      " 3 2 0 2 1 3 0 0 0 3 3 0 2 3 3 1 3 0 2 0 2 1 2 1 3 3 1 1 2 2 0 0 2 3 3 1 2\n",
      " 2 2 3 0 0 0 1 0 3 1 3 3 2 1 2 2 1 2 2 2 0 0 2 3 2 1 2 3 1 2 1 0 1 2 1 3 0\n",
      " 3 2 2 3 2 3 0 0 2 2 0 2 1 3 0 3 2 1 1 2 2 1 0 3 0 2 2 3 0 3 2 2 3 0 0 0 0\n",
      " 0 2 1 2 2 3 2 2 0 2 0 3 3 2 2 2 3 1 1 0 2 2 1 1 3 0 1 0 0 2 3 3 0 0 1 1 3\n",
      " 3 3 3 0 0 2 3 1 3 1 3 3 1 0 0 0 1 0 3 0 2 3 1 1 0 1 2 2 2 3 3 3 1 2 3 2 0\n",
      " 1 3 3 3 3 1 0 0 1 1 0 1 0 0 1 2 2 1 3 2 3 2 1 2 1 0 2 1 2 2 0 2 0 0 0 0 2\n",
      " 3 2 2 0 1 1 3 1 2 2 3 0 1 1 1 1 0 2 3 1 1 2 3 2 0 1 3 3 1 3 0 0 0 1 0 0 0\n",
      " 0 0 0 2 2 1 0 2 0 2 0 1 0 0 3 2 1 2 1 1 1 2 3 1 1 3 1 3 0 0 3 3 0 2 1 2 1\n",
      " 1 3 0 0 0 3 0 1 1 0 3 2 3 1 0 0 2 0 1 0 1 1 3 2 0 3 1 1 1 2 2 0 3 0 0 0 2\n",
      " 2 3 0 1 3 2 2 3 3 1 1 2 0 3 3 0 0 2 2 3 3 0 0 2 3 3 0 0 2 2 3 1 1 3 2 0 2\n",
      " 3 1 3 0 1 3 3 0 3 2 3]\n",
      "(array([0, 1, 2, 3], dtype=int64), array([168, 160, 157, 155], dtype=int64))\n"
     ]
    }
   ],
   "source": [
    "y_tr_ = np.argmax(y_train, axis=-1)\n",
    "print(y_tr_)\n",
    "print(np.unique(y_tr_, return_counts=True))"
   ]
  },
  {
   "cell_type": "code",
   "execution_count": 28,
   "metadata": {},
   "outputs": [],
   "source": [
    "import matplotlib.pyplot as plt"
   ]
  },
  {
   "cell_type": "code",
   "execution_count": 29,
   "metadata": {},
   "outputs": [
    {
     "data": {
      "text/plain": [
       "[<matplotlib.lines.Line2D at 0x14a0c32cb00>]"
      ]
     },
     "execution_count": 29,
     "metadata": {},
     "output_type": "execute_result"
    },
    {
     "data": {
      "image/png": "[encoded data removed]",
      "text/plain": [
       "<Figure size 432x288 with 1 Axes>"
      ]
     },
     "metadata": {
      "needs_background": "light"
     },
     "output_type": "display_data"
    }
   ],
   "source": [
    "plt.plot(dataset[120,:,0])"
   ]
  },
  {
   "cell_type": "code",
   "execution_count": 230,
   "metadata": {
    "scrolled": true
   },
   "outputs": [],
   "source": [
    "from keras.layers import LSTM, Dense\n",
    "from keras.models import Sequential\n",
    "import keras.backend as K\n",
    "from keras.callbacks import ReduceLROnPlateau, ModelCheckpoint, EarlyStopping\n",
    "from keras.optimizers import Adam\n",
    "from keras.wrappers.scikit_learn import KerasClassifier\n",
    "from sklearn.model_selection import KFold, cross_val_score"
   ]
  },
  {
   "cell_type": "code",
   "execution_count": 231,
   "metadata": {},
   "outputs": [],
   "source": [
    "callback = [\n",
    "    ReduceLROnPlateau(monitor='val_loss', factor=0.1, patience=3, min_lr=0.000001), \n",
    "    #ModelCheckpoint(filepath='./weights.h5', save_best_only=True),\n",
    "    EarlyStopping(monitor='val_acc', restore_best_weights=True, patience=5)\n",
    "]"
   ]
  },
  {
   "cell_type": "code",
   "execution_count": 232,
   "metadata": {},
   "outputs": [],
   "source": [
    "K.clear_session()"
   ]
  },
  {
   "cell_type": "code",
   "execution_count": 233,
   "metadata": {},
   "outputs": [],
   "source": [
    "model_once = Sequential()"
   ]
  },
  {
   "cell_type": "code",
   "execution_count": 234,
   "metadata": {
    "scrolled": true
   },
   "outputs": [],
   "source": [
    "model_once.add(LSTM(20, input_shape=(100,2)))\n",
    "model_once.add(Dense(4, activation='softmax'))\n",
    "model_once.compile(loss='categorical_crossentropy', optimizer=Adam(lr=0.005), metrics=['acc'])"
   ]
  },
  {
   "cell_type": "code",
   "execution_count": 235,
   "metadata": {},
   "outputs": [
    {
     "name": "stdout",
     "output_type": "stream",
     "text": [
      "_________________________________________________________________\n",
      "Layer (type)                 Output Shape              Param #   \n",
      "=================================================================\n",
      "lstm_1 (LSTM)                (None, 20)                1840      \n",
      "_________________________________________________________________\n",
      "dense_1 (Dense)              (None, 4)                 84        \n",
      "=================================================================\n",
      "Total params: 1,924\n",
      "Trainable params: 1,924\n",
      "Non-trainable params: 0\n",
      "_________________________________________________________________\n"
     ]
    }
   ],
   "source": [
    "model_once.summary()"
   ]
  },
  {
   "cell_type": "code",
   "execution_count": 236,
   "metadata": {
    "scrolled": true
   },
   "outputs": [
    {
     "name": "stdout",
     "output_type": "stream",
     "text": [
      "Epoch 1/40\n",
      "640/640 [==============================] - 3s 5ms/step - loss: 1.2730 - acc: 0.4641\n",
      "Epoch 2/40\n",
      "640/640 [==============================] - 2s 2ms/step - loss: 0.8961 - acc: 0.6297\n",
      "Epoch 3/40\n",
      "640/640 [==============================] - 2s 3ms/step - loss: 0.6971 - acc: 0.7203\n",
      "Epoch 4/40\n",
      "640/640 [==============================] - 2s 3ms/step - loss: 0.6070 - acc: 0.7266\n",
      "Epoch 5/40\n",
      "640/640 [==============================] - 2s 3ms/step - loss: 0.8023 - acc: 0.6891\n",
      "Epoch 6/40\n",
      "640/640 [==============================] - 2s 3ms/step - loss: 1.3634 - acc: 0.4094\n",
      "Epoch 7/40\n",
      "640/640 [==============================] - 2s 3ms/step - loss: 0.9886 - acc: 0.5531\n",
      "Epoch 8/40\n",
      "640/640 [==============================] - 2s 3ms/step - loss: 0.8532 - acc: 0.6578\n",
      "Epoch 9/40\n",
      "640/640 [==============================] - 2s 4ms/step - loss: 0.7369 - acc: 0.6656\n",
      "Epoch 10/40\n",
      "640/640 [==============================] - 2s 3ms/step - loss: 0.6346 - acc: 0.7531\n",
      "Epoch 11/40\n",
      "640/640 [==============================] - 2s 3ms/step - loss: 0.5532 - acc: 0.8234\n",
      "Epoch 12/40\n",
      "640/640 [==============================] - 2s 3ms/step - loss: 0.4740 - acc: 0.8469\n",
      "Epoch 13/40\n",
      "640/640 [==============================] - 2s 3ms/step - loss: 0.3741 - acc: 0.9078\n",
      "Epoch 14/40\n",
      "640/640 [==============================] - 2s 4ms/step - loss: 0.2874 - acc: 0.9234\n",
      "Epoch 15/40\n",
      "640/640 [==============================] - 2s 3ms/step - loss: 0.2703 - acc: 0.9250\n",
      "Epoch 16/40\n",
      "640/640 [==============================] - 2s 3ms/step - loss: 0.3457 - acc: 0.8828\n",
      "Epoch 17/40\n",
      "640/640 [==============================] - 2s 3ms/step - loss: 0.3606 - acc: 0.8922\n",
      "Epoch 18/40\n",
      "640/640 [==============================] - 2s 3ms/step - loss: 0.2213 - acc: 0.9281\n",
      "Epoch 19/40\n",
      "640/640 [==============================] - 2s 3ms/step - loss: 0.5691 - acc: 0.8266\n",
      "Epoch 20/40\n",
      "640/640 [==============================] - 2s 3ms/step - loss: 0.5462 - acc: 0.8750\n",
      "Epoch 21/40\n",
      "640/640 [==============================] - 2s 4ms/step - loss: 0.3927 - acc: 0.9062\n",
      "Epoch 22/40\n",
      "640/640 [==============================] - 2s 3ms/step - loss: 0.3083 - acc: 0.9156\n",
      "Epoch 23/40\n",
      "640/640 [==============================] - 2s 4ms/step - loss: 0.2312 - acc: 0.9391\n",
      "Epoch 24/40\n",
      "640/640 [==============================] - 2s 4ms/step - loss: 0.2441 - acc: 0.9156\n",
      "Epoch 25/40\n",
      "640/640 [==============================] - 2s 3ms/step - loss: 0.1792 - acc: 0.9375\n",
      "Epoch 26/40\n",
      "640/640 [==============================] - 2s 4ms/step - loss: 0.1800 - acc: 0.9375A: 1s - loss: 0.1637\n",
      "Epoch 27/40\n",
      "640/640 [==============================] - 2s 3ms/step - loss: 0.1674 - acc: 0.9375\n",
      "Epoch 28/40\n",
      "640/640 [==============================] - 2s 3ms/step - loss: 0.5021 - acc: 0.8094\n",
      "Epoch 29/40\n",
      "640/640 [==============================] - 2s 3ms/step - loss: 0.2662 - acc: 0.9203\n",
      "Epoch 30/40\n",
      "640/640 [==============================] - 2s 3ms/step - loss: 0.1818 - acc: 0.9438\n",
      "Epoch 31/40\n",
      "640/640 [==============================] - 2s 4ms/step - loss: 0.1475 - acc: 0.9391\n",
      "Epoch 32/40\n",
      "640/640 [==============================] - 2s 3ms/step - loss: 0.1577 - acc: 0.9531\n",
      "Epoch 33/40\n",
      "640/640 [==============================] - 3s 4ms/step - loss: 0.1658 - acc: 0.9438\n",
      "Epoch 34/40\n",
      "640/640 [==============================] - 3s 4ms/step - loss: 0.1132 - acc: 0.9703\n",
      "Epoch 35/40\n",
      "640/640 [==============================] - 2s 3ms/step - loss: 0.1294 - acc: 0.9531\n",
      "Epoch 36/40\n",
      "640/640 [==============================] - 3s 4ms/step - loss: 0.4444 - acc: 0.8578\n",
      "Epoch 37/40\n",
      "640/640 [==============================] - 2s 3ms/step - loss: 0.3852 - acc: 0.8703\n",
      "Epoch 38/40\n",
      "640/640 [==============================] - 2s 4ms/step - loss: 0.3765 - acc: 0.8578\n",
      "Epoch 39/40\n",
      "640/640 [==============================] - 3s 4ms/step - loss: 0.3565 - acc: 0.8734\n",
      "Epoch 40/40\n",
      "640/640 [==============================] - 3s 5ms/step - loss: 0.1707 - acc: 0.9438\n"
     ]
    },
    {
     "data": {
      "text/plain": [
       "<keras.callbacks.History at 0x2c4532b3f60>"
      ]
     },
     "execution_count": 236,
     "metadata": {},
     "output_type": "execute_result"
    }
   ],
   "source": [
    "model_once.fit(X_train, y_train, epochs=40)"
   ]
  },
  {
   "cell_type": "code",
   "execution_count": 237,
   "metadata": {},
   "outputs": [
    {
     "name": "stdout",
     "output_type": "stream",
     "text": [
      "160/160 [==============================] - 1s 4ms/step\n"
     ]
    },
    {
     "data": {
      "text/plain": [
       "[0.15252882987260818, 0.95625]"
      ]
     },
     "execution_count": 237,
     "metadata": {},
     "output_type": "execute_result"
    }
   ],
   "source": [
    "model_once.evaluate(X_test, y_test)"
   ]
  },
  {
   "cell_type": "code",
   "execution_count": 207,
   "metadata": {},
   "outputs": [
    {
     "data": {
      "text/plain": [
       "(160, 4)"
      ]
     },
     "execution_count": 207,
     "metadata": {},
     "output_type": "execute_result"
    }
   ],
   "source": [
    "tmp = model_once.predict(X_test)\n",
    "tmp.shape"
   ]
  },
  {
   "cell_type": "code",
   "execution_count": 239,
   "metadata": {
    "scrolled": true
   },
   "outputs": [
    {
     "name": "stdout",
     "output_type": "stream",
     "text": [
      "[1 2 1 0 2 2 1 3 1 1 0 1 3 3 0 0 1 1 0 2 3 0 3 2 3 2 0 1 2 3 2 2 0 2 1 0 1\n",
      " 3 3 3 2 3 3 3 2 2 2 2 0 3 3 2 1 0 3 2 1 1 3 3 3 0 2 3 0 1 1 0 1 1 2 3 0 1\n",
      " 2 0 3 3 2 3 1 1 1 3 1 2 3 3 1 2 3 0 1 2 2 2 2 3 3 1 2 2 1 3 0 1 3 2 2 1 3\n",
      " 0 3 3 3 2 2 0 1 1 2 0 0 2 0 2 1 3 2 2 2 2 0 3 3 0 0 3 3 3 2 1 3 1 1 2 1 0\n",
      " 0 3 3 0 0 2 0 0 1 1 1 1] \n",
      " [1 2 1 0 2 2 1 3 1 1 0 1 3 1 0 0 1 1 0 2 3 0 3 2 3 2 0 1 3 3 2 2 0 2 1 0 1\n",
      " 3 3 3 2 3 3 3 2 2 2 2 0 3 3 2 1 0 3 2 1 1 3 3 3 0 2 3 0 1 1 0 1 1 2 3 3 1\n",
      " 2 0 3 3 2 3 1 1 1 3 1 2 3 3 1 2 0 0 3 2 2 2 2 3 3 1 2 2 1 3 0 1 3 2 2 1 3\n",
      " 0 3 1 3 2 2 0 1 1 2 0 0 2 0 2 1 3 2 2 2 2 0 3 3 0 0 3 3 0 2 1 3 1 1 2 1 0\n",
      " 0 3 3 0 0 2 0 0 1 1 1 1]\n"
     ]
    }
   ],
   "source": [
    "test_pred = model_once.predict_classes(X_test)\n",
    "print(np.argmax(y_test, axis=-1), \"\\n\", test_pred)"
   ]
  },
  {
   "cell_type": "code",
   "execution_count": 240,
   "metadata": {},
   "outputs": [],
   "source": [
    "model_once.save('C:/Users/hml76/EPS_distributing/my_model.h5')   # 모델을 컴퓨터에 저장"
   ]
  },
  {
   "cell_type": "code",
   "execution_count": 241,
   "metadata": {},
   "outputs": [
    {
     "data": {
      "text/plain": [
       "(640, 160, 640, 160)"
      ]
     },
     "execution_count": 241,
     "metadata": {},
     "output_type": "execute_result"
    }
   ],
   "source": [
    "len(X_train),len(X_test),len(y_train),len(y_test)"
   ]
  },
  {
   "cell_type": "code",
   "execution_count": 242,
   "metadata": {
    "scrolled": true
   },
   "outputs": [
    {
     "data": {
      "text/plain": [
       "(array([1, 2, 1, 0, 2, 2, 1, 3, 1, 1, 0, 1, 3, 3, 0, 0, 1, 1, 0, 2]),\n",
       " array([1, 2, 1, 0, 2, 2, 1, 3, 1, 1, 0, 1, 3, 1, 0, 0, 1, 1, 0, 2]))"
      ]
     },
     "execution_count": 242,
     "metadata": {},
     "output_type": "execute_result"
    }
   ],
   "source": [
    "y_test_to_int = np.arange(len(y_test))\n",
    "x_test_to_int = np.arange(len(X_test)) \n",
    "\n",
    "for j in range(len(X_test)):\n",
    "    x_test_to_int[j] = int(model_once.predict_classes(X_test[j:j+1]))\n",
    "    for k in range(4):\n",
    "        if(y_test[j,k] == 1):\n",
    "            y_test_to_int[j] = k \n",
    "\n",
    "y_test_to_int[0:20], x_test_to_int[0:20]           "
   ]
  },
  {
   "cell_type": "code",
   "execution_count": 243,
   "metadata": {},
   "outputs": [
    {
     "name": "stdout",
     "output_type": "stream",
     "text": [
      "Real value : Prediction\n",
      "---------------------------\n",
      "    3 \t   : \t 1\n",
      "    2 \t   : \t 3\n",
      "    0 \t   : \t 3\n",
      "    3 \t   : \t 0\n",
      "    1 \t   : \t 3\n",
      "    3 \t   : \t 1\n",
      "    3 \t   : \t 0\n",
      "\n",
      "\n",
      "Number of miscalculation :  7 / 160 = 0.044\n",
      "\n",
      "Accuracy :  95.63000000000001 %\n"
     ]
    }
   ],
   "source": [
    "count=0\n",
    "print(\"Real value : Prediction\\n---------------------------\")\n",
    "for i in range(len(X_test)):\n",
    "    if(y_test_to_int[i] != x_test_to_int[i]):\n",
    "        print(\"   \",y_test_to_int[i], \"\\t   : \\t\", x_test_to_int[i])\n",
    "        count = count + 1\n",
    "probab = count/len(X_test)\n",
    "print(\"\\n\\nNumber of miscalculation : \",count,\"/\",len(x_test_to_int),\"=\",round(probab,3))\n",
    "print(\"\\nAccuracy : \",((1-round(probab,4))*100),\"%\")"
   ]
  },
  {
   "cell_type": "code",
   "execution_count": null,
   "metadata": {},
   "outputs": [],
   "source": []
  },
  {
   "cell_type": "code",
   "execution_count": 211,
   "metadata": {},
   "outputs": [],
   "source": [
    "K.clear_session()"
   ]
  },
  {
   "cell_type": "code",
   "execution_count": 212,
   "metadata": {},
   "outputs": [],
   "source": [
    "model_once = Sequential()"
   ]
  },
  {
   "cell_type": "code",
   "execution_count": 213,
   "metadata": {},
   "outputs": [],
   "source": [
    "model_once.add(LSTM(20, input_shape=(100,2)))\n",
    "model_once.add(Dense(4))\n",
    "model_once.compile(loss='mse', optimizer=Adam(lr=0.01), metrics=['acc'])"
   ]
  },
  {
   "cell_type": "code",
   "execution_count": 214,
   "metadata": {},
   "outputs": [
    {
     "name": "stdout",
     "output_type": "stream",
     "text": [
      "_________________________________________________________________\n",
      "Layer (type)                 Output Shape              Param #   \n",
      "=================================================================\n",
      "lstm_1 (LSTM)                (None, 20)                1840      \n",
      "_________________________________________________________________\n",
      "dense_1 (Dense)              (None, 4)                 84        \n",
      "=================================================================\n",
      "Total params: 1,924\n",
      "Trainable params: 1,924\n",
      "Non-trainable params: 0\n",
      "_________________________________________________________________\n"
     ]
    }
   ],
   "source": [
    "model_once.summary()"
   ]
  },
  {
   "cell_type": "code",
   "execution_count": 215,
   "metadata": {
    "scrolled": true
   },
   "outputs": [
    {
     "name": "stdout",
     "output_type": "stream",
     "text": [
      "Epoch 1/40\n",
      "640/640 [==============================] - 3s 5ms/step - loss: nan - acc: 0.3156\n",
      "Epoch 2/40\n",
      "640/640 [==============================] - 2s 3ms/step - loss: nan - acc: 0.2625\n",
      "Epoch 3/40\n",
      "640/640 [==============================] - 2s 2ms/step - loss: nan - acc: 0.2625\n",
      "Epoch 4/40\n",
      "640/640 [==============================] - 2s 2ms/step - loss: nan - acc: 0.2625\n",
      "Epoch 5/40\n",
      "640/640 [==============================] - 2s 3ms/step - loss: nan - acc: 0.2625\n",
      "Epoch 6/40\n",
      "640/640 [==============================] - 2s 2ms/step - loss: nan - acc: 0.2625\n",
      "Epoch 7/40\n",
      "640/640 [==============================] - 2s 3ms/step - loss: nan - acc: 0.2625\n",
      "Epoch 8/40\n",
      "640/640 [==============================] - 2s 3ms/step - loss: nan - acc: 0.2625\n",
      "Epoch 9/40\n",
      "640/640 [==============================] - 2s 3ms/step - loss: nan - acc: 0.2625\n",
      "Epoch 10/40\n",
      "640/640 [==============================] - 2s 3ms/step - loss: nan - acc: 0.2625\n",
      "Epoch 11/40\n",
      "640/640 [==============================] - 2s 4ms/step - loss: nan - acc: 0.2625\n",
      "Epoch 12/40\n",
      "640/640 [==============================] - 2s 3ms/step - loss: nan - acc: 0.2625\n",
      "Epoch 13/40\n",
      "640/640 [==============================] - 2s 3ms/step - loss: nan - acc: 0.2625\n",
      "Epoch 14/40\n",
      "640/640 [==============================] - 2s 3ms/step - loss: nan - acc: 0.2625\n",
      "Epoch 15/40\n",
      "640/640 [==============================] - 2s 3ms/step - loss: nan - acc: 0.2625: \n",
      "Epoch 16/40\n",
      "640/640 [==============================] - 2s 4ms/step - loss: nan - acc: 0.2625\n",
      "Epoch 17/40\n",
      "640/640 [==============================] - 3s 4ms/step - loss: nan - acc: 0.2625\n",
      "Epoch 18/40\n",
      "640/640 [==============================] - 3s 4ms/step - loss: nan - acc: 0.2625\n",
      "Epoch 19/40\n",
      "640/640 [==============================] - 2s 3ms/step - loss: nan - acc: 0.2625\n",
      "Epoch 20/40\n",
      "640/640 [==============================] - 2s 3ms/step - loss: nan - acc: 0.2625\n",
      "Epoch 21/40\n",
      "640/640 [==============================] - 2s 3ms/step - loss: nan - acc: 0.2625\n",
      "Epoch 22/40\n",
      "640/640 [==============================] - 2s 3ms/step - loss: nan - acc: 0.2625\n",
      "Epoch 23/40\n",
      "640/640 [==============================] - 2s 4ms/step - loss: nan - acc: 0.2625\n",
      "Epoch 24/40\n",
      "640/640 [==============================] - 2s 4ms/step - loss: nan - acc: 0.2625\n",
      "Epoch 25/40\n",
      "640/640 [==============================] - 2s 3ms/step - loss: nan - acc: 0.2625\n",
      "Epoch 26/40\n",
      "640/640 [==============================] - 2s 4ms/step - loss: nan - acc: 0.2625\n",
      "Epoch 27/40\n",
      "640/640 [==============================] - 2s 3ms/step - loss: nan - acc: 0.2625\n",
      "Epoch 28/40\n",
      "640/640 [==============================] - 2s 4ms/step - loss: nan - acc: 0.2625\n",
      "Epoch 29/40\n",
      "640/640 [==============================] - 2s 4ms/step - loss: nan - acc: 0.2625\n",
      "Epoch 30/40\n",
      "640/640 [==============================] - 2s 3ms/step - loss: nan - acc: 0.2625\n",
      "Epoch 31/40\n",
      "640/640 [==============================] - 2s 4ms/step - loss: nan - acc: 0.2625\n",
      "Epoch 32/40\n",
      "640/640 [==============================] - 3s 4ms/step - loss: nan - acc: 0.2625\n",
      "Epoch 33/40\n",
      "640/640 [==============================] - 3s 4ms/step - loss: nan - acc: 0.2625\n",
      "Epoch 34/40\n",
      "640/640 [==============================] - 3s 4ms/step - loss: nan - acc: 0.2625\n",
      "Epoch 35/40\n",
      "640/640 [==============================] - ETA: 0s - loss: nan - acc: 0.26 - 2s 3ms/step - loss: nan - acc: 0.2625\n",
      "Epoch 36/40\n",
      "640/640 [==============================] - 2s 3ms/step - loss: nan - acc: 0.2625\n",
      "Epoch 37/40\n",
      "640/640 [==============================] - 2s 4ms/step - loss: nan - acc: 0.2625\n",
      "Epoch 38/40\n",
      "640/640 [==============================] - 2s 4ms/step - loss: nan - acc: 0.2625\n",
      "Epoch 39/40\n",
      "640/640 [==============================] - 2s 4ms/step - loss: nan - acc: 0.2625\n",
      "Epoch 40/40\n",
      "640/640 [==============================] - 2s 3ms/step - loss: nan - acc: 0.2625\n"
     ]
    },
    {
     "data": {
      "text/plain": [
       "<keras.callbacks.History at 0x2c495a01b00>"
      ]
     },
     "execution_count": 215,
     "metadata": {},
     "output_type": "execute_result"
    }
   ],
   "source": [
    "model_once.fit(X_train, y_train, epochs=40)"
   ]
  },
  {
   "cell_type": "code",
   "execution_count": null,
   "metadata": {},
   "outputs": [],
   "source": []
  },
  {
   "cell_type": "code",
   "execution_count": null,
   "metadata": {},
   "outputs": [],
   "source": []
  },
  {
   "cell_type": "code",
   "execution_count": null,
   "metadata": {},
   "outputs": [],
   "source": []
  },
  {
   "cell_type": "code",
   "execution_count": null,
   "metadata": {},
   "outputs": [],
   "source": []
  },
  {
   "cell_type": "code",
   "execution_count": null,
   "metadata": {},
   "outputs": [],
   "source": []
  },
  {
   "cell_type": "code",
   "execution_count": null,
   "metadata": {},
   "outputs": [],
   "source": []
  },
  {
   "cell_type": "code",
   "execution_count": null,
   "metadata": {},
   "outputs": [],
   "source": []
  },
  {
   "cell_type": "code",
   "execution_count": null,
   "metadata": {},
   "outputs": [],
   "source": []
  },
  {
   "cell_type": "code",
   "execution_count": null,
   "metadata": {},
   "outputs": [],
   "source": []
  },
  {
   "cell_type": "code",
   "execution_count": 43,
   "metadata": {
    "scrolled": false
   },
   "outputs": [
    {
     "data": {
      "text/html": [
       "<div>\n",
       "<style scoped>\n",
       "    .dataframe tbody tr th:only-of-type {\n",
       "        vertical-align: middle;\n",
       "    }\n",
       "\n",
       "    .dataframe tbody tr th {\n",
       "        vertical-align: top;\n",
       "    }\n",
       "\n",
       "    .dataframe thead th {\n",
       "        text-align: right;\n",
       "    }\n",
       "</style>\n",
       "<table border=\"1\" class=\"dataframe\">\n",
       "  <thead>\n",
       "    <tr style=\"text-align: right;\">\n",
       "      <th></th>\n",
       "      <th>a-b</th>\n",
       "      <th>c-d</th>\n",
       "    </tr>\n",
       "  </thead>\n",
       "  <tbody>\n",
       "    <tr>\n",
       "      <th>0</th>\n",
       "      <td>-0.044983</td>\n",
       "      <td>0.069712</td>\n",
       "    </tr>\n",
       "    <tr>\n",
       "      <th>1</th>\n",
       "      <td>-0.047032</td>\n",
       "      <td>0.071235</td>\n",
       "    </tr>\n",
       "    <tr>\n",
       "      <th>2</th>\n",
       "      <td>-0.049376</td>\n",
       "      <td>0.072815</td>\n",
       "    </tr>\n",
       "    <tr>\n",
       "      <th>3</th>\n",
       "      <td>-0.052028</td>\n",
       "      <td>0.074546</td>\n",
       "    </tr>\n",
       "    <tr>\n",
       "      <th>4</th>\n",
       "      <td>-0.054947</td>\n",
       "      <td>0.076428</td>\n",
       "    </tr>\n",
       "  </tbody>\n",
       "</table>\n",
       "</div>"
      ],
      "text/plain": [
       "        a-b       c-d\n",
       "0 -0.044983  0.069712\n",
       "1 -0.047032  0.071235\n",
       "2 -0.049376  0.072815\n",
       "3 -0.052028  0.074546\n",
       "4 -0.054947  0.076428"
      ]
     },
     "execution_count": 43,
     "metadata": {},
     "output_type": "execute_result"
    }
   ],
   "source": [
    "test_data_set = pd.read_csv(\"C:/Users/hml76/OneDrive/바탕 화면/Capacitive_sensor_research/test.csv\", names = ['a-b','c-d',])\n",
    "np.array(test_data_set)\n",
    "test_data_set.head()"
   ]
  },
  {
   "cell_type": "code",
   "execution_count": 44,
   "metadata": {
    "scrolled": true
   },
   "outputs": [
    {
     "data": {
      "text/html": [
       "<div>\n",
       "<style scoped>\n",
       "    .dataframe tbody tr th:only-of-type {\n",
       "        vertical-align: middle;\n",
       "    }\n",
       "\n",
       "    .dataframe tbody tr th {\n",
       "        vertical-align: top;\n",
       "    }\n",
       "\n",
       "    .dataframe thead th {\n",
       "        text-align: right;\n",
       "    }\n",
       "</style>\n",
       "<table border=\"1\" class=\"dataframe\">\n",
       "  <thead>\n",
       "    <tr style=\"text-align: right;\">\n",
       "      <th></th>\n",
       "      <th>a-b</th>\n",
       "    </tr>\n",
       "  </thead>\n",
       "  <tbody>\n",
       "    <tr>\n",
       "      <th>100</th>\n",
       "      <td>-0.011069</td>\n",
       "    </tr>\n",
       "  </tbody>\n",
       "</table>\n",
       "</div>"
      ],
      "text/plain": [
       "          a-b\n",
       "100 -0.011069"
      ]
     },
     "execution_count": 44,
     "metadata": {},
     "output_type": "execute_result"
    }
   ],
   "source": [
    "test_data_set.iloc[[100],[0]]"
   ]
  },
  {
   "cell_type": "code",
   "execution_count": 45,
   "metadata": {},
   "outputs": [],
   "source": [
    "test_dataset = np.zeros((len(total_data), 100, 2))"
   ]
  },
  {
   "cell_type": "code",
   "execution_count": 46,
   "metadata": {},
   "outputs": [],
   "source": [
    "# del model_once   # 테스트를 위해 메모리 내의 모델을 삭제\\\n",
    "# model_once = load_model('my_model.h5')   # 모델을 새로 불러옴\n",
    "\n",
    "\n",
    "# print(\"\\n Test Accuracy: %.4f\" % (model_once.evaluate(X_test, Y_test)"
   ]
  },
  {
   "cell_type": "code",
   "execution_count": null,
   "metadata": {},
   "outputs": [],
   "source": []
  },
  {
   "cell_type": "code",
   "execution_count": null,
   "metadata": {},
   "outputs": [],
   "source": []
  },
  {
   "cell_type": "code",
   "execution_count": null,
   "metadata": {},
   "outputs": [],
   "source": []
  },
  {
   "cell_type": "code",
   "execution_count": null,
   "metadata": {},
   "outputs": [],
   "source": []
  },
  {
   "cell_type": "code",
   "execution_count": null,
   "metadata": {},
   "outputs": [],
   "source": []
  },
  {
   "cell_type": "markdown",
   "metadata": {},
   "source": [
    "## Round 1"
   ]
  },
  {
   "cell_type": "code",
   "execution_count": 47,
   "metadata": {},
   "outputs": [
    {
     "data": {
      "text/plain": [
       "array([0, 0], dtype=int64)"
      ]
     },
     "execution_count": 47,
     "metadata": {},
     "output_type": "execute_result"
    }
   ],
   "source": [
    "test_data_set_LR1 = pd.read_csv(\"C:/Users/hml76/OneDrive/바탕 화면/Capacitive_sensor_research/실험데이터/좌-우/12.csv\",names=['a-b','c-d'])\n",
    "test_data_set_LR1 = np.zeros((2, 100, 2))\n",
    "test_data_set_LR1\n",
    "for i, data in enumerate(test_data_set_LR1):\n",
    "    test_data_set_LR1[i] = pd.read_csv(\"C:/Users/hml76/OneDrive/바탕 화면/Capacitive_sensor_research/실험데이터/좌-우/12.csv\", names=['a-b','c-d']).sample(n=100).sort_index().iloc[:,:2]\n",
    "test_data_set_LR1    \n",
    "model_once.predict_classes(test_data_set_LR1)"
   ]
  },
  {
   "cell_type": "code",
   "execution_count": 48,
   "metadata": {},
   "outputs": [
    {
     "data": {
      "text/plain": [
       "array([1, 1], dtype=int64)"
      ]
     },
     "execution_count": 48,
     "metadata": {},
     "output_type": "execute_result"
    }
   ],
   "source": [
    "test_data_set_RL1 = pd.read_csv(\"C:/Users/hml76/OneDrive/바탕 화면/Capacitive_sensor_research/실험데이터/우-좌/12.csv\",names=['a-b','c-d'])\n",
    "test_data_set_RL1 = np.zeros((2, 100, 2))\n",
    "test_data_set_RL1\n",
    "for i, data in enumerate(test_data_set_RL1):\n",
    "    test_data_set_RL1[i] = pd.read_csv(\"C:/Users/hml76/OneDrive/바탕 화면/Capacitive_sensor_research/실험데이터/우-좌/12.csv\", names=['a-b','c-d']).sample(n=100).sort_index().iloc[:,:2]\n",
    "test_data_set_RL1    \n",
    "model_once.predict_classes(test_data_set_RL1)"
   ]
  },
  {
   "cell_type": "code",
   "execution_count": 49,
   "metadata": {},
   "outputs": [
    {
     "data": {
      "text/plain": [
       "array([2, 2], dtype=int64)"
      ]
     },
     "execution_count": 49,
     "metadata": {},
     "output_type": "execute_result"
    }
   ],
   "source": [
    "test_data_set_CW1 = pd.read_csv(\"C:/Users/hml76/OneDrive/바탕 화면/Capacitive_sensor_research/실험데이터/시계방향/22.csv\",names=['a-b','c-d'])\n",
    "test_data_set_CW1 = np.zeros((2, 100, 2))\n",
    "test_data_set_CW1\n",
    "for i, data in enumerate(test_data_set_CW1):\n",
    "    test_data_set_CW1[i] = pd.read_csv(\"C:/Users/hml76/OneDrive/바탕 화면/Capacitive_sensor_research/실험데이터/시계방향/22.csv\", names=['a-b','c-d']).sample(n=100).sort_index().iloc[:,:2]\n",
    "test_data_set_CW1    \n",
    "model_once.predict_classes(test_data_set_CW1)"
   ]
  },
  {
   "cell_type": "code",
   "execution_count": 50,
   "metadata": {},
   "outputs": [
    {
     "data": {
      "text/plain": [
       "array([3, 3], dtype=int64)"
      ]
     },
     "execution_count": 50,
     "metadata": {},
     "output_type": "execute_result"
    }
   ],
   "source": [
    "test_data_set_CCW1 = pd.read_csv(\"C:/Users/hml76/OneDrive/바탕 화면/Capacitive_sensor_research/실험데이터/시계반대방향/25.csv\",names=['a-b','c-d'])\n",
    "test_data_set_CCW1 = np.zeros((2, 100, 2))\n",
    "test_data_set_CCW1\n",
    "for i, data in enumerate(test_data_set_CCW1):\n",
    "    test_data_set_CCW1[i] = pd.read_csv(\"C:/Users/hml76/OneDrive/바탕 화면/Capacitive_sensor_research/실험데이터/시계반대방향/25.csv\", names=['a-b','c-d']).sample(n=100).sort_index().iloc[:,:2]\n",
    "test_data_set_CCW1    \n",
    "model_once.predict_classes(test_data_set_CCW1)"
   ]
  },
  {
   "cell_type": "markdown",
   "metadata": {},
   "source": [
    "## Round 2"
   ]
  },
  {
   "cell_type": "code",
   "execution_count": 51,
   "metadata": {},
   "outputs": [
    {
     "data": {
      "text/plain": [
       "array([0, 0], dtype=int64)"
      ]
     },
     "execution_count": 51,
     "metadata": {},
     "output_type": "execute_result"
    }
   ],
   "source": [
    "test_data_set_LR2 = pd.read_csv(\"C:/Users/hml76/OneDrive/바탕 화면/Capacitive_sensor_research/실험데이터/좌-우/50.csv\",names=['a-b','c-d'])\n",
    "test_data_set_LR2 = np.zeros((2, 100, 2))\n",
    "test_data_set_LR2\n",
    "for i, data in enumerate(test_data_set_LR2):\n",
    "    test_data_set_LR2[i] = pd.read_csv(\"C:/Users/hml76/OneDrive/바탕 화면/Capacitive_sensor_research/실험데이터/좌-우/50.csv\", names=['a-b','c-d']).sample(n=100).sort_index().iloc[:,:2]\n",
    "test_data_set_LR2\n",
    "model_once.predict_classes(test_data_set_LR2)"
   ]
  },
  {
   "cell_type": "code",
   "execution_count": 52,
   "metadata": {},
   "outputs": [
    {
     "data": {
      "text/plain": [
       "array([1, 1], dtype=int64)"
      ]
     },
     "execution_count": 52,
     "metadata": {},
     "output_type": "execute_result"
    }
   ],
   "source": [
    "test_data_set_RL2 = pd.read_csv(\"C:/Users/hml76/OneDrive/바탕 화면/Capacitive_sensor_research/실험데이터/우-좌/50.csv\",names=['a-b','c-d'])\n",
    "test_data_set_RL2 = np.zeros((2, 100, 2))\n",
    "test_data_set_RL2\n",
    "for i, data in enumerate(test_data_set_RL2):\n",
    "    test_data_set_RL2[i] = pd.read_csv(\"C:/Users/hml76/OneDrive/바탕 화면/Capacitive_sensor_research/실험데이터/우-좌/50.csv\", names=['a-b','c-d']).sample(n=100).sort_index().iloc[:,:2]\n",
    "test_data_set_RL2\n",
    "model_once.predict_classes(test_data_set_RL2)"
   ]
  },
  {
   "cell_type": "code",
   "execution_count": 53,
   "metadata": {},
   "outputs": [
    {
     "data": {
      "text/plain": [
       "array([2, 2], dtype=int64)"
      ]
     },
     "execution_count": 53,
     "metadata": {},
     "output_type": "execute_result"
    }
   ],
   "source": [
    "test_data_set_CW2 = pd.read_csv(\"C:/Users/hml76/OneDrive/바탕 화면/Capacitive_sensor_research/실험데이터/시계방향/50.csv\",names=['a-b','c-d'])\n",
    "test_data_set_CW2 = np.zeros((2, 100, 2))\n",
    "test_data_set_CW2\n",
    "for i, data in enumerate(test_data_set_CW2):\n",
    "    test_data_set_CW2[i] = pd.read_csv(\"C:/Users/hml76/OneDrive/바탕 화면/Capacitive_sensor_research/실험데이터/시계방향/50.csv\", names=['a-b','c-d']).sample(n=100).sort_index().iloc[:,:2]\n",
    "test_data_set_CW2    \n",
    "model_once.predict_classes(test_data_set_CW2)"
   ]
  },
  {
   "cell_type": "code",
   "execution_count": 54,
   "metadata": {},
   "outputs": [
    {
     "data": {
      "text/plain": [
       "array([3, 3], dtype=int64)"
      ]
     },
     "execution_count": 54,
     "metadata": {},
     "output_type": "execute_result"
    }
   ],
   "source": [
    "test_data_set_CCW2 = pd.read_csv(\"C:/Users/hml76/OneDrive/바탕 화면/Capacitive_sensor_research/실험데이터/시계반대방향/41.csv\",names=['a-b','c-d'])\n",
    "test_data_set_CCW2 = np.zeros((2, 100, 2))\n",
    "test_data_set_CCW2\n",
    "for i, data in enumerate(test_data_set_CCW2):\n",
    "    test_data_set_CCW2[i] = pd.read_csv(\"C:/Users/hml76/OneDrive/바탕 화면/Capacitive_sensor_research/실험데이터/시계반대방향/41.csv\", names=['a-b','c-d']).sample(n=100).sort_index().iloc[:,:2]\n",
    "test_data_set_CCW2\n",
    "model_once.predict_classes(test_data_set_CCW2)"
   ]
  },
  {
   "cell_type": "code",
   "execution_count": null,
   "metadata": {},
   "outputs": [],
   "source": []
  },
  {
   "cell_type": "code",
   "execution_count": 55,
   "metadata": {},
   "outputs": [
    {
     "data": {
      "text/plain": [
       "array([0, 0], dtype=int64)"
      ]
     },
     "execution_count": 55,
     "metadata": {},
     "output_type": "execute_result"
    }
   ],
   "source": [
    "test_data_set_LR2 = pd.read_csv(\"C:/Users/hml76/OneDrive/바탕 화면/Capacitive_sensor_research/실험데이터/좌-우/95.csv\",names=['a-b','c-d'])\n",
    "test_data_set_LR2 = np.zeros((2, 100, 2))\n",
    "test_data_set_LR2\n",
    "for i, data in enumerate(test_data_set_LR2):\n",
    "    test_data_set_LR2[i] = pd.read_csv(\"C:/Users/hml76/OneDrive/바탕 화면/Capacitive_sensor_research/실험데이터/좌-우/95.csv\", names=['a-b','c-d']).sample(n=100).sort_index().iloc[:,:2]\n",
    "test_data_set_LR2\n",
    "model_once.predict_classes(test_data_set_LR2)"
   ]
  },
  {
   "cell_type": "code",
   "execution_count": 56,
   "metadata": {},
   "outputs": [
    {
     "data": {
      "text/plain": [
       "array([1, 1], dtype=int64)"
      ]
     },
     "execution_count": 56,
     "metadata": {},
     "output_type": "execute_result"
    }
   ],
   "source": [
    "test_data_set_RL2 = pd.read_csv(\"C:/Users/hml76/OneDrive/바탕 화면/Capacitive_sensor_research/실험데이터/우-좌/95.csv\",names=['a-b','c-d'])\n",
    "test_data_set_RL2 = np.zeros((2, 100, 2))\n",
    "test_data_set_RL2\n",
    "for i, data in enumerate(test_data_set_RL2):\n",
    "    test_data_set_RL2[i] = pd.read_csv(\"C:/Users/hml76/OneDrive/바탕 화면/Capacitive_sensor_research/실험데이터/우-좌/95.csv\", names=['a-b','c-d']).sample(n=100).sort_index().iloc[:,:2]\n",
    "test_data_set_RL2\n",
    "model_once.predict_classes(test_data_set_RL2)"
   ]
  },
  {
   "cell_type": "code",
   "execution_count": 57,
   "metadata": {},
   "outputs": [
    {
     "data": {
      "text/plain": [
       "array([2, 2], dtype=int64)"
      ]
     },
     "execution_count": 57,
     "metadata": {},
     "output_type": "execute_result"
    }
   ],
   "source": [
    "test_data_set_CW2 = pd.read_csv(\"C:/Users/hml76/OneDrive/바탕 화면/Capacitive_sensor_research/실험데이터/시계방향/95.csv\",names=['a-b','c-d'])\n",
    "test_data_set_CW2 = np.zeros((2, 100, 2))\n",
    "test_data_set_CW2\n",
    "for i, data in enumerate(test_data_set_CW2):\n",
    "    test_data_set_CW2[i] = pd.read_csv(\"C:/Users/hml76/OneDrive/바탕 화면/Capacitive_sensor_research/실험데이터/시계방향/95.csv\", names=['a-b','c-d']).sample(n=100).sort_index().iloc[:,:2]\n",
    "test_data_set_CW2    \n",
    "model_once.predict_classes(test_data_set_CW2)"
   ]
  },
  {
   "cell_type": "code",
   "execution_count": 58,
   "metadata": {},
   "outputs": [
    {
     "data": {
      "text/plain": [
       "array([3, 3], dtype=int64)"
      ]
     },
     "execution_count": 58,
     "metadata": {},
     "output_type": "execute_result"
    }
   ],
   "source": [
    "test_data_set_CCW2 = pd.read_csv(\"C:/Users/hml76/OneDrive/바탕 화면/Capacitive_sensor_research/실험데이터/시계반대방향/50.csv\",names=['a-b','c-d'])\n",
    "test_data_set_CCW2 = np.zeros((2, 100, 2))\n",
    "test_data_set_CCW2\n",
    "for i, data in enumerate(test_data_set_CCW2):\n",
    "    test_data_set_CCW2[i] = pd.read_csv(\"C:/Users/hml76/OneDrive/바탕 화면/Capacitive_sensor_research/실험데이터/시계반대방향/50.csv\", names=['a-b','c-d']).sample(n=100).sort_index().iloc[:,:2]\n",
    "test_data_set_CCW2\n",
    "model_once.predict_classes(test_data_set_CCW2)"
   ]
  },
  {
   "cell_type": "code",
   "execution_count": null,
   "metadata": {},
   "outputs": [],
   "source": []
  }
 ],
 "metadata": {
  "kernelspec": {
   "display_name": "Python 3",
   "language": "python",
   "name": "python3"
  },
  "language_info": {
   "codemirror_mode": {
    "name": "ipython",
    "version": 3
   },
   "file_extension": ".py",
   "mimetype": "text/x-python",
   "name": "python",
   "nbconvert_exporter": "python",
   "pygments_lexer": "ipython3",
   "version": "3.7.3"
  }
 },
 "nbformat": 4,
 "nbformat_minor": 2
}
