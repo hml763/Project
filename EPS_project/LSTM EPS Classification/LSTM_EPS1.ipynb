{
 "cells": [
  {
   "cell_type": "code",
   "execution_count": 12,
   "metadata": {
    "scrolled": true
   },
   "outputs": [],
   "source": [
    "import glob\n",
    "import numpy as np\n",
    "import matplotlib.pyplot as plt\n",
    "import pandas as pd\n",
    "from pandas import DataFrame as df\n",
    "import seaborn as sns\n",
    "\n",
    "\n",
    "from keras.layers import LSTM, Dense\n",
    "from keras.models import Sequential\n",
    "import keras.backend as K\n",
    "from keras.callbacks import ReduceLROnPlateau, ModelCheckpoint, EarlyStopping\n",
    "from keras.optimizers import Adam\n",
    "from keras.wrappers.scikit_learn import KerasClassifier\n",
    "from sklearn.model_selection import KFold, cross_val_score\n",
    "\n",
    "from sklearn.model_selection import train_test_split"
   ]
  },
  {
   "cell_type": "code",
   "execution_count": 3,
   "metadata": {},
   "outputs": [
    {
     "data": {
      "text/plain": [
       "(100, 100, 100, 100)"
      ]
     },
     "execution_count": 3,
     "metadata": {},
     "output_type": "execute_result"
    }
   ],
   "source": [
    "data_1 = glob.glob('C:/Users/hml76/OneDrive/문서/카카오톡 받은 파일/논문용/좌-우/*.csv')\n",
    "data_2 = glob.glob('C:/Users/hml76/OneDrive/문서/카카오톡 받은 파일/논문용/우-좌/*.csv')\n",
    "data_3 = glob.glob('C:/Users/hml76/OneDrive/문서/카카오톡 받은 파일/논문용/시계방향/*.csv')\n",
    "data_4 = glob.glob('C:/Users/hml76/OneDrive/문서/카카오톡 받은 파일/논문용/시계반대방향/*.csv')\n",
    "len(data_1), len(data_2), len(data_3), len(data_4)"
   ]
  },
  {
   "cell_type": "code",
   "execution_count": 9,
   "metadata": {
    "scrolled": true
   },
   "outputs": [
    {
     "data": {
      "text/plain": [
       "array([[[0., 0.],\n",
       "        [0., 0.],\n",
       "        [0., 0.],\n",
       "        ...,\n",
       "        [0., 0.],\n",
       "        [0., 0.],\n",
       "        [0., 0.]],\n",
       "\n",
       "       [[0., 0.],\n",
       "        [0., 0.],\n",
       "        [0., 0.],\n",
       "        ...,\n",
       "        [0., 0.],\n",
       "        [0., 0.],\n",
       "        [0., 0.]],\n",
       "\n",
       "       [[0., 0.],\n",
       "        [0., 0.],\n",
       "        [0., 0.],\n",
       "        ...,\n",
       "        [0., 0.],\n",
       "        [0., 0.],\n",
       "        [0., 0.]],\n",
       "\n",
       "       ...,\n",
       "\n",
       "       [[0., 0.],\n",
       "        [0., 0.],\n",
       "        [0., 0.],\n",
       "        ...,\n",
       "        [0., 0.],\n",
       "        [0., 0.],\n",
       "        [0., 0.]],\n",
       "\n",
       "       [[0., 0.],\n",
       "        [0., 0.],\n",
       "        [0., 0.],\n",
       "        ...,\n",
       "        [0., 0.],\n",
       "        [0., 0.],\n",
       "        [0., 0.]],\n",
       "\n",
       "       [[0., 0.],\n",
       "        [0., 0.],\n",
       "        [0., 0.],\n",
       "        ...,\n",
       "        [0., 0.],\n",
       "        [0., 0.],\n",
       "        [0., 0.]]])"
      ]
     },
     "execution_count": 9,
     "metadata": {},
     "output_type": "execute_result"
    }
   ],
   "source": [
    "total_data = data_1 + data_2 + data_3 + data_4\n",
    "\n",
    "dataset = np.zeros((len(total_data), 150, 2))\n",
    "dataset"
   ]
  },
  {
   "cell_type": "code",
   "execution_count": 10,
   "metadata": {},
   "outputs": [
    {
     "name": "stdout",
     "output_type": "stream",
     "text": [
      "C:/Users/hml76/OneDrive/문서/카카오톡 받은 파일/논문용/좌-우\\1.csv\n",
      "C:/Users/hml76/OneDrive/문서/카카오톡 받은 파일/논문용/좌-우\\10.csv\n",
      "C:/Users/hml76/OneDrive/문서/카카오톡 받은 파일/논문용/좌-우\\100.csv\n",
      "C:/Users/hml76/OneDrive/문서/카카오톡 받은 파일/논문용/좌-우\\11.csv\n",
      "C:/Users/hml76/OneDrive/문서/카카오톡 받은 파일/논문용/좌-우\\12.csv\n",
      "C:/Users/hml76/OneDrive/문서/카카오톡 받은 파일/논문용/좌-우\\13.csv\n",
      "C:/Users/hml76/OneDrive/문서/카카오톡 받은 파일/논문용/좌-우\\14.csv\n",
      "C:/Users/hml76/OneDrive/문서/카카오톡 받은 파일/논문용/좌-우\\15.csv\n",
      "C:/Users/hml76/OneDrive/문서/카카오톡 받은 파일/논문용/좌-우\\16.csv\n",
      "C:/Users/hml76/OneDrive/문서/카카오톡 받은 파일/논문용/좌-우\\17.csv\n",
      "C:/Users/hml76/OneDrive/문서/카카오톡 받은 파일/논문용/좌-우\\18.csv\n",
      "C:/Users/hml76/OneDrive/문서/카카오톡 받은 파일/논문용/좌-우\\19.csv\n",
      "C:/Users/hml76/OneDrive/문서/카카오톡 받은 파일/논문용/좌-우\\2.csv\n",
      "C:/Users/hml76/OneDrive/문서/카카오톡 받은 파일/논문용/좌-우\\20.csv\n",
      "C:/Users/hml76/OneDrive/문서/카카오톡 받은 파일/논문용/좌-우\\21.csv\n",
      "C:/Users/hml76/OneDrive/문서/카카오톡 받은 파일/논문용/좌-우\\22.csv\n",
      "C:/Users/hml76/OneDrive/문서/카카오톡 받은 파일/논문용/좌-우\\23.csv\n",
      "C:/Users/hml76/OneDrive/문서/카카오톡 받은 파일/논문용/좌-우\\24.csv\n",
      "C:/Users/hml76/OneDrive/문서/카카오톡 받은 파일/논문용/좌-우\\25.csv\n",
      "C:/Users/hml76/OneDrive/문서/카카오톡 받은 파일/논문용/좌-우\\26.csv\n",
      "C:/Users/hml76/OneDrive/문서/카카오톡 받은 파일/논문용/좌-우\\27.csv\n",
      "C:/Users/hml76/OneDrive/문서/카카오톡 받은 파일/논문용/좌-우\\28.csv\n",
      "C:/Users/hml76/OneDrive/문서/카카오톡 받은 파일/논문용/좌-우\\29.csv\n",
      "C:/Users/hml76/OneDrive/문서/카카오톡 받은 파일/논문용/좌-우\\3.csv\n",
      "C:/Users/hml76/OneDrive/문서/카카오톡 받은 파일/논문용/좌-우\\30.csv\n",
      "C:/Users/hml76/OneDrive/문서/카카오톡 받은 파일/논문용/좌-우\\31.csv\n",
      "C:/Users/hml76/OneDrive/문서/카카오톡 받은 파일/논문용/좌-우\\32.csv\n",
      "C:/Users/hml76/OneDrive/문서/카카오톡 받은 파일/논문용/좌-우\\33.csv\n",
      "C:/Users/hml76/OneDrive/문서/카카오톡 받은 파일/논문용/좌-우\\34.csv\n",
      "C:/Users/hml76/OneDrive/문서/카카오톡 받은 파일/논문용/좌-우\\35.csv\n",
      "C:/Users/hml76/OneDrive/문서/카카오톡 받은 파일/논문용/좌-우\\36.csv\n",
      "C:/Users/hml76/OneDrive/문서/카카오톡 받은 파일/논문용/좌-우\\37.csv\n",
      "C:/Users/hml76/OneDrive/문서/카카오톡 받은 파일/논문용/좌-우\\38.csv\n",
      "C:/Users/hml76/OneDrive/문서/카카오톡 받은 파일/논문용/좌-우\\39.csv\n",
      "C:/Users/hml76/OneDrive/문서/카카오톡 받은 파일/논문용/좌-우\\4.csv\n",
      "C:/Users/hml76/OneDrive/문서/카카오톡 받은 파일/논문용/좌-우\\40.csv\n",
      "C:/Users/hml76/OneDrive/문서/카카오톡 받은 파일/논문용/좌-우\\41.csv\n",
      "C:/Users/hml76/OneDrive/문서/카카오톡 받은 파일/논문용/좌-우\\42.csv\n",
      "C:/Users/hml76/OneDrive/문서/카카오톡 받은 파일/논문용/좌-우\\43.csv\n",
      "C:/Users/hml76/OneDrive/문서/카카오톡 받은 파일/논문용/좌-우\\44.csv\n",
      "C:/Users/hml76/OneDrive/문서/카카오톡 받은 파일/논문용/좌-우\\45.csv\n",
      "C:/Users/hml76/OneDrive/문서/카카오톡 받은 파일/논문용/좌-우\\46.csv\n",
      "C:/Users/hml76/OneDrive/문서/카카오톡 받은 파일/논문용/좌-우\\47.csv\n",
      "C:/Users/hml76/OneDrive/문서/카카오톡 받은 파일/논문용/좌-우\\48.csv\n",
      "C:/Users/hml76/OneDrive/문서/카카오톡 받은 파일/논문용/좌-우\\49.csv\n",
      "C:/Users/hml76/OneDrive/문서/카카오톡 받은 파일/논문용/좌-우\\5.csv\n",
      "C:/Users/hml76/OneDrive/문서/카카오톡 받은 파일/논문용/좌-우\\50.csv\n",
      "C:/Users/hml76/OneDrive/문서/카카오톡 받은 파일/논문용/좌-우\\51.csv\n",
      "C:/Users/hml76/OneDrive/문서/카카오톡 받은 파일/논문용/좌-우\\52.csv\n",
      "C:/Users/hml76/OneDrive/문서/카카오톡 받은 파일/논문용/좌-우\\53.csv\n",
      "C:/Users/hml76/OneDrive/문서/카카오톡 받은 파일/논문용/좌-우\\54.csv\n",
      "C:/Users/hml76/OneDrive/문서/카카오톡 받은 파일/논문용/좌-우\\55.csv\n",
      "C:/Users/hml76/OneDrive/문서/카카오톡 받은 파일/논문용/좌-우\\56.csv\n",
      "C:/Users/hml76/OneDrive/문서/카카오톡 받은 파일/논문용/좌-우\\57.csv\n",
      "C:/Users/hml76/OneDrive/문서/카카오톡 받은 파일/논문용/좌-우\\58.csv\n",
      "C:/Users/hml76/OneDrive/문서/카카오톡 받은 파일/논문용/좌-우\\59.csv\n",
      "C:/Users/hml76/OneDrive/문서/카카오톡 받은 파일/논문용/좌-우\\6.csv\n",
      "C:/Users/hml76/OneDrive/문서/카카오톡 받은 파일/논문용/좌-우\\60.csv\n",
      "C:/Users/hml76/OneDrive/문서/카카오톡 받은 파일/논문용/좌-우\\61.csv\n",
      "C:/Users/hml76/OneDrive/문서/카카오톡 받은 파일/논문용/좌-우\\62.csv\n",
      "C:/Users/hml76/OneDrive/문서/카카오톡 받은 파일/논문용/좌-우\\63.csv\n",
      "C:/Users/hml76/OneDrive/문서/카카오톡 받은 파일/논문용/좌-우\\64.csv\n",
      "C:/Users/hml76/OneDrive/문서/카카오톡 받은 파일/논문용/좌-우\\65.csv\n",
      "C:/Users/hml76/OneDrive/문서/카카오톡 받은 파일/논문용/좌-우\\66.csv\n",
      "C:/Users/hml76/OneDrive/문서/카카오톡 받은 파일/논문용/좌-우\\67.csv\n",
      "C:/Users/hml76/OneDrive/문서/카카오톡 받은 파일/논문용/좌-우\\68.csv\n",
      "C:/Users/hml76/OneDrive/문서/카카오톡 받은 파일/논문용/좌-우\\69.csv\n",
      "C:/Users/hml76/OneDrive/문서/카카오톡 받은 파일/논문용/좌-우\\7.csv\n",
      "C:/Users/hml76/OneDrive/문서/카카오톡 받은 파일/논문용/좌-우\\70.csv\n",
      "C:/Users/hml76/OneDrive/문서/카카오톡 받은 파일/논문용/좌-우\\71.csv\n",
      "C:/Users/hml76/OneDrive/문서/카카오톡 받은 파일/논문용/좌-우\\72.csv\n",
      "C:/Users/hml76/OneDrive/문서/카카오톡 받은 파일/논문용/좌-우\\73.csv\n",
      "C:/Users/hml76/OneDrive/문서/카카오톡 받은 파일/논문용/좌-우\\74.csv\n",
      "C:/Users/hml76/OneDrive/문서/카카오톡 받은 파일/논문용/좌-우\\75.csv\n",
      "C:/Users/hml76/OneDrive/문서/카카오톡 받은 파일/논문용/좌-우\\76.csv\n",
      "C:/Users/hml76/OneDrive/문서/카카오톡 받은 파일/논문용/좌-우\\77.csv\n",
      "C:/Users/hml76/OneDrive/문서/카카오톡 받은 파일/논문용/좌-우\\78.csv\n",
      "C:/Users/hml76/OneDrive/문서/카카오톡 받은 파일/논문용/좌-우\\79.csv\n",
      "C:/Users/hml76/OneDrive/문서/카카오톡 받은 파일/논문용/좌-우\\8.csv\n",
      "C:/Users/hml76/OneDrive/문서/카카오톡 받은 파일/논문용/좌-우\\80.csv\n",
      "C:/Users/hml76/OneDrive/문서/카카오톡 받은 파일/논문용/좌-우\\81.csv\n",
      "C:/Users/hml76/OneDrive/문서/카카오톡 받은 파일/논문용/좌-우\\82.csv\n",
      "C:/Users/hml76/OneDrive/문서/카카오톡 받은 파일/논문용/좌-우\\83.csv\n",
      "C:/Users/hml76/OneDrive/문서/카카오톡 받은 파일/논문용/좌-우\\84.csv\n",
      "C:/Users/hml76/OneDrive/문서/카카오톡 받은 파일/논문용/좌-우\\85.csv\n",
      "C:/Users/hml76/OneDrive/문서/카카오톡 받은 파일/논문용/좌-우\\86.csv\n",
      "C:/Users/hml76/OneDrive/문서/카카오톡 받은 파일/논문용/좌-우\\87.csv\n",
      "C:/Users/hml76/OneDrive/문서/카카오톡 받은 파일/논문용/좌-우\\88.csv\n",
      "C:/Users/hml76/OneDrive/문서/카카오톡 받은 파일/논문용/좌-우\\89.csv\n",
      "C:/Users/hml76/OneDrive/문서/카카오톡 받은 파일/논문용/좌-우\\9.csv\n",
      "C:/Users/hml76/OneDrive/문서/카카오톡 받은 파일/논문용/좌-우\\90.csv\n",
      "C:/Users/hml76/OneDrive/문서/카카오톡 받은 파일/논문용/좌-우\\91.csv\n",
      "C:/Users/hml76/OneDrive/문서/카카오톡 받은 파일/논문용/좌-우\\92.csv\n",
      "C:/Users/hml76/OneDrive/문서/카카오톡 받은 파일/논문용/좌-우\\93.csv\n",
      "C:/Users/hml76/OneDrive/문서/카카오톡 받은 파일/논문용/좌-우\\94.csv\n",
      "C:/Users/hml76/OneDrive/문서/카카오톡 받은 파일/논문용/좌-우\\95.csv\n",
      "C:/Users/hml76/OneDrive/문서/카카오톡 받은 파일/논문용/좌-우\\96.csv\n",
      "C:/Users/hml76/OneDrive/문서/카카오톡 받은 파일/논문용/좌-우\\97.csv\n",
      "C:/Users/hml76/OneDrive/문서/카카오톡 받은 파일/논문용/좌-우\\98.csv\n",
      "C:/Users/hml76/OneDrive/문서/카카오톡 받은 파일/논문용/좌-우\\99.csv\n",
      "C:/Users/hml76/OneDrive/문서/카카오톡 받은 파일/논문용/우-좌\\1.csv\n",
      "C:/Users/hml76/OneDrive/문서/카카오톡 받은 파일/논문용/우-좌\\10.csv\n",
      "C:/Users/hml76/OneDrive/문서/카카오톡 받은 파일/논문용/우-좌\\100.csv\n",
      "C:/Users/hml76/OneDrive/문서/카카오톡 받은 파일/논문용/우-좌\\11.csv\n",
      "C:/Users/hml76/OneDrive/문서/카카오톡 받은 파일/논문용/우-좌\\12.csv\n",
      "C:/Users/hml76/OneDrive/문서/카카오톡 받은 파일/논문용/우-좌\\13.csv\n",
      "C:/Users/hml76/OneDrive/문서/카카오톡 받은 파일/논문용/우-좌\\14.csv\n",
      "C:/Users/hml76/OneDrive/문서/카카오톡 받은 파일/논문용/우-좌\\15.csv\n",
      "C:/Users/hml76/OneDrive/문서/카카오톡 받은 파일/논문용/우-좌\\16.csv\n",
      "C:/Users/hml76/OneDrive/문서/카카오톡 받은 파일/논문용/우-좌\\17.csv\n",
      "C:/Users/hml76/OneDrive/문서/카카오톡 받은 파일/논문용/우-좌\\18.csv\n",
      "C:/Users/hml76/OneDrive/문서/카카오톡 받은 파일/논문용/우-좌\\19.csv\n",
      "C:/Users/hml76/OneDrive/문서/카카오톡 받은 파일/논문용/우-좌\\2.csv\n",
      "C:/Users/hml76/OneDrive/문서/카카오톡 받은 파일/논문용/우-좌\\20.csv\n",
      "C:/Users/hml76/OneDrive/문서/카카오톡 받은 파일/논문용/우-좌\\21.csv\n",
      "C:/Users/hml76/OneDrive/문서/카카오톡 받은 파일/논문용/우-좌\\22.csv\n",
      "C:/Users/hml76/OneDrive/문서/카카오톡 받은 파일/논문용/우-좌\\23.csv\n",
      "C:/Users/hml76/OneDrive/문서/카카오톡 받은 파일/논문용/우-좌\\24.csv\n",
      "C:/Users/hml76/OneDrive/문서/카카오톡 받은 파일/논문용/우-좌\\25.csv\n",
      "C:/Users/hml76/OneDrive/문서/카카오톡 받은 파일/논문용/우-좌\\26.csv\n",
      "C:/Users/hml76/OneDrive/문서/카카오톡 받은 파일/논문용/우-좌\\27.csv\n",
      "C:/Users/hml76/OneDrive/문서/카카오톡 받은 파일/논문용/우-좌\\28.csv\n",
      "C:/Users/hml76/OneDrive/문서/카카오톡 받은 파일/논문용/우-좌\\29.csv\n",
      "C:/Users/hml76/OneDrive/문서/카카오톡 받은 파일/논문용/우-좌\\3.csv\n",
      "C:/Users/hml76/OneDrive/문서/카카오톡 받은 파일/논문용/우-좌\\30.csv\n",
      "C:/Users/hml76/OneDrive/문서/카카오톡 받은 파일/논문용/우-좌\\31.csv\n",
      "C:/Users/hml76/OneDrive/문서/카카오톡 받은 파일/논문용/우-좌\\32.csv\n",
      "C:/Users/hml76/OneDrive/문서/카카오톡 받은 파일/논문용/우-좌\\33.csv\n",
      "C:/Users/hml76/OneDrive/문서/카카오톡 받은 파일/논문용/우-좌\\34.csv\n",
      "C:/Users/hml76/OneDrive/문서/카카오톡 받은 파일/논문용/우-좌\\35.csv\n",
      "C:/Users/hml76/OneDrive/문서/카카오톡 받은 파일/논문용/우-좌\\36.csv\n",
      "C:/Users/hml76/OneDrive/문서/카카오톡 받은 파일/논문용/우-좌\\37.csv\n",
      "C:/Users/hml76/OneDrive/문서/카카오톡 받은 파일/논문용/우-좌\\38.csv\n",
      "C:/Users/hml76/OneDrive/문서/카카오톡 받은 파일/논문용/우-좌\\39.csv\n",
      "C:/Users/hml76/OneDrive/문서/카카오톡 받은 파일/논문용/우-좌\\4.csv\n",
      "C:/Users/hml76/OneDrive/문서/카카오톡 받은 파일/논문용/우-좌\\40.csv\n",
      "C:/Users/hml76/OneDrive/문서/카카오톡 받은 파일/논문용/우-좌\\41.csv\n",
      "C:/Users/hml76/OneDrive/문서/카카오톡 받은 파일/논문용/우-좌\\42.csv\n",
      "C:/Users/hml76/OneDrive/문서/카카오톡 받은 파일/논문용/우-좌\\43.csv\n",
      "C:/Users/hml76/OneDrive/문서/카카오톡 받은 파일/논문용/우-좌\\44.csv\n",
      "C:/Users/hml76/OneDrive/문서/카카오톡 받은 파일/논문용/우-좌\\45.csv\n",
      "C:/Users/hml76/OneDrive/문서/카카오톡 받은 파일/논문용/우-좌\\46.csv\n",
      "C:/Users/hml76/OneDrive/문서/카카오톡 받은 파일/논문용/우-좌\\47.csv\n",
      "C:/Users/hml76/OneDrive/문서/카카오톡 받은 파일/논문용/우-좌\\48.csv\n",
      "C:/Users/hml76/OneDrive/문서/카카오톡 받은 파일/논문용/우-좌\\49.csv\n",
      "C:/Users/hml76/OneDrive/문서/카카오톡 받은 파일/논문용/우-좌\\5.csv\n",
      "C:/Users/hml76/OneDrive/문서/카카오톡 받은 파일/논문용/우-좌\\50.csv\n",
      "C:/Users/hml76/OneDrive/문서/카카오톡 받은 파일/논문용/우-좌\\51.csv\n",
      "C:/Users/hml76/OneDrive/문서/카카오톡 받은 파일/논문용/우-좌\\52.csv\n",
      "C:/Users/hml76/OneDrive/문서/카카오톡 받은 파일/논문용/우-좌\\53.csv\n",
      "C:/Users/hml76/OneDrive/문서/카카오톡 받은 파일/논문용/우-좌\\54.csv\n",
      "C:/Users/hml76/OneDrive/문서/카카오톡 받은 파일/논문용/우-좌\\55.csv\n",
      "C:/Users/hml76/OneDrive/문서/카카오톡 받은 파일/논문용/우-좌\\56.csv\n",
      "C:/Users/hml76/OneDrive/문서/카카오톡 받은 파일/논문용/우-좌\\57.csv\n",
      "C:/Users/hml76/OneDrive/문서/카카오톡 받은 파일/논문용/우-좌\\58.csv\n",
      "C:/Users/hml76/OneDrive/문서/카카오톡 받은 파일/논문용/우-좌\\59.csv\n",
      "C:/Users/hml76/OneDrive/문서/카카오톡 받은 파일/논문용/우-좌\\6.csv\n",
      "C:/Users/hml76/OneDrive/문서/카카오톡 받은 파일/논문용/우-좌\\60.csv\n",
      "C:/Users/hml76/OneDrive/문서/카카오톡 받은 파일/논문용/우-좌\\61.csv\n",
      "C:/Users/hml76/OneDrive/문서/카카오톡 받은 파일/논문용/우-좌\\62.csv\n",
      "C:/Users/hml76/OneDrive/문서/카카오톡 받은 파일/논문용/우-좌\\63.csv\n",
      "C:/Users/hml76/OneDrive/문서/카카오톡 받은 파일/논문용/우-좌\\64.csv\n",
      "C:/Users/hml76/OneDrive/문서/카카오톡 받은 파일/논문용/우-좌\\65.csv\n",
      "C:/Users/hml76/OneDrive/문서/카카오톡 받은 파일/논문용/우-좌\\66.csv\n",
      "C:/Users/hml76/OneDrive/문서/카카오톡 받은 파일/논문용/우-좌\\67.csv\n",
      "C:/Users/hml76/OneDrive/문서/카카오톡 받은 파일/논문용/우-좌\\68.csv\n",
      "C:/Users/hml76/OneDrive/문서/카카오톡 받은 파일/논문용/우-좌\\69.csv\n",
      "C:/Users/hml76/OneDrive/문서/카카오톡 받은 파일/논문용/우-좌\\7.csv\n",
      "C:/Users/hml76/OneDrive/문서/카카오톡 받은 파일/논문용/우-좌\\70.csv\n",
      "C:/Users/hml76/OneDrive/문서/카카오톡 받은 파일/논문용/우-좌\\71.csv\n",
      "C:/Users/hml76/OneDrive/문서/카카오톡 받은 파일/논문용/우-좌\\72.csv\n",
      "C:/Users/hml76/OneDrive/문서/카카오톡 받은 파일/논문용/우-좌\\73.csv\n",
      "C:/Users/hml76/OneDrive/문서/카카오톡 받은 파일/논문용/우-좌\\74.csv\n",
      "C:/Users/hml76/OneDrive/문서/카카오톡 받은 파일/논문용/우-좌\\75.csv\n",
      "C:/Users/hml76/OneDrive/문서/카카오톡 받은 파일/논문용/우-좌\\76.csv\n",
      "C:/Users/hml76/OneDrive/문서/카카오톡 받은 파일/논문용/우-좌\\77.csv\n"
     ]
    },
    {
     "name": "stdout",
     "output_type": "stream",
     "text": [
      "C:/Users/hml76/OneDrive/문서/카카오톡 받은 파일/논문용/우-좌\\78.csv\n",
      "C:/Users/hml76/OneDrive/문서/카카오톡 받은 파일/논문용/우-좌\\79.csv\n",
      "C:/Users/hml76/OneDrive/문서/카카오톡 받은 파일/논문용/우-좌\\8.csv\n",
      "C:/Users/hml76/OneDrive/문서/카카오톡 받은 파일/논문용/우-좌\\80.csv\n",
      "C:/Users/hml76/OneDrive/문서/카카오톡 받은 파일/논문용/우-좌\\81.csv\n",
      "C:/Users/hml76/OneDrive/문서/카카오톡 받은 파일/논문용/우-좌\\82.csv\n",
      "C:/Users/hml76/OneDrive/문서/카카오톡 받은 파일/논문용/우-좌\\83.csv\n",
      "C:/Users/hml76/OneDrive/문서/카카오톡 받은 파일/논문용/우-좌\\84.csv\n",
      "C:/Users/hml76/OneDrive/문서/카카오톡 받은 파일/논문용/우-좌\\85.csv\n",
      "C:/Users/hml76/OneDrive/문서/카카오톡 받은 파일/논문용/우-좌\\86.csv\n",
      "C:/Users/hml76/OneDrive/문서/카카오톡 받은 파일/논문용/우-좌\\87.csv\n",
      "C:/Users/hml76/OneDrive/문서/카카오톡 받은 파일/논문용/우-좌\\88.csv\n",
      "C:/Users/hml76/OneDrive/문서/카카오톡 받은 파일/논문용/우-좌\\89.csv\n",
      "C:/Users/hml76/OneDrive/문서/카카오톡 받은 파일/논문용/우-좌\\9.csv\n",
      "C:/Users/hml76/OneDrive/문서/카카오톡 받은 파일/논문용/우-좌\\90.csv\n",
      "C:/Users/hml76/OneDrive/문서/카카오톡 받은 파일/논문용/우-좌\\91.csv\n",
      "C:/Users/hml76/OneDrive/문서/카카오톡 받은 파일/논문용/우-좌\\92.csv\n",
      "C:/Users/hml76/OneDrive/문서/카카오톡 받은 파일/논문용/우-좌\\93.csv\n",
      "C:/Users/hml76/OneDrive/문서/카카오톡 받은 파일/논문용/우-좌\\94.csv\n",
      "C:/Users/hml76/OneDrive/문서/카카오톡 받은 파일/논문용/우-좌\\95.csv\n",
      "C:/Users/hml76/OneDrive/문서/카카오톡 받은 파일/논문용/우-좌\\96.csv\n",
      "C:/Users/hml76/OneDrive/문서/카카오톡 받은 파일/논문용/우-좌\\97.csv\n",
      "C:/Users/hml76/OneDrive/문서/카카오톡 받은 파일/논문용/우-좌\\98.csv\n",
      "C:/Users/hml76/OneDrive/문서/카카오톡 받은 파일/논문용/우-좌\\99.csv\n",
      "C:/Users/hml76/OneDrive/문서/카카오톡 받은 파일/논문용/시계방향\\1.csv\n",
      "C:/Users/hml76/OneDrive/문서/카카오톡 받은 파일/논문용/시계방향\\100.csv\n",
      "C:/Users/hml76/OneDrive/문서/카카오톡 받은 파일/논문용/시계방향\\101.csv\n",
      "C:/Users/hml76/OneDrive/문서/카카오톡 받은 파일/논문용/시계방향\\102.csv\n",
      "C:/Users/hml76/OneDrive/문서/카카오톡 받은 파일/논문용/시계방향\\103.csv\n",
      "C:/Users/hml76/OneDrive/문서/카카오톡 받은 파일/논문용/시계방향\\104.csv\n",
      "C:/Users/hml76/OneDrive/문서/카카오톡 받은 파일/논문용/시계방향\\105.csv\n",
      "C:/Users/hml76/OneDrive/문서/카카오톡 받은 파일/논문용/시계방향\\106.csv\n",
      "C:/Users/hml76/OneDrive/문서/카카오톡 받은 파일/논문용/시계방향\\107.csv\n",
      "C:/Users/hml76/OneDrive/문서/카카오톡 받은 파일/논문용/시계방향\\108.csv\n",
      "C:/Users/hml76/OneDrive/문서/카카오톡 받은 파일/논문용/시계방향\\109.csv\n",
      "C:/Users/hml76/OneDrive/문서/카카오톡 받은 파일/논문용/시계방향\\11.csv\n",
      "C:/Users/hml76/OneDrive/문서/카카오톡 받은 파일/논문용/시계방향\\110.csv\n",
      "C:/Users/hml76/OneDrive/문서/카카오톡 받은 파일/논문용/시계방향\\111.csv\n",
      "C:/Users/hml76/OneDrive/문서/카카오톡 받은 파일/논문용/시계방향\\112.csv\n",
      "C:/Users/hml76/OneDrive/문서/카카오톡 받은 파일/논문용/시계방향\\113.csv\n",
      "C:/Users/hml76/OneDrive/문서/카카오톡 받은 파일/논문용/시계방향\\114.csv\n",
      "C:/Users/hml76/OneDrive/문서/카카오톡 받은 파일/논문용/시계방향\\115.csv\n",
      "C:/Users/hml76/OneDrive/문서/카카오톡 받은 파일/논문용/시계방향\\116.csv\n",
      "C:/Users/hml76/OneDrive/문서/카카오톡 받은 파일/논문용/시계방향\\117.csv\n",
      "C:/Users/hml76/OneDrive/문서/카카오톡 받은 파일/논문용/시계방향\\118.csv\n",
      "C:/Users/hml76/OneDrive/문서/카카오톡 받은 파일/논문용/시계방향\\119.csv\n",
      "C:/Users/hml76/OneDrive/문서/카카오톡 받은 파일/논문용/시계방향\\12.csv\n",
      "C:/Users/hml76/OneDrive/문서/카카오톡 받은 파일/논문용/시계방향\\120.csv\n",
      "C:/Users/hml76/OneDrive/문서/카카오톡 받은 파일/논문용/시계방향\\121.csv\n",
      "C:/Users/hml76/OneDrive/문서/카카오톡 받은 파일/논문용/시계방향\\13.csv\n",
      "C:/Users/hml76/OneDrive/문서/카카오톡 받은 파일/논문용/시계방향\\14.csv\n",
      "C:/Users/hml76/OneDrive/문서/카카오톡 받은 파일/논문용/시계방향\\15.csv\n",
      "C:/Users/hml76/OneDrive/문서/카카오톡 받은 파일/논문용/시계방향\\17.csv\n",
      "C:/Users/hml76/OneDrive/문서/카카오톡 받은 파일/논문용/시계방향\\18.csv\n",
      "C:/Users/hml76/OneDrive/문서/카카오톡 받은 파일/논문용/시계방향\\2.csv\n",
      "C:/Users/hml76/OneDrive/문서/카카오톡 받은 파일/논문용/시계방향\\20.csv\n",
      "C:/Users/hml76/OneDrive/문서/카카오톡 받은 파일/논문용/시계방향\\22.csv\n",
      "C:/Users/hml76/OneDrive/문서/카카오톡 받은 파일/논문용/시계방향\\24.csv\n",
      "C:/Users/hml76/OneDrive/문서/카카오톡 받은 파일/논문용/시계방향\\25.csv\n",
      "C:/Users/hml76/OneDrive/문서/카카오톡 받은 파일/논문용/시계방향\\27.csv\n",
      "C:/Users/hml76/OneDrive/문서/카카오톡 받은 파일/논문용/시계방향\\30.csv\n",
      "C:/Users/hml76/OneDrive/문서/카카오톡 받은 파일/논문용/시계방향\\32.csv\n",
      "C:/Users/hml76/OneDrive/문서/카카오톡 받은 파일/논문용/시계방향\\34.csv\n",
      "C:/Users/hml76/OneDrive/문서/카카오톡 받은 파일/논문용/시계방향\\35.csv\n",
      "C:/Users/hml76/OneDrive/문서/카카오톡 받은 파일/논문용/시계방향\\36.csv\n",
      "C:/Users/hml76/OneDrive/문서/카카오톡 받은 파일/논문용/시계방향\\37.csv\n",
      "C:/Users/hml76/OneDrive/문서/카카오톡 받은 파일/논문용/시계방향\\38.csv\n",
      "C:/Users/hml76/OneDrive/문서/카카오톡 받은 파일/논문용/시계방향\\40.csv\n",
      "C:/Users/hml76/OneDrive/문서/카카오톡 받은 파일/논문용/시계방향\\42.csv\n",
      "C:/Users/hml76/OneDrive/문서/카카오톡 받은 파일/논문용/시계방향\\43.csv\n",
      "C:/Users/hml76/OneDrive/문서/카카오톡 받은 파일/논문용/시계방향\\44.csv\n",
      "C:/Users/hml76/OneDrive/문서/카카오톡 받은 파일/논문용/시계방향\\46.csv\n",
      "C:/Users/hml76/OneDrive/문서/카카오톡 받은 파일/논문용/시계방향\\47.csv\n",
      "C:/Users/hml76/OneDrive/문서/카카오톡 받은 파일/논문용/시계방향\\49.csv\n",
      "C:/Users/hml76/OneDrive/문서/카카오톡 받은 파일/논문용/시계방향\\5.csv\n",
      "C:/Users/hml76/OneDrive/문서/카카오톡 받은 파일/논문용/시계방향\\50.csv\n",
      "C:/Users/hml76/OneDrive/문서/카카오톡 받은 파일/논문용/시계방향\\51.csv\n",
      "C:/Users/hml76/OneDrive/문서/카카오톡 받은 파일/논문용/시계방향\\52.csv\n",
      "C:/Users/hml76/OneDrive/문서/카카오톡 받은 파일/논문용/시계방향\\53.csv\n",
      "C:/Users/hml76/OneDrive/문서/카카오톡 받은 파일/논문용/시계방향\\54.csv\n",
      "C:/Users/hml76/OneDrive/문서/카카오톡 받은 파일/논문용/시계방향\\55.csv\n",
      "C:/Users/hml76/OneDrive/문서/카카오톡 받은 파일/논문용/시계방향\\56.csv\n",
      "C:/Users/hml76/OneDrive/문서/카카오톡 받은 파일/논문용/시계방향\\58.csv\n",
      "C:/Users/hml76/OneDrive/문서/카카오톡 받은 파일/논문용/시계방향\\59.csv\n",
      "C:/Users/hml76/OneDrive/문서/카카오톡 받은 파일/논문용/시계방향\\60.csv\n",
      "C:/Users/hml76/OneDrive/문서/카카오톡 받은 파일/논문용/시계방향\\61.csv\n",
      "C:/Users/hml76/OneDrive/문서/카카오톡 받은 파일/논문용/시계방향\\62.csv\n",
      "C:/Users/hml76/OneDrive/문서/카카오톡 받은 파일/논문용/시계방향\\63.csv\n",
      "C:/Users/hml76/OneDrive/문서/카카오톡 받은 파일/논문용/시계방향\\64.csv\n",
      "C:/Users/hml76/OneDrive/문서/카카오톡 받은 파일/논문용/시계방향\\65.csv\n",
      "C:/Users/hml76/OneDrive/문서/카카오톡 받은 파일/논문용/시계방향\\66.csv\n",
      "C:/Users/hml76/OneDrive/문서/카카오톡 받은 파일/논문용/시계방향\\67.csv\n",
      "C:/Users/hml76/OneDrive/문서/카카오톡 받은 파일/논문용/시계방향\\69.csv\n",
      "C:/Users/hml76/OneDrive/문서/카카오톡 받은 파일/논문용/시계방향\\70.csv\n",
      "C:/Users/hml76/OneDrive/문서/카카오톡 받은 파일/논문용/시계방향\\71.csv\n",
      "C:/Users/hml76/OneDrive/문서/카카오톡 받은 파일/논문용/시계방향\\72.csv\n",
      "C:/Users/hml76/OneDrive/문서/카카오톡 받은 파일/논문용/시계방향\\74.csv\n",
      "C:/Users/hml76/OneDrive/문서/카카오톡 받은 파일/논문용/시계방향\\75.csv\n",
      "C:/Users/hml76/OneDrive/문서/카카오톡 받은 파일/논문용/시계방향\\76.csv\n",
      "C:/Users/hml76/OneDrive/문서/카카오톡 받은 파일/논문용/시계방향\\77.csv\n",
      "C:/Users/hml76/OneDrive/문서/카카오톡 받은 파일/논문용/시계방향\\78.csv\n",
      "C:/Users/hml76/OneDrive/문서/카카오톡 받은 파일/논문용/시계방향\\79.csv\n",
      "C:/Users/hml76/OneDrive/문서/카카오톡 받은 파일/논문용/시계방향\\8.csv\n",
      "C:/Users/hml76/OneDrive/문서/카카오톡 받은 파일/논문용/시계방향\\80.csv\n",
      "C:/Users/hml76/OneDrive/문서/카카오톡 받은 파일/논문용/시계방향\\81.csv\n",
      "C:/Users/hml76/OneDrive/문서/카카오톡 받은 파일/논문용/시계방향\\82.csv\n",
      "C:/Users/hml76/OneDrive/문서/카카오톡 받은 파일/논문용/시계방향\\83.csv\n",
      "C:/Users/hml76/OneDrive/문서/카카오톡 받은 파일/논문용/시계방향\\84.csv\n",
      "C:/Users/hml76/OneDrive/문서/카카오톡 받은 파일/논문용/시계방향\\85.csv\n",
      "C:/Users/hml76/OneDrive/문서/카카오톡 받은 파일/논문용/시계방향\\86.csv\n",
      "C:/Users/hml76/OneDrive/문서/카카오톡 받은 파일/논문용/시계방향\\87.csv\n",
      "C:/Users/hml76/OneDrive/문서/카카오톡 받은 파일/논문용/시계방향\\88.csv\n",
      "C:/Users/hml76/OneDrive/문서/카카오톡 받은 파일/논문용/시계방향\\89.csv\n",
      "C:/Users/hml76/OneDrive/문서/카카오톡 받은 파일/논문용/시계방향\\9.csv\n",
      "C:/Users/hml76/OneDrive/문서/카카오톡 받은 파일/논문용/시계방향\\90.csv\n",
      "C:/Users/hml76/OneDrive/문서/카카오톡 받은 파일/논문용/시계방향\\91.csv\n",
      "C:/Users/hml76/OneDrive/문서/카카오톡 받은 파일/논문용/시계방향\\92.csv\n",
      "C:/Users/hml76/OneDrive/문서/카카오톡 받은 파일/논문용/시계방향\\93.csv\n",
      "C:/Users/hml76/OneDrive/문서/카카오톡 받은 파일/논문용/시계방향\\94.csv\n",
      "C:/Users/hml76/OneDrive/문서/카카오톡 받은 파일/논문용/시계방향\\95.csv\n",
      "C:/Users/hml76/OneDrive/문서/카카오톡 받은 파일/논문용/시계방향\\96.csv\n",
      "C:/Users/hml76/OneDrive/문서/카카오톡 받은 파일/논문용/시계방향\\97.csv\n",
      "C:/Users/hml76/OneDrive/문서/카카오톡 받은 파일/논문용/시계방향\\98.csv\n",
      "C:/Users/hml76/OneDrive/문서/카카오톡 받은 파일/논문용/시계방향\\99.csv\n",
      "C:/Users/hml76/OneDrive/문서/카카오톡 받은 파일/논문용/시계반대방향\\1.csv\n",
      "C:/Users/hml76/OneDrive/문서/카카오톡 받은 파일/논문용/시계반대방향\\10.csv\n",
      "C:/Users/hml76/OneDrive/문서/카카오톡 받은 파일/논문용/시계반대방향\\100.csv\n",
      "C:/Users/hml76/OneDrive/문서/카카오톡 받은 파일/논문용/시계반대방향\\103.csv\n",
      "C:/Users/hml76/OneDrive/문서/카카오톡 받은 파일/논문용/시계반대방향\\104.csv\n",
      "C:/Users/hml76/OneDrive/문서/카카오톡 받은 파일/논문용/시계반대방향\\105.csv\n",
      "C:/Users/hml76/OneDrive/문서/카카오톡 받은 파일/논문용/시계반대방향\\106.csv\n",
      "C:/Users/hml76/OneDrive/문서/카카오톡 받은 파일/논문용/시계반대방향\\11.csv\n",
      "C:/Users/hml76/OneDrive/문서/카카오톡 받은 파일/논문용/시계반대방향\\12.csv\n",
      "C:/Users/hml76/OneDrive/문서/카카오톡 받은 파일/논문용/시계반대방향\\13.csv\n",
      "C:/Users/hml76/OneDrive/문서/카카오톡 받은 파일/논문용/시계반대방향\\14.csv\n",
      "C:/Users/hml76/OneDrive/문서/카카오톡 받은 파일/논문용/시계반대방향\\15.csv\n",
      "C:/Users/hml76/OneDrive/문서/카카오톡 받은 파일/논문용/시계반대방향\\16.csv\n",
      "C:/Users/hml76/OneDrive/문서/카카오톡 받은 파일/논문용/시계반대방향\\17.csv\n",
      "C:/Users/hml76/OneDrive/문서/카카오톡 받은 파일/논문용/시계반대방향\\18.csv\n",
      "C:/Users/hml76/OneDrive/문서/카카오톡 받은 파일/논문용/시계반대방향\\19.csv\n",
      "C:/Users/hml76/OneDrive/문서/카카오톡 받은 파일/논문용/시계반대방향\\2.csv\n",
      "C:/Users/hml76/OneDrive/문서/카카오톡 받은 파일/논문용/시계반대방향\\20.csv\n",
      "C:/Users/hml76/OneDrive/문서/카카오톡 받은 파일/논문용/시계반대방향\\21.csv\n",
      "C:/Users/hml76/OneDrive/문서/카카오톡 받은 파일/논문용/시계반대방향\\22.csv\n",
      "C:/Users/hml76/OneDrive/문서/카카오톡 받은 파일/논문용/시계반대방향\\23.csv\n",
      "C:/Users/hml76/OneDrive/문서/카카오톡 받은 파일/논문용/시계반대방향\\24.csv\n",
      "C:/Users/hml76/OneDrive/문서/카카오톡 받은 파일/논문용/시계반대방향\\25.csv\n",
      "C:/Users/hml76/OneDrive/문서/카카오톡 받은 파일/논문용/시계반대방향\\26.csv\n",
      "C:/Users/hml76/OneDrive/문서/카카오톡 받은 파일/논문용/시계반대방향\\27.csv\n",
      "C:/Users/hml76/OneDrive/문서/카카오톡 받은 파일/논문용/시계반대방향\\28.csv\n",
      "C:/Users/hml76/OneDrive/문서/카카오톡 받은 파일/논문용/시계반대방향\\29.csv\n",
      "C:/Users/hml76/OneDrive/문서/카카오톡 받은 파일/논문용/시계반대방향\\3.csv\n",
      "C:/Users/hml76/OneDrive/문서/카카오톡 받은 파일/논문용/시계반대방향\\30.csv\n",
      "C:/Users/hml76/OneDrive/문서/카카오톡 받은 파일/논문용/시계반대방향\\31.csv\n",
      "C:/Users/hml76/OneDrive/문서/카카오톡 받은 파일/논문용/시계반대방향\\32.csv\n",
      "C:/Users/hml76/OneDrive/문서/카카오톡 받은 파일/논문용/시계반대방향\\33.csv\n",
      "C:/Users/hml76/OneDrive/문서/카카오톡 받은 파일/논문용/시계반대방향\\34.csv\n",
      "C:/Users/hml76/OneDrive/문서/카카오톡 받은 파일/논문용/시계반대방향\\35.csv\n",
      "C:/Users/hml76/OneDrive/문서/카카오톡 받은 파일/논문용/시계반대방향\\36.csv\n",
      "C:/Users/hml76/OneDrive/문서/카카오톡 받은 파일/논문용/시계반대방향\\37.csv\n",
      "C:/Users/hml76/OneDrive/문서/카카오톡 받은 파일/논문용/시계반대방향\\38.csv\n",
      "C:/Users/hml76/OneDrive/문서/카카오톡 받은 파일/논문용/시계반대방향\\39.csv\n",
      "C:/Users/hml76/OneDrive/문서/카카오톡 받은 파일/논문용/시계반대방향\\4.csv\n",
      "C:/Users/hml76/OneDrive/문서/카카오톡 받은 파일/논문용/시계반대방향\\40.csv\n",
      "C:/Users/hml76/OneDrive/문서/카카오톡 받은 파일/논문용/시계반대방향\\41.csv\n",
      "C:/Users/hml76/OneDrive/문서/카카오톡 받은 파일/논문용/시계반대방향\\42.csv\n",
      "C:/Users/hml76/OneDrive/문서/카카오톡 받은 파일/논문용/시계반대방향\\43.csv\n",
      "C:/Users/hml76/OneDrive/문서/카카오톡 받은 파일/논문용/시계반대방향\\46.csv\n",
      "C:/Users/hml76/OneDrive/문서/카카오톡 받은 파일/논문용/시계반대방향\\47.csv\n"
     ]
    },
    {
     "name": "stdout",
     "output_type": "stream",
     "text": [
      "C:/Users/hml76/OneDrive/문서/카카오톡 받은 파일/논문용/시계반대방향\\48.csv\n",
      "C:/Users/hml76/OneDrive/문서/카카오톡 받은 파일/논문용/시계반대방향\\49.csv\n",
      "C:/Users/hml76/OneDrive/문서/카카오톡 받은 파일/논문용/시계반대방향\\5.csv\n",
      "C:/Users/hml76/OneDrive/문서/카카오톡 받은 파일/논문용/시계반대방향\\50.csv\n",
      "C:/Users/hml76/OneDrive/문서/카카오톡 받은 파일/논문용/시계반대방향\\53.csv\n",
      "C:/Users/hml76/OneDrive/문서/카카오톡 받은 파일/논문용/시계반대방향\\54.csv\n",
      "C:/Users/hml76/OneDrive/문서/카카오톡 받은 파일/논문용/시계반대방향\\55.csv\n",
      "C:/Users/hml76/OneDrive/문서/카카오톡 받은 파일/논문용/시계반대방향\\56.csv\n",
      "C:/Users/hml76/OneDrive/문서/카카오톡 받은 파일/논문용/시계반대방향\\57.csv\n",
      "C:/Users/hml76/OneDrive/문서/카카오톡 받은 파일/논문용/시계반대방향\\58.csv\n",
      "C:/Users/hml76/OneDrive/문서/카카오톡 받은 파일/논문용/시계반대방향\\59.csv\n",
      "C:/Users/hml76/OneDrive/문서/카카오톡 받은 파일/논문용/시계반대방향\\6.csv\n",
      "C:/Users/hml76/OneDrive/문서/카카오톡 받은 파일/논문용/시계반대방향\\60.csv\n",
      "C:/Users/hml76/OneDrive/문서/카카오톡 받은 파일/논문용/시계반대방향\\61.csv\n",
      "C:/Users/hml76/OneDrive/문서/카카오톡 받은 파일/논문용/시계반대방향\\62.csv\n",
      "C:/Users/hml76/OneDrive/문서/카카오톡 받은 파일/논문용/시계반대방향\\63.csv\n",
      "C:/Users/hml76/OneDrive/문서/카카오톡 받은 파일/논문용/시계반대방향\\64.csv\n",
      "C:/Users/hml76/OneDrive/문서/카카오톡 받은 파일/논문용/시계반대방향\\65.csv\n",
      "C:/Users/hml76/OneDrive/문서/카카오톡 받은 파일/논문용/시계반대방향\\66.csv\n",
      "C:/Users/hml76/OneDrive/문서/카카오톡 받은 파일/논문용/시계반대방향\\67.csv\n",
      "C:/Users/hml76/OneDrive/문서/카카오톡 받은 파일/논문용/시계반대방향\\68.csv\n",
      "C:/Users/hml76/OneDrive/문서/카카오톡 받은 파일/논문용/시계반대방향\\69.csv\n",
      "C:/Users/hml76/OneDrive/문서/카카오톡 받은 파일/논문용/시계반대방향\\7.csv\n",
      "C:/Users/hml76/OneDrive/문서/카카오톡 받은 파일/논문용/시계반대방향\\70.csv\n",
      "C:/Users/hml76/OneDrive/문서/카카오톡 받은 파일/논문용/시계반대방향\\71.csv\n",
      "C:/Users/hml76/OneDrive/문서/카카오톡 받은 파일/논문용/시계반대방향\\72.csv\n",
      "C:/Users/hml76/OneDrive/문서/카카오톡 받은 파일/논문용/시계반대방향\\73.csv\n",
      "C:/Users/hml76/OneDrive/문서/카카오톡 받은 파일/논문용/시계반대방향\\74.csv\n",
      "C:/Users/hml76/OneDrive/문서/카카오톡 받은 파일/논문용/시계반대방향\\75.csv\n",
      "C:/Users/hml76/OneDrive/문서/카카오톡 받은 파일/논문용/시계반대방향\\76.csv\n",
      "C:/Users/hml76/OneDrive/문서/카카오톡 받은 파일/논문용/시계반대방향\\77.csv\n",
      "C:/Users/hml76/OneDrive/문서/카카오톡 받은 파일/논문용/시계반대방향\\78.csv\n",
      "C:/Users/hml76/OneDrive/문서/카카오톡 받은 파일/논문용/시계반대방향\\79.csv\n",
      "C:/Users/hml76/OneDrive/문서/카카오톡 받은 파일/논문용/시계반대방향\\8.csv\n",
      "C:/Users/hml76/OneDrive/문서/카카오톡 받은 파일/논문용/시계반대방향\\80.csv\n",
      "C:/Users/hml76/OneDrive/문서/카카오톡 받은 파일/논문용/시계반대방향\\81.csv\n",
      "C:/Users/hml76/OneDrive/문서/카카오톡 받은 파일/논문용/시계반대방향\\82.csv\n",
      "C:/Users/hml76/OneDrive/문서/카카오톡 받은 파일/논문용/시계반대방향\\83.csv\n",
      "C:/Users/hml76/OneDrive/문서/카카오톡 받은 파일/논문용/시계반대방향\\84.csv\n",
      "C:/Users/hml76/OneDrive/문서/카카오톡 받은 파일/논문용/시계반대방향\\85.csv\n",
      "C:/Users/hml76/OneDrive/문서/카카오톡 받은 파일/논문용/시계반대방향\\86.csv\n",
      "C:/Users/hml76/OneDrive/문서/카카오톡 받은 파일/논문용/시계반대방향\\87.csv\n",
      "C:/Users/hml76/OneDrive/문서/카카오톡 받은 파일/논문용/시계반대방향\\88.csv\n",
      "C:/Users/hml76/OneDrive/문서/카카오톡 받은 파일/논문용/시계반대방향\\89.csv\n",
      "C:/Users/hml76/OneDrive/문서/카카오톡 받은 파일/논문용/시계반대방향\\9.csv\n",
      "C:/Users/hml76/OneDrive/문서/카카오톡 받은 파일/논문용/시계반대방향\\90.csv\n",
      "C:/Users/hml76/OneDrive/문서/카카오톡 받은 파일/논문용/시계반대방향\\91.csv\n",
      "C:/Users/hml76/OneDrive/문서/카카오톡 받은 파일/논문용/시계반대방향\\92.csv\n",
      "C:/Users/hml76/OneDrive/문서/카카오톡 받은 파일/논문용/시계반대방향\\93.csv\n",
      "C:/Users/hml76/OneDrive/문서/카카오톡 받은 파일/논문용/시계반대방향\\94.csv\n",
      "C:/Users/hml76/OneDrive/문서/카카오톡 받은 파일/논문용/시계반대방향\\95.csv\n",
      "C:/Users/hml76/OneDrive/문서/카카오톡 받은 파일/논문용/시계반대방향\\96.csv\n",
      "C:/Users/hml76/OneDrive/문서/카카오톡 받은 파일/논문용/시계반대방향\\97.csv\n",
      "C:/Users/hml76/OneDrive/문서/카카오톡 받은 파일/논문용/시계반대방향\\98.csv\n",
      "C:/Users/hml76/OneDrive/문서/카카오톡 받은 파일/논문용/시계반대방향\\99.csv\n"
     ]
    }
   ],
   "source": [
    "for i, data in enumerate(total_data):\n",
    "    print(data)\n",
    "    dataset[i] = pd.read_csv(data, names=['a-b','c-d','label']).sample(n=150).sort_index().iloc[:,:2]"
   ]
  },
  {
   "cell_type": "code",
   "execution_count": 11,
   "metadata": {},
   "outputs": [
    {
     "data": {
      "text/plain": [
       "((400, 150, 2), (400, 4))"
      ]
     },
     "execution_count": 11,
     "metadata": {},
     "output_type": "execute_result"
    }
   ],
   "source": [
    "label = np.array([[1, 0, 0 ,0 ]] * len(data_1) + [[0, 1, 0, 0]] * len(data_2) + [[0, 0, 1, 0]] * len(data_3) + [[0, 0, 0, 1]] * len(data_4))\n",
    "dataset.shape, label.shape"
   ]
  },
  {
   "cell_type": "code",
   "execution_count": 27,
   "metadata": {},
   "outputs": [
    {
     "data": {
      "text/plain": [
       "(80, 150, 2)"
      ]
     },
     "execution_count": 27,
     "metadata": {},
     "output_type": "execute_result"
    }
   ],
   "source": [
    "X_train, X_test, y_train, y_test = train_test_split(dataset, label, random_state=0, test_size=0.2)\n",
    "X_test.shape"
   ]
  },
  {
   "cell_type": "code",
   "execution_count": 16,
   "metadata": {},
   "outputs": [],
   "source": [
    "callback = [\n",
    "    ReduceLROnPlateau(monitor='val_loss', factor=0.1, patience=3, min_lr=0.000001), \n",
    "    #ModelCheckpoint(filepath='./weights.h5', save_best_only=True),\n",
    "    EarlyStopping(monitor='val_acc', restore_best_weights=True, patience=5)\n",
    "]"
   ]
  },
  {
   "cell_type": "code",
   "execution_count": 17,
   "metadata": {},
   "outputs": [
    {
     "name": "stdout",
     "output_type": "stream",
     "text": [
      "WARNING:tensorflow:From C:\\Users\\hml76\\AppData\\Local\\Continuum\\anaconda3\\lib\\site-packages\\keras\\backend\\tensorflow_backend.py:95: The name tf.reset_default_graph is deprecated. Please use tf.compat.v1.reset_default_graph instead.\n",
      "\n",
      "WARNING:tensorflow:From C:\\Users\\hml76\\AppData\\Local\\Continuum\\anaconda3\\lib\\site-packages\\keras\\backend\\tensorflow_backend.py:98: The name tf.placeholder_with_default is deprecated. Please use tf.compat.v1.placeholder_with_default instead.\n",
      "\n",
      "WARNING:tensorflow:From C:\\Users\\hml76\\AppData\\Local\\Continuum\\anaconda3\\lib\\site-packages\\keras\\backend\\tensorflow_backend.py:102: The name tf.get_default_graph is deprecated. Please use tf.compat.v1.get_default_graph instead.\n",
      "\n"
     ]
    }
   ],
   "source": [
    "K.clear_session()"
   ]
  },
  {
   "cell_type": "code",
   "execution_count": 21,
   "metadata": {},
   "outputs": [
    {
     "name": "stdout",
     "output_type": "stream",
     "text": [
      "_________________________________________________________________\n",
      "Layer (type)                 Output Shape              Param #   \n",
      "=================================================================\n",
      "lstm_3 (LSTM)                (None, 20)                1840      \n",
      "_________________________________________________________________\n",
      "dense_3 (Dense)              (None, 4)                 84        \n",
      "=================================================================\n",
      "Total params: 1,924\n",
      "Trainable params: 1,924\n",
      "Non-trainable params: 0\n",
      "_________________________________________________________________\n"
     ]
    }
   ],
   "source": [
    "model_once = Sequential()\n",
    "\n",
    "model_once.add(LSTM(20, input_shape=(150,2)))\n",
    "model_once.add(Dense(4, activation='softmax'))\n",
    "model_once.compile(loss='categorical_crossentropy', optimizer=Adam(lr=0.005), metrics=['acc'])\n",
    "\n",
    "model_once.summary()"
   ]
  },
  {
   "cell_type": "code",
   "execution_count": 22,
   "metadata": {
    "scrolled": true
   },
   "outputs": [
    {
     "name": "stdout",
     "output_type": "stream",
     "text": [
      "WARNING:tensorflow:From C:\\Users\\hml76\\AppData\\Local\\Continuum\\anaconda3\\lib\\site-packages\\tensorflow\\python\\ops\\math_grad.py:1250: add_dispatch_support.<locals>.wrapper (from tensorflow.python.ops.array_ops) is deprecated and will be removed in a future version.\n",
      "Instructions for updating:\n",
      "Use tf.where in 2.0, which has the same broadcast rule as np.where\n",
      "Epoch 1/30\n",
      "320/320 [==============================] - 3s 8ms/step - loss: 1.3562 - acc: 0.4875\n",
      "Epoch 2/30\n",
      "320/320 [==============================] - 1s 3ms/step - loss: 1.2258 - acc: 0.5000\n",
      "Epoch 3/30\n",
      "320/320 [==============================] - 1s 3ms/step - loss: 1.0462 - acc: 0.5344\n",
      "Epoch 4/30\n",
      "320/320 [==============================] - 1s 4ms/step - loss: 0.9003 - acc: 0.5750\n",
      "Epoch 5/30\n",
      "320/320 [==============================] - 1s 3ms/step - loss: 0.8131 - acc: 0.7094\n",
      "Epoch 6/30\n",
      "320/320 [==============================] - 1s 3ms/step - loss: 0.7294 - acc: 0.7781\n",
      "Epoch 7/30\n",
      "320/320 [==============================] - 1s 4ms/step - loss: 0.7167 - acc: 0.7937\n",
      "Epoch 8/30\n",
      "320/320 [==============================] - 1s 3ms/step - loss: 0.5695 - acc: 0.8344\n",
      "Epoch 9/30\n",
      "320/320 [==============================] - 1s 3ms/step - loss: 1.0748 - acc: 0.6063\n",
      "Epoch 10/30\n",
      "320/320 [==============================] - 1s 3ms/step - loss: 0.9971 - acc: 0.4688\n",
      "Epoch 11/30\n",
      "320/320 [==============================] - 1s 4ms/step - loss: 0.7380 - acc: 0.6937\n",
      "Epoch 12/30\n",
      "320/320 [==============================] - 1s 3ms/step - loss: 0.6146 - acc: 0.8375\n",
      "Epoch 13/30\n",
      "320/320 [==============================] - 1s 3ms/step - loss: 0.5559 - acc: 0.8781\n",
      "Epoch 14/30\n",
      "320/320 [==============================] - 1s 4ms/step - loss: 0.4884 - acc: 0.8250\n",
      "Epoch 15/30\n",
      "320/320 [==============================] - 1s 4ms/step - loss: 0.4236 - acc: 0.8594\n",
      "Epoch 16/30\n",
      "320/320 [==============================] - 1s 3ms/step - loss: 0.3571 - acc: 0.9094\n",
      "Epoch 17/30\n",
      "320/320 [==============================] - 1s 4ms/step - loss: 0.3013 - acc: 0.9313\n",
      "Epoch 18/30\n",
      "320/320 [==============================] - 1s 3ms/step - loss: 0.2669 - acc: 0.9187\n",
      "Epoch 19/30\n",
      "320/320 [==============================] - 1s 3ms/step - loss: 0.2237 - acc: 0.9406\n",
      "Epoch 20/30\n",
      "320/320 [==============================] - 1s 3ms/step - loss: 0.2053 - acc: 0.9500\n",
      "Epoch 21/30\n",
      "320/320 [==============================] - 1s 4ms/step - loss: 0.2766 - acc: 0.9250\n",
      "Epoch 22/30\n",
      "320/320 [==============================] - 1s 3ms/step - loss: 0.1782 - acc: 0.9469\n",
      "Epoch 23/30\n",
      "320/320 [==============================] - 1s 3ms/step - loss: 0.1706 - acc: 0.9500\n",
      "Epoch 24/30\n",
      "320/320 [==============================] - 1s 4ms/step - loss: 0.1491 - acc: 0.9625\n",
      "Epoch 25/30\n",
      "320/320 [==============================] - 1s 4ms/step - loss: 0.1388 - acc: 0.9531\n",
      "Epoch 26/30\n",
      "320/320 [==============================] - 1s 4ms/step - loss: 0.1881 - acc: 0.9469\n",
      "Epoch 27/30\n",
      "320/320 [==============================] - 2s 5ms/step - loss: 0.2168 - acc: 0.9437\n",
      "Epoch 28/30\n",
      "320/320 [==============================] - 1s 3ms/step - loss: 0.2112 - acc: 0.9313\n",
      "Epoch 29/30\n",
      "320/320 [==============================] - 1s 3ms/step - loss: 0.1752 - acc: 0.9594\n",
      "Epoch 30/30\n",
      "320/320 [==============================] - 1s 4ms/step - loss: 0.1530 - acc: 0.9688\n"
     ]
    },
    {
     "data": {
      "text/plain": [
       "<keras.callbacks.History at 0x207cf564ba8>"
      ]
     },
     "execution_count": 22,
     "metadata": {},
     "output_type": "execute_result"
    }
   ],
   "source": [
    "model_once.fit(X_train, y_train, epochs=30)"
   ]
  },
  {
   "cell_type": "code",
   "execution_count": 23,
   "metadata": {
    "scrolled": true
   },
   "outputs": [
    {
     "name": "stdout",
     "output_type": "stream",
     "text": [
      "80/80 [==============================] - 0s 3ms/step\n"
     ]
    },
    {
     "data": {
      "text/plain": [
       "[0.28929988145828245, 0.925]"
      ]
     },
     "execution_count": 23,
     "metadata": {},
     "output_type": "execute_result"
    }
   ],
   "source": [
    "model_once.evaluate(X_test, y_test)"
   ]
  },
  {
   "cell_type": "code",
   "execution_count": 25,
   "metadata": {},
   "outputs": [
    {
     "data": {
      "text/plain": [
       "(array([1, 3, 3, 1, 2, 0, 1, 2, 1, 2, 0, 1, 1, 3, 0, 0, 2, 1, 2, 1]),\n",
       " array([1, 3, 0, 1, 2, 0, 1, 2, 1, 2, 0, 1, 1, 2, 0, 0, 2, 1, 2, 1]))"
      ]
     },
     "execution_count": 25,
     "metadata": {},
     "output_type": "execute_result"
    }
   ],
   "source": [
    "y_test_to_int = np.arange(len(y_test))\n",
    "x_test_to_int = np.arange(len(X_test)) \n",
    "\n",
    "for j in range(len(X_test)):\n",
    "    x_test_to_int[j] = int(model_once.predict_classes(X_test[j:j+1]))\n",
    "    for k in range(4):\n",
    "        if(y_test[j,k] == 1):\n",
    "            y_test_to_int[j] = k \n",
    "\n",
    "y_test_to_int[0:20], x_test_to_int[0:20]           "
   ]
  },
  {
   "cell_type": "code",
   "execution_count": 26,
   "metadata": {},
   "outputs": [
    {
     "name": "stdout",
     "output_type": "stream",
     "text": [
      "Real value : Prediction\n",
      "---------------------------\n",
      "    3 \t   : \t 0\n",
      "    3 \t   : \t 2\n",
      "    2 \t   : \t 1\n",
      "    0 \t   : \t 3\n",
      "    0 \t   : \t 3\n",
      "    0 \t   : \t 3\n",
      "\n",
      "\n",
      "Number of miscalculation :  6 / 80 = 0.075\n",
      "\n",
      "Accuracy :  92.5 %\n"
     ]
    }
   ],
   "source": [
    "count=0\n",
    "print(\"Real value : Prediction\\n---------------------------\")\n",
    "for i in range(len(X_test)):\n",
    "    if(y_test_to_int[i] != x_test_to_int[i]):\n",
    "        print(\"   \",y_test_to_int[i], \"\\t   : \\t\", x_test_to_int[i])\n",
    "        count = count + 1\n",
    "probab = count/len(X_test)\n",
    "print(\"\\n\\nNumber of miscalculation : \",count,\"/\",len(x_test_to_int),\"=\",round(probab,3))\n",
    "print(\"\\nAccuracy : \",((1-round(probab,4))*100),\"%\")"
   ]
  },
  {
   "cell_type": "code",
   "execution_count": 29,
   "metadata": {},
   "outputs": [
    {
     "data": {
      "text/plain": [
       "array([2, 2], dtype=int64)"
      ]
     },
     "execution_count": 29,
     "metadata": {},
     "output_type": "execute_result"
    }
   ],
   "source": [
    "test_data_set_CW1 = pd.read_csv(\"C:/Users/hml76/OneDrive/바탕 화면/122.csv\",names=['a-b','c-d'])\n",
    "test_data_set_CW1 = np.zeros((2, 150, 2))\n",
    "test_data_set_CW1\n",
    "for i, data in enumerate(test_data_set_CW1):\n",
    "    test_data_set_CW1[i] = pd.read_csv(\"C:/Users/hml76/OneDrive/바탕 화면/122.csv\", names=['a-b','c-d']).sample(n=150).sort_index().iloc[:,:2]\n",
    "test_data_set_CW1    \n",
    "model_once.predict_classes(test_data_set_CW1)"
   ]
  },
  {
   "cell_type": "code",
   "execution_count": null,
   "metadata": {},
   "outputs": [],
   "source": []
  }
 ],
 "metadata": {
  "kernelspec": {
   "display_name": "Python 3",
   "language": "python",
   "name": "python3"
  },
  "language_info": {
   "codemirror_mode": {
    "name": "ipython",
    "version": 3
   },
   "file_extension": ".py",
   "mimetype": "text/x-python",
   "name": "python",
   "nbconvert_exporter": "python",
   "pygments_lexer": "ipython3",
   "version": "3.7.3"
  }
 },
 "nbformat": 4,
 "nbformat_minor": 4
}
