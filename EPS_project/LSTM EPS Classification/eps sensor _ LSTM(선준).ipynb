{
 "cells": [
  {
   "cell_type": "code",
   "execution_count": 4,
   "metadata": {},
   "outputs": [],
   "source": [
    "import glob\n",
    "import pandas as pd\n",
    "import numpy as np"
   ]
  },
  {
   "cell_type": "code",
   "execution_count": 5,
   "metadata": {},
   "outputs": [],
   "source": [
    "test_case_1 = glob.glob('테스트/좌-우/*.csv')\n",
    "test_case_2 = glob.glob('테스트/우-좌/*.csv')\n",
    "test_case_3 = glob.glob('테스트/시계방향/*.csv')\n",
    "test_case_4 = glob.glob('테스트/시계반대방향/*.csv')"
   ]
  },
  {
   "cell_type": "code",
   "execution_count": 6,
   "metadata": {},
   "outputs": [
    {
     "data": {
      "text/plain": [
       "(200, 200, 200, 200)"
      ]
     },
     "execution_count": 6,
     "metadata": {},
     "output_type": "execute_result"
    }
   ],
   "source": [
    "len(test_case_1), len(test_case_2), len(test_case_3), len(test_case_4)"
   ]
  },
  {
   "cell_type": "code",
   "execution_count": 7,
   "metadata": {},
   "outputs": [],
   "source": [
    "# df_tc_1 = pd.read_csv(i, names=['a-b','c-d','label']).shape"
   ]
  },
  {
   "cell_type": "code",
   "execution_count": 8,
   "metadata": {},
   "outputs": [],
   "source": [
    "test_set = pd.read_csv(test_case_2[0], names=['a-b','c-d'])"
   ]
  },
  {
   "cell_type": "code",
   "execution_count": 9,
   "metadata": {},
   "outputs": [
    {
     "data": {
      "text/html": [
       "<div>\n",
       "<style scoped>\n",
       "    .dataframe tbody tr th:only-of-type {\n",
       "        vertical-align: middle;\n",
       "    }\n",
       "\n",
       "    .dataframe tbody tr th {\n",
       "        vertical-align: top;\n",
       "    }\n",
       "\n",
       "    .dataframe thead th {\n",
       "        text-align: right;\n",
       "    }\n",
       "</style>\n",
       "<table border=\"1\" class=\"dataframe\">\n",
       "  <thead>\n",
       "    <tr style=\"text-align: right;\">\n",
       "      <th></th>\n",
       "      <th>a-b</th>\n",
       "      <th>c-d</th>\n",
       "    </tr>\n",
       "  </thead>\n",
       "  <tbody>\n",
       "    <tr>\n",
       "      <th>0</th>\n",
       "      <td>-0.027965</td>\n",
       "      <td>0.041223</td>\n",
       "    </tr>\n",
       "    <tr>\n",
       "      <th>1</th>\n",
       "      <td>-0.028218</td>\n",
       "      <td>0.042603</td>\n",
       "    </tr>\n",
       "    <tr>\n",
       "      <th>2</th>\n",
       "      <td>-0.028825</td>\n",
       "      <td>0.043931</td>\n",
       "    </tr>\n",
       "    <tr>\n",
       "      <th>3</th>\n",
       "      <td>-0.029800</td>\n",
       "      <td>0.045180</td>\n",
       "    </tr>\n",
       "    <tr>\n",
       "      <th>4</th>\n",
       "      <td>-0.031084</td>\n",
       "      <td>0.046341</td>\n",
       "    </tr>\n",
       "  </tbody>\n",
       "</table>\n",
       "</div>"
      ],
      "text/plain": [
       "        a-b       c-d\n",
       "0 -0.027965  0.041223\n",
       "1 -0.028218  0.042603\n",
       "2 -0.028825  0.043931\n",
       "3 -0.029800  0.045180\n",
       "4 -0.031084  0.046341"
      ]
     },
     "execution_count": 9,
     "metadata": {},
     "output_type": "execute_result"
    }
   ],
   "source": [
    "test_set.head()"
   ]
  },
  {
   "cell_type": "code",
   "execution_count": 10,
   "metadata": {},
   "outputs": [
    {
     "data": {
      "text/html": [
       "<div>\n",
       "<style scoped>\n",
       "    .dataframe tbody tr th:only-of-type {\n",
       "        vertical-align: middle;\n",
       "    }\n",
       "\n",
       "    .dataframe tbody tr th {\n",
       "        vertical-align: top;\n",
       "    }\n",
       "\n",
       "    .dataframe thead th {\n",
       "        text-align: right;\n",
       "    }\n",
       "</style>\n",
       "<table border=\"1\" class=\"dataframe\">\n",
       "  <thead>\n",
       "    <tr style=\"text-align: right;\">\n",
       "      <th></th>\n",
       "      <th>0</th>\n",
       "    </tr>\n",
       "  </thead>\n",
       "  <tbody>\n",
       "    <tr>\n",
       "      <th>0</th>\n",
       "      <td>1</td>\n",
       "    </tr>\n",
       "    <tr>\n",
       "      <th>1</th>\n",
       "      <td>2</td>\n",
       "    </tr>\n",
       "    <tr>\n",
       "      <th>2</th>\n",
       "      <td>3</td>\n",
       "    </tr>\n",
       "    <tr>\n",
       "      <th>3</th>\n",
       "      <td>4</td>\n",
       "    </tr>\n",
       "    <tr>\n",
       "      <th>4</th>\n",
       "      <td>5</td>\n",
       "    </tr>\n",
       "    <tr>\n",
       "      <th>5</th>\n",
       "      <td>6</td>\n",
       "    </tr>\n",
       "    <tr>\n",
       "      <th>6</th>\n",
       "      <td>7</td>\n",
       "    </tr>\n",
       "  </tbody>\n",
       "</table>\n",
       "</div>"
      ],
      "text/plain": [
       "   0\n",
       "0  1\n",
       "1  2\n",
       "2  3\n",
       "3  4\n",
       "4  5\n",
       "5  6\n",
       "6  7"
      ]
     },
     "execution_count": 10,
     "metadata": {},
     "output_type": "execute_result"
    }
   ],
   "source": [
    "pd.DataFrame([[1],[2],[3],[4],[5],[6],[7]]).sample(n=7).sort_index()"
   ]
  },
  {
   "cell_type": "code",
   "execution_count": 11,
   "metadata": {},
   "outputs": [
    {
     "ename": "NameError",
     "evalue": "name 'file_lst' is not defined",
     "output_type": "error",
     "traceback": [
      "\u001b[1;31m---------------------------------------------------------------------------\u001b[0m",
      "\u001b[1;31mNameError\u001b[0m                                 Traceback (most recent call last)",
      "\u001b[1;32m<ipython-input-11-957c1cb61919>\u001b[0m in \u001b[0;36m<module>\u001b[1;34m\u001b[0m\n\u001b[1;32m----> 1\u001b[1;33m \u001b[1;32mfor\u001b[0m \u001b[0mi\u001b[0m \u001b[1;32min\u001b[0m \u001b[0mfile_lst\u001b[0m\u001b[1;33m[\u001b[0m\u001b[1;36m1\u001b[0m\u001b[1;33m:\u001b[0m\u001b[1;33m]\u001b[0m\u001b[1;33m:\u001b[0m\u001b[1;33m\u001b[0m\u001b[1;33m\u001b[0m\u001b[0m\n\u001b[0m\u001b[0;32m      2\u001b[0m     \u001b[0mprint\u001b[0m\u001b[1;33m(\u001b[0m\u001b[0mlen\u001b[0m\u001b[1;33m(\u001b[0m\u001b[0mrandom\u001b[0m\u001b[1;33m.\u001b[0m\u001b[0msample\u001b[0m\u001b[1;33m(\u001b[0m\u001b[0mlist\u001b[0m\u001b[1;33m(\u001b[0m\u001b[0mpd\u001b[0m\u001b[1;33m.\u001b[0m\u001b[0mread_csv\u001b[0m\u001b[1;33m(\u001b[0m\u001b[0mi\u001b[0m\u001b[1;33m,\u001b[0m \u001b[0mnames\u001b[0m\u001b[1;33m=\u001b[0m\u001b[1;33m[\u001b[0m\u001b[1;34m'a-b'\u001b[0m\u001b[1;33m,\u001b[0m\u001b[1;34m'c-d'\u001b[0m\u001b[1;33m,\u001b[0m\u001b[1;34m'label'\u001b[0m\u001b[1;33m]\u001b[0m\u001b[1;33m)\u001b[0m\u001b[1;33m[\u001b[0m\u001b[1;34m'a-b'\u001b[0m\u001b[1;33m]\u001b[0m\u001b[1;33m.\u001b[0m\u001b[0mvalues\u001b[0m\u001b[1;33m)\u001b[0m\u001b[1;33m,\u001b[0m \u001b[1;36m1000\u001b[0m\u001b[1;33m)\u001b[0m\u001b[1;33m)\u001b[0m\u001b[1;33m)\u001b[0m\u001b[1;33m\u001b[0m\u001b[1;33m\u001b[0m\u001b[0m\n",
      "\u001b[1;31mNameError\u001b[0m: name 'file_lst' is not defined"
     ]
    }
   ],
   "source": [
    "for i in file_lst[1:]:\n",
    "    print(len(random.sample(list(pd.read_csv(i, names=['a-b','c-d','label'])['a-b'].values), 1000)))"
   ]
  },
  {
   "cell_type": "markdown",
   "metadata": {},
   "source": [
    "### main code"
   ]
  },
  {
   "cell_type": "code",
   "execution_count": 12,
   "metadata": {},
   "outputs": [],
   "source": [
    "total_data = test_case_1 + test_case_2 + test_case_3 + test_case_4"
   ]
  },
  {
   "cell_type": "code",
   "execution_count": 13,
   "metadata": {},
   "outputs": [],
   "source": [
    "dataset = np.zeros((len(total_data), 100, 2))"
   ]
  },
  {
   "cell_type": "code",
   "execution_count": 14,
   "metadata": {},
   "outputs": [
    {
     "data": {
      "text/plain": [
       "(800, 100, 2)"
      ]
     },
     "execution_count": 14,
     "metadata": {},
     "output_type": "execute_result"
    }
   ],
   "source": [
    "dataset.shape"
   ]
  },
  {
   "cell_type": "code",
   "execution_count": 15,
   "metadata": {},
   "outputs": [],
   "source": [
    "for i, data in enumerate(total_data):\n",
    "    # print(pd.read_csv(i, names=['a-b','c-d','label']).sample(n=1000).sort_index().iloc[:,:2].shape)\n",
    "    dataset[i] = pd.read_csv(data, names=['a-b','c-d','label']).sample(n=100).sort_index().iloc[:,:2]"
   ]
  },
  {
   "cell_type": "code",
   "execution_count": 16,
   "metadata": {},
   "outputs": [],
   "source": [
    "label = np.array([[1, 0, 0 ,0 ]] * len(test_case_1) + [[0, 1, 0, 0]] * len(test_case_2) + [[0, 0, 1, 0]] * len(test_case_3) + [[0, 0, 0, 1]] * len(test_case_4))\n",
    "#label.conca"
   ]
  },
  {
   "cell_type": "code",
   "execution_count": 17,
   "metadata": {},
   "outputs": [
    {
     "data": {
      "text/plain": [
       "((800, 100, 2), (800, 4))"
      ]
     },
     "execution_count": 17,
     "metadata": {},
     "output_type": "execute_result"
    }
   ],
   "source": [
    "dataset.shape, label.shape"
   ]
  },
  {
   "cell_type": "code",
   "execution_count": 18,
   "metadata": {},
   "outputs": [],
   "source": [
    "from sklearn.preprocessing import MinMaxScaler, StandardScaler, RobustScaler"
   ]
  },
  {
   "cell_type": "code",
   "execution_count": 19,
   "metadata": {},
   "outputs": [],
   "source": [
    "sc = MinMaxScaler()"
   ]
  },
  {
   "cell_type": "code",
   "execution_count": 20,
   "metadata": {},
   "outputs": [],
   "source": [
    "sc_dataset = dataset[:]"
   ]
  },
  {
   "cell_type": "code",
   "execution_count": 21,
   "metadata": {},
   "outputs": [],
   "source": [
    "for num, i in enumerate(dataset):\n",
    "    sc_dataset[num] = sc.fit_transform(i)"
   ]
  },
  {
   "cell_type": "code",
   "execution_count": 22,
   "metadata": {},
   "outputs": [],
   "source": [
    "from sklearn.model_selection import train_test_split"
   ]
  },
  {
   "cell_type": "code",
   "execution_count": 23,
   "metadata": {},
   "outputs": [],
   "source": [
    "X_train, X_test, y_train, y_test = train_test_split(dataset, label, random_state=0, test_size=0.3)"
   ]
  },
  {
   "cell_type": "code",
   "execution_count": 24,
   "metadata": {},
   "outputs": [
    {
     "data": {
      "text/plain": [
       "(560, 100, 2)"
      ]
     },
     "execution_count": 24,
     "metadata": {},
     "output_type": "execute_result"
    }
   ],
   "source": [
    "X_train.shape"
   ]
  },
  {
   "cell_type": "code",
   "execution_count": 25,
   "metadata": {},
   "outputs": [],
   "source": [
    "import matplotlib.pyplot as plt"
   ]
  },
  {
   "cell_type": "code",
   "execution_count": 26,
   "metadata": {},
   "outputs": [
    {
     "data": {
      "text/plain": [
       "[<matplotlib.lines.Line2D at 0x269370417b8>]"
      ]
     },
     "execution_count": 26,
     "metadata": {},
     "output_type": "execute_result"
    },
    {
     "data": {
      "image/png": "[encoded data removed]",
      "text/plain": [
       "<Figure size 432x288 with 1 Axes>"
      ]
     },
     "metadata": {
      "needs_background": "light"
     },
     "output_type": "display_data"
    }
   ],
   "source": [
    "plt.plot(dataset[120,:,0])"
   ]
  },
  {
   "cell_type": "code",
   "execution_count": 27,
   "metadata": {},
   "outputs": [
    {
     "name": "stderr",
     "output_type": "stream",
     "text": [
      "Using TensorFlow backend.\n"
     ]
    }
   ],
   "source": [
    "from keras.layers import LSTM, Dense\n",
    "from keras.models import Sequential\n",
    "import keras.backend as K\n",
    "from keras.callbacks import ReduceLROnPlateau, ModelCheckpoint, EarlyStopping\n",
    "from keras.optimizers import Adam\n",
    "from keras.wrappers.scikit_learn import KerasClassifier\n",
    "from sklearn.model_selection import KFold, cross_val_score"
   ]
  },
  {
   "cell_type": "code",
   "execution_count": 28,
   "metadata": {},
   "outputs": [],
   "source": [
    "callback = [\n",
    "    ReduceLROnPlateau(monitor='val_loss', factor=0.1, patience=3, min_lr=0.000001), \n",
    "    #ModelCheckpoint(filepath='./weights.h5', save_best_only=True),\n",
    "    EarlyStopping(monitor='val_acc', restore_best_weights=True, patience=5)\n",
    "]"
   ]
  },
  {
   "cell_type": "code",
   "execution_count": 29,
   "metadata": {},
   "outputs": [],
   "source": [
    "K.clear_session()"
   ]
  },
  {
   "cell_type": "code",
   "execution_count": 30,
   "metadata": {},
   "outputs": [],
   "source": [
    "model_once = Sequential()"
   ]
  },
  {
   "cell_type": "code",
   "execution_count": 31,
   "metadata": {},
   "outputs": [
    {
     "name": "stdout",
     "output_type": "stream",
     "text": [
      "WARNING:tensorflow:From C:\\Users\\JEONG\\.conda\\envs\\Keras\\lib\\site-packages\\tensorflow\\python\\framework\\op_def_library.py:263: colocate_with (from tensorflow.python.framework.ops) is deprecated and will be removed in a future version.\n",
      "Instructions for updating:\n",
      "Colocations handled automatically by placer.\n"
     ]
    }
   ],
   "source": [
    "model_once.add(LSTM(20, input_shape=(100,2)))\n",
    "model_once.add(Dense(4))\n",
    "model_once.compile(loss='mse', optimizer=Adam(lr=0.01), metrics=['acc'])"
   ]
  },
  {
   "cell_type": "code",
   "execution_count": 32,
   "metadata": {},
   "outputs": [
    {
     "name": "stdout",
     "output_type": "stream",
     "text": [
      "_________________________________________________________________\n",
      "Layer (type)                 Output Shape              Param #   \n",
      "=================================================================\n",
      "lstm_1 (LSTM)                (None, 20)                1840      \n",
      "_________________________________________________________________\n",
      "dense_1 (Dense)              (None, 4)                 84        \n",
      "=================================================================\n",
      "Total params: 1,924\n",
      "Trainable params: 1,924\n",
      "Non-trainable params: 0\n",
      "_________________________________________________________________\n"
     ]
    }
   ],
   "source": [
    "model_once.summary()"
   ]
  },
  {
   "cell_type": "code",
   "execution_count": 33,
   "metadata": {},
   "outputs": [
    {
     "name": "stdout",
     "output_type": "stream",
     "text": [
      "WARNING:tensorflow:From C:\\Users\\JEONG\\.conda\\envs\\Keras\\lib\\site-packages\\tensorflow\\python\\ops\\math_ops.py:3066: to_int32 (from tensorflow.python.ops.math_ops) is deprecated and will be removed in a future version.\n",
      "Instructions for updating:\n",
      "Use tf.cast instead.\n",
      "Epoch 1/25\n",
      "560/560 [==============================] - 7s 13ms/step - loss: 0.1507 - acc: 0.5875\n",
      "Epoch 2/25\n",
      "560/560 [==============================] - 3s 5ms/step - loss: 0.0914 - acc: 0.8000\n",
      "Epoch 3/25\n",
      "560/560 [==============================] - 3s 5ms/step - loss: 0.0881 - acc: 0.7750\n",
      "Epoch 4/25\n",
      "560/560 [==============================] - 3s 5ms/step - loss: 0.0903 - acc: 0.7946\n",
      "Epoch 5/25\n",
      "560/560 [==============================] - 3s 5ms/step - loss: 0.0737 - acc: 0.8393\n",
      "Epoch 6/25\n",
      "560/560 [==============================] - 3s 5ms/step - loss: 0.0649 - acc: 0.8429\n",
      "Epoch 7/25\n",
      "560/560 [==============================] - 3s 5ms/step - loss: 0.0675 - acc: 0.8464\n",
      "Epoch 8/25\n",
      "560/560 [==============================] - 3s 5ms/step - loss: 0.0595 - acc: 0.8554\n",
      "Epoch 9/25\n",
      "560/560 [==============================] - 3s 5ms/step - loss: 0.0485 - acc: 0.9054\n",
      "Epoch 10/25\n",
      "560/560 [==============================] - 3s 5ms/step - loss: 0.1474 - acc: 0.5982\n",
      "Epoch 11/25\n",
      "560/560 [==============================] - 3s 5ms/step - loss: 0.1541 - acc: 0.4429\n",
      "Epoch 12/25\n",
      "560/560 [==============================] - 3s 5ms/step - loss: 0.1343 - acc: 0.6125\n",
      "Epoch 13/25\n",
      "560/560 [==============================] - 3s 5ms/step - loss: 0.1220 - acc: 0.6911\n",
      "Epoch 14/25\n",
      "560/560 [==============================] - 3s 5ms/step - loss: 0.1173 - acc: 0.7000\n",
      "Epoch 15/25\n",
      "560/560 [==============================] - 3s 5ms/step - loss: 0.1093 - acc: 0.7054\n",
      "Epoch 16/25\n",
      "560/560 [==============================] - 3s 5ms/step - loss: 0.0909 - acc: 0.7821\n",
      "Epoch 17/25\n",
      "560/560 [==============================] - 3s 5ms/step - loss: 0.0772 - acc: 0.8375\n",
      "Epoch 18/25\n",
      "560/560 [==============================] - 3s 5ms/step - loss: 0.0828 - acc: 0.8143\n",
      "Epoch 19/25\n",
      "560/560 [==============================] - 3s 5ms/step - loss: 0.0642 - acc: 0.8607\n",
      "Epoch 20/25\n",
      "560/560 [==============================] - 3s 5ms/step - loss: 0.0595 - acc: 0.8464\n",
      "Epoch 21/25\n",
      "560/560 [==============================] - 3s 5ms/step - loss: 0.0557 - acc: 0.8768\n",
      "Epoch 22/25\n",
      "560/560 [==============================] - 3s 5ms/step - loss: 0.0540 - acc: 0.8786\n",
      "Epoch 23/25\n",
      "560/560 [==============================] - 3s 5ms/step - loss: 0.0509 - acc: 0.8786\n",
      "Epoch 24/25\n",
      "560/560 [==============================] - 3s 5ms/step - loss: 0.0504 - acc: 0.8679\n",
      "Epoch 25/25\n",
      "560/560 [==============================] - 3s 5ms/step - loss: 0.0470 - acc: 0.8768\n"
     ]
    },
    {
     "data": {
      "text/plain": [
       "<keras.callbacks.History at 0x2693bfdbcc0>"
      ]
     },
     "execution_count": 33,
     "metadata": {},
     "output_type": "execute_result"
    }
   ],
   "source": [
    "model_once.fit(X_train, y_train, epochs=25)"
   ]
  },
  {
   "cell_type": "code",
   "execution_count": 34,
   "metadata": {},
   "outputs": [
    {
     "name": "stdout",
     "output_type": "stream",
     "text": [
      "240/240 [==============================] - 1s 3ms/step\n"
     ]
    },
    {
     "data": {
      "text/plain": [
       "[0.047177809725205105, 0.9166666666666666]"
      ]
     },
     "execution_count": 34,
     "metadata": {},
     "output_type": "execute_result"
    }
   ],
   "source": [
    "model_once.evaluate(X_test, y_test)"
   ]
  },
  {
   "cell_type": "code",
   "execution_count": 213,
   "metadata": {},
   "outputs": [
    {
     "ename": "AttributeError",
     "evalue": "'KerasClassifier' object has no attribute 'load_weights'",
     "output_type": "error",
     "traceback": [
      "\u001b[1;31m---------------------------------------------------------------------------\u001b[0m",
      "\u001b[1;31mAttributeError\u001b[0m                            Traceback (most recent call last)",
      "\u001b[1;32m<ipython-input-213-959654ab660e>\u001b[0m in \u001b[0;36m<module>\u001b[1;34m\u001b[0m\n\u001b[1;32m----> 1\u001b[1;33m \u001b[0mmodel\u001b[0m\u001b[1;33m.\u001b[0m\u001b[0mload_weights\u001b[0m\u001b[1;33m(\u001b[0m\u001b[1;34m'./weights_f.h5'\u001b[0m\u001b[1;33m)\u001b[0m\u001b[1;33m\u001b[0m\u001b[1;33m\u001b[0m\u001b[0m\n\u001b[0m",
      "\u001b[1;31mAttributeError\u001b[0m: 'KerasClassifier' object has no attribute 'load_weights'"
     ]
    }
   ],
   "source": [
    "model.load_weights('./weights_f.h5')"
   ]
  },
  {
   "cell_type": "code",
   "execution_count": 214,
   "metadata": {},
   "outputs": [
    {
     "ename": "AttributeError",
     "evalue": "'KerasClassifier' object has no attribute 'evaluate'",
     "output_type": "error",
     "traceback": [
      "\u001b[1;31m---------------------------------------------------------------------------\u001b[0m",
      "\u001b[1;31mAttributeError\u001b[0m                            Traceback (most recent call last)",
      "\u001b[1;32m<ipython-input-214-acc519fcce62>\u001b[0m in \u001b[0;36m<module>\u001b[1;34m\u001b[0m\n\u001b[1;32m----> 1\u001b[1;33m \u001b[0mmodel\u001b[0m\u001b[1;33m.\u001b[0m\u001b[0mevaluate\u001b[0m\u001b[1;33m(\u001b[0m\u001b[0mX_test\u001b[0m\u001b[1;33m,\u001b[0m \u001b[0my_test\u001b[0m\u001b[1;33m)\u001b[0m\u001b[1;33m\u001b[0m\u001b[1;33m\u001b[0m\u001b[0m\n\u001b[0m",
      "\u001b[1;31mAttributeError\u001b[0m: 'KerasClassifier' object has no attribute 'evaluate'"
     ]
    }
   ],
   "source": [
    "model.evaluate(X_test, y_test)"
   ]
  },
  {
   "cell_type": "code",
   "execution_count": 215,
   "metadata": {},
   "outputs": [],
   "source": [
    "from sklearn.preprocessing import MinMaxScaler"
   ]
  },
  {
   "cell_type": "code",
   "execution_count": 216,
   "metadata": {},
   "outputs": [],
   "source": [
    "scaler = MinMaxScaler()"
   ]
  },
  {
   "cell_type": "code",
   "execution_count": 217,
   "metadata": {},
   "outputs": [],
   "source": [
    "sc_dataset = scaler.fit_transform(dataset[0,:,:])"
   ]
  },
  {
   "cell_type": "markdown",
   "metadata": {},
   "source": [
    "### K-Fold"
   ]
  },
  {
   "cell_type": "code",
   "execution_count": 35,
   "metadata": {},
   "outputs": [],
   "source": [
    "def create_model():\n",
    "    model = Sequential()\n",
    "    model.add(LSTM(40, input_shape=(100,2)))\n",
    "    model.add(Dense(4))\n",
    "    model.compile(loss='mse', optimizer=Adam(lr=0.001), metrics=['acc'])\n",
    "    return model"
   ]
  },
  {
   "cell_type": "code",
   "execution_count": 36,
   "metadata": {},
   "outputs": [],
   "source": [
    "seed = 7\n",
    "np.random.seed(seed)"
   ]
  },
  {
   "cell_type": "code",
   "execution_count": 37,
   "metadata": {},
   "outputs": [],
   "source": [
    "model = KerasClassifier(build_fn=create_model, epochs=30)"
   ]
  },
  {
   "cell_type": "code",
   "execution_count": 38,
   "metadata": {
    "jupyter": {
     "outputs_hidden": true
    }
   },
   "outputs": [
    {
     "name": "stdout",
     "output_type": "stream",
     "text": [
      "Epoch 1/30\n",
      "600/600 [==============================] - 4s 6ms/step - loss: 0.2141 - acc: 0.3183\n",
      "Epoch 2/30\n",
      "600/600 [==============================] - 3s 5ms/step - loss: 0.1675 - acc: 0.4683\n",
      "Epoch 3/30\n",
      "600/600 [==============================] - 3s 5ms/step - loss: 0.1392 - acc: 0.5900\n",
      "Epoch 4/30\n",
      "600/600 [==============================] - 3s 5ms/step - loss: 0.1164 - acc: 0.7200\n",
      "Epoch 5/30\n",
      "600/600 [==============================] - 3s 5ms/step - loss: 0.0944 - acc: 0.8033\n",
      "Epoch 6/30\n",
      "600/600 [==============================] - 3s 5ms/step - loss: 0.0842 - acc: 0.8200\n",
      "Epoch 7/30\n",
      "600/600 [==============================] - 3s 5ms/step - loss: 0.0743 - acc: 0.8233\n",
      "Epoch 8/30\n",
      "600/600 [==============================] - 3s 5ms/step - loss: 0.0660 - acc: 0.8300\n",
      "Epoch 9/30\n",
      "600/600 [==============================] - 3s 5ms/step - loss: 0.0576 - acc: 0.8567\n",
      "Epoch 10/30\n",
      "600/600 [==============================] - 3s 5ms/step - loss: 0.0517 - acc: 0.8550\n",
      "Epoch 11/30\n",
      "600/600 [==============================] - 3s 5ms/step - loss: 0.0450 - acc: 0.8717\n",
      "Epoch 12/30\n",
      "600/600 [==============================] - 3s 5ms/step - loss: 0.0437 - acc: 0.8800\n",
      "Epoch 13/30\n",
      "600/600 [==============================] - 3s 5ms/step - loss: 0.0344 - acc: 0.9233\n",
      "Epoch 14/30\n",
      "600/600 [==============================] - 3s 5ms/step - loss: 0.0296 - acc: 0.9450\n",
      "Epoch 15/30\n",
      "600/600 [==============================] - 3s 6ms/step - loss: 0.0232 - acc: 0.9517\n",
      "Epoch 16/30\n",
      "600/600 [==============================] - 3s 5ms/step - loss: 0.0208 - acc: 0.9533\n",
      "Epoch 17/30\n",
      "600/600 [==============================] - 3s 5ms/step - loss: 0.0240 - acc: 0.9467\n",
      "Epoch 18/30\n",
      "600/600 [==============================] - 3s 5ms/step - loss: 0.0213 - acc: 0.9483\n",
      "Epoch 19/30\n",
      "600/600 [==============================] - 3s 5ms/step - loss: 0.0202 - acc: 0.9533\n",
      "Epoch 20/30\n",
      "600/600 [==============================] - 3s 5ms/step - loss: 0.0174 - acc: 0.9583\n",
      "Epoch 21/30\n",
      "600/600 [==============================] - 3s 5ms/step - loss: 0.0175 - acc: 0.9617\n",
      "Epoch 22/30\n",
      "600/600 [==============================] - 3s 5ms/step - loss: 0.0289 - acc: 0.9317\n",
      "Epoch 23/30\n",
      "600/600 [==============================] - 3s 5ms/step - loss: 0.0161 - acc: 0.9750\n",
      "Epoch 24/30\n",
      "600/600 [==============================] - 3s 5ms/step - loss: 0.0135 - acc: 0.9667\n",
      "Epoch 25/30\n",
      "600/600 [==============================] - 3s 5ms/step - loss: 0.0113 - acc: 0.9817\n",
      "Epoch 26/30\n",
      "600/600 [==============================] - 3s 5ms/step - loss: 0.0102 - acc: 0.9883\n",
      "Epoch 27/30\n",
      "600/600 [==============================] - 3s 5ms/step - loss: 0.0139 - acc: 0.9800\n",
      "Epoch 28/30\n",
      "600/600 [==============================] - 3s 5ms/step - loss: 0.0159 - acc: 0.9783\n",
      "Epoch 29/30\n",
      "600/600 [==============================] - 3s 5ms/step - loss: 0.0175 - acc: 0.9650\n",
      "Epoch 30/30\n",
      "600/600 [==============================] - 3s 5ms/step - loss: 0.0146 - acc: 0.9667\n",
      "200/200 [==============================] - 1s 3ms/step\n",
      "Epoch 1/30\n",
      "600/600 [==============================] - 4s 7ms/step - loss: 0.2183 - acc: 0.2017\n",
      "Epoch 2/30\n",
      "600/600 [==============================] - 3s 5ms/step - loss: 0.1706 - acc: 0.3933\n",
      "Epoch 3/30\n",
      "600/600 [==============================] - 3s 6ms/step - loss: 0.1457 - acc: 0.6183\n",
      "Epoch 4/30\n",
      "600/600 [==============================] - 3s 5ms/step - loss: 0.1237 - acc: 0.7533\n",
      "Epoch 5/30\n",
      "600/600 [==============================] - 3s 5ms/step - loss: 0.1023 - acc: 0.8050\n",
      "Epoch 6/30\n",
      "600/600 [==============================] - 3s 5ms/step - loss: 0.0825 - acc: 0.8217\n",
      "Epoch 7/30\n",
      "600/600 [==============================] - 3s 5ms/step - loss: 0.0685 - acc: 0.8533\n",
      "Epoch 8/30\n",
      "600/600 [==============================] - 3s 5ms/step - loss: 0.0651 - acc: 0.8517\n",
      "Epoch 9/30\n",
      "600/600 [==============================] - 3s 5ms/step - loss: 0.0591 - acc: 0.8600\n",
      "Epoch 10/30\n",
      "600/600 [==============================] - 3s 5ms/step - loss: 0.0467 - acc: 0.8767\n",
      "Epoch 11/30\n",
      "600/600 [==============================] - 3s 5ms/step - loss: 0.0475 - acc: 0.8800\n",
      "Epoch 12/30\n",
      "600/600 [==============================] - 3s 5ms/step - loss: 0.0441 - acc: 0.8850\n",
      "Epoch 13/30\n",
      "600/600 [==============================] - 3s 5ms/step - loss: 0.0364 - acc: 0.9100\n",
      "Epoch 14/30\n",
      "600/600 [==============================] - 4s 6ms/step - loss: 0.0307 - acc: 0.9567\n",
      "Epoch 15/30\n",
      "600/600 [==============================] - 3s 6ms/step - loss: 0.0323 - acc: 0.9567\n",
      "Epoch 16/30\n",
      "600/600 [==============================] - 3s 6ms/step - loss: 0.0258 - acc: 0.9683\n",
      "Epoch 17/30\n",
      "600/600 [==============================] - 3s 6ms/step - loss: 0.0204 - acc: 0.9733\n",
      "Epoch 18/30\n",
      "600/600 [==============================] - 3s 6ms/step - loss: 0.0171 - acc: 0.9750\n",
      "Epoch 19/30\n",
      "600/600 [==============================] - 4s 6ms/step - loss: 0.0196 - acc: 0.9717\n",
      "Epoch 20/30\n",
      "600/600 [==============================] - 4s 6ms/step - loss: 0.0233 - acc: 0.9650\n",
      "Epoch 21/30\n",
      "600/600 [==============================] - 4s 6ms/step - loss: 0.0379 - acc: 0.9283\n",
      "Epoch 22/30\n",
      "600/600 [==============================] - 4s 6ms/step - loss: 0.0211 - acc: 0.9683\n",
      "Epoch 23/30\n",
      "600/600 [==============================] - 4s 7ms/step - loss: 0.0158 - acc: 0.9750\n",
      "Epoch 24/30\n",
      "600/600 [==============================] - 3s 5ms/step - loss: 0.0162 - acc: 0.9717\n",
      "Epoch 25/30\n",
      "600/600 [==============================] - 3s 5ms/step - loss: 0.0825 - acc: 0.7733\n",
      "Epoch 26/30\n",
      "600/600 [==============================] - 3s 6ms/step - loss: 0.0794 - acc: 0.8350\n",
      "Epoch 27/30\n",
      "600/600 [==============================] - 3s 5ms/step - loss: 0.0706 - acc: 0.8250\n",
      "Epoch 28/30\n",
      "600/600 [==============================] - 3s 5ms/step - loss: 0.1582 - acc: 0.5167\n",
      "Epoch 29/30\n",
      "600/600 [==============================] - 3s 5ms/step - loss: 0.1350 - acc: 0.5450\n",
      "Epoch 30/30\n",
      "600/600 [==============================] - 3s 5ms/step - loss: 0.1188 - acc: 0.6250\n",
      "200/200 [==============================] - 1s 3ms/step\n",
      "Epoch 1/30\n",
      "600/600 [==============================] - 4s 7ms/step - loss: 0.2300 - acc: 0.2683\n",
      "Epoch 2/30\n",
      "600/600 [==============================] - 3s 5ms/step - loss: 0.1774 - acc: 0.4300\n",
      "Epoch 3/30\n",
      "600/600 [==============================] - 3s 5ms/step - loss: 0.1479 - acc: 0.6933\n",
      "Epoch 4/30\n",
      "600/600 [==============================] - 3s 6ms/step - loss: 0.1126 - acc: 0.7450\n",
      "Epoch 5/30\n",
      "600/600 [==============================] - 3s 5ms/step - loss: 0.0902 - acc: 0.8167\n",
      "Epoch 6/30\n",
      "600/600 [==============================] - 3s 5ms/step - loss: 0.0781 - acc: 0.8317\n",
      "Epoch 7/30\n",
      "600/600 [==============================] - 3s 5ms/step - loss: 0.0666 - acc: 0.8433\n",
      "Epoch 8/30\n",
      "600/600 [==============================] - 3s 5ms/step - loss: 0.0601 - acc: 0.8517\n",
      "Epoch 9/30\n",
      "600/600 [==============================] - 3s 5ms/step - loss: 0.0526 - acc: 0.8617\n",
      "Epoch 10/30\n",
      "600/600 [==============================] - 3s 5ms/step - loss: 0.0457 - acc: 0.8750\n",
      "Epoch 11/30\n",
      "600/600 [==============================] - 3s 5ms/step - loss: 0.0407 - acc: 0.8900\n",
      "Epoch 12/30\n",
      "600/600 [==============================] - 3s 5ms/step - loss: 0.0489 - acc: 0.8783\n",
      "Epoch 13/30\n",
      "600/600 [==============================] - 3s 5ms/step - loss: 0.0494 - acc: 0.8783\n",
      "Epoch 14/30\n",
      "600/600 [==============================] - 3s 5ms/step - loss: 0.0418 - acc: 0.8800\n",
      "Epoch 15/30\n",
      "600/600 [==============================] - 3s 5ms/step - loss: 0.0366 - acc: 0.8983\n",
      "Epoch 16/30\n",
      "600/600 [==============================] - 3s 5ms/step - loss: 0.0306 - acc: 0.9417\n",
      "Epoch 17/30\n",
      "600/600 [==============================] - 3s 5ms/step - loss: 0.0242 - acc: 0.9633\n",
      "Epoch 18/30\n",
      "600/600 [==============================] - 3s 5ms/step - loss: 0.0226 - acc: 0.9633\n",
      "Epoch 19/30\n",
      "600/600 [==============================] - 3s 5ms/step - loss: 0.0197 - acc: 0.9683\n",
      "Epoch 20/30\n",
      "600/600 [==============================] - 3s 5ms/step - loss: 0.0195 - acc: 0.9683\n",
      "Epoch 21/30\n",
      "600/600 [==============================] - 3s 5ms/step - loss: 0.0214 - acc: 0.9600\n",
      "Epoch 22/30\n",
      "600/600 [==============================] - 3s 5ms/step - loss: 0.0186 - acc: 0.9667\n",
      "Epoch 23/30\n",
      "600/600 [==============================] - 3s 5ms/step - loss: 0.0210 - acc: 0.9650\n",
      "Epoch 24/30\n",
      "600/600 [==============================] - 3s 5ms/step - loss: 0.0159 - acc: 0.9733\n",
      "Epoch 25/30\n"
     ]
    },
    {
     "name": "stdout",
     "output_type": "stream",
     "text": [
      "600/600 [==============================] - 3s 5ms/step - loss: 0.0142 - acc: 0.9800\n",
      "Epoch 26/30\n",
      "600/600 [==============================] - 3s 5ms/step - loss: 0.0146 - acc: 0.9700\n",
      "Epoch 27/30\n",
      "600/600 [==============================] - 3s 5ms/step - loss: 0.0118 - acc: 0.9800\n",
      "Epoch 28/30\n",
      "600/600 [==============================] - 3s 5ms/step - loss: 0.0124 - acc: 0.9867\n",
      "Epoch 29/30\n",
      "600/600 [==============================] - 3s 5ms/step - loss: 0.0121 - acc: 0.9833\n",
      "Epoch 30/30\n",
      "600/600 [==============================] - 3s 5ms/step - loss: 0.0135 - acc: 0.9783\n",
      "200/200 [==============================] - 1s 3ms/step\n",
      "Epoch 1/30\n",
      "600/600 [==============================] - 4s 7ms/step - loss: 0.2148 - acc: 0.3417\n",
      "Epoch 2/30\n",
      "600/600 [==============================] - 3s 5ms/step - loss: 0.1624 - acc: 0.4567\n",
      "Epoch 3/30\n",
      "600/600 [==============================] - 3s 5ms/step - loss: 0.1378 - acc: 0.6417\n",
      "Epoch 4/30\n",
      "600/600 [==============================] - 3s 5ms/step - loss: 0.1130 - acc: 0.7783\n",
      "Epoch 5/30\n",
      "600/600 [==============================] - 3s 5ms/step - loss: 0.0898 - acc: 0.8433\n",
      "Epoch 6/30\n",
      "600/600 [==============================] - 3s 5ms/step - loss: 0.0730 - acc: 0.8583\n",
      "Epoch 7/30\n",
      "600/600 [==============================] - 3s 5ms/step - loss: 0.0577 - acc: 0.8733\n",
      "Epoch 8/30\n",
      "600/600 [==============================] - 3s 5ms/step - loss: 0.0514 - acc: 0.8767\n",
      "Epoch 9/30\n",
      "600/600 [==============================] - 3s 5ms/step - loss: 0.0429 - acc: 0.8933\n",
      "Epoch 10/30\n",
      "600/600 [==============================] - 3s 5ms/step - loss: 0.0323 - acc: 0.9467\n",
      "Epoch 11/30\n",
      "600/600 [==============================] - 3s 5ms/step - loss: 0.0214 - acc: 0.9700\n",
      "Epoch 12/30\n",
      "600/600 [==============================] - 3s 5ms/step - loss: 0.0167 - acc: 0.9717\n",
      "Epoch 13/30\n",
      "600/600 [==============================] - 3s 5ms/step - loss: 0.0154 - acc: 0.9667\n",
      "Epoch 14/30\n",
      "600/600 [==============================] - 3s 5ms/step - loss: 0.0126 - acc: 0.9783\n",
      "Epoch 15/30\n",
      "600/600 [==============================] - 3s 5ms/step - loss: 0.0131 - acc: 0.9700\n",
      "Epoch 16/30\n",
      "600/600 [==============================] - 3s 5ms/step - loss: 0.0143 - acc: 0.9650\n",
      "Epoch 17/30\n",
      "600/600 [==============================] - 3s 5ms/step - loss: 0.0124 - acc: 0.9783\n",
      "Epoch 18/30\n",
      "600/600 [==============================] - 3s 5ms/step - loss: 0.0151 - acc: 0.9700\n",
      "Epoch 19/30\n",
      "600/600 [==============================] - 3s 5ms/step - loss: 0.0194 - acc: 0.9633\n",
      "Epoch 20/30\n",
      "600/600 [==============================] - 3s 5ms/step - loss: 0.0127 - acc: 0.9833\n",
      "Epoch 21/30\n",
      "600/600 [==============================] - 3s 5ms/step - loss: 0.0141 - acc: 0.9800\n",
      "Epoch 22/30\n",
      "600/600 [==============================] - 3s 5ms/step - loss: 0.0078 - acc: 0.9883\n",
      "Epoch 23/30\n",
      "600/600 [==============================] - 3s 5ms/step - loss: 0.0067 - acc: 0.9917\n",
      "Epoch 24/30\n",
      "600/600 [==============================] - 3s 5ms/step - loss: 0.0059 - acc: 0.9933\n",
      "Epoch 25/30\n",
      "600/600 [==============================] - 3s 5ms/step - loss: 0.0115 - acc: 0.9850\n",
      "Epoch 26/30\n",
      "600/600 [==============================] - 3s 5ms/step - loss: 0.0229 - acc: 0.9500\n",
      "Epoch 27/30\n",
      "600/600 [==============================] - 3s 5ms/step - loss: 0.0136 - acc: 0.9800\n",
      "Epoch 28/30\n",
      "600/600 [==============================] - 3s 5ms/step - loss: 0.0069 - acc: 0.9900\n",
      "Epoch 29/30\n",
      "600/600 [==============================] - 3s 5ms/step - loss: 0.0045 - acc: 0.9950\n",
      "Epoch 30/30\n",
      "600/600 [==============================] - 3s 5ms/step - loss: 0.0036 - acc: 0.9983\n",
      "200/200 [==============================] - 1s 4ms/step\n"
     ]
    }
   ],
   "source": [
    "kfold = KFold(n_splits=4, shuffle=True, random_state=seed)\n",
    "results = cross_val_score(model, dataset, label, cv=kfold)"
   ]
  },
  {
   "cell_type": "code",
   "execution_count": 39,
   "metadata": {},
   "outputs": [
    {
     "data": {
      "text/plain": [
       "(array([0.975, 0.58 , 0.975, 0.98 ]), 0.8775)"
      ]
     },
     "execution_count": 39,
     "metadata": {},
     "output_type": "execute_result"
    }
   ],
   "source": [
    "results, results.mean()"
   ]
  },
  {
   "cell_type": "code",
   "execution_count": 48,
   "metadata": {},
   "outputs": [],
   "source": [
    "import tensorflow as tf"
   ]
  },
  {
   "cell_type": "code",
   "execution_count": 49,
   "metadata": {},
   "outputs": [
    {
     "data": {
      "text/plain": [
       "(240, 4)"
      ]
     },
     "execution_count": 49,
     "metadata": {},
     "output_type": "execute_result"
    }
   ],
   "source": [
    "y_test.shape"
   ]
  },
  {
   "cell_type": "code",
   "execution_count": 50,
   "metadata": {},
   "outputs": [],
   "source": [
    "y_true = np.argmax(y_test, axis=1).reshape(-1, 1)"
   ]
  },
  {
   "cell_type": "code",
   "execution_count": 51,
   "metadata": {},
   "outputs": [
    {
     "name": "stdout",
     "output_type": "stream",
     "text": [
      "WARNING:tensorflow:From C:\\Users\\JEONG\\.conda\\envs\\Keras\\lib\\site-packages\\tensorflow\\python\\ops\\confusion_matrix.py:193: to_int64 (from tensorflow.python.ops.math_ops) is deprecated and will be removed in a future version.\n",
      "Instructions for updating:\n",
      "Use tf.cast instead.\n"
     ]
    }
   ],
   "source": [
    "y_pred=model_once.predict_classes(X_test)\n",
    "con_mat = tf.math.confusion_matrix(labels=y_true, predictions=y_pred)"
   ]
  },
  {
   "cell_type": "code",
   "execution_count": 52,
   "metadata": {},
   "outputs": [
    {
     "name": "stdout",
     "output_type": "stream",
     "text": [
      "[[53  2  0  1]\n",
      " [ 0 58  1  3]\n",
      " [ 0  1 61  0]\n",
      " [ 1  2  0 57]]\n"
     ]
    }
   ],
   "source": [
    "print(tf.Session().run(con_mat))"
   ]
  },
  {
   "cell_type": "code",
   "execution_count": 241,
   "metadata": {},
   "outputs": [],
   "source": [
    "from keras.utils import plot_model\n",
    "from keras.models import load_model\n"
   ]
  },
  {
   "cell_type": "code",
   "execution_count": 242,
   "metadata": {},
   "outputs": [],
   "source": [
    "def create_model():\n",
    "    model = Sequential()\n",
    "    model.add(LSTM(40, input_shape=(100,2)))\n",
    "    model.add(Dense(4))\n",
    "    model.compile(loss='mse', optimizer=Adam(lr=0.001), metrics=['acc'])\n",
    "    return model"
   ]
  },
  {
   "cell_type": "code",
   "execution_count": 245,
   "metadata": {},
   "outputs": [],
   "source": [
    "model_once\n",
    "plot_model(model_once, to_file='./model.png')"
   ]
  },
  {
   "cell_type": "code",
   "execution_count": null,
   "metadata": {},
   "outputs": [],
   "source": [
    "model_once"
   ]
  }
 ],
 "metadata": {
  "kernelspec": {
   "display_name": "Python 3",
   "language": "python",
   "name": "python3"
  },
  "language_info": {
   "codemirror_mode": {
    "name": "ipython",
    "version": 3
   },
   "file_extension": ".py",
   "mimetype": "text/x-python",
   "name": "python",
   "nbconvert_exporter": "python",
   "pygments_lexer": "ipython3",
   "version": "3.7.3"
  }
 },
 "nbformat": 4,
 "nbformat_minor": 4
}
